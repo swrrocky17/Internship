{
 "cells": [
  {
   "cell_type": "code",
   "execution_count": 2,
   "id": "95f2557c",
   "metadata": {},
   "outputs": [
    {
     "name": "stdout",
     "output_type": "stream",
     "text": [
      "Pleas enter a number: 5\n",
      "The factorial of number 5 is 120\n"
     ]
    }
   ],
   "source": [
    "#Question 11 : Find Factorial of a number\n",
    "# Python program to find the factorial of a number provided by the user.\n",
    "\n",
    "def factorial(x):\n",
    "    if x == 1:\n",
    "        return 1\n",
    "    else:\n",
    "        # recursive call to the function\n",
    "        return (x * factorial(x-1))\n",
    "\n",
    "#num = 5\n",
    "\n",
    "#Take input from the user\n",
    "num = int(input(\"Pleas enter a number: \"))\n",
    "\n",
    "# call the factorial function\n",
    "result = factorial(num)\n",
    "print(\"The factorial of number\", num, \"is\", result)"
   ]
  },
  {
   "cell_type": "code",
   "execution_count": 3,
   "id": "8b9e649d",
   "metadata": {},
   "outputs": [
    {
     "name": "stdout",
     "output_type": "stream",
     "text": [
      "Enter a number: 15\n",
      "15 is a composite number\n"
     ]
    }
   ],
   "source": [
    "# Question 12 : Python program to check if given number is prime or composite\n",
    "  \n",
    "#num = 15\n",
    "\n",
    "#Take input from the user\n",
    "num = int(input(\"Enter a number: \"))\n",
    "  \n",
    "# If given number is greater than 1\n",
    "if num > 1:  \n",
    "    # Iterate from 2 to n / 2\n",
    "    for i in range(2, int(num/2)+1):\n",
    "  \n",
    "        # If num is divisible by any number between\n",
    "        # 2 and n / 2, it is not prime\n",
    "        if (num % i) == 0:\n",
    "            print(num, \"is a composite number\")\n",
    "            break\n",
    "    else:\n",
    "        print(num, \"is a prime number\")\n",
    "  \n",
    "else:\n",
    "    print(num, \"is a composite prime number\")"
   ]
  },
  {
   "cell_type": "code",
   "execution_count": 7,
   "id": "89058b1a",
   "metadata": {},
   "outputs": [
    {
     "name": "stdout",
     "output_type": "stream",
     "text": [
      "Enter a string:baaabaaab\n",
      "The string  baaabaaab  is a palindrome\n"
     ]
    }
   ],
   "source": [
    "# Question 13 : Python program to check if string is palindrome or not\n",
    "\n",
    "#string = caabaac\n",
    "\n",
    "#Take Input string from user\n",
    "\n",
    "string=input((\"Enter a string:\"))\n",
    "if(string==string[::-1]):\n",
    "      print(\"The string \",string, \" is a palindrome\")\n",
    "else:\n",
    "      print(\"The string\",string ,\" is not a palindrome\")"
   ]
  },
  {
   "cell_type": "code",
   "execution_count": 19,
   "id": "28beae42",
   "metadata": {},
   "outputs": [],
   "source": [
    "# Question 14 :Python program to get the third side of right-angled triangle from two given sides\n",
    "\n",
    "def pythagoras(opposite_side,adjacent_side,hypotenuse):    \n",
    "        #Calculate Opposite Side\n",
    "        if opposite_side == str(\"x\"):\n",
    "            return (\"Opposite = \" + str(((hypotenuse**2) - (adjacent_side**2))**0.5))\n",
    "        \n",
    "        #Calculate Adjacent Side\n",
    "        elif adjacent_side == str(\"x\"):\n",
    "            return (\"Adjacent = \" + str(((hypotenuse**2) - (opposite_side**2))**0.5))\n",
    "        \n",
    "        #Calculate Hypotenuse\n",
    "        elif hypotenuse == str(\"x\"):\n",
    "            return (\"Hypotenuse = \" + str(((opposite_side**2) + (adjacent_side**2))**0.5))\n",
    "        \n",
    "        else:\n",
    "            return \"You have the result!\""
   ]
  },
  {
   "cell_type": "code",
   "execution_count": 20,
   "id": "350f39e7",
   "metadata": {},
   "outputs": [
    {
     "name": "stdout",
     "output_type": "stream",
     "text": [
      "Hypotenuse = 5.0\n",
      "Adjacent = 4.0\n",
      "Opposite = 3.0\n",
      "You have the result!\n"
     ]
    }
   ],
   "source": [
    "print(pythagoras(3,4,'x'))\n",
    "print(pythagoras(3,'x',5))\n",
    "print(pythagoras('x',4,5))\n",
    "print(pythagoras(3,4,5))"
   ]
  },
  {
   "cell_type": "code",
   "execution_count": 26,
   "id": "90c28603",
   "metadata": {},
   "outputs": [
    {
     "name": "stdout",
     "output_type": "stream",
     "text": [
      "Enter a string:rrrrr\n",
      "Count of all characters in GeeksforGeeks is :\n",
      " {'r': 5}\n"
     ]
    }
   ],
   "source": [
    "#Question 15 :\n",
    "\n",
    "#string = \"Flipflop\"\n",
    "#Take Input string from user\n",
    "\n",
    "string=input((\"Enter a string:\"))\n",
    "\n",
    "# Get count of each element in string\n",
    "freqOfStrings = {}\n",
    "  \n",
    "for i in string:\n",
    "    if i in freqOfStrings:\n",
    "        freqOfStrings[i] += 1\n",
    "    else:\n",
    "        freqOfStrings[i] = 1\n",
    "  \n",
    "print (\"Count of all characters in GeeksforGeeks is :\\n \"+  str(freqOfStrings))"
   ]
  },
  {
   "cell_type": "code",
   "execution_count": null,
   "id": "80bed34d",
   "metadata": {},
   "outputs": [],
   "source": []
  }
 ],
 "metadata": {
  "kernelspec": {
   "display_name": "Python 3",
   "language": "python",
   "name": "python3"
  },
  "language_info": {
   "codemirror_mode": {
    "name": "ipython",
    "version": 3
   },
   "file_extension": ".py",
   "mimetype": "text/x-python",
   "name": "python",
   "nbconvert_exporter": "python",
   "pygments_lexer": "ipython3",
   "version": "3.8.8"
  }
 },
 "nbformat": 4,
 "nbformat_minor": 5
}
