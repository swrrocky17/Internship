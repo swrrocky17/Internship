{
 "cells": [
  {
   "cell_type": "code",
   "execution_count": 3,
   "id": "cfa7a449",
   "metadata": {},
   "outputs": [
    {
     "name": "stdout",
     "output_type": "stream",
     "text": [
      "Remainder when 1024 divided by 7 = 2\n"
     ]
    }
   ],
   "source": [
    "#Question-1 : Answer is c\n",
    "# inputs\n",
    "x = 1024\n",
    "y = 7\n",
    "  \n",
    "# Stores the remainder obtained \n",
    "# when dividing x by y, in z\n",
    "z = x % y      \n",
    "print(\"Remainder when\",x, \"divided by\", y, \"=\",z, sep = \" \")"
   ]
  },
  {
   "cell_type": "code",
   "execution_count": 4,
   "id": "7e16065f",
   "metadata": {},
   "outputs": [
    {
     "name": "stdout",
     "output_type": "stream",
     "text": [
      "2//3 = 0\n"
     ]
    }
   ],
   "source": [
    "#Question-2 : Answer is b\n",
    "# // is the floored-division operator in Python. The difference is visible when dividing floating point values.\n",
    "\n",
    "a=2//3\n",
    "print(\"2//3 =\",a,sep=\" \")\n"
   ]
  },
  {
   "cell_type": "code",
   "execution_count": 48,
   "id": "b5735a39",
   "metadata": {},
   "outputs": [
    {
     "name": "stdout",
     "output_type": "stream",
     "text": [
      "6//2 = 24\n"
     ]
    }
   ],
   "source": [
    "#Question-3 : Answer is c\n",
    "# b<<c is the same as multiplying b by 2**c.\n",
    "\n",
    "b=6<<2\n",
    "print(\"6//2 =\",b,sep=\" \")"
   ]
  },
  {
   "cell_type": "code",
   "execution_count": 49,
   "id": "091cce13",
   "metadata": {},
   "outputs": [
    {
     "name": "stdout",
     "output_type": "stream",
     "text": [
      "6&2 = 2\n"
     ]
    }
   ],
   "source": [
    "#Question-4 : Answer is a\n",
    "# x&y is bitwise AND on x and y\n",
    "# 6:110 2:10\n",
    "c=6&2\n",
    "print(\"6&2 =\",c,sep=\" \")"
   ]
  },
  {
   "cell_type": "code",
   "execution_count": 2,
   "id": "f292f714",
   "metadata": {},
   "outputs": [
    {
     "name": "stdout",
     "output_type": "stream",
     "text": [
      "6|2 = 6\n"
     ]
    }
   ],
   "source": [
    "#Question-5 : Answer is d\n",
    "# | Bitwise OR : Sets each bit to 1 if one of two bits is 1\n",
    "\n",
    "d=6|2\n",
    "print(\"6|2 =\",d,sep=\" \")   \n",
    "    "
   ]
  },
  {
   "cell_type": "code",
   "execution_count": 9,
   "id": "1ca3b544",
   "metadata": {},
   "outputs": [],
   "source": [
    "#Question 6: Answer is c\n",
    "# Python code to illustrate finally\n",
    "# working of try() \n",
    "def divide(x, y):\n",
    "    try:\n",
    "        # Floor Division : Gives only Fractional part as answer\n",
    "        result = x // y\n",
    "    except ZeroDivisionError:\n",
    "        print(\"Sorry ! You are dividing by zero \")\n",
    "    else:\n",
    "        print(\"Yeah ! Your answer is :\", result)\n",
    "    finally: \n",
    "        # this block is always executed  \n",
    "        # regardless of exception generation. \n",
    "        print('Finally is always executed')  \n"
   ]
  },
  {
   "cell_type": "code",
   "execution_count": 10,
   "id": "86166ce8",
   "metadata": {},
   "outputs": [
    {
     "name": "stdout",
     "output_type": "stream",
     "text": [
      "Yeah ! Your answer is : 2\n",
      "Finally is always executed\n",
      "Sorry ! You are dividing by zero \n",
      "Finally is always executed\n"
     ]
    }
   ],
   "source": [
    "#Look at parameters and note the working of Program\n",
    "divide(4, 2)\n",
    "divide(10, 0)"
   ]
  },
  {
   "cell_type": "markdown",
   "id": "52cbe9f6",
   "metadata": {},
   "source": [
    "Python raise Keyword is used to raise exceptions or errors. \n",
    "The raise keyword raises an error and stops the control flow of the program.\n",
    "It is used to bring up the current exception in an exception handler so that it can be handled further up the call stack.\n"
   ]
  },
  {
   "cell_type": "code",
   "execution_count": 15,
   "id": "ca070c27",
   "metadata": {},
   "outputs": [],
   "source": [
    "#Question 7 : Answer is a\n",
    "e = 5\n",
    "  \n",
    "if e % 2 != 0:\n",
    "    raise Exception(\"The number shouldn't be an odd integer\")"
   ]
  },
  {
   "cell_type": "markdown",
   "id": "e3fb9c54",
   "metadata": {},
   "source": [
    "Yield is a keyword in Python that is used to return from a function without destroying the states of its local variable and when the function is called, the execution starts from the last yield statement. Any function that contains a yield keyword is termed a generator"
   ]
  },
  {
   "cell_type": "code",
   "execution_count": 24,
   "id": "03c2018f",
   "metadata": {},
   "outputs": [],
   "source": [
    "#Question 8: Answer is C\n"
   ]
  },
  {
   "cell_type": "code",
   "execution_count": 25,
   "id": "2906f2c1",
   "metadata": {},
   "outputs": [],
   "source": [
    "#Question 9 : Answer is a and c\n"
   ]
  },
  {
   "cell_type": "code",
   "execution_count": 40,
   "id": "4794a0cb",
   "metadata": {},
   "outputs": [
    {
     "name": "stdout",
     "output_type": "stream",
     "text": [
      "Valid Variables are _abc and abc2\n",
      "_abc : 1\n",
      "abc2 : Hello Data Scientist\n"
     ]
    }
   ],
   "source": [
    "_abc=1\n",
    "abc2='Hello Data Scientist'\n",
    "print(\"Valid Variables are _abc and abc2\")\n",
    "print(\"_abc :\",_abc)\n",
    "print(\"abc2 :\",abc2)"
   ]
  },
  {
   "cell_type": "code",
   "execution_count": 38,
   "id": "e2bb7be3",
   "metadata": {},
   "outputs": [
    {
     "name": "stdout",
     "output_type": "stream",
     "text": [
      "['False', 'None', 'True', 'and', 'as', 'assert', 'async', 'await', 'break', 'class', 'continue', 'def', 'del', 'elif', 'else', 'except', 'finally', 'for', 'from', 'global', 'if', 'import', 'in', 'is', 'lambda', 'nonlocal', 'not', 'or', 'pass', 'raise', 'return', 'try', 'while', 'with', 'yield']\n"
     ]
    }
   ],
   "source": [
    "#Question 10 : Answer is a and b\n",
    "import keyword\n",
    "print(keyword.kwlist)"
   ]
  },
  {
   "cell_type": "markdown",
   "id": "80c0955d",
   "metadata": {},
   "source": [
    " "
   ]
  },
  {
   "cell_type": "code",
   "execution_count": null,
   "id": "9313b372",
   "metadata": {},
   "outputs": [],
   "source": []
  },
  {
   "cell_type": "code",
   "execution_count": null,
   "id": "cda3cbe5",
   "metadata": {},
   "outputs": [],
   "source": []
  },
  {
   "cell_type": "code",
   "execution_count": null,
   "id": "18c4f21f",
   "metadata": {},
   "outputs": [],
   "source": []
  },
  {
   "cell_type": "code",
   "execution_count": null,
   "id": "3fec352f",
   "metadata": {},
   "outputs": [],
   "source": []
  }
 ],
 "metadata": {
  "kernelspec": {
   "display_name": "Python 3",
   "language": "python",
   "name": "python3"
  },
  "language_info": {
   "codemirror_mode": {
    "name": "ipython",
    "version": 3
   },
   "file_extension": ".py",
   "mimetype": "text/x-python",
   "name": "python",
   "nbconvert_exporter": "python",
   "pygments_lexer": "ipython3",
   "version": "3.8.8"
  }
 },
 "nbformat": 4,
 "nbformat_minor": 5
}
