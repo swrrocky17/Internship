{
 "cells": [
  {
   "cell_type": "code",
   "execution_count": 1,
   "id": "6ac17a3e",
   "metadata": {},
   "outputs": [],
   "source": [
    "from bs4 import BeautifulSoup\n",
    "import requests\n",
    "import pandas as pd"
   ]
  },
  {
   "cell_type": "markdown",
   "id": "b60d0c25",
   "metadata": {},
   "source": [
    "# Python program to scrape first 10 product details which include product name , price , Image URL from\n",
    "https://www.bewakoof.com/women-tshirts?ga_q=tshirts ."
   ]
  },
  {
   "cell_type": "code",
   "execution_count": 2,
   "id": "983171ec",
   "metadata": {},
   "outputs": [
    {
     "data": {
      "text/plain": [
       "<Response [200]>"
      ]
     },
     "execution_count": 2,
     "metadata": {},
     "output_type": "execute_result"
    }
   ],
   "source": [
    "response= requests.get(\"https://www.bewakoof.com/women-tshirts?ga_q=tshirts\")\n",
    "response"
   ]
  },
  {
   "cell_type": "code",
   "execution_count": 3,
   "id": "c6b347d7",
   "metadata": {},
   "outputs": [],
   "source": [
    "def scrap_bewakoof(link):\n",
    "    current=0\n",
    "    url=link\n",
    "    request_object = requests.get(url)\n",
    "    html_content = request_object.text\n",
    "    #print(request_object.status_code, \"->\", url)\n",
    "    soup = BeautifulSoup(request_object.content)\n",
    "    \n",
    "    #Get the Product Names\n",
    "    product_names=[]\n",
    "    for p in soup.find_all('div',class_=\"productCardDetail\"):\n",
    "        product_names.append(p.find('h3').text)\n",
    "    product_names\n",
    "    \n",
    "    #Get the Prices\n",
    "    prices=[]\n",
    "    for price in soup.find_all('div',class_=\"productPriceBox clearfix\"):\n",
    "        prices.append(price.find('span',class_=\"discountedPriceText\").text.replace('₹ ',''))\n",
    "    prices\n",
    "    \n",
    "    productImages=[]\n",
    "    for image in soup.find_all('div',class_=\"productCardBox\"):\n",
    "        productImages.append(image.find('img'))\n",
    "    productImages\n",
    "    #len(productImages)\n",
    "    \n",
    "    image_url=[]\n",
    "    for img in productImages:\n",
    "        image_url.append(img['src'])\n",
    "    image_url\n",
    "    #len(image_url)\n",
    "    df=pd.DataFrame({'Product Name':product_names,'Price':prices ,'Image URL':image_url})\n",
    "    return df\n"
   ]
  },
  {
   "cell_type": "code",
   "execution_count": 4,
   "id": "cf0f8c44",
   "metadata": {},
   "outputs": [
    {
     "data": {
      "text/html": [
       "<div>\n",
       "<style scoped>\n",
       "    .dataframe tbody tr th:only-of-type {\n",
       "        vertical-align: middle;\n",
       "    }\n",
       "\n",
       "    .dataframe tbody tr th {\n",
       "        vertical-align: top;\n",
       "    }\n",
       "\n",
       "    .dataframe thead th {\n",
       "        text-align: right;\n",
       "    }\n",
       "</style>\n",
       "<table border=\"1\" class=\"dataframe\">\n",
       "  <thead>\n",
       "    <tr style=\"text-align: right;\">\n",
       "      <th></th>\n",
       "      <th>Product Name</th>\n",
       "      <th>Price</th>\n",
       "      <th>Image URL</th>\n",
       "    </tr>\n",
       "  </thead>\n",
       "  <tbody>\n",
       "    <tr>\n",
       "      <th>0</th>\n",
       "      <td>Believe In Miracles Half Sleeve T-Shirt Bold Red</td>\n",
       "      <td>249</td>\n",
       "      <td>https://images.bewakoof.com/t320/believe-in-mi...</td>\n",
       "    </tr>\n",
       "    <tr>\n",
       "      <th>1</th>\n",
       "      <td>All We Have Half Sleeve T-Shirt Meteor Grey</td>\n",
       "      <td>349</td>\n",
       "      <td>https://images.bewakoof.com/t320/all-we-have-h...</td>\n",
       "    </tr>\n",
       "    <tr>\n",
       "      <th>2</th>\n",
       "      <td>Be A Rainbow Boyfriend T-Shirt</td>\n",
       "      <td>349</td>\n",
       "      <td>https://images.bewakoof.com/t320/be-a-rainbow-...</td>\n",
       "    </tr>\n",
       "    <tr>\n",
       "      <th>3</th>\n",
       "      <td>Nope Lazy Boyfriend T-Shirt Meteor Grey</td>\n",
       "      <td>349</td>\n",
       "      <td>https://images.bewakoof.com/t320/nope-lazy-boy...</td>\n",
       "    </tr>\n",
       "    <tr>\n",
       "      <th>4</th>\n",
       "      <td>Matriarchy Begin Half Sleeve T-Shirt</td>\n",
       "      <td>349</td>\n",
       "      <td>https://images.bewakoof.com/t320/matriarchy-be...</td>\n",
       "    </tr>\n",
       "    <tr>\n",
       "      <th>5</th>\n",
       "      <td>Tom and Jerry Chase Boyfriend T-Shirt (TJL)</td>\n",
       "      <td>349</td>\n",
       "      <td>https://images.bewakoof.com/t320/tom-and-jerry...</td>\n",
       "    </tr>\n",
       "    <tr>\n",
       "      <th>6</th>\n",
       "      <td>Donut Worry Half Sleeve T-Shirt Pineapple Yellow</td>\n",
       "      <td>249</td>\n",
       "      <td>https://images.bewakoof.com/t320/donut-worry-h...</td>\n",
       "    </tr>\n",
       "    <tr>\n",
       "      <th>7</th>\n",
       "      <td>Snacc Time Half Sleeve Printed T-Shirt Meteor ...</td>\n",
       "      <td>349</td>\n",
       "      <td>https://images.bewakoof.com/t320/snacc-time-ha...</td>\n",
       "    </tr>\n",
       "    <tr>\n",
       "      <th>8</th>\n",
       "      <td>Classic Tj Logo Half Sleeve T-Shirt (TJL) Black</td>\n",
       "      <td>349</td>\n",
       "      <td>https://images.bewakoof.com/t320/classic-tj-lo...</td>\n",
       "    </tr>\n",
       "    <tr>\n",
       "      <th>9</th>\n",
       "      <td>Diagonal Friends Half Sleeves T-Shirt (FRL)</td>\n",
       "      <td>349</td>\n",
       "      <td>https://images.bewakoof.com/t320/diagonal-frie...</td>\n",
       "    </tr>\n",
       "  </tbody>\n",
       "</table>\n",
       "</div>"
      ],
      "text/plain": [
       "                                        Product Name Price  \\\n",
       "0   Believe In Miracles Half Sleeve T-Shirt Bold Red   249   \n",
       "1        All We Have Half Sleeve T-Shirt Meteor Grey   349   \n",
       "2                     Be A Rainbow Boyfriend T-Shirt   349   \n",
       "3            Nope Lazy Boyfriend T-Shirt Meteor Grey   349   \n",
       "4               Matriarchy Begin Half Sleeve T-Shirt   349   \n",
       "5        Tom and Jerry Chase Boyfriend T-Shirt (TJL)   349   \n",
       "6   Donut Worry Half Sleeve T-Shirt Pineapple Yellow   249   \n",
       "7  Snacc Time Half Sleeve Printed T-Shirt Meteor ...   349   \n",
       "8    Classic Tj Logo Half Sleeve T-Shirt (TJL) Black   349   \n",
       "9        Diagonal Friends Half Sleeves T-Shirt (FRL)   349   \n",
       "\n",
       "                                           Image URL  \n",
       "0  https://images.bewakoof.com/t320/believe-in-mi...  \n",
       "1  https://images.bewakoof.com/t320/all-we-have-h...  \n",
       "2  https://images.bewakoof.com/t320/be-a-rainbow-...  \n",
       "3  https://images.bewakoof.com/t320/nope-lazy-boy...  \n",
       "4  https://images.bewakoof.com/t320/matriarchy-be...  \n",
       "5  https://images.bewakoof.com/t320/tom-and-jerry...  \n",
       "6  https://images.bewakoof.com/t320/donut-worry-h...  \n",
       "7  https://images.bewakoof.com/t320/snacc-time-ha...  \n",
       "8  https://images.bewakoof.com/t320/classic-tj-lo...  \n",
       "9  https://images.bewakoof.com/t320/diagonal-frie...  "
      ]
     },
     "execution_count": 4,
     "metadata": {},
     "output_type": "execute_result"
    }
   ],
   "source": [
    "scrap_bewakoof(\"https://www.bewakoof.com/women-tshirts?ga_q=tshirts\")"
   ]
  },
  {
   "cell_type": "code",
   "execution_count": null,
   "id": "06e92ebb",
   "metadata": {},
   "outputs": [],
   "source": []
  }
 ],
 "metadata": {
  "kernelspec": {
   "display_name": "Python 3",
   "language": "python",
   "name": "python3"
  },
  "language_info": {
   "codemirror_mode": {
    "name": "ipython",
    "version": 3
   },
   "file_extension": ".py",
   "mimetype": "text/x-python",
   "name": "python",
   "nbconvert_exporter": "python",
   "pygments_lexer": "ipython3",
   "version": "3.8.8"
  }
 },
 "nbformat": 4,
 "nbformat_minor": 5
}
