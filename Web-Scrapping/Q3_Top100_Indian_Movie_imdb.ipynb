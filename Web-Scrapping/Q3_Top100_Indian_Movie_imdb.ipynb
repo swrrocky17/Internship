{
 "cells": [
  {
   "cell_type": "code",
   "execution_count": 1,
   "id": "d95ce23c",
   "metadata": {},
   "outputs": [],
   "source": [
    "from bs4 import BeautifulSoup\n",
    "import requests\n",
    "import pandas as pd"
   ]
  },
  {
   "cell_type": "markdown",
   "id": "7d6d5382",
   "metadata": {},
   "source": [
    "# Python program to display IMDB’s Top rated 100 Indian movies’ data (i.e. name, rating, year of release) and make data frame."
   ]
  },
  {
   "cell_type": "code",
   "execution_count": 2,
   "id": "3728507e",
   "metadata": {},
   "outputs": [
    {
     "data": {
      "text/plain": [
       "<Response [200]>"
      ]
     },
     "execution_count": 2,
     "metadata": {},
     "output_type": "execute_result"
    }
   ],
   "source": [
    "#Check if we are getting the Response\n",
    "imdb_response= requests.get(\"https://www.imdb.com/india/top-rated-indian-movies/\")\n",
    "imdb_response"
   ]
  },
  {
   "cell_type": "code",
   "execution_count": 3,
   "id": "815e5ae2",
   "metadata": {},
   "outputs": [],
   "source": [
    "def top100IndianMovies(link):\n",
    "    url=link\n",
    "    request_object = requests.get(url)\n",
    "    html_content = request_object.text\n",
    "    #print(request_object.status_code, \"->\", url)\n",
    "    soup = BeautifulSoup(request_object.content)\n",
    "    \n",
    "    #Get the movies\n",
    "    movies = soup.select('td.titleColumn')\n",
    "    ratings = [r.attrs.get('data-value') for r in soup.select('td.posterColumn span[name=ir]')]\n",
    "    ratings\n",
    "    \n",
    "    list = []\n",
    " \n",
    "    # Iterating over movies to extract\n",
    "    # each movie's details\n",
    "    for index in range(0, len(movies)):\n",
    "        movie_string = movies[index].get_text()\n",
    "        movie = (' '.join(movie_string.split()).replace('.', ''))\n",
    "        movie_name = movie[len(str(index))+1:-7]\n",
    "        year = movie[len(str(0))-6:-1]\n",
    "        data = {\"Name\": movie_name,                        \n",
    "                \"Rating\": ratings[index],\n",
    "                \"Year Of Release\": year\n",
    "               }\n",
    "        list.append(data)\n",
    "    \n",
    "    # Get first 100 movies\n",
    "    df_movies=pd.DataFrame(list)\n",
    "    return(df_movies.head(100))"
   ]
  },
  {
   "cell_type": "code",
   "execution_count": 4,
   "id": "437d3a29",
   "metadata": {},
   "outputs": [
    {
     "data": {
      "text/html": [
       "<div>\n",
       "<style scoped>\n",
       "    .dataframe tbody tr th:only-of-type {\n",
       "        vertical-align: middle;\n",
       "    }\n",
       "\n",
       "    .dataframe tbody tr th {\n",
       "        vertical-align: top;\n",
       "    }\n",
       "\n",
       "    .dataframe thead th {\n",
       "        text-align: right;\n",
       "    }\n",
       "</style>\n",
       "<table border=\"1\" class=\"dataframe\">\n",
       "  <thead>\n",
       "    <tr style=\"text-align: right;\">\n",
       "      <th></th>\n",
       "      <th>Name</th>\n",
       "      <th>Rating</th>\n",
       "      <th>Year Of Release</th>\n",
       "    </tr>\n",
       "  </thead>\n",
       "  <tbody>\n",
       "    <tr>\n",
       "      <th>0</th>\n",
       "      <td>Pariyerum Perumal</td>\n",
       "      <td>8.51014261044644</td>\n",
       "      <td>2018</td>\n",
       "    </tr>\n",
       "    <tr>\n",
       "      <th>1</th>\n",
       "      <td>Nayakan</td>\n",
       "      <td>8.505383313103225</td>\n",
       "      <td>1987</td>\n",
       "    </tr>\n",
       "    <tr>\n",
       "      <th>2</th>\n",
       "      <td>Jai Bhim</td>\n",
       "      <td>8.504495407713994</td>\n",
       "      <td>2021</td>\n",
       "    </tr>\n",
       "    <tr>\n",
       "      <th>3</th>\n",
       "      <td>C/o Kancharapalem</td>\n",
       "      <td>8.49385341097515</td>\n",
       "      <td>2018</td>\n",
       "    </tr>\n",
       "    <tr>\n",
       "      <th>4</th>\n",
       "      <td>Anbe Sivam</td>\n",
       "      <td>8.493418206351633</td>\n",
       "      <td>2003</td>\n",
       "    </tr>\n",
       "    <tr>\n",
       "      <th>...</th>\n",
       "      <td>...</td>\n",
       "      <td>...</td>\n",
       "      <td>...</td>\n",
       "    </tr>\n",
       "    <tr>\n",
       "      <th>95</th>\n",
       "      <td>Munna Bhai MBBS</td>\n",
       "      <td>8.099605580094943</td>\n",
       "      <td>2003</td>\n",
       "    </tr>\n",
       "    <tr>\n",
       "      <th>96</th>\n",
       "      <td>Sarfarosh</td>\n",
       "      <td>8.091645602267418</td>\n",
       "      <td>1999</td>\n",
       "    </tr>\n",
       "    <tr>\n",
       "      <th>97</th>\n",
       "      <td>Roja</td>\n",
       "      <td>8.088628843245587</td>\n",
       "      <td>1992</td>\n",
       "    </tr>\n",
       "    <tr>\n",
       "      <th>98</th>\n",
       "      <td>Uri: The Surgical Strike</td>\n",
       "      <td>8.087732570247221</td>\n",
       "      <td>2019</td>\n",
       "    </tr>\n",
       "    <tr>\n",
       "      <th>99</th>\n",
       "      <td>Queen</td>\n",
       "      <td>8.086426207479173</td>\n",
       "      <td>2013</td>\n",
       "    </tr>\n",
       "  </tbody>\n",
       "</table>\n",
       "<p>100 rows × 3 columns</p>\n",
       "</div>"
      ],
      "text/plain": [
       "                        Name             Rating Year Of Release\n",
       "0          Pariyerum Perumal   8.51014261044644            2018\n",
       "1                    Nayakan  8.505383313103225            1987\n",
       "2                   Jai Bhim  8.504495407713994            2021\n",
       "3          C/o Kancharapalem   8.49385341097515            2018\n",
       "4                 Anbe Sivam  8.493418206351633            2003\n",
       "..                       ...                ...             ...\n",
       "95           Munna Bhai MBBS  8.099605580094943            2003\n",
       "96                 Sarfarosh  8.091645602267418            1999\n",
       "97                      Roja  8.088628843245587            1992\n",
       "98  Uri: The Surgical Strike  8.087732570247221            2019\n",
       "99                     Queen  8.086426207479173            2013\n",
       "\n",
       "[100 rows x 3 columns]"
      ]
     },
     "execution_count": 4,
     "metadata": {},
     "output_type": "execute_result"
    }
   ],
   "source": [
    "top100IndianMovies(\"https://www.imdb.com/india/top-rated-indian-movies/\")"
   ]
  },
  {
   "cell_type": "code",
   "execution_count": null,
   "id": "266ef0a3",
   "metadata": {},
   "outputs": [],
   "source": []
  }
 ],
 "metadata": {
  "kernelspec": {
   "display_name": "Python 3",
   "language": "python",
   "name": "python3"
  },
  "language_info": {
   "codemirror_mode": {
    "name": "ipython",
    "version": 3
   },
   "file_extension": ".py",
   "mimetype": "text/x-python",
   "name": "python",
   "nbconvert_exporter": "python",
   "pygments_lexer": "ipython3",
   "version": "3.8.8"
  }
 },
 "nbformat": 4,
 "nbformat_minor": 5
}
