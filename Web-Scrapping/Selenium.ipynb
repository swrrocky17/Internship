{
 "cells": [
  {
   "cell_type": "code",
   "execution_count": 2,
   "id": "53470faf",
   "metadata": {},
   "outputs": [],
   "source": [
    "import selenium\n",
    "from selenium import webdriver\n",
    "import pandas as pd\n",
    "import warnings\n",
    "warnings.filterwarnings(\"ignore\")\n",
    "from selenium.webdriver.support.ui import WebDriverWait   \n",
    "from time import sleep"
   ]
  },
  {
   "cell_type": "code",
   "execution_count": 12,
   "id": "d5401474",
   "metadata": {},
   "outputs": [],
   "source": [
    "#driver=webdriver.Chrome(r'C:\\Users\\mum1user\\Desktop\\chromedriver_win32\\chromedriver.exe')"
   ]
  },
  {
   "cell_type": "code",
   "execution_count": 13,
   "id": "442078a5",
   "metadata": {},
   "outputs": [],
   "source": [
    "#Another method is to have Chrome Driver in the jupyter notebook where currently we are working\n",
    "driver=webdriver.Chrome('chromedriver.exe')"
   ]
  },
  {
   "cell_type": "markdown",
   "id": "bc81cf69",
   "metadata": {},
   "source": [
    "# Q1: \n",
    "Write a python program to scrape data for “Data Analyst” Job position in “Bangalore” location. You have to scrape the job-title, job-location, company_name, experience_required. You have to scrape first 10\n",
    "jobs data.\n",
    "\n",
    "This task will be done in following steps:\n",
    "\n",
    "1. First get the webpage https://www.naukri.com/\n",
    "2. Enter “Data Analyst” in “Skill, Designations, Companies” field and enter “Bangalore” in “enter the\n",
    "location” field.\n",
    "3. Then click the search button.\n",
    "4. Then scrape the data for the first 10 jobs results you get.\n",
    "5. Finally create a dataframe of the scraped data"
   ]
  },
  {
   "cell_type": "code",
   "execution_count": 49,
   "id": "34f0e0c0",
   "metadata": {},
   "outputs": [],
   "source": [
    "url='https://www.naukri.com/'\n",
    "#This opens the naukri.com url automatically in the Chrome\n",
    "driver.get(url)"
   ]
  },
  {
   "cell_type": "code",
   "execution_count": 50,
   "id": "8e2e1860",
   "metadata": {},
   "outputs": [
    {
     "data": {
      "text/plain": [
       "<selenium.webdriver.remote.webelement.WebElement (session=\"7849b908da5085950cc8925fe56c6c6d\", element=\"ce304600-e776-4969-82bd-0187edfaf95f\")>"
      ]
     },
     "execution_count": 50,
     "metadata": {},
     "output_type": "execute_result"
    }
   ],
   "source": [
    "#Finding web element for search job by using class name\n",
    "search_job=driver.find_element_by_class_name(\"suggestor-input \")\n",
    "search_job"
   ]
  },
  {
   "cell_type": "code",
   "execution_count": 51,
   "id": "40f5bb42",
   "metadata": {},
   "outputs": [],
   "source": [
    "#Next is if we write on Search bar, we will get the output\n",
    "search_job.send_keys('Data Analyst')"
   ]
  },
  {
   "cell_type": "markdown",
   "id": "34bddfd9",
   "metadata": {},
   "source": [
    "We see that Data Analyst gets typed automatically on the Search bar"
   ]
  },
  {
   "cell_type": "code",
   "execution_count": 52,
   "id": "2867630a",
   "metadata": {},
   "outputs": [
    {
     "data": {
      "text/plain": [
       "<selenium.webdriver.remote.webelement.WebElement (session=\"7849b908da5085950cc8925fe56c6c6d\", element=\"c2633a16-c2d6-4a2e-9aa4-8af29f40b825\")>"
      ]
     },
     "execution_count": 52,
     "metadata": {},
     "output_type": "execute_result"
    }
   ],
   "source": [
    "#We have to scrap for single web element, so we will use absolute xpath\n",
    "search_loc=driver.find_element_by_xpath('/html/body/div/div[2]/div[3]/div/div/div[3]/div/div/div/input')\n",
    "search_loc"
   ]
  },
  {
   "cell_type": "code",
   "execution_count": 53,
   "id": "ebc74191",
   "metadata": {},
   "outputs": [
    {
     "data": {
      "text/plain": [
       "<selenium.webdriver.remote.webelement.WebElement (session=\"7849b908da5085950cc8925fe56c6c6d\", element=\"c2633a16-c2d6-4a2e-9aa4-8af29f40b825\")>"
      ]
     },
     "execution_count": 53,
     "metadata": {},
     "output_type": "execute_result"
    }
   ],
   "source": [
    "#finding element for Job Location\n",
    "search_loc.send_keys('Bangalore')\n",
    "search_loc"
   ]
  },
  {
   "cell_type": "code",
   "execution_count": 56,
   "id": "50322daf",
   "metadata": {},
   "outputs": [
    {
     "data": {
      "text/plain": [
       "<selenium.webdriver.remote.webelement.WebElement (session=\"7849b908da5085950cc8925fe56c6c6d\", element=\"671c144a-e8b6-45f6-9cf1-8e33c75307c8\")>"
      ]
     },
     "execution_count": 56,
     "metadata": {},
     "output_type": "execute_result"
    }
   ],
   "source": [
    "search_btn=driver.find_element_by_xpath('/html/body/div/div[2]/div[3]/div/div/div[6]')\n",
    "search_btn"
   ]
  },
  {
   "cell_type": "code",
   "execution_count": 57,
   "id": "1ebdb202",
   "metadata": {},
   "outputs": [],
   "source": [
    "search_btn.click()"
   ]
  },
  {
   "cell_type": "markdown",
   "id": "35dfdbb2",
   "metadata": {},
   "source": [
    "# Extract Job Titles"
   ]
  },
  {
   "cell_type": "code",
   "execution_count": 62,
   "id": "4cb2f928",
   "metadata": {},
   "outputs": [],
   "source": [
    "title_tags=driver.find_elements_by_xpath('//a[@class=\"title fw500 ellipsis\"]')"
   ]
  },
  {
   "cell_type": "code",
   "execution_count": 63,
   "id": "1d5fc592",
   "metadata": {},
   "outputs": [
    {
     "data": {
      "text/plain": [
       "20"
      ]
     },
     "execution_count": 63,
     "metadata": {},
     "output_type": "execute_result"
    }
   ],
   "source": [
    "len(title_tags)"
   ]
  },
  {
   "cell_type": "code",
   "execution_count": 64,
   "id": "e1144963",
   "metadata": {},
   "outputs": [
    {
     "data": {
      "text/plain": [
       "20"
      ]
     },
     "execution_count": 64,
     "metadata": {},
     "output_type": "execute_result"
    }
   ],
   "source": [
    "job_titles=[]\n",
    "for i in title_tags:\n",
    "    job_titles.append(i.text)\n",
    "len(job_titles)\n",
    "    "
   ]
  },
  {
   "cell_type": "code",
   "execution_count": 65,
   "id": "c318b1e9",
   "metadata": {
    "collapsed": true
   },
   "outputs": [
    {
     "data": {
      "text/plain": [
       "['Hiring -Data Analyst, Business Analyst, MIS Analyst -3rd Party Payroll',\n",
       " 'Data analyst',\n",
       " 'Pipeline/Piping Data Analyst Trainee',\n",
       " 'Data Analyst',\n",
       " 'Senior Data Analyst - Collibra',\n",
       " 'Hiring For Data Analyst (SQL & Scala) || Coforge',\n",
       " 'Hiring Data Analyst(Immediate joiner preferred) - Globallogic!',\n",
       " 'Sr. Data Analyst',\n",
       " 'Data Analyst- 6-9 Years- Pan India-Permanent position',\n",
       " 'Data Analyst',\n",
       " 'Senior Data Analyst II',\n",
       " 'Senior Data Analyst',\n",
       " 'DATA ANALYST, IMPACT MEASUREMENT AND MANAGEMENT',\n",
       " 'Data Analyst',\n",
       " 'Data Analyst - Platform & Security',\n",
       " 'Global Tax Automation & Operations - Data Scientist Senior Analyst',\n",
       " 'Data Analyst',\n",
       " 'Data Analyst',\n",
       " 'Data Analyst',\n",
       " 'Business Analyst (Data Analyst role)']"
      ]
     },
     "execution_count": 65,
     "metadata": {},
     "output_type": "execute_result"
    }
   ],
   "source": [
    "job_titles"
   ]
  },
  {
   "cell_type": "code",
   "execution_count": 67,
   "id": "173c41d0",
   "metadata": {},
   "outputs": [
    {
     "data": {
      "text/html": [
       "<div>\n",
       "<style scoped>\n",
       "    .dataframe tbody tr th:only-of-type {\n",
       "        vertical-align: middle;\n",
       "    }\n",
       "\n",
       "    .dataframe tbody tr th {\n",
       "        vertical-align: top;\n",
       "    }\n",
       "\n",
       "    .dataframe thead th {\n",
       "        text-align: right;\n",
       "    }\n",
       "</style>\n",
       "<table border=\"1\" class=\"dataframe\">\n",
       "  <thead>\n",
       "    <tr style=\"text-align: right;\">\n",
       "      <th></th>\n",
       "      <th>Data Analyst Job Title</th>\n",
       "    </tr>\n",
       "  </thead>\n",
       "  <tbody>\n",
       "    <tr>\n",
       "      <th>0</th>\n",
       "      <td>Hiring -Data Analyst, Business Analyst, MIS An...</td>\n",
       "    </tr>\n",
       "    <tr>\n",
       "      <th>1</th>\n",
       "      <td>Data analyst</td>\n",
       "    </tr>\n",
       "    <tr>\n",
       "      <th>2</th>\n",
       "      <td>Pipeline/Piping Data Analyst Trainee</td>\n",
       "    </tr>\n",
       "    <tr>\n",
       "      <th>3</th>\n",
       "      <td>Data Analyst</td>\n",
       "    </tr>\n",
       "    <tr>\n",
       "      <th>4</th>\n",
       "      <td>Senior Data Analyst - Collibra</td>\n",
       "    </tr>\n",
       "    <tr>\n",
       "      <th>5</th>\n",
       "      <td>Hiring For Data Analyst (SQL &amp; Scala) || Coforge</td>\n",
       "    </tr>\n",
       "    <tr>\n",
       "      <th>6</th>\n",
       "      <td>Hiring Data Analyst(Immediate joiner preferred...</td>\n",
       "    </tr>\n",
       "    <tr>\n",
       "      <th>7</th>\n",
       "      <td>Sr. Data Analyst</td>\n",
       "    </tr>\n",
       "    <tr>\n",
       "      <th>8</th>\n",
       "      <td>Data Analyst- 6-9 Years- Pan India-Permanent p...</td>\n",
       "    </tr>\n",
       "    <tr>\n",
       "      <th>9</th>\n",
       "      <td>Data Analyst</td>\n",
       "    </tr>\n",
       "  </tbody>\n",
       "</table>\n",
       "</div>"
      ],
      "text/plain": [
       "                              Data Analyst Job Title\n",
       "0  Hiring -Data Analyst, Business Analyst, MIS An...\n",
       "1                                       Data analyst\n",
       "2               Pipeline/Piping Data Analyst Trainee\n",
       "3                                       Data Analyst\n",
       "4                     Senior Data Analyst - Collibra\n",
       "5   Hiring For Data Analyst (SQL & Scala) || Coforge\n",
       "6  Hiring Data Analyst(Immediate joiner preferred...\n",
       "7                                   Sr. Data Analyst\n",
       "8  Data Analyst- 6-9 Years- Pan India-Permanent p...\n",
       "9                                       Data Analyst"
      ]
     },
     "execution_count": 67,
     "metadata": {},
     "output_type": "execute_result"
    }
   ],
   "source": [
    "df = pd.DataFrame({'Data Analyst Job Title':job_titles})\n",
    "df.head(10)"
   ]
  },
  {
   "cell_type": "markdown",
   "id": "38755ea5",
   "metadata": {},
   "source": [
    "# Q2: \n",
    "Write a python program to scrape data for “Data Scientist” Job position in “Bangalore” location. You have to scrape the job-title, job-location, company_name. You have to scrape first 10 jobs data.\n",
    "This task will be done in following steps:\n",
    "\n",
    "1. First get the webpage https://www.naukri.com/\n",
    "2. Enter “Data Scientist” in “Skill, Designations, Companies” field and enter “Bangalore” in “enter the\n",
    "location” field.\n",
    "3. Then click the search button.\n",
    "4. Then scrape the data for the first 10 jobs results you get.\n",
    "5. Finally create a dataframe of the scraped data.\n",
    "\n",
    "Note: All of the above steps have to be done in code. No step is to be done manually."
   ]
  },
  {
   "cell_type": "code",
   "execution_count": null,
   "id": "b1bba386",
   "metadata": {},
   "outputs": [],
   "source": [
    "driver=webdriver.Chrome('chromedriver.exe')"
   ]
  },
  {
   "cell_type": "code",
   "execution_count": 72,
   "id": "c4cdc238",
   "metadata": {},
   "outputs": [],
   "source": [
    "url='https://www.naukri.com/'\n",
    "#This opens the naukri.com url automatically in the Chrome\n",
    "driver.get(url)"
   ]
  },
  {
   "cell_type": "code",
   "execution_count": 73,
   "id": "82ed13e1",
   "metadata": {},
   "outputs": [
    {
     "data": {
      "text/plain": [
       "<selenium.webdriver.remote.webelement.WebElement (session=\"2aba68a9756866f35d291907cfb8d764\", element=\"90d8d898-57d3-4e15-a699-4553a39337fd\")>"
      ]
     },
     "execution_count": 73,
     "metadata": {},
     "output_type": "execute_result"
    }
   ],
   "source": [
    "#Finding web element for search job by using class name\n",
    "search_job=driver.find_element_by_class_name(\"suggestor-input \")\n",
    "search_job"
   ]
  },
  {
   "cell_type": "code",
   "execution_count": 74,
   "id": "82cd52a9",
   "metadata": {},
   "outputs": [],
   "source": [
    "#Next is if we write on Search bar, we will get the output\n",
    "search_job.send_keys('Data Scientist')"
   ]
  },
  {
   "cell_type": "markdown",
   "id": "eb2dbc5f",
   "metadata": {},
   "source": [
    "We see that Data Scientist gets typed automatically on the Search bar"
   ]
  },
  {
   "cell_type": "code",
   "execution_count": 75,
   "id": "d6d4917e",
   "metadata": {},
   "outputs": [
    {
     "data": {
      "text/plain": [
       "<selenium.webdriver.remote.webelement.WebElement (session=\"2aba68a9756866f35d291907cfb8d764\", element=\"2337f2e4-b360-4891-9db5-5288852153d4\")>"
      ]
     },
     "execution_count": 75,
     "metadata": {},
     "output_type": "execute_result"
    }
   ],
   "source": [
    "#We have to scrap for single web element, so we will use absolute xpath\n",
    "search_loc=driver.find_element_by_xpath('/html/body/div/div[2]/div[3]/div/div/div[3]/div/div/div/input')\n",
    "search_loc"
   ]
  },
  {
   "cell_type": "code",
   "execution_count": 76,
   "id": "ae50bf86",
   "metadata": {},
   "outputs": [
    {
     "data": {
      "text/plain": [
       "<selenium.webdriver.remote.webelement.WebElement (session=\"2aba68a9756866f35d291907cfb8d764\", element=\"2337f2e4-b360-4891-9db5-5288852153d4\")>"
      ]
     },
     "execution_count": 76,
     "metadata": {},
     "output_type": "execute_result"
    }
   ],
   "source": [
    "#finding element for Job Location\n",
    "search_loc.send_keys('Bangalore')\n",
    "search_loc"
   ]
  },
  {
   "cell_type": "code",
   "execution_count": 77,
   "id": "19442d8a",
   "metadata": {},
   "outputs": [
    {
     "data": {
      "text/plain": [
       "<selenium.webdriver.remote.webelement.WebElement (session=\"2aba68a9756866f35d291907cfb8d764\", element=\"659fc291-06bd-4888-9992-de05b8d48a1e\")>"
      ]
     },
     "execution_count": 77,
     "metadata": {},
     "output_type": "execute_result"
    }
   ],
   "source": [
    "search_btn=driver.find_element_by_xpath('/html/body/div/div[2]/div[3]/div/div/div[6]')\n",
    "search_btn"
   ]
  },
  {
   "cell_type": "code",
   "execution_count": 78,
   "id": "6d7c1826",
   "metadata": {},
   "outputs": [],
   "source": [
    "search_btn.click()"
   ]
  },
  {
   "cell_type": "markdown",
   "id": "2f0b4ac5",
   "metadata": {},
   "source": [
    "# Extract Job Titles"
   ]
  },
  {
   "cell_type": "code",
   "execution_count": 79,
   "id": "0207162c",
   "metadata": {},
   "outputs": [],
   "source": [
    "title_tags=driver.find_elements_by_xpath('//a[@class=\"title fw500 ellipsis\"]')"
   ]
  },
  {
   "cell_type": "code",
   "execution_count": 80,
   "id": "fb1f572d",
   "metadata": {},
   "outputs": [
    {
     "data": {
      "text/plain": [
       "20"
      ]
     },
     "execution_count": 80,
     "metadata": {},
     "output_type": "execute_result"
    }
   ],
   "source": [
    "len(title_tags)"
   ]
  },
  {
   "cell_type": "code",
   "execution_count": 81,
   "id": "5a70e3be",
   "metadata": {},
   "outputs": [
    {
     "data": {
      "text/plain": [
       "20"
      ]
     },
     "execution_count": 81,
     "metadata": {},
     "output_type": "execute_result"
    }
   ],
   "source": [
    "job_titles=[]\n",
    "for i in title_tags:\n",
    "    job_titles.append(i.text)\n",
    "len(job_titles)\n",
    "    "
   ]
  },
  {
   "cell_type": "code",
   "execution_count": 82,
   "id": "207d7394",
   "metadata": {
    "collapsed": true
   },
   "outputs": [
    {
     "data": {
      "text/plain": [
       "['Global Tax Automation & Operations - Data Scientist Senior Analyst',\n",
       " 'Associate Data Scientist',\n",
       " 'Data Scientist / Analyst',\n",
       " 'Principal Data Scientist',\n",
       " 'Senior Data Scientist, Speech Synthesis',\n",
       " 'Senior Data Scientist - Customer Analytics',\n",
       " 'Senior Data Scientist I',\n",
       " 'Senior Risk Data Scientist',\n",
       " 'Data Scientist / ML Engineer',\n",
       " 'Data Scientist - Lead / Architect - Looking For Early Joiners - Wipro',\n",
       " 'Sr Data Scientist',\n",
       " 'Data Scientist I',\n",
       " 'NLP Data Scientist',\n",
       " 'Hiring For Sr. Data Scientist. Operation Research - SCM- MNC',\n",
       " 'Data Scientist: Advanced Analytics',\n",
       " 'Data Scientist: Advanced Analytics',\n",
       " 'Data Scientist: Artificial Intelligence',\n",
       " 'Deputy Manager - Data Scientist',\n",
       " 'Global Tax Automation & Operations / Data Scientist Advisor',\n",
       " 'Data Scientist']"
      ]
     },
     "execution_count": 82,
     "metadata": {},
     "output_type": "execute_result"
    }
   ],
   "source": [
    "job_titles"
   ]
  },
  {
   "cell_type": "code",
   "execution_count": 83,
   "id": "33b56bab",
   "metadata": {},
   "outputs": [
    {
     "data": {
      "text/html": [
       "<div>\n",
       "<style scoped>\n",
       "    .dataframe tbody tr th:only-of-type {\n",
       "        vertical-align: middle;\n",
       "    }\n",
       "\n",
       "    .dataframe tbody tr th {\n",
       "        vertical-align: top;\n",
       "    }\n",
       "\n",
       "    .dataframe thead th {\n",
       "        text-align: right;\n",
       "    }\n",
       "</style>\n",
       "<table border=\"1\" class=\"dataframe\">\n",
       "  <thead>\n",
       "    <tr style=\"text-align: right;\">\n",
       "      <th></th>\n",
       "      <th>Data Scientist Job Title</th>\n",
       "    </tr>\n",
       "  </thead>\n",
       "  <tbody>\n",
       "    <tr>\n",
       "      <th>0</th>\n",
       "      <td>Global Tax Automation &amp; Operations - Data Scie...</td>\n",
       "    </tr>\n",
       "    <tr>\n",
       "      <th>1</th>\n",
       "      <td>Associate Data Scientist</td>\n",
       "    </tr>\n",
       "    <tr>\n",
       "      <th>2</th>\n",
       "      <td>Data Scientist / Analyst</td>\n",
       "    </tr>\n",
       "    <tr>\n",
       "      <th>3</th>\n",
       "      <td>Principal Data Scientist</td>\n",
       "    </tr>\n",
       "    <tr>\n",
       "      <th>4</th>\n",
       "      <td>Senior Data Scientist, Speech Synthesis</td>\n",
       "    </tr>\n",
       "    <tr>\n",
       "      <th>5</th>\n",
       "      <td>Senior Data Scientist - Customer Analytics</td>\n",
       "    </tr>\n",
       "    <tr>\n",
       "      <th>6</th>\n",
       "      <td>Senior Data Scientist I</td>\n",
       "    </tr>\n",
       "    <tr>\n",
       "      <th>7</th>\n",
       "      <td>Senior Risk Data Scientist</td>\n",
       "    </tr>\n",
       "    <tr>\n",
       "      <th>8</th>\n",
       "      <td>Data Scientist / ML Engineer</td>\n",
       "    </tr>\n",
       "    <tr>\n",
       "      <th>9</th>\n",
       "      <td>Data Scientist - Lead / Architect - Looking Fo...</td>\n",
       "    </tr>\n",
       "  </tbody>\n",
       "</table>\n",
       "</div>"
      ],
      "text/plain": [
       "                            Data Scientist Job Title\n",
       "0  Global Tax Automation & Operations - Data Scie...\n",
       "1                           Associate Data Scientist\n",
       "2                           Data Scientist / Analyst\n",
       "3                           Principal Data Scientist\n",
       "4            Senior Data Scientist, Speech Synthesis\n",
       "5         Senior Data Scientist - Customer Analytics\n",
       "6                            Senior Data Scientist I\n",
       "7                         Senior Risk Data Scientist\n",
       "8                       Data Scientist / ML Engineer\n",
       "9  Data Scientist - Lead / Architect - Looking Fo..."
      ]
     },
     "execution_count": 83,
     "metadata": {},
     "output_type": "execute_result"
    }
   ],
   "source": [
    "df = pd.DataFrame({'Data Scientist Job Title':job_titles})\n",
    "df.head(10)"
   ]
  },
  {
   "cell_type": "markdown",
   "id": "77542e98",
   "metadata": {},
   "source": [
    "# Q3 :\n",
    "The task will be done as shown in the below steps:\n",
    "1. first get the webpage https://www.naukri.com/\n",
    "2. Enter “Data Scientist” in “Skill, Designations, and Companies” field.\n",
    "3. Then click the search button.\n",
    "4. Then apply the location filter and salary filter by checking the respective boxes\n",
    "5. Then scrape the data for the first 10 jobs results you get.\n",
    "6. Finally create a dataframe of the scraped data.\n",
    "Note: All of the above steps have to be done in code. No step is to be done manually.\n",
    "\n"
   ]
  },
  {
   "cell_type": "code",
   "execution_count": 24,
   "id": "c2e88707",
   "metadata": {},
   "outputs": [],
   "source": [
    "driver=webdriver.Chrome('chromedriver.exe')"
   ]
  },
  {
   "cell_type": "code",
   "execution_count": 25,
   "id": "09ab7b29",
   "metadata": {},
   "outputs": [],
   "source": [
    "url='https://www.naukri.com/'\n",
    "#This opens the naukri.com url automatically in the Chrome\n",
    "driver.get(url)"
   ]
  },
  {
   "cell_type": "code",
   "execution_count": 26,
   "id": "f4c0fce5",
   "metadata": {},
   "outputs": [
    {
     "data": {
      "text/plain": [
       "<selenium.webdriver.remote.webelement.WebElement (session=\"ff2abf6e586e087bfabb0dca2151f283\", element=\"11006998-ae6c-47d1-ab8a-a4b1b45fb186\")>"
      ]
     },
     "execution_count": 26,
     "metadata": {},
     "output_type": "execute_result"
    }
   ],
   "source": [
    "#Finding web element for search job by using class name\n",
    "search_job=driver.find_element_by_class_name(\"suggestor-input \")\n",
    "search_job"
   ]
  },
  {
   "cell_type": "code",
   "execution_count": 27,
   "id": "487467c1",
   "metadata": {},
   "outputs": [],
   "source": [
    "#Next is if we write on Search bar, we will get the output\n",
    "search_job.send_keys('Data Scientist')"
   ]
  },
  {
   "cell_type": "code",
   "execution_count": 28,
   "id": "ef66ce80",
   "metadata": {},
   "outputs": [
    {
     "data": {
      "text/plain": [
       "<selenium.webdriver.remote.webelement.WebElement (session=\"ff2abf6e586e087bfabb0dca2151f283\", element=\"493ee188-a52a-4ddc-bc5d-89485a38e59d\")>"
      ]
     },
     "execution_count": 28,
     "metadata": {},
     "output_type": "execute_result"
    }
   ],
   "source": [
    "search_btn=driver.find_element_by_xpath('/html/body/div/div[2]/div[3]/div/div/div[6]')\n",
    "search_btn"
   ]
  },
  {
   "cell_type": "code",
   "execution_count": 29,
   "id": "55ce2b59",
   "metadata": {},
   "outputs": [],
   "source": [
    "#Click on Search button\n",
    "search_btn.click()"
   ]
  },
  {
   "cell_type": "code",
   "execution_count": null,
   "id": "99aa89a0",
   "metadata": {},
   "outputs": [],
   "source": [
    "#Apply Location Filter\n",
    "apply_loc_filter=driver.find_element_by_xpath('/html/body/div[1]/div[3]/div[2]/section[1]/div[2]/div[3]/div[2]/div[3]/label/i')\n",
    "apply_loc_filter"
   ]
  },
  {
   "cell_type": "code",
   "execution_count": null,
   "id": "ea1ecf8f",
   "metadata": {},
   "outputs": [],
   "source": [
    "apply_loc_filter.click()"
   ]
  },
  {
   "cell_type": "code",
   "execution_count": 32,
   "id": "35f2b23f",
   "metadata": {},
   "outputs": [
    {
     "data": {
      "text/plain": [
       "<selenium.webdriver.remote.webelement.WebElement (session=\"ff2abf6e586e087bfabb0dca2151f283\", element=\"466de00d-77ea-4a58-9dae-96811daad378\")>"
      ]
     },
     "execution_count": 32,
     "metadata": {},
     "output_type": "execute_result"
    }
   ],
   "source": [
    "#Apply Salary Filter\n",
    "apply_salary_filter=driver.find_element_by_xpath('/html/body/div[1]/div[3]/div[2]/section[1]/div[2]/div[4]/div[2]/div[2]/label/i')\n",
    "apply_salary_filter"
   ]
  },
  {
   "cell_type": "code",
   "execution_count": 33,
   "id": "f0d109d7",
   "metadata": {},
   "outputs": [],
   "source": [
    "apply_salary_filter.click()\n",
    "#We see that filter is applied to 3-6 lakhs"
   ]
  },
  {
   "cell_type": "code",
   "execution_count": 34,
   "id": "9c64c412",
   "metadata": {},
   "outputs": [],
   "source": [
    "#Lets retrive the Job Title now\n",
    "title_tags3=driver.find_elements_by_xpath('//a[@class=\"title fw500 ellipsis\"]')"
   ]
  },
  {
   "cell_type": "code",
   "execution_count": 35,
   "id": "16ec3968",
   "metadata": {},
   "outputs": [
    {
     "data": {
      "text/plain": [
       "20"
      ]
     },
     "execution_count": 35,
     "metadata": {},
     "output_type": "execute_result"
    }
   ],
   "source": [
    "len(title_tags3)"
   ]
  },
  {
   "cell_type": "code",
   "execution_count": 36,
   "id": "ccf8dbec",
   "metadata": {},
   "outputs": [
    {
     "data": {
      "text/plain": [
       "20"
      ]
     },
     "execution_count": 36,
     "metadata": {},
     "output_type": "execute_result"
    }
   ],
   "source": [
    "job_titles3=[]\n",
    "for i in title_tags3:\n",
    "    job_titles3.append(i.text)\n",
    "len(job_titles3)\n",
    " "
   ]
  },
  {
   "cell_type": "code",
   "execution_count": 37,
   "id": "f6819e9b",
   "metadata": {
    "collapsed": true
   },
   "outputs": [
    {
     "data": {
      "text/plain": [
       "['Data Scientist | A Fintech Organisation',\n",
       " 'Data Scientist-Onsite and offshore',\n",
       " 'Data Scientist',\n",
       " 'Data Scientist II',\n",
       " 'Opening For Data Scientist',\n",
       " 'Data & Applied Scientist',\n",
       " 'Data and applied Scientist',\n",
       " 'Data Scientist',\n",
       " 'Urgent Requirement || Data Scientist || Noida',\n",
       " 'Data Analyst / Data Scientist / Business Analytics / Fresher - MNC',\n",
       " 'Data Scientist',\n",
       " 'Data Scientist',\n",
       " 'Senior Data Scientist',\n",
       " 'Lead Data Scientist - KYC/Fraud/Marketing',\n",
       " 'Data Scientist',\n",
       " 'Data Scientist',\n",
       " 'Data Scientist',\n",
       " 'Data Scientist',\n",
       " 'Associate Data Scientist',\n",
       " 'Urgent Hiring For Data Scientist']"
      ]
     },
     "execution_count": 37,
     "metadata": {},
     "output_type": "execute_result"
    }
   ],
   "source": [
    "job_titles3"
   ]
  },
  {
   "cell_type": "code",
   "execution_count": 38,
   "id": "1537c84f",
   "metadata": {
    "collapsed": true
   },
   "outputs": [
    {
     "data": {
      "text/html": [
       "<div>\n",
       "<style scoped>\n",
       "    .dataframe tbody tr th:only-of-type {\n",
       "        vertical-align: middle;\n",
       "    }\n",
       "\n",
       "    .dataframe tbody tr th {\n",
       "        vertical-align: top;\n",
       "    }\n",
       "\n",
       "    .dataframe thead th {\n",
       "        text-align: right;\n",
       "    }\n",
       "</style>\n",
       "<table border=\"1\" class=\"dataframe\">\n",
       "  <thead>\n",
       "    <tr style=\"text-align: right;\">\n",
       "      <th></th>\n",
       "      <th>Data Scientist Jobs in Delhi/NCR</th>\n",
       "    </tr>\n",
       "  </thead>\n",
       "  <tbody>\n",
       "    <tr>\n",
       "      <th>0</th>\n",
       "      <td>Data Scientist | A Fintech Organisation</td>\n",
       "    </tr>\n",
       "    <tr>\n",
       "      <th>1</th>\n",
       "      <td>Data Scientist-Onsite and offshore</td>\n",
       "    </tr>\n",
       "    <tr>\n",
       "      <th>2</th>\n",
       "      <td>Data Scientist</td>\n",
       "    </tr>\n",
       "    <tr>\n",
       "      <th>3</th>\n",
       "      <td>Data Scientist II</td>\n",
       "    </tr>\n",
       "    <tr>\n",
       "      <th>4</th>\n",
       "      <td>Opening For Data Scientist</td>\n",
       "    </tr>\n",
       "    <tr>\n",
       "      <th>5</th>\n",
       "      <td>Data &amp; Applied Scientist</td>\n",
       "    </tr>\n",
       "    <tr>\n",
       "      <th>6</th>\n",
       "      <td>Data and applied Scientist</td>\n",
       "    </tr>\n",
       "    <tr>\n",
       "      <th>7</th>\n",
       "      <td>Data Scientist</td>\n",
       "    </tr>\n",
       "    <tr>\n",
       "      <th>8</th>\n",
       "      <td>Urgent Requirement || Data Scientist || Noida</td>\n",
       "    </tr>\n",
       "    <tr>\n",
       "      <th>9</th>\n",
       "      <td>Data Analyst / Data Scientist / Business Analy...</td>\n",
       "    </tr>\n",
       "  </tbody>\n",
       "</table>\n",
       "</div>"
      ],
      "text/plain": [
       "                    Data Scientist Jobs in Delhi/NCR\n",
       "0            Data Scientist | A Fintech Organisation\n",
       "1                 Data Scientist-Onsite and offshore\n",
       "2                                     Data Scientist\n",
       "3                                  Data Scientist II\n",
       "4                         Opening For Data Scientist\n",
       "5                           Data & Applied Scientist\n",
       "6                         Data and applied Scientist\n",
       "7                                     Data Scientist\n",
       "8      Urgent Requirement || Data Scientist || Noida\n",
       "9  Data Analyst / Data Scientist / Business Analy..."
      ]
     },
     "execution_count": 38,
     "metadata": {},
     "output_type": "execute_result"
    }
   ],
   "source": [
    "# Store it in Dataframe\n",
    "df3 = pd.DataFrame({'Data Scientist Jobs in Delhi/NCR':job_titles3})\n",
    "df3.head(10)"
   ]
  },
  {
   "cell_type": "markdown",
   "id": "33fef842",
   "metadata": {},
   "source": [
    "# Q4\n",
    "Scrape data of first 100 sunglasses listings on flipkart.com. You have to scrape four attributes:\n",
    "1. Brand\n",
    "2. Product Description\n",
    "3. Price\n",
    "\n",
    "To scrape the data you have to go through following steps:\n",
    "1. Go to Flipkart webpage by url : https://www.flipkart.com/\n",
    "2. Enter “sunglasses” in the search field where “search for products, brands andmore” is written and\n",
    "click the search icon\n",
    "3. After that you will reach to the page having a lot of sunglasses. From this pageyou can scrap the\n",
    "required data as usual\n",
    "4. After scraping data from the first page, go to the “Next” Button at the bottom ofthe page , then\n",
    "click on it.\n",
    "5. Now scrape data from this page as usual\n",
    "6. Repeat this until you get data for 100 sunglasses."
   ]
  },
  {
   "cell_type": "code",
   "execution_count": 39,
   "id": "9797438b",
   "metadata": {},
   "outputs": [],
   "source": [
    "driver=webdriver.Chrome('chromedriver.exe')"
   ]
  },
  {
   "cell_type": "code",
   "execution_count": 40,
   "id": "76315429",
   "metadata": {},
   "outputs": [],
   "source": [
    "url='https://www.flipkart.com/'\n",
    "#This opens the naukri.com url automatically in the Chrome\n",
    "driver.get(url)"
   ]
  },
  {
   "cell_type": "code",
   "execution_count": 41,
   "id": "acfc365f",
   "metadata": {},
   "outputs": [],
   "source": [
    "#The login screen appears, lets close that\n",
    "close_login_screen=driver.find_element_by_xpath('//button[@class=\"_2KpZ6l _2doB4z\"]').click()"
   ]
  },
  {
   "cell_type": "code",
   "execution_count": 42,
   "id": "35456dae",
   "metadata": {},
   "outputs": [],
   "source": [
    "sleep(2)"
   ]
  },
  {
   "cell_type": "code",
   "execution_count": 43,
   "id": "4411a161",
   "metadata": {},
   "outputs": [
    {
     "data": {
      "text/plain": [
       "<selenium.webdriver.remote.webelement.WebElement (session=\"728e21dcec77b3577adfa9b8e58a84e0\", element=\"51fc0623-01de-4264-a619-aea3f62907c9\")>"
      ]
     },
     "execution_count": 43,
     "metadata": {},
     "output_type": "execute_result"
    }
   ],
   "source": [
    "#Finding web element for search job by using class name\n",
    "search_job=driver.find_element_by_xpath('/html/body/div/div/div[1]/div[1]/div[2]/div[2]/form/div/div/input')\n",
    "search_job"
   ]
  },
  {
   "cell_type": "code",
   "execution_count": 44,
   "id": "fe690cbe",
   "metadata": {},
   "outputs": [],
   "source": [
    "#Next is if we write on Search bar, we will get the output\n",
    "search_job.send_keys('Sunglasses')"
   ]
  },
  {
   "cell_type": "code",
   "execution_count": 45,
   "id": "16df2048",
   "metadata": {},
   "outputs": [
    {
     "data": {
      "text/plain": [
       "<selenium.webdriver.remote.webelement.WebElement (session=\"728e21dcec77b3577adfa9b8e58a84e0\", element=\"39b7acca-8d8b-4a12-8453-3aeae8058dc7\")>"
      ]
     },
     "execution_count": 45,
     "metadata": {},
     "output_type": "execute_result"
    }
   ],
   "source": [
    "search_btn=driver.find_element_by_xpath('/html/body/div[1]/div/div[1]/div[1]/div[2]/div[2]/form/div/button')\n",
    "search_btn"
   ]
  },
  {
   "cell_type": "code",
   "execution_count": 46,
   "id": "d6264c23",
   "metadata": {},
   "outputs": [],
   "source": [
    "search_btn.click()"
   ]
  },
  {
   "cell_type": "code",
   "execution_count": 47,
   "id": "a0a4dfc6",
   "metadata": {},
   "outputs": [],
   "source": [
    "brand=driver.find_elements_by_xpath('//div[@class=\"_2WkVRV\"]')"
   ]
  },
  {
   "cell_type": "code",
   "execution_count": 48,
   "id": "735657e0",
   "metadata": {},
   "outputs": [
    {
     "data": {
      "text/plain": [
       "40"
      ]
     },
     "execution_count": 48,
     "metadata": {},
     "output_type": "execute_result"
    }
   ],
   "source": [
    "len(brand)"
   ]
  },
  {
   "cell_type": "code",
   "execution_count": 49,
   "id": "9006f543",
   "metadata": {
    "collapsed": true
   },
   "outputs": [
    {
     "data": {
      "text/plain": [
       "['Singco India',\n",
       " 'ROZZETTA CRAFT',\n",
       " 'SRPM',\n",
       " 'Elligator',\n",
       " 'Fastrack',\n",
       " 'SUNBEE',\n",
       " 'SHAAH COLLECTIONS',\n",
       " 'ROZZETTA CRAFT',\n",
       " 'PIRASO',\n",
       " 'New Specs',\n",
       " 'SHAAH COLLECTIONS',\n",
       " 'ROZZETTA CRAFT',\n",
       " 'Fastrack',\n",
       " 'kingsunglasses',\n",
       " 'SUNBEE',\n",
       " 'VINCENT CHASE',\n",
       " 'ROZZETTA CRAFT',\n",
       " 'ROZZETTA CRAFT',\n",
       " 'Johaena',\n",
       " 'ROZZETTA CRAFT',\n",
       " 'PHENOMENAL',\n",
       " 'Elligator',\n",
       " 'Elligator',\n",
       " 'VINCENT CHASE',\n",
       " 'kingsunglasses',\n",
       " 'PIRASO',\n",
       " 'PHENOMENAL',\n",
       " 'VINCENT CHASE',\n",
       " 'Lee Topper',\n",
       " 'Elligator',\n",
       " 'SUNBEE',\n",
       " 'ROYAL SON',\n",
       " 'GANSTA',\n",
       " 'Fastrack',\n",
       " 'PHENOMENAL',\n",
       " 'VINCENT CHASE',\n",
       " 'maxa',\n",
       " 'New Specs',\n",
       " 'Lee Topper',\n",
       " 'ROYAL SON']"
      ]
     },
     "execution_count": 49,
     "metadata": {},
     "output_type": "execute_result"
    }
   ],
   "source": [
    "#Get Brands from first Page\n",
    "brands=[]\n",
    "for i in brand:\n",
    "    brands.append(i.text)\n",
    "brands"
   ]
  },
  {
   "cell_type": "code",
   "execution_count": 50,
   "id": "9b3db511",
   "metadata": {},
   "outputs": [],
   "source": [
    "prdoDesc=driver.find_elements_by_class_name(\"IRpwTa\")"
   ]
  },
  {
   "cell_type": "code",
   "execution_count": 51,
   "id": "87fb9636",
   "metadata": {},
   "outputs": [
    {
     "data": {
      "text/plain": [
       "40"
      ]
     },
     "execution_count": 51,
     "metadata": {},
     "output_type": "execute_result"
    }
   ],
   "source": [
    "len(prdoDesc)"
   ]
  },
  {
   "cell_type": "code",
   "execution_count": 52,
   "id": "3cd6385b",
   "metadata": {
    "collapsed": true
   },
   "outputs": [
    {
     "data": {
      "text/plain": [
       "['Gradient, Toughened Glass Lens, UV Protection Retro Squ...',\n",
       " 'UV Protection, Gradient Rectangular Sunglasses (Free Si...',\n",
       " 'UV Protection Wayfarer Sunglasses (50)',\n",
       " 'UV Protection Round Sunglasses (54)',\n",
       " 'Gradient, UV Protection Wayfarer Sunglasses (Free Size)',\n",
       " 'UV Protection, Polarized, Mirrored Round Sunglasses (Fr...',\n",
       " 'UV Protection, Polarized, Mirrored Rectangular Sunglass...',\n",
       " 'UV Protection, Gradient Retro Square Sunglasses (62)',\n",
       " 'UV Protection Aviator Sunglasses (54)',\n",
       " 'UV Protection Rectangular Sunglasses (Free Size)',\n",
       " 'UV Protection, Polarized, Mirrored Rectangular Sunglass...',\n",
       " 'UV Protection, Riding Glasses Rectangular Sunglasses (F...',\n",
       " 'UV Protection Rectangular Sunglasses (Free Size)',\n",
       " 'UV Protection Round Sunglasses (54)',\n",
       " 'UV Protection, Polarized Wayfarer Sunglasses (Free Size...',\n",
       " 'by Lenskart Polarized, UV Protection Round Sunglasses (...',\n",
       " 'Polarized, Night Vision, Riding Glasses Sports, Wrap-ar...',\n",
       " 'UV Protection, Gradient Rectangular Sunglasses (Free Si...',\n",
       " 'Riding Glasses, UV Protection Oval Sunglasses (48)',\n",
       " 'UV Protection, Gradient Retro Square Sunglasses (Free S...',\n",
       " 'UV Protection Retro Square Sunglasses (Free Size)',\n",
       " 'UV Protection Round Sunglasses (53)',\n",
       " 'UV Protection Round Sunglasses (54)',\n",
       " 'by Lenskart Polarized, UV Protection Round Sunglasses (...',\n",
       " 'UV Protection, Others Round, Aviator Sunglasses (54)',\n",
       " 'UV Protection Aviator Sunglasses (54)',\n",
       " 'UV Protection, Mirrored Retro Square Sunglasses (53)',\n",
       " 'by Lenskart Polarized, UV Protection Wayfarer Sunglasse...',\n",
       " 'UV Protection Rectangular Sunglasses (Free Size)',\n",
       " 'UV Protection Round Sunglasses (50)',\n",
       " 'UV Protection, Polarized, Mirrored Retro Square Sunglas...',\n",
       " 'Polarized, UV Protection Wayfarer Sunglasses (61)',\n",
       " 'UV Protection Aviator Sunglasses (57)',\n",
       " 'Gradient, UV Protection Wayfarer Sunglasses (Free Size)',\n",
       " 'UV Protection Retro Square Sunglasses (53)',\n",
       " 'by Lenskart Polarized, UV Protection Round Sunglasses (...',\n",
       " 'UV Protection, Riding Glasses Rectangular, Wayfarer, Ov...',\n",
       " 'Mirrored, UV Protection, Riding Glasses, Others Round S...',\n",
       " 'Riding Glasses, Night Vision Wrap-around Sunglasses (Fr...',\n",
       " 'UV Protection, Gradient Butterfly Sunglasses (60)']"
      ]
     },
     "execution_count": 52,
     "metadata": {},
     "output_type": "execute_result"
    }
   ],
   "source": [
    "#Get Product Description\n",
    "prdoDescs=[]\n",
    "for i in prdoDesc:\n",
    "    prdoDescs.append(i.text)\n",
    "prdoDescs"
   ]
  },
  {
   "cell_type": "code",
   "execution_count": 53,
   "id": "20c1a1fd",
   "metadata": {},
   "outputs": [],
   "source": [
    "price=driver.find_elements_by_xpath('//div[@class=\"_30jeq3\"]')"
   ]
  },
  {
   "cell_type": "code",
   "execution_count": 54,
   "id": "4e5f6c0f",
   "metadata": {
    "scrolled": true
   },
   "outputs": [
    {
     "data": {
      "text/plain": [
       "40"
      ]
     },
     "execution_count": 54,
     "metadata": {},
     "output_type": "execute_result"
    }
   ],
   "source": [
    "len(price)"
   ]
  },
  {
   "cell_type": "code",
   "execution_count": 55,
   "id": "9df714d4",
   "metadata": {
    "collapsed": true
   },
   "outputs": [
    {
     "data": {
      "text/plain": [
       "['₹664',\n",
       " '₹348',\n",
       " '₹188',\n",
       " '₹248',\n",
       " '₹489',\n",
       " '₹271',\n",
       " '₹165',\n",
       " '₹499',\n",
       " '₹229',\n",
       " '₹234',\n",
       " '₹181',\n",
       " '₹449',\n",
       " '₹639',\n",
       " '₹186',\n",
       " '₹243',\n",
       " '₹1,179',\n",
       " '₹499',\n",
       " '₹399',\n",
       " '₹146',\n",
       " '₹349',\n",
       " '₹309',\n",
       " '₹189',\n",
       " '₹265',\n",
       " '₹1,415',\n",
       " '₹174',\n",
       " '₹250',\n",
       " '₹299',\n",
       " '₹1,533',\n",
       " '₹199',\n",
       " '₹230',\n",
       " '₹235',\n",
       " '₹699',\n",
       " '₹269',\n",
       " '₹626',\n",
       " '₹269',\n",
       " '₹1,179',\n",
       " '₹144',\n",
       " '₹259',\n",
       " '₹276',\n",
       " '₹664']"
      ]
     },
     "execution_count": 55,
     "metadata": {},
     "output_type": "execute_result"
    }
   ],
   "source": [
    "#Get the price of the Product\n",
    "prices=[]\n",
    "for i in price:\n",
    "    prices.append(i.text)\n",
    "prices"
   ]
  },
  {
   "cell_type": "code",
   "execution_count": 56,
   "id": "4b6dfa9d",
   "metadata": {
    "collapsed": true
   },
   "outputs": [
    {
     "data": {
      "text/html": [
       "<div>\n",
       "<style scoped>\n",
       "    .dataframe tbody tr th:only-of-type {\n",
       "        vertical-align: middle;\n",
       "    }\n",
       "\n",
       "    .dataframe tbody tr th {\n",
       "        vertical-align: top;\n",
       "    }\n",
       "\n",
       "    .dataframe thead th {\n",
       "        text-align: right;\n",
       "    }\n",
       "</style>\n",
       "<table border=\"1\" class=\"dataframe\">\n",
       "  <thead>\n",
       "    <tr style=\"text-align: right;\">\n",
       "      <th></th>\n",
       "      <th>Brand</th>\n",
       "      <th>Product Description</th>\n",
       "      <th>Price</th>\n",
       "    </tr>\n",
       "  </thead>\n",
       "  <tbody>\n",
       "    <tr>\n",
       "      <th>0</th>\n",
       "      <td>Singco India</td>\n",
       "      <td>Gradient, Toughened Glass Lens, UV Protection ...</td>\n",
       "      <td>₹664</td>\n",
       "    </tr>\n",
       "    <tr>\n",
       "      <th>1</th>\n",
       "      <td>ROZZETTA CRAFT</td>\n",
       "      <td>UV Protection, Gradient Rectangular Sunglasses...</td>\n",
       "      <td>₹348</td>\n",
       "    </tr>\n",
       "    <tr>\n",
       "      <th>2</th>\n",
       "      <td>SRPM</td>\n",
       "      <td>UV Protection Wayfarer Sunglasses (50)</td>\n",
       "      <td>₹188</td>\n",
       "    </tr>\n",
       "    <tr>\n",
       "      <th>3</th>\n",
       "      <td>Elligator</td>\n",
       "      <td>UV Protection Round Sunglasses (54)</td>\n",
       "      <td>₹248</td>\n",
       "    </tr>\n",
       "    <tr>\n",
       "      <th>4</th>\n",
       "      <td>Fastrack</td>\n",
       "      <td>Gradient, UV Protection Wayfarer Sunglasses (F...</td>\n",
       "      <td>₹489</td>\n",
       "    </tr>\n",
       "    <tr>\n",
       "      <th>5</th>\n",
       "      <td>SUNBEE</td>\n",
       "      <td>UV Protection, Polarized, Mirrored Round Sungl...</td>\n",
       "      <td>₹271</td>\n",
       "    </tr>\n",
       "    <tr>\n",
       "      <th>6</th>\n",
       "      <td>SHAAH COLLECTIONS</td>\n",
       "      <td>UV Protection, Polarized, Mirrored Rectangular...</td>\n",
       "      <td>₹165</td>\n",
       "    </tr>\n",
       "    <tr>\n",
       "      <th>7</th>\n",
       "      <td>ROZZETTA CRAFT</td>\n",
       "      <td>UV Protection, Gradient Retro Square Sunglasse...</td>\n",
       "      <td>₹499</td>\n",
       "    </tr>\n",
       "    <tr>\n",
       "      <th>8</th>\n",
       "      <td>PIRASO</td>\n",
       "      <td>UV Protection Aviator Sunglasses (54)</td>\n",
       "      <td>₹229</td>\n",
       "    </tr>\n",
       "    <tr>\n",
       "      <th>9</th>\n",
       "      <td>New Specs</td>\n",
       "      <td>UV Protection Rectangular Sunglasses (Free Size)</td>\n",
       "      <td>₹234</td>\n",
       "    </tr>\n",
       "    <tr>\n",
       "      <th>10</th>\n",
       "      <td>SHAAH COLLECTIONS</td>\n",
       "      <td>UV Protection, Polarized, Mirrored Rectangular...</td>\n",
       "      <td>₹181</td>\n",
       "    </tr>\n",
       "    <tr>\n",
       "      <th>11</th>\n",
       "      <td>ROZZETTA CRAFT</td>\n",
       "      <td>UV Protection, Riding Glasses Rectangular Sung...</td>\n",
       "      <td>₹449</td>\n",
       "    </tr>\n",
       "    <tr>\n",
       "      <th>12</th>\n",
       "      <td>Fastrack</td>\n",
       "      <td>UV Protection Rectangular Sunglasses (Free Size)</td>\n",
       "      <td>₹639</td>\n",
       "    </tr>\n",
       "    <tr>\n",
       "      <th>13</th>\n",
       "      <td>kingsunglasses</td>\n",
       "      <td>UV Protection Round Sunglasses (54)</td>\n",
       "      <td>₹186</td>\n",
       "    </tr>\n",
       "    <tr>\n",
       "      <th>14</th>\n",
       "      <td>SUNBEE</td>\n",
       "      <td>UV Protection, Polarized Wayfarer Sunglasses (...</td>\n",
       "      <td>₹243</td>\n",
       "    </tr>\n",
       "    <tr>\n",
       "      <th>15</th>\n",
       "      <td>VINCENT CHASE</td>\n",
       "      <td>by Lenskart Polarized, UV Protection Round Sun...</td>\n",
       "      <td>₹1,179</td>\n",
       "    </tr>\n",
       "    <tr>\n",
       "      <th>16</th>\n",
       "      <td>ROZZETTA CRAFT</td>\n",
       "      <td>Polarized, Night Vision, Riding Glasses Sports...</td>\n",
       "      <td>₹499</td>\n",
       "    </tr>\n",
       "    <tr>\n",
       "      <th>17</th>\n",
       "      <td>ROZZETTA CRAFT</td>\n",
       "      <td>UV Protection, Gradient Rectangular Sunglasses...</td>\n",
       "      <td>₹399</td>\n",
       "    </tr>\n",
       "    <tr>\n",
       "      <th>18</th>\n",
       "      <td>Johaena</td>\n",
       "      <td>Riding Glasses, UV Protection Oval Sunglasses ...</td>\n",
       "      <td>₹146</td>\n",
       "    </tr>\n",
       "    <tr>\n",
       "      <th>19</th>\n",
       "      <td>ROZZETTA CRAFT</td>\n",
       "      <td>UV Protection, Gradient Retro Square Sunglasse...</td>\n",
       "      <td>₹349</td>\n",
       "    </tr>\n",
       "    <tr>\n",
       "      <th>20</th>\n",
       "      <td>PHENOMENAL</td>\n",
       "      <td>UV Protection Retro Square Sunglasses (Free Size)</td>\n",
       "      <td>₹309</td>\n",
       "    </tr>\n",
       "    <tr>\n",
       "      <th>21</th>\n",
       "      <td>Elligator</td>\n",
       "      <td>UV Protection Round Sunglasses (53)</td>\n",
       "      <td>₹189</td>\n",
       "    </tr>\n",
       "    <tr>\n",
       "      <th>22</th>\n",
       "      <td>Elligator</td>\n",
       "      <td>UV Protection Round Sunglasses (54)</td>\n",
       "      <td>₹265</td>\n",
       "    </tr>\n",
       "    <tr>\n",
       "      <th>23</th>\n",
       "      <td>VINCENT CHASE</td>\n",
       "      <td>by Lenskart Polarized, UV Protection Round Sun...</td>\n",
       "      <td>₹1,415</td>\n",
       "    </tr>\n",
       "    <tr>\n",
       "      <th>24</th>\n",
       "      <td>kingsunglasses</td>\n",
       "      <td>UV Protection, Others Round, Aviator Sunglasse...</td>\n",
       "      <td>₹174</td>\n",
       "    </tr>\n",
       "    <tr>\n",
       "      <th>25</th>\n",
       "      <td>PIRASO</td>\n",
       "      <td>UV Protection Aviator Sunglasses (54)</td>\n",
       "      <td>₹250</td>\n",
       "    </tr>\n",
       "    <tr>\n",
       "      <th>26</th>\n",
       "      <td>PHENOMENAL</td>\n",
       "      <td>UV Protection, Mirrored Retro Square Sunglasse...</td>\n",
       "      <td>₹299</td>\n",
       "    </tr>\n",
       "    <tr>\n",
       "      <th>27</th>\n",
       "      <td>VINCENT CHASE</td>\n",
       "      <td>by Lenskart Polarized, UV Protection Wayfarer ...</td>\n",
       "      <td>₹1,533</td>\n",
       "    </tr>\n",
       "    <tr>\n",
       "      <th>28</th>\n",
       "      <td>Lee Topper</td>\n",
       "      <td>UV Protection Rectangular Sunglasses (Free Size)</td>\n",
       "      <td>₹199</td>\n",
       "    </tr>\n",
       "    <tr>\n",
       "      <th>29</th>\n",
       "      <td>Elligator</td>\n",
       "      <td>UV Protection Round Sunglasses (50)</td>\n",
       "      <td>₹230</td>\n",
       "    </tr>\n",
       "    <tr>\n",
       "      <th>30</th>\n",
       "      <td>SUNBEE</td>\n",
       "      <td>UV Protection, Polarized, Mirrored Retro Squar...</td>\n",
       "      <td>₹235</td>\n",
       "    </tr>\n",
       "    <tr>\n",
       "      <th>31</th>\n",
       "      <td>ROYAL SON</td>\n",
       "      <td>Polarized, UV Protection Wayfarer Sunglasses (61)</td>\n",
       "      <td>₹699</td>\n",
       "    </tr>\n",
       "    <tr>\n",
       "      <th>32</th>\n",
       "      <td>GANSTA</td>\n",
       "      <td>UV Protection Aviator Sunglasses (57)</td>\n",
       "      <td>₹269</td>\n",
       "    </tr>\n",
       "    <tr>\n",
       "      <th>33</th>\n",
       "      <td>Fastrack</td>\n",
       "      <td>Gradient, UV Protection Wayfarer Sunglasses (F...</td>\n",
       "      <td>₹626</td>\n",
       "    </tr>\n",
       "    <tr>\n",
       "      <th>34</th>\n",
       "      <td>PHENOMENAL</td>\n",
       "      <td>UV Protection Retro Square Sunglasses (53)</td>\n",
       "      <td>₹269</td>\n",
       "    </tr>\n",
       "    <tr>\n",
       "      <th>35</th>\n",
       "      <td>VINCENT CHASE</td>\n",
       "      <td>by Lenskart Polarized, UV Protection Round Sun...</td>\n",
       "      <td>₹1,179</td>\n",
       "    </tr>\n",
       "    <tr>\n",
       "      <th>36</th>\n",
       "      <td>maxa</td>\n",
       "      <td>UV Protection, Riding Glasses Rectangular, Way...</td>\n",
       "      <td>₹144</td>\n",
       "    </tr>\n",
       "    <tr>\n",
       "      <th>37</th>\n",
       "      <td>New Specs</td>\n",
       "      <td>Mirrored, UV Protection, Riding Glasses, Other...</td>\n",
       "      <td>₹259</td>\n",
       "    </tr>\n",
       "    <tr>\n",
       "      <th>38</th>\n",
       "      <td>Lee Topper</td>\n",
       "      <td>Riding Glasses, Night Vision Wrap-around Sungl...</td>\n",
       "      <td>₹276</td>\n",
       "    </tr>\n",
       "    <tr>\n",
       "      <th>39</th>\n",
       "      <td>ROYAL SON</td>\n",
       "      <td>UV Protection, Gradient Butterfly Sunglasses (60)</td>\n",
       "      <td>₹664</td>\n",
       "    </tr>\n",
       "  </tbody>\n",
       "</table>\n",
       "</div>"
      ],
      "text/plain": [
       "                Brand                                Product Description  \\\n",
       "0        Singco India  Gradient, Toughened Glass Lens, UV Protection ...   \n",
       "1      ROZZETTA CRAFT  UV Protection, Gradient Rectangular Sunglasses...   \n",
       "2                SRPM             UV Protection Wayfarer Sunglasses (50)   \n",
       "3           Elligator                UV Protection Round Sunglasses (54)   \n",
       "4            Fastrack  Gradient, UV Protection Wayfarer Sunglasses (F...   \n",
       "5              SUNBEE  UV Protection, Polarized, Mirrored Round Sungl...   \n",
       "6   SHAAH COLLECTIONS  UV Protection, Polarized, Mirrored Rectangular...   \n",
       "7      ROZZETTA CRAFT  UV Protection, Gradient Retro Square Sunglasse...   \n",
       "8              PIRASO              UV Protection Aviator Sunglasses (54)   \n",
       "9           New Specs   UV Protection Rectangular Sunglasses (Free Size)   \n",
       "10  SHAAH COLLECTIONS  UV Protection, Polarized, Mirrored Rectangular...   \n",
       "11     ROZZETTA CRAFT  UV Protection, Riding Glasses Rectangular Sung...   \n",
       "12           Fastrack   UV Protection Rectangular Sunglasses (Free Size)   \n",
       "13     kingsunglasses                UV Protection Round Sunglasses (54)   \n",
       "14             SUNBEE  UV Protection, Polarized Wayfarer Sunglasses (...   \n",
       "15      VINCENT CHASE  by Lenskart Polarized, UV Protection Round Sun...   \n",
       "16     ROZZETTA CRAFT  Polarized, Night Vision, Riding Glasses Sports...   \n",
       "17     ROZZETTA CRAFT  UV Protection, Gradient Rectangular Sunglasses...   \n",
       "18            Johaena  Riding Glasses, UV Protection Oval Sunglasses ...   \n",
       "19     ROZZETTA CRAFT  UV Protection, Gradient Retro Square Sunglasse...   \n",
       "20         PHENOMENAL  UV Protection Retro Square Sunglasses (Free Size)   \n",
       "21          Elligator                UV Protection Round Sunglasses (53)   \n",
       "22          Elligator                UV Protection Round Sunglasses (54)   \n",
       "23      VINCENT CHASE  by Lenskart Polarized, UV Protection Round Sun...   \n",
       "24     kingsunglasses  UV Protection, Others Round, Aviator Sunglasse...   \n",
       "25             PIRASO              UV Protection Aviator Sunglasses (54)   \n",
       "26         PHENOMENAL  UV Protection, Mirrored Retro Square Sunglasse...   \n",
       "27      VINCENT CHASE  by Lenskart Polarized, UV Protection Wayfarer ...   \n",
       "28         Lee Topper   UV Protection Rectangular Sunglasses (Free Size)   \n",
       "29          Elligator                UV Protection Round Sunglasses (50)   \n",
       "30             SUNBEE  UV Protection, Polarized, Mirrored Retro Squar...   \n",
       "31          ROYAL SON  Polarized, UV Protection Wayfarer Sunglasses (61)   \n",
       "32             GANSTA              UV Protection Aviator Sunglasses (57)   \n",
       "33           Fastrack  Gradient, UV Protection Wayfarer Sunglasses (F...   \n",
       "34         PHENOMENAL         UV Protection Retro Square Sunglasses (53)   \n",
       "35      VINCENT CHASE  by Lenskart Polarized, UV Protection Round Sun...   \n",
       "36               maxa  UV Protection, Riding Glasses Rectangular, Way...   \n",
       "37          New Specs  Mirrored, UV Protection, Riding Glasses, Other...   \n",
       "38         Lee Topper  Riding Glasses, Night Vision Wrap-around Sungl...   \n",
       "39          ROYAL SON  UV Protection, Gradient Butterfly Sunglasses (60)   \n",
       "\n",
       "     Price  \n",
       "0     ₹664  \n",
       "1     ₹348  \n",
       "2     ₹188  \n",
       "3     ₹248  \n",
       "4     ₹489  \n",
       "5     ₹271  \n",
       "6     ₹165  \n",
       "7     ₹499  \n",
       "8     ₹229  \n",
       "9     ₹234  \n",
       "10    ₹181  \n",
       "11    ₹449  \n",
       "12    ₹639  \n",
       "13    ₹186  \n",
       "14    ₹243  \n",
       "15  ₹1,179  \n",
       "16    ₹499  \n",
       "17    ₹399  \n",
       "18    ₹146  \n",
       "19    ₹349  \n",
       "20    ₹309  \n",
       "21    ₹189  \n",
       "22    ₹265  \n",
       "23  ₹1,415  \n",
       "24    ₹174  \n",
       "25    ₹250  \n",
       "26    ₹299  \n",
       "27  ₹1,533  \n",
       "28    ₹199  \n",
       "29    ₹230  \n",
       "30    ₹235  \n",
       "31    ₹699  \n",
       "32    ₹269  \n",
       "33    ₹626  \n",
       "34    ₹269  \n",
       "35  ₹1,179  \n",
       "36    ₹144  \n",
       "37    ₹259  \n",
       "38    ₹276  \n",
       "39    ₹664  "
      ]
     },
     "execution_count": 56,
     "metadata": {},
     "output_type": "execute_result"
    }
   ],
   "source": [
    "df_1 = pd.DataFrame({'Brand':brands,'Product Description':prdoDescs,'Price':prices})\n",
    "df_1.head(40)"
   ]
  },
  {
   "cell_type": "code",
   "execution_count": 57,
   "id": "8a009d72",
   "metadata": {},
   "outputs": [
    {
     "data": {
      "text/plain": [
       "<selenium.webdriver.remote.webelement.WebElement (session=\"728e21dcec77b3577adfa9b8e58a84e0\", element=\"38ae7603-e571-42a1-a9e9-d88af221f3c1\")>"
      ]
     },
     "execution_count": 57,
     "metadata": {},
     "output_type": "execute_result"
    }
   ],
   "source": [
    "#Lets navigate to Next Page.\n",
    "next_page_btn=driver.find_elements_by_xpath('/html/body/div/div/div[3]/div[1]/div[2]/div[12]/div/div/nav/a[2]')[0]\n",
    "next_page_btn"
   ]
  },
  {
   "cell_type": "code",
   "execution_count": 58,
   "id": "8d5b4858",
   "metadata": {},
   "outputs": [],
   "source": [
    "next_page_btn.click()"
   ]
  },
  {
   "cell_type": "code",
   "execution_count": 59,
   "id": "cf6b3329",
   "metadata": {
    "collapsed": true
   },
   "outputs": [
    {
     "data": {
      "text/plain": [
       "['kingsunglasses',\n",
       " 'PHENOMENAL',\n",
       " 'Fastrack',\n",
       " 'VILLAIN',\n",
       " 'PHENOMENAL',\n",
       " 'Rich Club',\n",
       " 'SRPM',\n",
       " 'VINCENT CHASE',\n",
       " 'PIRASO',\n",
       " 'Fastrack',\n",
       " 'kingsunglasses',\n",
       " 'AISLIN',\n",
       " 'Fastrack',\n",
       " 'kingsunglasses',\n",
       " 'Singco India',\n",
       " 'VINCENT CHASE',\n",
       " 'New Specs',\n",
       " 'Elligator',\n",
       " 'ROYAL SON',\n",
       " 'ROYAL SON',\n",
       " 'hipe',\n",
       " 'PIRASO',\n",
       " 'Fastrack',\n",
       " 'ROYAL SON',\n",
       " 'Johaena',\n",
       " 'ROYAL SON',\n",
       " 'DEIXELS',\n",
       " 'ROYAL SON',\n",
       " 'PIRASO',\n",
       " 'ROYAL SON',\n",
       " 'SRPM',\n",
       " 'VINCENT CHASE',\n",
       " 'Elligator',\n",
       " 'kingsunglasses',\n",
       " 'ROZZETTA CRAFT',\n",
       " 'VINCENT CHASE',\n",
       " 'Fastrack',\n",
       " 'kingsunglasses',\n",
       " 'New Specs',\n",
       " 'AISLIN']"
      ]
     },
     "execution_count": 59,
     "metadata": {},
     "output_type": "execute_result"
    }
   ],
   "source": [
    "#Select the brand from second Page\n",
    "brand_2=driver.find_elements_by_xpath('//div[@class=\"_2WkVRV\"]')\n",
    "brands_2=[]\n",
    "for i in brand_2:\n",
    "    brands_2.append(i.text)\n",
    "brands_2\n",
    "    "
   ]
  },
  {
   "cell_type": "code",
   "execution_count": 60,
   "id": "72f285ef",
   "metadata": {
    "collapsed": true
   },
   "outputs": [
    {
     "data": {
      "text/plain": [
       "['UV Protection Round Sunglasses (Free Size)',\n",
       " 'UV Protection Clubmaster Sunglasses (Free Size)',\n",
       " 'UV Protection Wayfarer Sunglasses (Free Size)',\n",
       " 'Others Wayfarer Sunglasses (Free Size)',\n",
       " 'UV Protection, Mirrored Retro Square Sunglasses (53)',\n",
       " 'UV Protection Round Sunglasses (48)',\n",
       " 'UV Protection Wayfarer Sunglasses (53)',\n",
       " 'by Lenskart Polarized, UV Protection Wayfarer Sunglasse...',\n",
       " 'UV Protection Aviator Sunglasses (58)',\n",
       " 'UV Protection Aviator Sunglasses (Free Size)',\n",
       " 'UV Protection, Riding Glasses, Mirrored Wayfarer Sungla...',\n",
       " 'UV Protection, Gradient Cat-eye Sunglasses (58)',\n",
       " 'UV Protection Shield Sunglasses (Free Size)',\n",
       " 'UV Protection, Night Vision Wayfarer Sunglasses (Free S...',\n",
       " 'UV Protection, Riding Glasses, Others Aviator, Wayfarer...',\n",
       " 'by Lenskart Polarized, UV Protection Wayfarer Sunglasse...',\n",
       " 'UV Protection Round Sunglasses (Free Size)',\n",
       " 'UV Protection Retro Square, Round Sunglasses (54)',\n",
       " 'UV Protection Rectangular Sunglasses (58)',\n",
       " 'UV Protection, Gradient Butterfly Sunglasses (52)',\n",
       " 'Mirrored, UV Protection, Gradient Round Sunglasses (55)',\n",
       " 'UV Protection Butterfly Sunglasses (65)',\n",
       " 'UV Protection Shield Sunglasses (Free Size)',\n",
       " 'UV Protection Retro Square Sunglasses (49)',\n",
       " 'Riding Glasses, UV Protection Oval Sunglasses (52)',\n",
       " 'UV Protection Retro Square Sunglasses (58)',\n",
       " 'UV Protection Aviator, Wayfarer Sunglasses (Free Size)',\n",
       " 'UV Protection, Gradient Over-sized Sunglasses (56)',\n",
       " 'UV Protection Aviator Sunglasses (Free Size)',\n",
       " 'Mirrored Aviator Sunglasses (55)',\n",
       " 'Night Vision, UV Protection Round Sunglasses (54)',\n",
       " 'by Lenskart UV Protection Wayfarer Sunglasses (49)',\n",
       " 'UV Protection, Gradient Aviator Sunglasses (50)',\n",
       " 'Mirrored, UV Protection Wayfarer Sunglasses (Free Size)',\n",
       " 'UV Protection, Gradient Round Sunglasses (Free Size)',\n",
       " 'by Lenskart Polarized, UV Protection Round Sunglasses (...',\n",
       " 'UV Protection Wayfarer Sunglasses (Free Size)',\n",
       " 'Mirrored, UV Protection Aviator Sunglasses (56)',\n",
       " 'UV Protection Rectangular Sunglasses (Free Size)',\n",
       " 'Toughened Glass Lens, UV Protection Rectangular, Wayfar...']"
      ]
     },
     "execution_count": 60,
     "metadata": {},
     "output_type": "execute_result"
    }
   ],
   "source": [
    "#Select Product Description from next page\n",
    "prdoDesc_2=driver.find_elements_by_class_name(\"IRpwTa\")\n",
    "prdoDescs_2=[]\n",
    "for j in prdoDesc_2:\n",
    "    prdoDescs_2.append(j.text)\n",
    "prdoDescs_2\n"
   ]
  },
  {
   "cell_type": "code",
   "execution_count": 61,
   "id": "ea4f3a9a",
   "metadata": {
    "collapsed": true
   },
   "outputs": [
    {
     "data": {
      "text/plain": [
       "['₹276',\n",
       " '₹289',\n",
       " '₹689',\n",
       " '₹1,099',\n",
       " '₹299',\n",
       " '₹220',\n",
       " '₹207',\n",
       " '₹1,179',\n",
       " '₹299',\n",
       " '₹639',\n",
       " '₹180',\n",
       " '₹459',\n",
       " '₹459',\n",
       " '₹249',\n",
       " '₹203',\n",
       " '₹1,415',\n",
       " '₹232',\n",
       " '₹291',\n",
       " '₹449',\n",
       " '₹664',\n",
       " '₹189',\n",
       " '₹349',\n",
       " '₹719',\n",
       " '₹664',\n",
       " '₹156',\n",
       " '₹449',\n",
       " '₹229',\n",
       " '₹664',\n",
       " '₹299',\n",
       " '₹359',\n",
       " '₹199',\n",
       " '₹1,179',\n",
       " '₹263',\n",
       " '₹229',\n",
       " '₹360',\n",
       " '₹1,415',\n",
       " '₹639',\n",
       " '₹209',\n",
       " '₹178',\n",
       " '₹801']"
      ]
     },
     "execution_count": 61,
     "metadata": {},
     "output_type": "execute_result"
    }
   ],
   "source": [
    "#Select Price from Next Page\n",
    "price_2=driver.find_elements_by_xpath('//div[@class=\"_30jeq3\"]')\n",
    "prices_2=[]\n",
    "for k in price_2:\n",
    "    prices_2.append(k.text)\n",
    "prices_2"
   ]
  },
  {
   "cell_type": "code",
   "execution_count": 62,
   "id": "9277520c",
   "metadata": {
    "collapsed": true
   },
   "outputs": [
    {
     "data": {
      "text/html": [
       "<div>\n",
       "<style scoped>\n",
       "    .dataframe tbody tr th:only-of-type {\n",
       "        vertical-align: middle;\n",
       "    }\n",
       "\n",
       "    .dataframe tbody tr th {\n",
       "        vertical-align: top;\n",
       "    }\n",
       "\n",
       "    .dataframe thead th {\n",
       "        text-align: right;\n",
       "    }\n",
       "</style>\n",
       "<table border=\"1\" class=\"dataframe\">\n",
       "  <thead>\n",
       "    <tr style=\"text-align: right;\">\n",
       "      <th></th>\n",
       "      <th>Brand</th>\n",
       "      <th>Product Description</th>\n",
       "      <th>Price</th>\n",
       "    </tr>\n",
       "  </thead>\n",
       "  <tbody>\n",
       "    <tr>\n",
       "      <th>0</th>\n",
       "      <td>kingsunglasses</td>\n",
       "      <td>UV Protection Round Sunglasses (Free Size)</td>\n",
       "      <td>₹276</td>\n",
       "    </tr>\n",
       "    <tr>\n",
       "      <th>1</th>\n",
       "      <td>PHENOMENAL</td>\n",
       "      <td>UV Protection Clubmaster Sunglasses (Free Size)</td>\n",
       "      <td>₹289</td>\n",
       "    </tr>\n",
       "    <tr>\n",
       "      <th>2</th>\n",
       "      <td>Fastrack</td>\n",
       "      <td>UV Protection Wayfarer Sunglasses (Free Size)</td>\n",
       "      <td>₹689</td>\n",
       "    </tr>\n",
       "    <tr>\n",
       "      <th>3</th>\n",
       "      <td>VILLAIN</td>\n",
       "      <td>Others Wayfarer Sunglasses (Free Size)</td>\n",
       "      <td>₹1,099</td>\n",
       "    </tr>\n",
       "    <tr>\n",
       "      <th>4</th>\n",
       "      <td>PHENOMENAL</td>\n",
       "      <td>UV Protection, Mirrored Retro Square Sunglasse...</td>\n",
       "      <td>₹299</td>\n",
       "    </tr>\n",
       "    <tr>\n",
       "      <th>5</th>\n",
       "      <td>Rich Club</td>\n",
       "      <td>UV Protection Round Sunglasses (48)</td>\n",
       "      <td>₹220</td>\n",
       "    </tr>\n",
       "    <tr>\n",
       "      <th>6</th>\n",
       "      <td>SRPM</td>\n",
       "      <td>UV Protection Wayfarer Sunglasses (53)</td>\n",
       "      <td>₹207</td>\n",
       "    </tr>\n",
       "    <tr>\n",
       "      <th>7</th>\n",
       "      <td>VINCENT CHASE</td>\n",
       "      <td>by Lenskart Polarized, UV Protection Wayfarer ...</td>\n",
       "      <td>₹1,179</td>\n",
       "    </tr>\n",
       "    <tr>\n",
       "      <th>8</th>\n",
       "      <td>PIRASO</td>\n",
       "      <td>UV Protection Aviator Sunglasses (58)</td>\n",
       "      <td>₹299</td>\n",
       "    </tr>\n",
       "    <tr>\n",
       "      <th>9</th>\n",
       "      <td>Fastrack</td>\n",
       "      <td>UV Protection Aviator Sunglasses (Free Size)</td>\n",
       "      <td>₹639</td>\n",
       "    </tr>\n",
       "    <tr>\n",
       "      <th>10</th>\n",
       "      <td>kingsunglasses</td>\n",
       "      <td>UV Protection, Riding Glasses, Mirrored Wayfar...</td>\n",
       "      <td>₹180</td>\n",
       "    </tr>\n",
       "    <tr>\n",
       "      <th>11</th>\n",
       "      <td>AISLIN</td>\n",
       "      <td>UV Protection, Gradient Cat-eye Sunglasses (58)</td>\n",
       "      <td>₹459</td>\n",
       "    </tr>\n",
       "    <tr>\n",
       "      <th>12</th>\n",
       "      <td>Fastrack</td>\n",
       "      <td>UV Protection Shield Sunglasses (Free Size)</td>\n",
       "      <td>₹459</td>\n",
       "    </tr>\n",
       "    <tr>\n",
       "      <th>13</th>\n",
       "      <td>kingsunglasses</td>\n",
       "      <td>UV Protection, Night Vision Wayfarer Sunglasse...</td>\n",
       "      <td>₹249</td>\n",
       "    </tr>\n",
       "    <tr>\n",
       "      <th>14</th>\n",
       "      <td>Singco India</td>\n",
       "      <td>UV Protection, Riding Glasses, Others Aviator,...</td>\n",
       "      <td>₹203</td>\n",
       "    </tr>\n",
       "    <tr>\n",
       "      <th>15</th>\n",
       "      <td>VINCENT CHASE</td>\n",
       "      <td>by Lenskart Polarized, UV Protection Wayfarer ...</td>\n",
       "      <td>₹1,415</td>\n",
       "    </tr>\n",
       "    <tr>\n",
       "      <th>16</th>\n",
       "      <td>New Specs</td>\n",
       "      <td>UV Protection Round Sunglasses (Free Size)</td>\n",
       "      <td>₹232</td>\n",
       "    </tr>\n",
       "    <tr>\n",
       "      <th>17</th>\n",
       "      <td>Elligator</td>\n",
       "      <td>UV Protection Retro Square, Round Sunglasses (54)</td>\n",
       "      <td>₹291</td>\n",
       "    </tr>\n",
       "    <tr>\n",
       "      <th>18</th>\n",
       "      <td>ROYAL SON</td>\n",
       "      <td>UV Protection Rectangular Sunglasses (58)</td>\n",
       "      <td>₹449</td>\n",
       "    </tr>\n",
       "    <tr>\n",
       "      <th>19</th>\n",
       "      <td>ROYAL SON</td>\n",
       "      <td>UV Protection, Gradient Butterfly Sunglasses (52)</td>\n",
       "      <td>₹664</td>\n",
       "    </tr>\n",
       "    <tr>\n",
       "      <th>20</th>\n",
       "      <td>hipe</td>\n",
       "      <td>Mirrored, UV Protection, Gradient Round Sungla...</td>\n",
       "      <td>₹189</td>\n",
       "    </tr>\n",
       "    <tr>\n",
       "      <th>21</th>\n",
       "      <td>PIRASO</td>\n",
       "      <td>UV Protection Butterfly Sunglasses (65)</td>\n",
       "      <td>₹349</td>\n",
       "    </tr>\n",
       "    <tr>\n",
       "      <th>22</th>\n",
       "      <td>Fastrack</td>\n",
       "      <td>UV Protection Shield Sunglasses (Free Size)</td>\n",
       "      <td>₹719</td>\n",
       "    </tr>\n",
       "    <tr>\n",
       "      <th>23</th>\n",
       "      <td>ROYAL SON</td>\n",
       "      <td>UV Protection Retro Square Sunglasses (49)</td>\n",
       "      <td>₹664</td>\n",
       "    </tr>\n",
       "    <tr>\n",
       "      <th>24</th>\n",
       "      <td>Johaena</td>\n",
       "      <td>Riding Glasses, UV Protection Oval Sunglasses ...</td>\n",
       "      <td>₹156</td>\n",
       "    </tr>\n",
       "    <tr>\n",
       "      <th>25</th>\n",
       "      <td>ROYAL SON</td>\n",
       "      <td>UV Protection Retro Square Sunglasses (58)</td>\n",
       "      <td>₹449</td>\n",
       "    </tr>\n",
       "    <tr>\n",
       "      <th>26</th>\n",
       "      <td>DEIXELS</td>\n",
       "      <td>UV Protection Aviator, Wayfarer Sunglasses (Fr...</td>\n",
       "      <td>₹229</td>\n",
       "    </tr>\n",
       "    <tr>\n",
       "      <th>27</th>\n",
       "      <td>ROYAL SON</td>\n",
       "      <td>UV Protection, Gradient Over-sized Sunglasses ...</td>\n",
       "      <td>₹664</td>\n",
       "    </tr>\n",
       "    <tr>\n",
       "      <th>28</th>\n",
       "      <td>PIRASO</td>\n",
       "      <td>UV Protection Aviator Sunglasses (Free Size)</td>\n",
       "      <td>₹299</td>\n",
       "    </tr>\n",
       "    <tr>\n",
       "      <th>29</th>\n",
       "      <td>ROYAL SON</td>\n",
       "      <td>Mirrored Aviator Sunglasses (55)</td>\n",
       "      <td>₹359</td>\n",
       "    </tr>\n",
       "    <tr>\n",
       "      <th>30</th>\n",
       "      <td>SRPM</td>\n",
       "      <td>Night Vision, UV Protection Round Sunglasses (54)</td>\n",
       "      <td>₹199</td>\n",
       "    </tr>\n",
       "    <tr>\n",
       "      <th>31</th>\n",
       "      <td>VINCENT CHASE</td>\n",
       "      <td>by Lenskart UV Protection Wayfarer Sunglasses ...</td>\n",
       "      <td>₹1,179</td>\n",
       "    </tr>\n",
       "    <tr>\n",
       "      <th>32</th>\n",
       "      <td>Elligator</td>\n",
       "      <td>UV Protection, Gradient Aviator Sunglasses (50)</td>\n",
       "      <td>₹263</td>\n",
       "    </tr>\n",
       "    <tr>\n",
       "      <th>33</th>\n",
       "      <td>kingsunglasses</td>\n",
       "      <td>Mirrored, UV Protection Wayfarer Sunglasses (F...</td>\n",
       "      <td>₹229</td>\n",
       "    </tr>\n",
       "    <tr>\n",
       "      <th>34</th>\n",
       "      <td>ROZZETTA CRAFT</td>\n",
       "      <td>UV Protection, Gradient Round Sunglasses (Free...</td>\n",
       "      <td>₹360</td>\n",
       "    </tr>\n",
       "    <tr>\n",
       "      <th>35</th>\n",
       "      <td>VINCENT CHASE</td>\n",
       "      <td>by Lenskart Polarized, UV Protection Round Sun...</td>\n",
       "      <td>₹1,415</td>\n",
       "    </tr>\n",
       "    <tr>\n",
       "      <th>36</th>\n",
       "      <td>Fastrack</td>\n",
       "      <td>UV Protection Wayfarer Sunglasses (Free Size)</td>\n",
       "      <td>₹639</td>\n",
       "    </tr>\n",
       "    <tr>\n",
       "      <th>37</th>\n",
       "      <td>kingsunglasses</td>\n",
       "      <td>Mirrored, UV Protection Aviator Sunglasses (56)</td>\n",
       "      <td>₹209</td>\n",
       "    </tr>\n",
       "    <tr>\n",
       "      <th>38</th>\n",
       "      <td>New Specs</td>\n",
       "      <td>UV Protection Rectangular Sunglasses (Free Size)</td>\n",
       "      <td>₹178</td>\n",
       "    </tr>\n",
       "    <tr>\n",
       "      <th>39</th>\n",
       "      <td>AISLIN</td>\n",
       "      <td>Toughened Glass Lens, UV Protection Rectangula...</td>\n",
       "      <td>₹801</td>\n",
       "    </tr>\n",
       "  </tbody>\n",
       "</table>\n",
       "</div>"
      ],
      "text/plain": [
       "             Brand                                Product Description   Price\n",
       "0   kingsunglasses         UV Protection Round Sunglasses (Free Size)    ₹276\n",
       "1       PHENOMENAL    UV Protection Clubmaster Sunglasses (Free Size)    ₹289\n",
       "2         Fastrack      UV Protection Wayfarer Sunglasses (Free Size)    ₹689\n",
       "3          VILLAIN             Others Wayfarer Sunglasses (Free Size)  ₹1,099\n",
       "4       PHENOMENAL  UV Protection, Mirrored Retro Square Sunglasse...    ₹299\n",
       "5        Rich Club                UV Protection Round Sunglasses (48)    ₹220\n",
       "6             SRPM             UV Protection Wayfarer Sunglasses (53)    ₹207\n",
       "7    VINCENT CHASE  by Lenskart Polarized, UV Protection Wayfarer ...  ₹1,179\n",
       "8           PIRASO              UV Protection Aviator Sunglasses (58)    ₹299\n",
       "9         Fastrack       UV Protection Aviator Sunglasses (Free Size)    ₹639\n",
       "10  kingsunglasses  UV Protection, Riding Glasses, Mirrored Wayfar...    ₹180\n",
       "11          AISLIN    UV Protection, Gradient Cat-eye Sunglasses (58)    ₹459\n",
       "12        Fastrack        UV Protection Shield Sunglasses (Free Size)    ₹459\n",
       "13  kingsunglasses  UV Protection, Night Vision Wayfarer Sunglasse...    ₹249\n",
       "14    Singco India  UV Protection, Riding Glasses, Others Aviator,...    ₹203\n",
       "15   VINCENT CHASE  by Lenskart Polarized, UV Protection Wayfarer ...  ₹1,415\n",
       "16       New Specs         UV Protection Round Sunglasses (Free Size)    ₹232\n",
       "17       Elligator  UV Protection Retro Square, Round Sunglasses (54)    ₹291\n",
       "18       ROYAL SON          UV Protection Rectangular Sunglasses (58)    ₹449\n",
       "19       ROYAL SON  UV Protection, Gradient Butterfly Sunglasses (52)    ₹664\n",
       "20            hipe  Mirrored, UV Protection, Gradient Round Sungla...    ₹189\n",
       "21          PIRASO            UV Protection Butterfly Sunglasses (65)    ₹349\n",
       "22        Fastrack        UV Protection Shield Sunglasses (Free Size)    ₹719\n",
       "23       ROYAL SON         UV Protection Retro Square Sunglasses (49)    ₹664\n",
       "24         Johaena  Riding Glasses, UV Protection Oval Sunglasses ...    ₹156\n",
       "25       ROYAL SON         UV Protection Retro Square Sunglasses (58)    ₹449\n",
       "26         DEIXELS  UV Protection Aviator, Wayfarer Sunglasses (Fr...    ₹229\n",
       "27       ROYAL SON  UV Protection, Gradient Over-sized Sunglasses ...    ₹664\n",
       "28          PIRASO       UV Protection Aviator Sunglasses (Free Size)    ₹299\n",
       "29       ROYAL SON                   Mirrored Aviator Sunglasses (55)    ₹359\n",
       "30            SRPM  Night Vision, UV Protection Round Sunglasses (54)    ₹199\n",
       "31   VINCENT CHASE  by Lenskart UV Protection Wayfarer Sunglasses ...  ₹1,179\n",
       "32       Elligator    UV Protection, Gradient Aviator Sunglasses (50)    ₹263\n",
       "33  kingsunglasses  Mirrored, UV Protection Wayfarer Sunglasses (F...    ₹229\n",
       "34  ROZZETTA CRAFT  UV Protection, Gradient Round Sunglasses (Free...    ₹360\n",
       "35   VINCENT CHASE  by Lenskart Polarized, UV Protection Round Sun...  ₹1,415\n",
       "36        Fastrack      UV Protection Wayfarer Sunglasses (Free Size)    ₹639\n",
       "37  kingsunglasses    Mirrored, UV Protection Aviator Sunglasses (56)    ₹209\n",
       "38       New Specs   UV Protection Rectangular Sunglasses (Free Size)    ₹178\n",
       "39          AISLIN  Toughened Glass Lens, UV Protection Rectangula...    ₹801"
      ]
     },
     "execution_count": 62,
     "metadata": {},
     "output_type": "execute_result"
    }
   ],
   "source": [
    "df_2 = pd.DataFrame({'Brand':brands_2,'Product Description':prdoDescs_2,'Price':prices_2})\n",
    "df_2.head(40)"
   ]
  },
  {
   "cell_type": "code",
   "execution_count": 63,
   "id": "d09f89cf",
   "metadata": {},
   "outputs": [
    {
     "data": {
      "text/plain": [
       "<selenium.webdriver.remote.webelement.WebElement (session=\"728e21dcec77b3577adfa9b8e58a84e0\", element=\"9d022426-7bb5-4483-b54e-869a48a2d639\")>"
      ]
     },
     "execution_count": 63,
     "metadata": {},
     "output_type": "execute_result"
    }
   ],
   "source": [
    "next_page_btn_3=driver.find_elements_by_xpath('/html/body/div/div/div[3]/div[1]/div[2]/div[12]/div/div/nav/a[4]')[0]\n",
    "next_page_btn_3"
   ]
  },
  {
   "cell_type": "code",
   "execution_count": 64,
   "id": "4a7ffc58",
   "metadata": {},
   "outputs": [],
   "source": [
    "next_page_btn_3.click()"
   ]
  },
  {
   "cell_type": "code",
   "execution_count": 65,
   "id": "da2cc549",
   "metadata": {
    "collapsed": true
   },
   "outputs": [
    {
     "data": {
      "text/plain": [
       "['ROZZETTA CRAFT',\n",
       " 'ROYAL SON',\n",
       " 'NuVew',\n",
       " 'ROZZETTA CRAFT',\n",
       " 'kingsunglasses',\n",
       " 'Fastrack',\n",
       " 'PHENOMENAL',\n",
       " 'ROYAL SON',\n",
       " 'New Specs',\n",
       " 'Mi',\n",
       " 'Silver Kartz',\n",
       " 'ROYAL SON',\n",
       " 'ROZZETTA CRAFT',\n",
       " 'Badfella',\n",
       " 'ROYAL SON',\n",
       " 'ROYAL SON',\n",
       " 'Silver Kartz',\n",
       " 'HIPPON',\n",
       " 'GANSTA',\n",
       " 'ROYAL SON',\n",
       " 'DEIXELS',\n",
       " 'kingsunglasses',\n",
       " 'NuVew',\n",
       " 'ROYAL SON',\n",
       " 'AISLIN',\n",
       " 'GANSTA',\n",
       " 'IDEE',\n",
       " 'ROYAL SON',\n",
       " 'IDEE',\n",
       " 'kingsunglasses',\n",
       " 'SHAAH COLLECTIONS',\n",
       " 'ROYAL SON',\n",
       " 'kingsunglasses',\n",
       " 'GANSTA',\n",
       " 'Fastrack',\n",
       " 'NuVew',\n",
       " 'ROZZETTA CRAFT',\n",
       " 'Rich Club',\n",
       " 'Lee Topper',\n",
       " 'Singco India']"
      ]
     },
     "execution_count": 65,
     "metadata": {},
     "output_type": "execute_result"
    }
   ],
   "source": [
    "brand_3=driver.find_elements_by_xpath('//div[@class=\"_2WkVRV\"]')\n",
    "brands_3=[]\n",
    "for i in brand_3:\n",
    "    brands_3.append(i.text)\n",
    "brands_3"
   ]
  },
  {
   "cell_type": "code",
   "execution_count": 66,
   "id": "b207f01c",
   "metadata": {
    "collapsed": true
   },
   "outputs": [
    {
     "data": {
      "text/plain": [
       "['UV Protection Aviator Sunglasses (62)',\n",
       " 'UV Protection, Gradient Butterfly Sunglasses (57)',\n",
       " 'UV Protection, Mirrored Sports Sunglasses (62)',\n",
       " 'UV Protection, Gradient Rectangular Sunglasses (Free Si...',\n",
       " 'UV Protection Rectangular Sunglasses (55)',\n",
       " 'Polarized Retro Square Sunglasses (Free Size)',\n",
       " 'UV Protection, Mirrored Clubmaster Sunglasses (Free Siz...',\n",
       " 'UV Protection, Gradient Over-sized Sunglasses (59)',\n",
       " 'UV Protection Rectangular Sunglasses (Free Size)',\n",
       " 'Polarized Aviator Sunglasses (Free Size)',\n",
       " 'UV Protection Aviator Sunglasses (88)',\n",
       " 'Polarized, UV Protection Wrap-around Sunglasses (60)',\n",
       " 'UV Protection, Gradient Rectangular Sunglasses (Free Si...',\n",
       " 'Polarized, UV Protection Retro Square Sunglasses (53)',\n",
       " 'Mirrored Aviator Sunglasses (Free Size)',\n",
       " 'UV Protection, Polarized Aviator Sunglasses (60)',\n",
       " 'UV Protection Oval Sunglasses (56)',\n",
       " 'UV Protection Round Sunglasses (55)',\n",
       " 'UV Protection, Riding Glasses Wayfarer Sunglasses (53)',\n",
       " 'UV Protection, Polarized Wrap-around Sunglasses (52)',\n",
       " 'UV Protection Wayfarer Sunglasses (Free Size)',\n",
       " 'Mirrored, UV Protection Wayfarer Sunglasses (53)',\n",
       " 'UV Protection Sports Sunglasses (62)',\n",
       " 'Polarized, UV Protection Aviator Sunglasses (58)',\n",
       " 'UV Protection, Gradient Cat-eye Sunglasses (58)',\n",
       " 'Night Vision, Riding Glasses Wayfarer Sunglasses (53)',\n",
       " 'Mirrored, UV Protection Wayfarer Sunglasses (18)',\n",
       " 'UV Protection, Gradient Over-sized Sunglasses (56)',\n",
       " 'UV Protection Over-sized Sunglasses (57)',\n",
       " 'UV Protection Round Sunglasses (Free Size)',\n",
       " 'UV Protection Round Sunglasses (Free Size)',\n",
       " 'UV Protection, Gradient Over-sized Sunglasses (59)',\n",
       " 'UV Protection, Mirrored Round Sunglasses (54)',\n",
       " 'UV Protection Aviator Sunglasses (57)',\n",
       " 'UV Protection Wayfarer Sunglasses (Free Size)',\n",
       " 'UV Protection Aviator Sunglasses (57)',\n",
       " 'UV Protection, Riding Glasses Rectangular Sunglasses (F...',\n",
       " 'Polarized Round Sunglasses (48)',\n",
       " 'UV Protection Cat-eye Sunglasses (Free Size)',\n",
       " 'UV Protection, Riding Glasses, Others Wayfarer, Retro S...']"
      ]
     },
     "execution_count": 66,
     "metadata": {},
     "output_type": "execute_result"
    }
   ],
   "source": [
    "prdoDesc_3=driver.find_elements_by_class_name(\"IRpwTa\")\n",
    "prdoDescs_3=[]\n",
    "for k in prdoDesc_3:\n",
    "    prdoDescs_3.append(k.text)\n",
    "prdoDescs_3"
   ]
  },
  {
   "cell_type": "code",
   "execution_count": 67,
   "id": "db2a8583",
   "metadata": {
    "collapsed": true
   },
   "outputs": [
    {
     "data": {
      "text/plain": [
       "['₹649',\n",
       " '₹664',\n",
       " '₹327',\n",
       " '₹353',\n",
       " '₹174',\n",
       " '₹639',\n",
       " '₹289',\n",
       " '₹664',\n",
       " '₹157',\n",
       " '₹999',\n",
       " '₹255',\n",
       " '₹759',\n",
       " '₹348',\n",
       " '₹199',\n",
       " '₹359',\n",
       " '₹711',\n",
       " '₹284',\n",
       " '₹179',\n",
       " '₹209',\n",
       " '₹854',\n",
       " '₹219',\n",
       " '₹249',\n",
       " '₹327',\n",
       " '₹711',\n",
       " '₹459',\n",
       " '₹198',\n",
       " '₹1,059',\n",
       " '₹664',\n",
       " '₹1,249',\n",
       " '₹179',\n",
       " '₹267',\n",
       " '₹664',\n",
       " '₹207',\n",
       " '₹204',\n",
       " '₹459',\n",
       " '₹308',\n",
       " '₹449',\n",
       " '₹152',\n",
       " '₹281',\n",
       " '₹226']"
      ]
     },
     "execution_count": 67,
     "metadata": {},
     "output_type": "execute_result"
    }
   ],
   "source": [
    "price_3=driver.find_elements_by_xpath('//div[@class=\"_30jeq3\"]')\n",
    "prices_3=[]\n",
    "for k in price_3:\n",
    "    prices_3.append(k.text)\n",
    "prices_3"
   ]
  },
  {
   "cell_type": "code",
   "execution_count": 68,
   "id": "7a2b054e",
   "metadata": {
    "collapsed": true
   },
   "outputs": [
    {
     "data": {
      "text/html": [
       "<div>\n",
       "<style scoped>\n",
       "    .dataframe tbody tr th:only-of-type {\n",
       "        vertical-align: middle;\n",
       "    }\n",
       "\n",
       "    .dataframe tbody tr th {\n",
       "        vertical-align: top;\n",
       "    }\n",
       "\n",
       "    .dataframe thead th {\n",
       "        text-align: right;\n",
       "    }\n",
       "</style>\n",
       "<table border=\"1\" class=\"dataframe\">\n",
       "  <thead>\n",
       "    <tr style=\"text-align: right;\">\n",
       "      <th></th>\n",
       "      <th>Brand</th>\n",
       "      <th>Product Description</th>\n",
       "      <th>Price</th>\n",
       "    </tr>\n",
       "  </thead>\n",
       "  <tbody>\n",
       "    <tr>\n",
       "      <th>0</th>\n",
       "      <td>ROZZETTA CRAFT</td>\n",
       "      <td>UV Protection Aviator Sunglasses (62)</td>\n",
       "      <td>₹649</td>\n",
       "    </tr>\n",
       "    <tr>\n",
       "      <th>1</th>\n",
       "      <td>ROYAL SON</td>\n",
       "      <td>UV Protection, Gradient Butterfly Sunglasses (57)</td>\n",
       "      <td>₹664</td>\n",
       "    </tr>\n",
       "    <tr>\n",
       "      <th>2</th>\n",
       "      <td>NuVew</td>\n",
       "      <td>UV Protection, Mirrored Sports Sunglasses (62)</td>\n",
       "      <td>₹327</td>\n",
       "    </tr>\n",
       "    <tr>\n",
       "      <th>3</th>\n",
       "      <td>ROZZETTA CRAFT</td>\n",
       "      <td>UV Protection, Gradient Rectangular Sunglasses...</td>\n",
       "      <td>₹353</td>\n",
       "    </tr>\n",
       "    <tr>\n",
       "      <th>4</th>\n",
       "      <td>kingsunglasses</td>\n",
       "      <td>UV Protection Rectangular Sunglasses (55)</td>\n",
       "      <td>₹174</td>\n",
       "    </tr>\n",
       "    <tr>\n",
       "      <th>5</th>\n",
       "      <td>Fastrack</td>\n",
       "      <td>Polarized Retro Square Sunglasses (Free Size)</td>\n",
       "      <td>₹639</td>\n",
       "    </tr>\n",
       "    <tr>\n",
       "      <th>6</th>\n",
       "      <td>PHENOMENAL</td>\n",
       "      <td>UV Protection, Mirrored Clubmaster Sunglasses ...</td>\n",
       "      <td>₹289</td>\n",
       "    </tr>\n",
       "    <tr>\n",
       "      <th>7</th>\n",
       "      <td>ROYAL SON</td>\n",
       "      <td>UV Protection, Gradient Over-sized Sunglasses ...</td>\n",
       "      <td>₹664</td>\n",
       "    </tr>\n",
       "    <tr>\n",
       "      <th>8</th>\n",
       "      <td>New Specs</td>\n",
       "      <td>UV Protection Rectangular Sunglasses (Free Size)</td>\n",
       "      <td>₹157</td>\n",
       "    </tr>\n",
       "    <tr>\n",
       "      <th>9</th>\n",
       "      <td>Mi</td>\n",
       "      <td>Polarized Aviator Sunglasses (Free Size)</td>\n",
       "      <td>₹999</td>\n",
       "    </tr>\n",
       "    <tr>\n",
       "      <th>10</th>\n",
       "      <td>Silver Kartz</td>\n",
       "      <td>UV Protection Aviator Sunglasses (88)</td>\n",
       "      <td>₹255</td>\n",
       "    </tr>\n",
       "    <tr>\n",
       "      <th>11</th>\n",
       "      <td>ROYAL SON</td>\n",
       "      <td>Polarized, UV Protection Wrap-around Sunglasse...</td>\n",
       "      <td>₹759</td>\n",
       "    </tr>\n",
       "    <tr>\n",
       "      <th>12</th>\n",
       "      <td>ROZZETTA CRAFT</td>\n",
       "      <td>UV Protection, Gradient Rectangular Sunglasses...</td>\n",
       "      <td>₹348</td>\n",
       "    </tr>\n",
       "    <tr>\n",
       "      <th>13</th>\n",
       "      <td>Badfella</td>\n",
       "      <td>Polarized, UV Protection Retro Square Sunglass...</td>\n",
       "      <td>₹199</td>\n",
       "    </tr>\n",
       "    <tr>\n",
       "      <th>14</th>\n",
       "      <td>ROYAL SON</td>\n",
       "      <td>Mirrored Aviator Sunglasses (Free Size)</td>\n",
       "      <td>₹359</td>\n",
       "    </tr>\n",
       "    <tr>\n",
       "      <th>15</th>\n",
       "      <td>ROYAL SON</td>\n",
       "      <td>UV Protection, Polarized Aviator Sunglasses (60)</td>\n",
       "      <td>₹711</td>\n",
       "    </tr>\n",
       "    <tr>\n",
       "      <th>16</th>\n",
       "      <td>Silver Kartz</td>\n",
       "      <td>UV Protection Oval Sunglasses (56)</td>\n",
       "      <td>₹284</td>\n",
       "    </tr>\n",
       "    <tr>\n",
       "      <th>17</th>\n",
       "      <td>HIPPON</td>\n",
       "      <td>UV Protection Round Sunglasses (55)</td>\n",
       "      <td>₹179</td>\n",
       "    </tr>\n",
       "    <tr>\n",
       "      <th>18</th>\n",
       "      <td>GANSTA</td>\n",
       "      <td>UV Protection, Riding Glasses Wayfarer Sunglas...</td>\n",
       "      <td>₹209</td>\n",
       "    </tr>\n",
       "    <tr>\n",
       "      <th>19</th>\n",
       "      <td>ROYAL SON</td>\n",
       "      <td>UV Protection, Polarized Wrap-around Sunglasse...</td>\n",
       "      <td>₹854</td>\n",
       "    </tr>\n",
       "  </tbody>\n",
       "</table>\n",
       "</div>"
      ],
      "text/plain": [
       "             Brand                                Product Description Price\n",
       "0   ROZZETTA CRAFT              UV Protection Aviator Sunglasses (62)  ₹649\n",
       "1        ROYAL SON  UV Protection, Gradient Butterfly Sunglasses (57)  ₹664\n",
       "2            NuVew     UV Protection, Mirrored Sports Sunglasses (62)  ₹327\n",
       "3   ROZZETTA CRAFT  UV Protection, Gradient Rectangular Sunglasses...  ₹353\n",
       "4   kingsunglasses          UV Protection Rectangular Sunglasses (55)  ₹174\n",
       "5         Fastrack      Polarized Retro Square Sunglasses (Free Size)  ₹639\n",
       "6       PHENOMENAL  UV Protection, Mirrored Clubmaster Sunglasses ...  ₹289\n",
       "7        ROYAL SON  UV Protection, Gradient Over-sized Sunglasses ...  ₹664\n",
       "8        New Specs   UV Protection Rectangular Sunglasses (Free Size)  ₹157\n",
       "9               Mi           Polarized Aviator Sunglasses (Free Size)  ₹999\n",
       "10    Silver Kartz              UV Protection Aviator Sunglasses (88)  ₹255\n",
       "11       ROYAL SON  Polarized, UV Protection Wrap-around Sunglasse...  ₹759\n",
       "12  ROZZETTA CRAFT  UV Protection, Gradient Rectangular Sunglasses...  ₹348\n",
       "13        Badfella  Polarized, UV Protection Retro Square Sunglass...  ₹199\n",
       "14       ROYAL SON            Mirrored Aviator Sunglasses (Free Size)  ₹359\n",
       "15       ROYAL SON   UV Protection, Polarized Aviator Sunglasses (60)  ₹711\n",
       "16    Silver Kartz                 UV Protection Oval Sunglasses (56)  ₹284\n",
       "17          HIPPON                UV Protection Round Sunglasses (55)  ₹179\n",
       "18          GANSTA  UV Protection, Riding Glasses Wayfarer Sunglas...  ₹209\n",
       "19       ROYAL SON  UV Protection, Polarized Wrap-around Sunglasse...  ₹854"
      ]
     },
     "execution_count": 68,
     "metadata": {},
     "output_type": "execute_result"
    }
   ],
   "source": [
    "df_3 = pd.DataFrame({'Brand':brands_3,'Product Description':prdoDescs_3,'Price':prices_3})\n",
    "df3=df_3.head(20)\n",
    "df3"
   ]
  },
  {
   "cell_type": "code",
   "execution_count": 69,
   "id": "6189ef8b",
   "metadata": {
    "collapsed": true
   },
   "outputs": [
    {
     "data": {
      "text/html": [
       "<div>\n",
       "<style scoped>\n",
       "    .dataframe tbody tr th:only-of-type {\n",
       "        vertical-align: middle;\n",
       "    }\n",
       "\n",
       "    .dataframe tbody tr th {\n",
       "        vertical-align: top;\n",
       "    }\n",
       "\n",
       "    .dataframe thead th {\n",
       "        text-align: right;\n",
       "    }\n",
       "</style>\n",
       "<table border=\"1\" class=\"dataframe\">\n",
       "  <thead>\n",
       "    <tr style=\"text-align: right;\">\n",
       "      <th></th>\n",
       "      <th>Brand</th>\n",
       "      <th>Product Description</th>\n",
       "      <th>Price</th>\n",
       "    </tr>\n",
       "  </thead>\n",
       "  <tbody>\n",
       "    <tr>\n",
       "      <th>0</th>\n",
       "      <td>Singco India</td>\n",
       "      <td>Gradient, Toughened Glass Lens, UV Protection ...</td>\n",
       "      <td>₹664</td>\n",
       "    </tr>\n",
       "    <tr>\n",
       "      <th>1</th>\n",
       "      <td>ROZZETTA CRAFT</td>\n",
       "      <td>UV Protection, Gradient Rectangular Sunglasses...</td>\n",
       "      <td>₹348</td>\n",
       "    </tr>\n",
       "    <tr>\n",
       "      <th>2</th>\n",
       "      <td>SRPM</td>\n",
       "      <td>UV Protection Wayfarer Sunglasses (50)</td>\n",
       "      <td>₹188</td>\n",
       "    </tr>\n",
       "    <tr>\n",
       "      <th>3</th>\n",
       "      <td>Elligator</td>\n",
       "      <td>UV Protection Round Sunglasses (54)</td>\n",
       "      <td>₹248</td>\n",
       "    </tr>\n",
       "    <tr>\n",
       "      <th>4</th>\n",
       "      <td>Fastrack</td>\n",
       "      <td>Gradient, UV Protection Wayfarer Sunglasses (F...</td>\n",
       "      <td>₹489</td>\n",
       "    </tr>\n",
       "    <tr>\n",
       "      <th>...</th>\n",
       "      <td>...</td>\n",
       "      <td>...</td>\n",
       "      <td>...</td>\n",
       "    </tr>\n",
       "    <tr>\n",
       "      <th>15</th>\n",
       "      <td>ROYAL SON</td>\n",
       "      <td>UV Protection, Polarized Aviator Sunglasses (60)</td>\n",
       "      <td>₹711</td>\n",
       "    </tr>\n",
       "    <tr>\n",
       "      <th>16</th>\n",
       "      <td>Silver Kartz</td>\n",
       "      <td>UV Protection Oval Sunglasses (56)</td>\n",
       "      <td>₹284</td>\n",
       "    </tr>\n",
       "    <tr>\n",
       "      <th>17</th>\n",
       "      <td>HIPPON</td>\n",
       "      <td>UV Protection Round Sunglasses (55)</td>\n",
       "      <td>₹179</td>\n",
       "    </tr>\n",
       "    <tr>\n",
       "      <th>18</th>\n",
       "      <td>GANSTA</td>\n",
       "      <td>UV Protection, Riding Glasses Wayfarer Sunglas...</td>\n",
       "      <td>₹209</td>\n",
       "    </tr>\n",
       "    <tr>\n",
       "      <th>19</th>\n",
       "      <td>ROYAL SON</td>\n",
       "      <td>UV Protection, Polarized Wrap-around Sunglasse...</td>\n",
       "      <td>₹854</td>\n",
       "    </tr>\n",
       "  </tbody>\n",
       "</table>\n",
       "<p>100 rows × 3 columns</p>\n",
       "</div>"
      ],
      "text/plain": [
       "             Brand                                Product Description Price\n",
       "0     Singco India  Gradient, Toughened Glass Lens, UV Protection ...  ₹664\n",
       "1   ROZZETTA CRAFT  UV Protection, Gradient Rectangular Sunglasses...  ₹348\n",
       "2             SRPM             UV Protection Wayfarer Sunglasses (50)  ₹188\n",
       "3        Elligator                UV Protection Round Sunglasses (54)  ₹248\n",
       "4         Fastrack  Gradient, UV Protection Wayfarer Sunglasses (F...  ₹489\n",
       "..             ...                                                ...   ...\n",
       "15       ROYAL SON   UV Protection, Polarized Aviator Sunglasses (60)  ₹711\n",
       "16    Silver Kartz                 UV Protection Oval Sunglasses (56)  ₹284\n",
       "17          HIPPON                UV Protection Round Sunglasses (55)  ₹179\n",
       "18          GANSTA  UV Protection, Riding Glasses Wayfarer Sunglas...  ₹209\n",
       "19       ROYAL SON  UV Protection, Polarized Wrap-around Sunglasse...  ₹854\n",
       "\n",
       "[100 rows x 3 columns]"
      ]
     },
     "execution_count": 69,
     "metadata": {},
     "output_type": "execute_result"
    }
   ],
   "source": [
    "#Combine all three DataFrames\n",
    "pd.concat([df_1, df_2, df3])"
   ]
  },
  {
   "cell_type": "code",
   "execution_count": 70,
   "id": "971586ea",
   "metadata": {},
   "outputs": [
    {
     "data": {
      "text/html": [
       "<div>\n",
       "<style scoped>\n",
       "    .dataframe tbody tr th:only-of-type {\n",
       "        vertical-align: middle;\n",
       "    }\n",
       "\n",
       "    .dataframe tbody tr th {\n",
       "        vertical-align: top;\n",
       "    }\n",
       "\n",
       "    .dataframe thead th {\n",
       "        text-align: right;\n",
       "    }\n",
       "</style>\n",
       "<table border=\"1\" class=\"dataframe\">\n",
       "  <thead>\n",
       "    <tr style=\"text-align: right;\">\n",
       "      <th></th>\n",
       "      <th>index</th>\n",
       "      <th>Brand</th>\n",
       "      <th>Product Description</th>\n",
       "      <th>Price</th>\n",
       "    </tr>\n",
       "  </thead>\n",
       "  <tbody>\n",
       "    <tr>\n",
       "      <th>0</th>\n",
       "      <td>0</td>\n",
       "      <td>Singco India</td>\n",
       "      <td>Gradient, Toughened Glass Lens, UV Protection ...</td>\n",
       "      <td>₹664</td>\n",
       "    </tr>\n",
       "    <tr>\n",
       "      <th>1</th>\n",
       "      <td>1</td>\n",
       "      <td>ROZZETTA CRAFT</td>\n",
       "      <td>UV Protection, Gradient Rectangular Sunglasses...</td>\n",
       "      <td>₹348</td>\n",
       "    </tr>\n",
       "    <tr>\n",
       "      <th>2</th>\n",
       "      <td>2</td>\n",
       "      <td>SRPM</td>\n",
       "      <td>UV Protection Wayfarer Sunglasses (50)</td>\n",
       "      <td>₹188</td>\n",
       "    </tr>\n",
       "    <tr>\n",
       "      <th>3</th>\n",
       "      <td>3</td>\n",
       "      <td>Elligator</td>\n",
       "      <td>UV Protection Round Sunglasses (54)</td>\n",
       "      <td>₹248</td>\n",
       "    </tr>\n",
       "    <tr>\n",
       "      <th>4</th>\n",
       "      <td>4</td>\n",
       "      <td>Fastrack</td>\n",
       "      <td>Gradient, UV Protection Wayfarer Sunglasses (F...</td>\n",
       "      <td>₹489</td>\n",
       "    </tr>\n",
       "    <tr>\n",
       "      <th>...</th>\n",
       "      <td>...</td>\n",
       "      <td>...</td>\n",
       "      <td>...</td>\n",
       "      <td>...</td>\n",
       "    </tr>\n",
       "    <tr>\n",
       "      <th>95</th>\n",
       "      <td>15</td>\n",
       "      <td>ROYAL SON</td>\n",
       "      <td>UV Protection, Polarized Aviator Sunglasses (60)</td>\n",
       "      <td>₹711</td>\n",
       "    </tr>\n",
       "    <tr>\n",
       "      <th>96</th>\n",
       "      <td>16</td>\n",
       "      <td>Silver Kartz</td>\n",
       "      <td>UV Protection Oval Sunglasses (56)</td>\n",
       "      <td>₹284</td>\n",
       "    </tr>\n",
       "    <tr>\n",
       "      <th>97</th>\n",
       "      <td>17</td>\n",
       "      <td>HIPPON</td>\n",
       "      <td>UV Protection Round Sunglasses (55)</td>\n",
       "      <td>₹179</td>\n",
       "    </tr>\n",
       "    <tr>\n",
       "      <th>98</th>\n",
       "      <td>18</td>\n",
       "      <td>GANSTA</td>\n",
       "      <td>UV Protection, Riding Glasses Wayfarer Sunglas...</td>\n",
       "      <td>₹209</td>\n",
       "    </tr>\n",
       "    <tr>\n",
       "      <th>99</th>\n",
       "      <td>19</td>\n",
       "      <td>ROYAL SON</td>\n",
       "      <td>UV Protection, Polarized Wrap-around Sunglasse...</td>\n",
       "      <td>₹854</td>\n",
       "    </tr>\n",
       "  </tbody>\n",
       "</table>\n",
       "<p>100 rows × 4 columns</p>\n",
       "</div>"
      ],
      "text/plain": [
       "    index           Brand                                Product Description  \\\n",
       "0       0    Singco India  Gradient, Toughened Glass Lens, UV Protection ...   \n",
       "1       1  ROZZETTA CRAFT  UV Protection, Gradient Rectangular Sunglasses...   \n",
       "2       2            SRPM             UV Protection Wayfarer Sunglasses (50)   \n",
       "3       3       Elligator                UV Protection Round Sunglasses (54)   \n",
       "4       4        Fastrack  Gradient, UV Protection Wayfarer Sunglasses (F...   \n",
       "..    ...             ...                                                ...   \n",
       "95     15       ROYAL SON   UV Protection, Polarized Aviator Sunglasses (60)   \n",
       "96     16    Silver Kartz                 UV Protection Oval Sunglasses (56)   \n",
       "97     17          HIPPON                UV Protection Round Sunglasses (55)   \n",
       "98     18          GANSTA  UV Protection, Riding Glasses Wayfarer Sunglas...   \n",
       "99     19       ROYAL SON  UV Protection, Polarized Wrap-around Sunglasse...   \n",
       "\n",
       "   Price  \n",
       "0   ₹664  \n",
       "1   ₹348  \n",
       "2   ₹188  \n",
       "3   ₹248  \n",
       "4   ₹489  \n",
       "..   ...  \n",
       "95  ₹711  \n",
       "96  ₹284  \n",
       "97  ₹179  \n",
       "98  ₹209  \n",
       "99  ₹854  \n",
       "\n",
       "[100 rows x 4 columns]"
      ]
     },
     "execution_count": 70,
     "metadata": {},
     "output_type": "execute_result"
    }
   ],
   "source": [
    "#Reset Index is mandatory otherwise it will take old index\n",
    "z=pd.concat([df_1, df_2, df3]).reset_index()\n",
    "z"
   ]
  },
  {
   "cell_type": "code",
   "execution_count": 71,
   "id": "b4def8a4",
   "metadata": {},
   "outputs": [
    {
     "data": {
      "text/plain": [
       "<bound method WebDriver.close of <selenium.webdriver.chrome.webdriver.WebDriver (session=\"728e21dcec77b3577adfa9b8e58a84e0\")>>"
      ]
     },
     "execution_count": 71,
     "metadata": {},
     "output_type": "execute_result"
    }
   ],
   "source": [
    "#Close the driver\n",
    "driver.close"
   ]
  },
  {
   "cell_type": "markdown",
   "id": "29098f56",
   "metadata": {},
   "source": [
    "# Q5: \n",
    "Scrape 100 reviews data from flipkart.com for iphone11 phone. You have to go the link:\n",
    "https://www.flipkart.com/apple-iphone-11-black-64-gb-includes-%20earpods-power%02adapter/p/itm0f37c2240b217?pid=MOBFKCTSVZAXUHGR&lid=LSTMOBFKC%20TSVZAXUHGREPBFGI&marketplace\n",
    "When you will open the above link you will reach to the below shown webpage .\n",
    "\n",
    "As shown in the above page you have to scrape the tick marked attributes.These are:\n",
    "1. Rating\n",
    "2. Review summary\n",
    "3. Full review\n",
    "4. You have to scrape this data for first 100 reviews.\n"
   ]
  },
  {
   "cell_type": "code",
   "execution_count": 78,
   "id": "7d758674",
   "metadata": {},
   "outputs": [],
   "source": [
    "#Another method is to have Chrome Driver in the jupyter notebook where currently we are working\n",
    "driver=webdriver.Chrome('chromedriver.exe')"
   ]
  },
  {
   "cell_type": "code",
   "execution_count": 79,
   "id": "9ff26f34",
   "metadata": {},
   "outputs": [],
   "source": [
    "url='https://www.flipkart.com/apple-iphone-11-black-64-gb-includes-%20earpods-power%02adapter/p/itm0f37c2240b217?pid=MOBFKCTSVZAXUHGR&lid=LSTMOBFKC%20TSVZAXUHGREPBFGI&marketplace'\n",
    "#This opens the flipkart url automatically in the Chrome\n",
    "driver.get(url)"
   ]
  },
  {
   "cell_type": "code",
   "execution_count": 80,
   "id": "9bd3746d",
   "metadata": {},
   "outputs": [
    {
     "data": {
      "text/plain": [
       "<selenium.webdriver.remote.webelement.WebElement (session=\"ae992d6f4923c7e8c9ad8cbb4cf98306\", element=\"384c5e42-570b-4261-917a-39d28e0d12ba\")>"
      ]
     },
     "execution_count": 80,
     "metadata": {},
     "output_type": "execute_result"
    }
   ],
   "source": [
    "#Finding web element to search the name where ALl Reviews are stored for the iPhone\n",
    "#Lets changed the URL to get into the total reviews page and scrap all review in one go.\n",
    "search_allReview=driver.find_element_by_xpath('//div[@class=\"_3UAT2v _16PBlm\"]')\n",
    "search_allReview"
   ]
  },
  {
   "cell_type": "markdown",
   "id": "42ed2a2e",
   "metadata": {},
   "source": [
    "The new URL is :\n",
    "https://www.flipkart.com/apple-iphone-11-black-64-gb-includes-earpods-power-adapter/product-reviews/itm0f37c2240b217?pid=MOBFKCTSVZAXUHGR&lid=LSTMOBFKCTSVZAXUHGREPBFGI&marketplace=FLIPKART"
   ]
  },
  {
   "cell_type": "code",
   "execution_count": 81,
   "id": "f1efae3d",
   "metadata": {},
   "outputs": [],
   "source": [
    "search_allReview.click()"
   ]
  },
  {
   "cell_type": "markdown",
   "id": "217269da",
   "metadata": {},
   "source": [
    "Now, lets utilise the above url and get all the reviews with ratings, review summary and full review for all pages using a function"
   ]
  },
  {
   "cell_type": "code",
   "execution_count": 82,
   "id": "1a2b72d2",
   "metadata": {},
   "outputs": [
    {
     "data": {
      "text/plain": [
       "10"
      ]
     },
     "execution_count": 82,
     "metadata": {},
     "output_type": "execute_result"
    }
   ],
   "source": [
    "fullReview=driver.find_elements_by_xpath('//div[@class=\"t-ZTKy\"]')\n",
    "len(fullReview)"
   ]
  },
  {
   "cell_type": "code",
   "execution_count": 83,
   "id": "d7eb145c",
   "metadata": {
    "collapsed": true
   },
   "outputs": [
    {
     "data": {
      "text/plain": [
       "['The Best Phone for the MoneyThe iPhone 11 offers superb cameras, a more durable design and excellent battery life for an affordable price.Compelling ultra-wide cameraNew Night mode is excellentLong battery life',\n",
       " 'Really satisfied with the Product I received... It’s totally genuine and the packaging was also really good so if ur planning to buy just go for it.',\n",
       " 'Great iPhone very snappy experience as apple kind. Upgraded from iPhone 7.Pros-Camera top class- Battery top performed-Chipset no need to say as apple kind-Security as you expect from apple- Display super bright industry leading colouraccuracy and super responsive-Build quality as expect from apple sturdypremium durable beautiful stylish.-Os most stable os in smartphone industryCons-No 5G-Display is not based on OLED technology-Charger headphones and 1 apple stic...READ MORE',\n",
       " 'Amazing phone with great cameras and better battery which gives you the best performance. I just love the camera .',\n",
       " 'This is my first iOS phone. I am very happy with this product. Very much satisfied with this. I love this phone.',\n",
       " 'Previously I was using one plus 3t it was a great phoneAnd then I decided to upgrade I am stuck between Samsung s10 plus or iPhone 11I have seen the specs and everything were good except the display it’s somewhere between 720-1080 and it’s not even an amoled it’s an LCD displayBut I decided to go with iPhone because I have never used an IOS device I have Been an android user from the past 9 years I ordered IPhone 11 (128gb) product redMy experience after using 3 weeks1. The delivery ...READ MORE',\n",
       " 'Amazing Powerful and Durable Gadget.I’m am very happy with the camera picture quality, Amazing face id unlocked in dark room, Strong battery with perfect screen size as you can carry easily in pocket. This is my third iPhone.I shifted from android Samsung Note series to iPhone because of the strong build quality and peace of mind for next 3-4 years.Don’t think to much just go for it and I suggest you to go for minimum 128gb variant or more 256gb.I’ve attached my puppy pics and no fi...READ MORE',\n",
       " 'What a camera .....just awesome ..you can feel this iPhone just awesome . Good for gaming also ...try pubg in hd it’s just wow',\n",
       " 'So far it’s been an AMAZING experience coming back to iOS after nearly a decade but it’s not as versatile as android though phone is sturdy dropped it accidentally a couple of times and nothing happened fortunately camera is awesome',\n",
       " 'i11 is worthy to buy, too much happy with the product. Thank u flipkart I received the item on time..loved it..']"
      ]
     },
     "execution_count": 83,
     "metadata": {},
     "output_type": "execute_result"
    }
   ],
   "source": [
    "fullreviews=[]\n",
    "for j in fullReview:\n",
    "    fullreviews.append(j.text.replace('\\n',''))\n",
    "fullreviews"
   ]
  },
  {
   "cell_type": "code",
   "execution_count": 84,
   "id": "7a0bcb19",
   "metadata": {},
   "outputs": [],
   "source": [
    "def scrap_filpkart(n):\n",
    "    url=f\"https://www.flipkart.com/apple-iphone-11-black-64-gb-includes-earpods-power-adapter/product-reviews/itm0f37c2240b217?pid=MOBFKCTSVZAXUHGR&lid=LSTMOBFKCTSVZAXUHGREPBFGI&marketplace=FLIPKART&page={n}\"\n",
    "    #print(url)\n",
    "    driver.get(url)\n",
    "    \n",
    "    high_rating = driver.find_elements_by_xpath('//div[@class=\"col _2wzgFH K0kLPL\"]')\n",
    "    high_rating\n",
    "    \n",
    "    review_summ=driver.find_elements_by_xpath('//p[@class=\"_2-N8zT\"]')\n",
    "    review_summ\n",
    "    \n",
    "    fullReview=driver.find_elements_by_xpath('//div[@class=\"t-ZTKy\"]')\n",
    "    fullReview\n",
    "    \n",
    "    ratings=[]        \n",
    "    if len(high_rating)==10:\n",
    "        for i in high_rating:            \n",
    "            ratings.append(i.text[0])\n",
    "        #print(ratings)\n",
    "        ratings         \n",
    "        \n",
    "    reviews=[]\n",
    "    for j in review_summ:\n",
    "        reviews.append(j.text)\n",
    "        reviews\n",
    "        \n",
    "    fullreviews=[]\n",
    "    for j in fullReview:\n",
    "        fullreviews.append(j.text.replace('\\n',''))\n",
    "    fullreviews\n",
    "    df =(pd.DataFrame({'Rating':ratings,'Review summary':reviews,'Full review':fullreviews}))\n",
    "    return(df)\n",
    "    driver.close\n"
   ]
  },
  {
   "cell_type": "code",
   "execution_count": 85,
   "id": "fc90d739",
   "metadata": {
    "collapsed": true
   },
   "outputs": [
    {
     "data": {
      "text/html": [
       "<div>\n",
       "<style scoped>\n",
       "    .dataframe tbody tr th:only-of-type {\n",
       "        vertical-align: middle;\n",
       "    }\n",
       "\n",
       "    .dataframe tbody tr th {\n",
       "        vertical-align: top;\n",
       "    }\n",
       "\n",
       "    .dataframe thead th {\n",
       "        text-align: right;\n",
       "    }\n",
       "</style>\n",
       "<table border=\"1\" class=\"dataframe\">\n",
       "  <thead>\n",
       "    <tr style=\"text-align: right;\">\n",
       "      <th></th>\n",
       "      <th>Rating</th>\n",
       "      <th>Review summary</th>\n",
       "      <th>Full review</th>\n",
       "    </tr>\n",
       "  </thead>\n",
       "  <tbody>\n",
       "    <tr>\n",
       "      <th>0</th>\n",
       "      <td>5</td>\n",
       "      <td>Brilliant</td>\n",
       "      <td>The Best Phone for the MoneyThe iPhone 11 offe...</td>\n",
       "    </tr>\n",
       "    <tr>\n",
       "      <th>1</th>\n",
       "      <td>5</td>\n",
       "      <td>Simply awesome</td>\n",
       "      <td>Really satisfied with the Product I received.....</td>\n",
       "    </tr>\n",
       "    <tr>\n",
       "      <th>2</th>\n",
       "      <td>5</td>\n",
       "      <td>Best in the market!</td>\n",
       "      <td>Great iPhone very snappy experience as apple k...</td>\n",
       "    </tr>\n",
       "    <tr>\n",
       "      <th>3</th>\n",
       "      <td>5</td>\n",
       "      <td>Perfect product!</td>\n",
       "      <td>Amazing phone with great cameras and better ba...</td>\n",
       "    </tr>\n",
       "    <tr>\n",
       "      <th>4</th>\n",
       "      <td>5</td>\n",
       "      <td>Fabulous!</td>\n",
       "      <td>This is my first iOS phone. I am very happy wi...</td>\n",
       "    </tr>\n",
       "    <tr>\n",
       "      <th>5</th>\n",
       "      <td>5</td>\n",
       "      <td>Worth every penny</td>\n",
       "      <td>Previously I was using one plus 3t it was a gr...</td>\n",
       "    </tr>\n",
       "    <tr>\n",
       "      <th>6</th>\n",
       "      <td>5</td>\n",
       "      <td>Great product</td>\n",
       "      <td>Amazing Powerful and Durable Gadget.I’m am ver...</td>\n",
       "    </tr>\n",
       "    <tr>\n",
       "      <th>7</th>\n",
       "      <td>5</td>\n",
       "      <td>Highly recommended</td>\n",
       "      <td>What a camera .....just awesome ..you can feel...</td>\n",
       "    </tr>\n",
       "    <tr>\n",
       "      <th>8</th>\n",
       "      <td>4</td>\n",
       "      <td>Good choice</td>\n",
       "      <td>So far it’s been an AMAZING experience coming ...</td>\n",
       "    </tr>\n",
       "    <tr>\n",
       "      <th>9</th>\n",
       "      <td>5</td>\n",
       "      <td>Worth every penny</td>\n",
       "      <td>i11 is worthy to buy, too much happy with the ...</td>\n",
       "    </tr>\n",
       "  </tbody>\n",
       "</table>\n",
       "</div>"
      ],
      "text/plain": [
       "  Rating       Review summary  \\\n",
       "0      5            Brilliant   \n",
       "1      5       Simply awesome   \n",
       "2      5  Best in the market!   \n",
       "3      5     Perfect product!   \n",
       "4      5            Fabulous!   \n",
       "5      5    Worth every penny   \n",
       "6      5        Great product   \n",
       "7      5   Highly recommended   \n",
       "8      4          Good choice   \n",
       "9      5    Worth every penny   \n",
       "\n",
       "                                         Full review  \n",
       "0  The Best Phone for the MoneyThe iPhone 11 offe...  \n",
       "1  Really satisfied with the Product I received.....  \n",
       "2  Great iPhone very snappy experience as apple k...  \n",
       "3  Amazing phone with great cameras and better ba...  \n",
       "4  This is my first iOS phone. I am very happy wi...  \n",
       "5  Previously I was using one plus 3t it was a gr...  \n",
       "6  Amazing Powerful and Durable Gadget.I’m am ver...  \n",
       "7  What a camera .....just awesome ..you can feel...  \n",
       "8  So far it’s been an AMAZING experience coming ...  \n",
       "9  i11 is worthy to buy, too much happy with the ...  "
      ]
     },
     "execution_count": 85,
     "metadata": {},
     "output_type": "execute_result"
    }
   ],
   "source": [
    "df1=scrap_filpkart(1)\n",
    "df1"
   ]
  },
  {
   "cell_type": "markdown",
   "id": "59b52d39",
   "metadata": {},
   "source": [
    "Now, lets scrap the data for second page"
   ]
  },
  {
   "cell_type": "code",
   "execution_count": 86,
   "id": "c6528c07",
   "metadata": {
    "collapsed": true
   },
   "outputs": [
    {
     "data": {
      "text/html": [
       "<div>\n",
       "<style scoped>\n",
       "    .dataframe tbody tr th:only-of-type {\n",
       "        vertical-align: middle;\n",
       "    }\n",
       "\n",
       "    .dataframe tbody tr th {\n",
       "        vertical-align: top;\n",
       "    }\n",
       "\n",
       "    .dataframe thead th {\n",
       "        text-align: right;\n",
       "    }\n",
       "</style>\n",
       "<table border=\"1\" class=\"dataframe\">\n",
       "  <thead>\n",
       "    <tr style=\"text-align: right;\">\n",
       "      <th></th>\n",
       "      <th>Rating</th>\n",
       "      <th>Review summary</th>\n",
       "      <th>Full review</th>\n",
       "    </tr>\n",
       "  </thead>\n",
       "  <tbody>\n",
       "    <tr>\n",
       "      <th>0</th>\n",
       "      <td>5</td>\n",
       "      <td>Highly recommended</td>\n",
       "      <td>iphone 11 is a very good phone to buy only if ...</td>\n",
       "    </tr>\n",
       "    <tr>\n",
       "      <th>1</th>\n",
       "      <td>5</td>\n",
       "      <td>Perfect product!</td>\n",
       "      <td>It’s a must buy who is looking for an upgrade ...</td>\n",
       "    </tr>\n",
       "    <tr>\n",
       "      <th>2</th>\n",
       "      <td>5</td>\n",
       "      <td>Perfect product!</td>\n",
       "      <td>Value for money❤️❤️Its awesome mobile phone in...</td>\n",
       "    </tr>\n",
       "    <tr>\n",
       "      <th>3</th>\n",
       "      <td>5</td>\n",
       "      <td>Highly recommended</td>\n",
       "      <td>It's my first time to use iOS phone and I am l...</td>\n",
       "    </tr>\n",
       "    <tr>\n",
       "      <th>4</th>\n",
       "      <td>5</td>\n",
       "      <td>Perfect product!</td>\n",
       "      <td>Iphone is just awesome.. battery backup is ver...</td>\n",
       "    </tr>\n",
       "    <tr>\n",
       "      <th>5</th>\n",
       "      <td>5</td>\n",
       "      <td>Worth every penny</td>\n",
       "      <td>Best budget Iphone till date ❤️ go for it guys...</td>\n",
       "    </tr>\n",
       "    <tr>\n",
       "      <th>6</th>\n",
       "      <td>5</td>\n",
       "      <td>Classy product</td>\n",
       "      <td>Totally in love with this ❤ the camera quality...</td>\n",
       "    </tr>\n",
       "    <tr>\n",
       "      <th>7</th>\n",
       "      <td>5</td>\n",
       "      <td>Worth every penny</td>\n",
       "      <td>Smooth like butter, camera like fantabulous, s...</td>\n",
       "    </tr>\n",
       "    <tr>\n",
       "      <th>8</th>\n",
       "      <td>5</td>\n",
       "      <td>Worth every penny</td>\n",
       "      <td>It’s been almost a month since I have been usi...</td>\n",
       "    </tr>\n",
       "    <tr>\n",
       "      <th>9</th>\n",
       "      <td>4</td>\n",
       "      <td>Nice product</td>\n",
       "      <td>Awesome Phone. Slightly high price but worth. ...</td>\n",
       "    </tr>\n",
       "  </tbody>\n",
       "</table>\n",
       "</div>"
      ],
      "text/plain": [
       "  Rating      Review summary  \\\n",
       "0      5  Highly recommended   \n",
       "1      5    Perfect product!   \n",
       "2      5    Perfect product!   \n",
       "3      5  Highly recommended   \n",
       "4      5    Perfect product!   \n",
       "5      5   Worth every penny   \n",
       "6      5      Classy product   \n",
       "7      5   Worth every penny   \n",
       "8      5   Worth every penny   \n",
       "9      4        Nice product   \n",
       "\n",
       "                                         Full review  \n",
       "0  iphone 11 is a very good phone to buy only if ...  \n",
       "1  It’s a must buy who is looking for an upgrade ...  \n",
       "2  Value for money❤️❤️Its awesome mobile phone in...  \n",
       "3  It's my first time to use iOS phone and I am l...  \n",
       "4  Iphone is just awesome.. battery backup is ver...  \n",
       "5  Best budget Iphone till date ❤️ go for it guys...  \n",
       "6  Totally in love with this ❤ the camera quality...  \n",
       "7  Smooth like butter, camera like fantabulous, s...  \n",
       "8  It’s been almost a month since I have been usi...  \n",
       "9  Awesome Phone. Slightly high price but worth. ...  "
      ]
     },
     "execution_count": 86,
     "metadata": {},
     "output_type": "execute_result"
    }
   ],
   "source": [
    "df2=scrap_filpkart(2)\n",
    "df2"
   ]
  },
  {
   "cell_type": "markdown",
   "id": "db03bdc4",
   "metadata": {},
   "source": [
    "Now,lets Scrap for third page"
   ]
  },
  {
   "cell_type": "code",
   "execution_count": 87,
   "id": "8bddf563",
   "metadata": {
    "collapsed": true
   },
   "outputs": [
    {
     "data": {
      "text/html": [
       "<div>\n",
       "<style scoped>\n",
       "    .dataframe tbody tr th:only-of-type {\n",
       "        vertical-align: middle;\n",
       "    }\n",
       "\n",
       "    .dataframe tbody tr th {\n",
       "        vertical-align: top;\n",
       "    }\n",
       "\n",
       "    .dataframe thead th {\n",
       "        text-align: right;\n",
       "    }\n",
       "</style>\n",
       "<table border=\"1\" class=\"dataframe\">\n",
       "  <thead>\n",
       "    <tr style=\"text-align: right;\">\n",
       "      <th></th>\n",
       "      <th>Rating</th>\n",
       "      <th>Review summary</th>\n",
       "      <th>Full review</th>\n",
       "    </tr>\n",
       "  </thead>\n",
       "  <tbody>\n",
       "    <tr>\n",
       "      <th>0</th>\n",
       "      <td>5</td>\n",
       "      <td>Brilliant</td>\n",
       "      <td>I have migrated from OP 7pro... and trust me, ...</td>\n",
       "    </tr>\n",
       "    <tr>\n",
       "      <th>1</th>\n",
       "      <td>4</td>\n",
       "      <td>Good choice</td>\n",
       "      <td>Looking so good 👍 😍 super 👌 stylish 😎 phoneCle...</td>\n",
       "    </tr>\n",
       "    <tr>\n",
       "      <th>2</th>\n",
       "      <td>5</td>\n",
       "      <td>Perfect product!</td>\n",
       "      <td>After 1 month use I found camera quality best ...</td>\n",
       "    </tr>\n",
       "    <tr>\n",
       "      <th>3</th>\n",
       "      <td>5</td>\n",
       "      <td>Wonderful</td>\n",
       "      <td>I just directly switch from iphone 6s to iphon...</td>\n",
       "    </tr>\n",
       "    <tr>\n",
       "      <th>4</th>\n",
       "      <td>5</td>\n",
       "      <td>Terrific purchase</td>\n",
       "      <td>The built quality is not very premium.The batt...</td>\n",
       "    </tr>\n",
       "    <tr>\n",
       "      <th>5</th>\n",
       "      <td>5</td>\n",
       "      <td>Simply awesome</td>\n",
       "      <td>Really good actually this is my first apple pr...</td>\n",
       "    </tr>\n",
       "    <tr>\n",
       "      <th>6</th>\n",
       "      <td>4</td>\n",
       "      <td>Good quality product</td>\n",
       "      <td>it is very good at performance. Camera is best...</td>\n",
       "    </tr>\n",
       "    <tr>\n",
       "      <th>7</th>\n",
       "      <td>1</td>\n",
       "      <td>Very poor</td>\n",
       "      <td>Reviewing again after 5 months. At the beginni...</td>\n",
       "    </tr>\n",
       "    <tr>\n",
       "      <th>8</th>\n",
       "      <td>5</td>\n",
       "      <td>Perfect product!</td>\n",
       "      <td>It is just awesome mobile for this price from ...</td>\n",
       "    </tr>\n",
       "    <tr>\n",
       "      <th>9</th>\n",
       "      <td>5</td>\n",
       "      <td>Must buy!</td>\n",
       "      <td>Best Apple iPhone that i have bought at a very...</td>\n",
       "    </tr>\n",
       "  </tbody>\n",
       "</table>\n",
       "</div>"
      ],
      "text/plain": [
       "  Rating        Review summary  \\\n",
       "0      5             Brilliant   \n",
       "1      4           Good choice   \n",
       "2      5      Perfect product!   \n",
       "3      5             Wonderful   \n",
       "4      5     Terrific purchase   \n",
       "5      5        Simply awesome   \n",
       "6      4  Good quality product   \n",
       "7      1             Very poor   \n",
       "8      5      Perfect product!   \n",
       "9      5             Must buy!   \n",
       "\n",
       "                                         Full review  \n",
       "0  I have migrated from OP 7pro... and trust me, ...  \n",
       "1  Looking so good 👍 😍 super 👌 stylish 😎 phoneCle...  \n",
       "2  After 1 month use I found camera quality best ...  \n",
       "3  I just directly switch from iphone 6s to iphon...  \n",
       "4  The built quality is not very premium.The batt...  \n",
       "5  Really good actually this is my first apple pr...  \n",
       "6  it is very good at performance. Camera is best...  \n",
       "7  Reviewing again after 5 months. At the beginni...  \n",
       "8  It is just awesome mobile for this price from ...  \n",
       "9  Best Apple iPhone that i have bought at a very...  "
      ]
     },
     "execution_count": 87,
     "metadata": {},
     "output_type": "execute_result"
    }
   ],
   "source": [
    "df3=scrap_filpkart(3)\n",
    "df3"
   ]
  },
  {
   "cell_type": "markdown",
   "id": "d4fd9836",
   "metadata": {},
   "source": [
    "Now,lets Scrap for fourth page"
   ]
  },
  {
   "cell_type": "code",
   "execution_count": 88,
   "id": "3a2786d5",
   "metadata": {
    "collapsed": true
   },
   "outputs": [
    {
     "data": {
      "text/html": [
       "<div>\n",
       "<style scoped>\n",
       "    .dataframe tbody tr th:only-of-type {\n",
       "        vertical-align: middle;\n",
       "    }\n",
       "\n",
       "    .dataframe tbody tr th {\n",
       "        vertical-align: top;\n",
       "    }\n",
       "\n",
       "    .dataframe thead th {\n",
       "        text-align: right;\n",
       "    }\n",
       "</style>\n",
       "<table border=\"1\" class=\"dataframe\">\n",
       "  <thead>\n",
       "    <tr style=\"text-align: right;\">\n",
       "      <th></th>\n",
       "      <th>Rating</th>\n",
       "      <th>Review summary</th>\n",
       "      <th>Full review</th>\n",
       "    </tr>\n",
       "  </thead>\n",
       "  <tbody>\n",
       "    <tr>\n",
       "      <th>0</th>\n",
       "      <td>5</td>\n",
       "      <td>Must buy!</td>\n",
       "      <td>I rate this product 5* as it has got amazing u...</td>\n",
       "    </tr>\n",
       "    <tr>\n",
       "      <th>1</th>\n",
       "      <td>5</td>\n",
       "      <td>Great product</td>\n",
       "      <td>Again back to apple iphone after a gap of 2-3 ...</td>\n",
       "    </tr>\n",
       "    <tr>\n",
       "      <th>2</th>\n",
       "      <td>4</td>\n",
       "      <td>Very Good</td>\n",
       "      <td>impressive super phone and best in class camer...</td>\n",
       "    </tr>\n",
       "    <tr>\n",
       "      <th>3</th>\n",
       "      <td>5</td>\n",
       "      <td>Wonderful</td>\n",
       "      <td>Super and marvellous phone look very cute and ...</td>\n",
       "    </tr>\n",
       "    <tr>\n",
       "      <th>4</th>\n",
       "      <td>5</td>\n",
       "      <td>Classy product</td>\n",
       "      <td>Well while switching from android to iOS the f...</td>\n",
       "    </tr>\n",
       "    <tr>\n",
       "      <th>5</th>\n",
       "      <td>5</td>\n",
       "      <td>Awesome</td>\n",
       "      <td>Very excited to have this phone. This phone ha...</td>\n",
       "    </tr>\n",
       "    <tr>\n",
       "      <th>6</th>\n",
       "      <td>5</td>\n",
       "      <td>Classy product</td>\n",
       "      <td>Best and amazing product.....phone looks so pr...</td>\n",
       "    </tr>\n",
       "    <tr>\n",
       "      <th>7</th>\n",
       "      <td>5</td>\n",
       "      <td>Awesome</td>\n",
       "      <td>Always love the apple products, upgraded from ...</td>\n",
       "    </tr>\n",
       "    <tr>\n",
       "      <th>8</th>\n",
       "      <td>5</td>\n",
       "      <td>Perfect product!</td>\n",
       "      <td>Value for money5 star ratingExcellent cameraBa...</td>\n",
       "    </tr>\n",
       "    <tr>\n",
       "      <th>9</th>\n",
       "      <td>1</td>\n",
       "      <td>Very poor</td>\n",
       "      <td>Please DONT buy from here,I purchased Apple iP...</td>\n",
       "    </tr>\n",
       "  </tbody>\n",
       "</table>\n",
       "</div>"
      ],
      "text/plain": [
       "  Rating    Review summary                                        Full review\n",
       "0      5         Must buy!  I rate this product 5* as it has got amazing u...\n",
       "1      5     Great product  Again back to apple iphone after a gap of 2-3 ...\n",
       "2      4         Very Good  impressive super phone and best in class camer...\n",
       "3      5         Wonderful  Super and marvellous phone look very cute and ...\n",
       "4      5    Classy product  Well while switching from android to iOS the f...\n",
       "5      5           Awesome  Very excited to have this phone. This phone ha...\n",
       "6      5    Classy product  Best and amazing product.....phone looks so pr...\n",
       "7      5           Awesome  Always love the apple products, upgraded from ...\n",
       "8      5  Perfect product!  Value for money5 star ratingExcellent cameraBa...\n",
       "9      1         Very poor  Please DONT buy from here,I purchased Apple iP..."
      ]
     },
     "execution_count": 88,
     "metadata": {},
     "output_type": "execute_result"
    }
   ],
   "source": [
    "df4=scrap_filpkart(4)\n",
    "df4"
   ]
  },
  {
   "cell_type": "markdown",
   "id": "d1af672f",
   "metadata": {},
   "source": [
    "Now,lets Scrap for fifth page"
   ]
  },
  {
   "cell_type": "code",
   "execution_count": 89,
   "id": "d7f00b5f",
   "metadata": {
    "collapsed": true
   },
   "outputs": [
    {
     "data": {
      "text/html": [
       "<div>\n",
       "<style scoped>\n",
       "    .dataframe tbody tr th:only-of-type {\n",
       "        vertical-align: middle;\n",
       "    }\n",
       "\n",
       "    .dataframe tbody tr th {\n",
       "        vertical-align: top;\n",
       "    }\n",
       "\n",
       "    .dataframe thead th {\n",
       "        text-align: right;\n",
       "    }\n",
       "</style>\n",
       "<table border=\"1\" class=\"dataframe\">\n",
       "  <thead>\n",
       "    <tr style=\"text-align: right;\">\n",
       "      <th></th>\n",
       "      <th>Rating</th>\n",
       "      <th>Review summary</th>\n",
       "      <th>Full review</th>\n",
       "    </tr>\n",
       "  </thead>\n",
       "  <tbody>\n",
       "    <tr>\n",
       "      <th>0</th>\n",
       "      <td>4</td>\n",
       "      <td>Value-for-money</td>\n",
       "      <td>Just got this iphone 11And it is most powerful...</td>\n",
       "    </tr>\n",
       "    <tr>\n",
       "      <th>1</th>\n",
       "      <td>5</td>\n",
       "      <td>Best in the market!</td>\n",
       "      <td>Damn this phone is a blast . Upgraded from and...</td>\n",
       "    </tr>\n",
       "    <tr>\n",
       "      <th>2</th>\n",
       "      <td>5</td>\n",
       "      <td>Awesome</td>\n",
       "      <td>I dreamt about this day from a long time.... G...</td>\n",
       "    </tr>\n",
       "    <tr>\n",
       "      <th>3</th>\n",
       "      <td>4</td>\n",
       "      <td>Value-for-money</td>\n",
       "      <td>I'm Really happy with the productDelivery was ...</td>\n",
       "    </tr>\n",
       "    <tr>\n",
       "      <th>4</th>\n",
       "      <td>1</td>\n",
       "      <td>Worthless</td>\n",
       "      <td>Phone is awesome no doubt. But Camera &amp; Displa...</td>\n",
       "    </tr>\n",
       "    <tr>\n",
       "      <th>5</th>\n",
       "      <td>5</td>\n",
       "      <td>Simply awesome</td>\n",
       "      <td>Excellent camera, good performance, no lag. Th...</td>\n",
       "    </tr>\n",
       "    <tr>\n",
       "      <th>6</th>\n",
       "      <td>5</td>\n",
       "      <td>Wonderful</td>\n",
       "      <td>This is my first ever I phone. Before this I w...</td>\n",
       "    </tr>\n",
       "    <tr>\n",
       "      <th>7</th>\n",
       "      <td>5</td>\n",
       "      <td>Terrific</td>\n",
       "      <td>Really worth of money. i just love it. It is t...</td>\n",
       "    </tr>\n",
       "    <tr>\n",
       "      <th>8</th>\n",
       "      <td>5</td>\n",
       "      <td>Brilliant</td>\n",
       "      <td>Amazing phone and on great deal I received wit...</td>\n",
       "    </tr>\n",
       "    <tr>\n",
       "      <th>9</th>\n",
       "      <td>5</td>\n",
       "      <td>Excellent</td>\n",
       "      <td>Awesome...🤩😍😍</td>\n",
       "    </tr>\n",
       "  </tbody>\n",
       "</table>\n",
       "</div>"
      ],
      "text/plain": [
       "  Rating       Review summary  \\\n",
       "0      4      Value-for-money   \n",
       "1      5  Best in the market!   \n",
       "2      5              Awesome   \n",
       "3      4      Value-for-money   \n",
       "4      1            Worthless   \n",
       "5      5       Simply awesome   \n",
       "6      5            Wonderful   \n",
       "7      5             Terrific   \n",
       "8      5            Brilliant   \n",
       "9      5            Excellent   \n",
       "\n",
       "                                         Full review  \n",
       "0  Just got this iphone 11And it is most powerful...  \n",
       "1  Damn this phone is a blast . Upgraded from and...  \n",
       "2  I dreamt about this day from a long time.... G...  \n",
       "3  I'm Really happy with the productDelivery was ...  \n",
       "4  Phone is awesome no doubt. But Camera & Displa...  \n",
       "5  Excellent camera, good performance, no lag. Th...  \n",
       "6  This is my first ever I phone. Before this I w...  \n",
       "7  Really worth of money. i just love it. It is t...  \n",
       "8  Amazing phone and on great deal I received wit...  \n",
       "9                                      Awesome...🤩😍😍  "
      ]
     },
     "execution_count": 89,
     "metadata": {},
     "output_type": "execute_result"
    }
   ],
   "source": [
    "df5=scrap_filpkart(5)\n",
    "df5"
   ]
  },
  {
   "cell_type": "markdown",
   "id": "85b18e40",
   "metadata": {},
   "source": [
    "Now,lets Scrap for sixth page"
   ]
  },
  {
   "cell_type": "code",
   "execution_count": 90,
   "id": "3e1d97a4",
   "metadata": {
    "collapsed": true
   },
   "outputs": [
    {
     "data": {
      "text/html": [
       "<div>\n",
       "<style scoped>\n",
       "    .dataframe tbody tr th:only-of-type {\n",
       "        vertical-align: middle;\n",
       "    }\n",
       "\n",
       "    .dataframe tbody tr th {\n",
       "        vertical-align: top;\n",
       "    }\n",
       "\n",
       "    .dataframe thead th {\n",
       "        text-align: right;\n",
       "    }\n",
       "</style>\n",
       "<table border=\"1\" class=\"dataframe\">\n",
       "  <thead>\n",
       "    <tr style=\"text-align: right;\">\n",
       "      <th></th>\n",
       "      <th>Rating</th>\n",
       "      <th>Review summary</th>\n",
       "      <th>Full review</th>\n",
       "    </tr>\n",
       "  </thead>\n",
       "  <tbody>\n",
       "    <tr>\n",
       "      <th>0</th>\n",
       "      <td>5</td>\n",
       "      <td>Mind-blowing purchase</td>\n",
       "      <td>Best Quality Product OF iPhone Series , Sound ...</td>\n",
       "    </tr>\n",
       "    <tr>\n",
       "      <th>1</th>\n",
       "      <td>5</td>\n",
       "      <td>Wonderful</td>\n",
       "      <td>Finally purchased iphone 11 instead of XR and ...</td>\n",
       "    </tr>\n",
       "    <tr>\n",
       "      <th>2</th>\n",
       "      <td>5</td>\n",
       "      <td>Perfect product!</td>\n",
       "      <td>Battery backup is extraordinary, camera is dec...</td>\n",
       "    </tr>\n",
       "    <tr>\n",
       "      <th>3</th>\n",
       "      <td>5</td>\n",
       "      <td>Classy product</td>\n",
       "      <td>Superb Product !!!A big and worthy upgrade fro...</td>\n",
       "    </tr>\n",
       "    <tr>\n",
       "      <th>4</th>\n",
       "      <td>5</td>\n",
       "      <td>Awesome</td>\n",
       "      <td>I am using this phone for 5 days and its one o...</td>\n",
       "    </tr>\n",
       "    <tr>\n",
       "      <th>5</th>\n",
       "      <td>5</td>\n",
       "      <td>Just wow!</td>\n",
       "      <td>Camera battery and it’s overall performance is...</td>\n",
       "    </tr>\n",
       "    <tr>\n",
       "      <th>6</th>\n",
       "      <td>5</td>\n",
       "      <td>Perfect product!</td>\n",
       "      <td>Awesome purchase. Amazing phone with good batt...</td>\n",
       "    </tr>\n",
       "    <tr>\n",
       "      <th>7</th>\n",
       "      <td>5</td>\n",
       "      <td>Worth every penny</td>\n",
       "      <td>Here is the thingThe only reason why you shoul...</td>\n",
       "    </tr>\n",
       "    <tr>\n",
       "      <th>8</th>\n",
       "      <td>5</td>\n",
       "      <td>Fabulous!</td>\n",
       "      <td>awesome phone to have. it has got many smart f...</td>\n",
       "    </tr>\n",
       "    <tr>\n",
       "      <th>9</th>\n",
       "      <td>5</td>\n",
       "      <td>Must buy!</td>\n",
       "      <td>It’s an amazing product from apple and the cam...</td>\n",
       "    </tr>\n",
       "  </tbody>\n",
       "</table>\n",
       "</div>"
      ],
      "text/plain": [
       "  Rating         Review summary  \\\n",
       "0      5  Mind-blowing purchase   \n",
       "1      5              Wonderful   \n",
       "2      5       Perfect product!   \n",
       "3      5         Classy product   \n",
       "4      5                Awesome   \n",
       "5      5              Just wow!   \n",
       "6      5       Perfect product!   \n",
       "7      5      Worth every penny   \n",
       "8      5              Fabulous!   \n",
       "9      5              Must buy!   \n",
       "\n",
       "                                         Full review  \n",
       "0  Best Quality Product OF iPhone Series , Sound ...  \n",
       "1  Finally purchased iphone 11 instead of XR and ...  \n",
       "2  Battery backup is extraordinary, camera is dec...  \n",
       "3  Superb Product !!!A big and worthy upgrade fro...  \n",
       "4  I am using this phone for 5 days and its one o...  \n",
       "5  Camera battery and it’s overall performance is...  \n",
       "6  Awesome purchase. Amazing phone with good batt...  \n",
       "7  Here is the thingThe only reason why you shoul...  \n",
       "8  awesome phone to have. it has got many smart f...  \n",
       "9  It’s an amazing product from apple and the cam...  "
      ]
     },
     "execution_count": 90,
     "metadata": {},
     "output_type": "execute_result"
    }
   ],
   "source": [
    "df6=scrap_filpkart(6)\n",
    "df6"
   ]
  },
  {
   "cell_type": "markdown",
   "id": "84b81f52",
   "metadata": {},
   "source": [
    "Now,lets Scrap for seventh page"
   ]
  },
  {
   "cell_type": "code",
   "execution_count": 91,
   "id": "216d3861",
   "metadata": {
    "collapsed": true
   },
   "outputs": [
    {
     "data": {
      "text/html": [
       "<div>\n",
       "<style scoped>\n",
       "    .dataframe tbody tr th:only-of-type {\n",
       "        vertical-align: middle;\n",
       "    }\n",
       "\n",
       "    .dataframe tbody tr th {\n",
       "        vertical-align: top;\n",
       "    }\n",
       "\n",
       "    .dataframe thead th {\n",
       "        text-align: right;\n",
       "    }\n",
       "</style>\n",
       "<table border=\"1\" class=\"dataframe\">\n",
       "  <thead>\n",
       "    <tr style=\"text-align: right;\">\n",
       "      <th></th>\n",
       "      <th>Rating</th>\n",
       "      <th>Review summary</th>\n",
       "      <th>Full review</th>\n",
       "    </tr>\n",
       "  </thead>\n",
       "  <tbody>\n",
       "    <tr>\n",
       "      <th>0</th>\n",
       "      <td>4</td>\n",
       "      <td>Good quality product</td>\n",
       "      <td>I'm switching this phone to oppo reno 10x zoom...</td>\n",
       "    </tr>\n",
       "    <tr>\n",
       "      <th>1</th>\n",
       "      <td>5</td>\n",
       "      <td>Super!</td>\n",
       "      <td>Did an upgrade from 6s plus to iphone 11.Ao fa...</td>\n",
       "    </tr>\n",
       "    <tr>\n",
       "      <th>2</th>\n",
       "      <td>5</td>\n",
       "      <td>Excellent</td>\n",
       "      <td>Its a fabulous mobile look awesome performance...</td>\n",
       "    </tr>\n",
       "    <tr>\n",
       "      <th>3</th>\n",
       "      <td>5</td>\n",
       "      <td>Classy product</td>\n",
       "      <td>We are on apple ecosystem for almost eight yea...</td>\n",
       "    </tr>\n",
       "    <tr>\n",
       "      <th>4</th>\n",
       "      <td>5</td>\n",
       "      <td>Terrific purchase</td>\n",
       "      <td>Upgraded from iphone 6 to 11 best phone for ip...</td>\n",
       "    </tr>\n",
       "    <tr>\n",
       "      <th>5</th>\n",
       "      <td>4</td>\n",
       "      <td>Pretty good</td>\n",
       "      <td>I was using Iphone 6s and also Oneplus 6t. Bot...</td>\n",
       "    </tr>\n",
       "    <tr>\n",
       "      <th>6</th>\n",
       "      <td>5</td>\n",
       "      <td>Brilliant</td>\n",
       "      <td>Excellent camera and display touching very nic...</td>\n",
       "    </tr>\n",
       "    <tr>\n",
       "      <th>7</th>\n",
       "      <td>5</td>\n",
       "      <td>Simply awesome</td>\n",
       "      <td>It's very high performances devise i am like t...</td>\n",
       "    </tr>\n",
       "    <tr>\n",
       "      <th>8</th>\n",
       "      <td>5</td>\n",
       "      <td>Fabulous!</td>\n",
       "      <td>I can say I'm damn impressed with iPhone 11. A...</td>\n",
       "    </tr>\n",
       "    <tr>\n",
       "      <th>9</th>\n",
       "      <td>5</td>\n",
       "      <td>Terrific purchase</td>\n",
       "      <td>No word to say ..simply Awesome. Love it😘😘😘😘</td>\n",
       "    </tr>\n",
       "  </tbody>\n",
       "</table>\n",
       "</div>"
      ],
      "text/plain": [
       "  Rating        Review summary  \\\n",
       "0      4  Good quality product   \n",
       "1      5                Super!   \n",
       "2      5             Excellent   \n",
       "3      5        Classy product   \n",
       "4      5     Terrific purchase   \n",
       "5      4           Pretty good   \n",
       "6      5             Brilliant   \n",
       "7      5        Simply awesome   \n",
       "8      5             Fabulous!   \n",
       "9      5     Terrific purchase   \n",
       "\n",
       "                                         Full review  \n",
       "0  I'm switching this phone to oppo reno 10x zoom...  \n",
       "1  Did an upgrade from 6s plus to iphone 11.Ao fa...  \n",
       "2  Its a fabulous mobile look awesome performance...  \n",
       "3  We are on apple ecosystem for almost eight yea...  \n",
       "4  Upgraded from iphone 6 to 11 best phone for ip...  \n",
       "5  I was using Iphone 6s and also Oneplus 6t. Bot...  \n",
       "6  Excellent camera and display touching very nic...  \n",
       "7  It's very high performances devise i am like t...  \n",
       "8  I can say I'm damn impressed with iPhone 11. A...  \n",
       "9       No word to say ..simply Awesome. Love it😘😘😘😘  "
      ]
     },
     "execution_count": 91,
     "metadata": {},
     "output_type": "execute_result"
    }
   ],
   "source": [
    "df7=scrap_filpkart(7)\n",
    "df7"
   ]
  },
  {
   "cell_type": "markdown",
   "id": "a25554c4",
   "metadata": {},
   "source": [
    "Now,lets Scrap for eighth page"
   ]
  },
  {
   "cell_type": "code",
   "execution_count": 95,
   "id": "35f76b62",
   "metadata": {
    "collapsed": true
   },
   "outputs": [
    {
     "data": {
      "text/html": [
       "<div>\n",
       "<style scoped>\n",
       "    .dataframe tbody tr th:only-of-type {\n",
       "        vertical-align: middle;\n",
       "    }\n",
       "\n",
       "    .dataframe tbody tr th {\n",
       "        vertical-align: top;\n",
       "    }\n",
       "\n",
       "    .dataframe thead th {\n",
       "        text-align: right;\n",
       "    }\n",
       "</style>\n",
       "<table border=\"1\" class=\"dataframe\">\n",
       "  <thead>\n",
       "    <tr style=\"text-align: right;\">\n",
       "      <th></th>\n",
       "      <th>Rating</th>\n",
       "      <th>Review summary</th>\n",
       "      <th>Full review</th>\n",
       "    </tr>\n",
       "  </thead>\n",
       "  <tbody>\n",
       "    <tr>\n",
       "      <th>0</th>\n",
       "      <td>5</td>\n",
       "      <td>Just wow!</td>\n",
       "      <td>Best in class. Battery backup is good especial...</td>\n",
       "    </tr>\n",
       "    <tr>\n",
       "      <th>1</th>\n",
       "      <td>1</td>\n",
       "      <td>Absolute rubbish!</td>\n",
       "      <td>Products damage</td>\n",
       "    </tr>\n",
       "    <tr>\n",
       "      <th>2</th>\n",
       "      <td>5</td>\n",
       "      <td>Great product</td>\n",
       "      <td>Well you all know the specifications . One of ...</td>\n",
       "    </tr>\n",
       "    <tr>\n",
       "      <th>3</th>\n",
       "      <td>5</td>\n",
       "      <td>Excellent</td>\n",
       "      <td>A perfect phone and a good battery super camer...</td>\n",
       "    </tr>\n",
       "    <tr>\n",
       "      <th>4</th>\n",
       "      <td>1</td>\n",
       "      <td>Worthless</td>\n",
       "      <td>New Phone worked for 2 weeks. After it gone de...</td>\n",
       "    </tr>\n",
       "    <tr>\n",
       "      <th>5</th>\n",
       "      <td>5</td>\n",
       "      <td>Mind-blowing purchase</td>\n",
       "      <td>First thanks to Flipkart for this amazing deal...</td>\n",
       "    </tr>\n",
       "    <tr>\n",
       "      <th>6</th>\n",
       "      <td>5</td>\n",
       "      <td>Mind-blowing purchase</td>\n",
       "      <td>This will help you more. See if you are planni...</td>\n",
       "    </tr>\n",
       "    <tr>\n",
       "      <th>7</th>\n",
       "      <td>5</td>\n",
       "      <td>Super!</td>\n",
       "      <td>This is my first ever iPhone.And I truly don’t...</td>\n",
       "    </tr>\n",
       "    <tr>\n",
       "      <th>8</th>\n",
       "      <td>5</td>\n",
       "      <td>Best in the market!</td>\n",
       "      <td>The best all rounder iphone. Flipkart is doing...</td>\n",
       "    </tr>\n",
       "    <tr>\n",
       "      <th>9</th>\n",
       "      <td>5</td>\n",
       "      <td>Excellent</td>\n",
       "      <td>Amazing camera and feel super machine I am not...</td>\n",
       "    </tr>\n",
       "  </tbody>\n",
       "</table>\n",
       "</div>"
      ],
      "text/plain": [
       "  Rating         Review summary  \\\n",
       "0      5              Just wow!   \n",
       "1      1      Absolute rubbish!   \n",
       "2      5          Great product   \n",
       "3      5              Excellent   \n",
       "4      1              Worthless   \n",
       "5      5  Mind-blowing purchase   \n",
       "6      5  Mind-blowing purchase   \n",
       "7      5                 Super!   \n",
       "8      5    Best in the market!   \n",
       "9      5              Excellent   \n",
       "\n",
       "                                         Full review  \n",
       "0  Best in class. Battery backup is good especial...  \n",
       "1                                    Products damage  \n",
       "2  Well you all know the specifications . One of ...  \n",
       "3  A perfect phone and a good battery super camer...  \n",
       "4  New Phone worked for 2 weeks. After it gone de...  \n",
       "5  First thanks to Flipkart for this amazing deal...  \n",
       "6  This will help you more. See if you are planni...  \n",
       "7  This is my first ever iPhone.And I truly don’t...  \n",
       "8  The best all rounder iphone. Flipkart is doing...  \n",
       "9  Amazing camera and feel super machine I am not...  "
      ]
     },
     "execution_count": 95,
     "metadata": {},
     "output_type": "execute_result"
    }
   ],
   "source": [
    "df8=scrap_filpkart(8)\n",
    "df8"
   ]
  },
  {
   "cell_type": "markdown",
   "id": "4a17a253",
   "metadata": {},
   "source": [
    "Now,lets Scrap for ninth page"
   ]
  },
  {
   "cell_type": "code",
   "execution_count": 92,
   "id": "d958ac91",
   "metadata": {
    "collapsed": true
   },
   "outputs": [
    {
     "data": {
      "text/html": [
       "<div>\n",
       "<style scoped>\n",
       "    .dataframe tbody tr th:only-of-type {\n",
       "        vertical-align: middle;\n",
       "    }\n",
       "\n",
       "    .dataframe tbody tr th {\n",
       "        vertical-align: top;\n",
       "    }\n",
       "\n",
       "    .dataframe thead th {\n",
       "        text-align: right;\n",
       "    }\n",
       "</style>\n",
       "<table border=\"1\" class=\"dataframe\">\n",
       "  <thead>\n",
       "    <tr style=\"text-align: right;\">\n",
       "      <th></th>\n",
       "      <th>Rating</th>\n",
       "      <th>Review summary</th>\n",
       "      <th>Full review</th>\n",
       "    </tr>\n",
       "  </thead>\n",
       "  <tbody>\n",
       "    <tr>\n",
       "      <th>0</th>\n",
       "      <td>5</td>\n",
       "      <td>Wonderful</td>\n",
       "      <td>Superfast delivery by Flipkart. Thanks.1. iPho...</td>\n",
       "    </tr>\n",
       "    <tr>\n",
       "      <th>1</th>\n",
       "      <td>5</td>\n",
       "      <td>Awesome</td>\n",
       "      <td>Can’t beat the software and hardware integrati...</td>\n",
       "    </tr>\n",
       "    <tr>\n",
       "      <th>2</th>\n",
       "      <td>5</td>\n",
       "      <td>Perfect product!</td>\n",
       "      <td>Worth the money’ starting first from its perfo...</td>\n",
       "    </tr>\n",
       "    <tr>\n",
       "      <th>3</th>\n",
       "      <td>5</td>\n",
       "      <td>Terrific purchase</td>\n",
       "      <td>Its Very awesome product working and good came...</td>\n",
       "    </tr>\n",
       "    <tr>\n",
       "      <th>4</th>\n",
       "      <td>3</td>\n",
       "      <td>Does the job</td>\n",
       "      <td>phone is good but in display is 720p lcd in th...</td>\n",
       "    </tr>\n",
       "    <tr>\n",
       "      <th>5</th>\n",
       "      <td>5</td>\n",
       "      <td>Just wow!</td>\n",
       "      <td>Great iphone.I am writing this review after 2 ...</td>\n",
       "    </tr>\n",
       "    <tr>\n",
       "      <th>6</th>\n",
       "      <td>5</td>\n",
       "      <td>Terrific purchase</td>\n",
       "      <td>finally an iPhone with very nice battery backu...</td>\n",
       "    </tr>\n",
       "    <tr>\n",
       "      <th>7</th>\n",
       "      <td>5</td>\n",
       "      <td>Worth every penny</td>\n",
       "      <td>iPhone is delivered on time. Display is great ...</td>\n",
       "    </tr>\n",
       "    <tr>\n",
       "      <th>8</th>\n",
       "      <td>5</td>\n",
       "      <td>Great product</td>\n",
       "      <td>my 1st iphone,iphone 11 and xr also good in th...</td>\n",
       "    </tr>\n",
       "    <tr>\n",
       "      <th>9</th>\n",
       "      <td>5</td>\n",
       "      <td>Mind-blowing purchase</td>\n",
       "      <td>beautiful shining, battery performance is too ...</td>\n",
       "    </tr>\n",
       "  </tbody>\n",
       "</table>\n",
       "</div>"
      ],
      "text/plain": [
       "  Rating         Review summary  \\\n",
       "0      5              Wonderful   \n",
       "1      5                Awesome   \n",
       "2      5       Perfect product!   \n",
       "3      5      Terrific purchase   \n",
       "4      3           Does the job   \n",
       "5      5              Just wow!   \n",
       "6      5      Terrific purchase   \n",
       "7      5      Worth every penny   \n",
       "8      5          Great product   \n",
       "9      5  Mind-blowing purchase   \n",
       "\n",
       "                                         Full review  \n",
       "0  Superfast delivery by Flipkart. Thanks.1. iPho...  \n",
       "1  Can’t beat the software and hardware integrati...  \n",
       "2  Worth the money’ starting first from its perfo...  \n",
       "3  Its Very awesome product working and good came...  \n",
       "4  phone is good but in display is 720p lcd in th...  \n",
       "5  Great iphone.I am writing this review after 2 ...  \n",
       "6  finally an iPhone with very nice battery backu...  \n",
       "7  iPhone is delivered on time. Display is great ...  \n",
       "8  my 1st iphone,iphone 11 and xr also good in th...  \n",
       "9  beautiful shining, battery performance is too ...  "
      ]
     },
     "execution_count": 92,
     "metadata": {},
     "output_type": "execute_result"
    }
   ],
   "source": [
    "df9=scrap_filpkart(9)\n",
    "df9"
   ]
  },
  {
   "cell_type": "markdown",
   "id": "fd218ea4",
   "metadata": {},
   "source": [
    "Now,lets Scrap for tenth page"
   ]
  },
  {
   "cell_type": "code",
   "execution_count": 93,
   "id": "fd97f559",
   "metadata": {
    "collapsed": true
   },
   "outputs": [
    {
     "data": {
      "text/html": [
       "<div>\n",
       "<style scoped>\n",
       "    .dataframe tbody tr th:only-of-type {\n",
       "        vertical-align: middle;\n",
       "    }\n",
       "\n",
       "    .dataframe tbody tr th {\n",
       "        vertical-align: top;\n",
       "    }\n",
       "\n",
       "    .dataframe thead th {\n",
       "        text-align: right;\n",
       "    }\n",
       "</style>\n",
       "<table border=\"1\" class=\"dataframe\">\n",
       "  <thead>\n",
       "    <tr style=\"text-align: right;\">\n",
       "      <th></th>\n",
       "      <th>Rating</th>\n",
       "      <th>Review summary</th>\n",
       "      <th>Full review</th>\n",
       "    </tr>\n",
       "  </thead>\n",
       "  <tbody>\n",
       "    <tr>\n",
       "      <th>0</th>\n",
       "      <td>5</td>\n",
       "      <td>Highly recommended</td>\n",
       "      <td>Iphone11 (4/64)GB Green color</td>\n",
       "    </tr>\n",
       "    <tr>\n",
       "      <th>1</th>\n",
       "      <td>5</td>\n",
       "      <td>Excellent</td>\n",
       "      <td>🤩🤩🤩🤩🤩🤩I loved the Phone.. Every time I pick up...</td>\n",
       "    </tr>\n",
       "    <tr>\n",
       "      <th>2</th>\n",
       "      <td>5</td>\n",
       "      <td>Fabulous!</td>\n",
       "      <td>Gift this to your loved ones fabulous product ...</td>\n",
       "    </tr>\n",
       "    <tr>\n",
       "      <th>3</th>\n",
       "      <td>1</td>\n",
       "      <td>Waste of money!</td>\n",
       "      <td>Mobile is not getting charge.Mobile cannot be ...</td>\n",
       "    </tr>\n",
       "    <tr>\n",
       "      <th>4</th>\n",
       "      <td>5</td>\n",
       "      <td>Terrific</td>\n",
       "      <td>I got this beast today. And I must say the pic...</td>\n",
       "    </tr>\n",
       "    <tr>\n",
       "      <th>5</th>\n",
       "      <td>5</td>\n",
       "      <td>Highly recommended</td>\n",
       "      <td>Amazing camera quality as expected, battery al...</td>\n",
       "    </tr>\n",
       "    <tr>\n",
       "      <th>6</th>\n",
       "      <td>5</td>\n",
       "      <td>Must buy!</td>\n",
       "      <td>Dear friends... I want to share my experience ...</td>\n",
       "    </tr>\n",
       "    <tr>\n",
       "      <th>7</th>\n",
       "      <td>5</td>\n",
       "      <td>Must buy!</td>\n",
       "      <td>Camera is excellent just lack of telephoto mod...</td>\n",
       "    </tr>\n",
       "    <tr>\n",
       "      <th>8</th>\n",
       "      <td>5</td>\n",
       "      <td>Excellent</td>\n",
       "      <td>It was amazing experience for me. Honestly i a...</td>\n",
       "    </tr>\n",
       "    <tr>\n",
       "      <th>9</th>\n",
       "      <td>5</td>\n",
       "      <td>Just wow!</td>\n",
       "      <td>Not mere a phone , Its more than that for fun ...</td>\n",
       "    </tr>\n",
       "  </tbody>\n",
       "</table>\n",
       "</div>"
      ],
      "text/plain": [
       "  Rating      Review summary  \\\n",
       "0      5  Highly recommended   \n",
       "1      5           Excellent   \n",
       "2      5           Fabulous!   \n",
       "3      1     Waste of money!   \n",
       "4      5            Terrific   \n",
       "5      5  Highly recommended   \n",
       "6      5           Must buy!   \n",
       "7      5           Must buy!   \n",
       "8      5           Excellent   \n",
       "9      5           Just wow!   \n",
       "\n",
       "                                         Full review  \n",
       "0                      Iphone11 (4/64)GB Green color  \n",
       "1  🤩🤩🤩🤩🤩🤩I loved the Phone.. Every time I pick up...  \n",
       "2  Gift this to your loved ones fabulous product ...  \n",
       "3  Mobile is not getting charge.Mobile cannot be ...  \n",
       "4  I got this beast today. And I must say the pic...  \n",
       "5  Amazing camera quality as expected, battery al...  \n",
       "6  Dear friends... I want to share my experience ...  \n",
       "7  Camera is excellent just lack of telephoto mod...  \n",
       "8  It was amazing experience for me. Honestly i a...  \n",
       "9  Not mere a phone , Its more than that for fun ...  "
      ]
     },
     "execution_count": 93,
     "metadata": {},
     "output_type": "execute_result"
    }
   ],
   "source": [
    "df10=scrap_filpkart(10)\n",
    "df10"
   ]
  },
  {
   "cell_type": "markdown",
   "id": "525790a0",
   "metadata": {},
   "source": [
    "So we have the data for all pages in different DataFrames. Lets combine them into one and reset the Index"
   ]
  },
  {
   "cell_type": "code",
   "execution_count": 96,
   "id": "f41c3144",
   "metadata": {},
   "outputs": [],
   "source": [
    "final_df=pd.concat([df1,df2,df3,df4,df5,df6,df7,df8,df9,df10]).reset_index()"
   ]
  },
  {
   "cell_type": "code",
   "execution_count": 97,
   "id": "9d43e59b",
   "metadata": {},
   "outputs": [],
   "source": [
    "final_df=final_df.drop(['index'], axis = 1)"
   ]
  },
  {
   "cell_type": "code",
   "execution_count": 98,
   "id": "c702279a",
   "metadata": {},
   "outputs": [
    {
     "data": {
      "text/html": [
       "<div>\n",
       "<style scoped>\n",
       "    .dataframe tbody tr th:only-of-type {\n",
       "        vertical-align: middle;\n",
       "    }\n",
       "\n",
       "    .dataframe tbody tr th {\n",
       "        vertical-align: top;\n",
       "    }\n",
       "\n",
       "    .dataframe thead th {\n",
       "        text-align: right;\n",
       "    }\n",
       "</style>\n",
       "<table border=\"1\" class=\"dataframe\">\n",
       "  <thead>\n",
       "    <tr style=\"text-align: right;\">\n",
       "      <th></th>\n",
       "      <th>Rating</th>\n",
       "      <th>Review summary</th>\n",
       "      <th>Full review</th>\n",
       "    </tr>\n",
       "  </thead>\n",
       "  <tbody>\n",
       "    <tr>\n",
       "      <th>0</th>\n",
       "      <td>5</td>\n",
       "      <td>Brilliant</td>\n",
       "      <td>The Best Phone for the MoneyThe iPhone 11 offe...</td>\n",
       "    </tr>\n",
       "    <tr>\n",
       "      <th>1</th>\n",
       "      <td>5</td>\n",
       "      <td>Simply awesome</td>\n",
       "      <td>Really satisfied with the Product I received.....</td>\n",
       "    </tr>\n",
       "    <tr>\n",
       "      <th>2</th>\n",
       "      <td>5</td>\n",
       "      <td>Best in the market!</td>\n",
       "      <td>Great iPhone very snappy experience as apple k...</td>\n",
       "    </tr>\n",
       "    <tr>\n",
       "      <th>3</th>\n",
       "      <td>5</td>\n",
       "      <td>Perfect product!</td>\n",
       "      <td>Amazing phone with great cameras and better ba...</td>\n",
       "    </tr>\n",
       "    <tr>\n",
       "      <th>4</th>\n",
       "      <td>5</td>\n",
       "      <td>Fabulous!</td>\n",
       "      <td>This is my first iOS phone. I am very happy wi...</td>\n",
       "    </tr>\n",
       "    <tr>\n",
       "      <th>...</th>\n",
       "      <td>...</td>\n",
       "      <td>...</td>\n",
       "      <td>...</td>\n",
       "    </tr>\n",
       "    <tr>\n",
       "      <th>95</th>\n",
       "      <td>5</td>\n",
       "      <td>Highly recommended</td>\n",
       "      <td>Amazing camera quality as expected, battery al...</td>\n",
       "    </tr>\n",
       "    <tr>\n",
       "      <th>96</th>\n",
       "      <td>5</td>\n",
       "      <td>Must buy!</td>\n",
       "      <td>Dear friends... I want to share my experience ...</td>\n",
       "    </tr>\n",
       "    <tr>\n",
       "      <th>97</th>\n",
       "      <td>5</td>\n",
       "      <td>Must buy!</td>\n",
       "      <td>Camera is excellent just lack of telephoto mod...</td>\n",
       "    </tr>\n",
       "    <tr>\n",
       "      <th>98</th>\n",
       "      <td>5</td>\n",
       "      <td>Excellent</td>\n",
       "      <td>It was amazing experience for me. Honestly i a...</td>\n",
       "    </tr>\n",
       "    <tr>\n",
       "      <th>99</th>\n",
       "      <td>5</td>\n",
       "      <td>Just wow!</td>\n",
       "      <td>Not mere a phone , Its more than that for fun ...</td>\n",
       "    </tr>\n",
       "  </tbody>\n",
       "</table>\n",
       "<p>100 rows × 3 columns</p>\n",
       "</div>"
      ],
      "text/plain": [
       "   Rating       Review summary  \\\n",
       "0       5            Brilliant   \n",
       "1       5       Simply awesome   \n",
       "2       5  Best in the market!   \n",
       "3       5     Perfect product!   \n",
       "4       5            Fabulous!   \n",
       "..    ...                  ...   \n",
       "95      5   Highly recommended   \n",
       "96      5            Must buy!   \n",
       "97      5            Must buy!   \n",
       "98      5            Excellent   \n",
       "99      5            Just wow!   \n",
       "\n",
       "                                          Full review  \n",
       "0   The Best Phone for the MoneyThe iPhone 11 offe...  \n",
       "1   Really satisfied with the Product I received.....  \n",
       "2   Great iPhone very snappy experience as apple k...  \n",
       "3   Amazing phone with great cameras and better ba...  \n",
       "4   This is my first iOS phone. I am very happy wi...  \n",
       "..                                                ...  \n",
       "95  Amazing camera quality as expected, battery al...  \n",
       "96  Dear friends... I want to share my experience ...  \n",
       "97  Camera is excellent just lack of telephoto mod...  \n",
       "98  It was amazing experience for me. Honestly i a...  \n",
       "99  Not mere a phone , Its more than that for fun ...  \n",
       "\n",
       "[100 rows x 3 columns]"
      ]
     },
     "execution_count": 98,
     "metadata": {},
     "output_type": "execute_result"
    }
   ],
   "source": [
    "final_df"
   ]
  },
  {
   "cell_type": "markdown",
   "id": "088cb12d",
   "metadata": {},
   "source": [
    "# Q6: \n",
    "Scrape data for first 100 sneakers you find when you visit flipkart.com andsearch for “sneakers” in the search field.\n",
    "You have to scrape 4 attributes of each sneaker:\n",
    "1. Brand\n",
    "2. Product Description\n",
    "3. Price\n",
    "As shown in the below image, you have to scrape the tick marked attributes"
   ]
  },
  {
   "cell_type": "code",
   "execution_count": 22,
   "id": "eea2c078",
   "metadata": {},
   "outputs": [],
   "source": [
    "driver=webdriver.Chrome('chromedriver.exe')"
   ]
  },
  {
   "cell_type": "code",
   "execution_count": 23,
   "id": "5eeaca03",
   "metadata": {},
   "outputs": [],
   "source": [
    "url='https://www.flipkart.com/'\n",
    "#This opens the flipkart.com url automatically in the Chrome\n",
    "driver.get(url)"
   ]
  },
  {
   "cell_type": "code",
   "execution_count": 24,
   "id": "2452b079",
   "metadata": {},
   "outputs": [],
   "source": [
    "#The login screen appears, lets close that\n",
    "close_login_screen=driver.find_element_by_xpath('//button[@class=\"_2KpZ6l _2doB4z\"]').click()\n"
   ]
  },
  {
   "cell_type": "markdown",
   "id": "99a3e472",
   "metadata": {},
   "source": [
    "We see that the login screen pop up gets closed and now we can proceed with Scraping the sneakers in the search field"
   ]
  },
  {
   "cell_type": "code",
   "execution_count": 25,
   "id": "d1d2769a",
   "metadata": {},
   "outputs": [
    {
     "data": {
      "text/plain": [
       "<selenium.webdriver.remote.webelement.WebElement (session=\"f73e8a03b622dbc10a310e8cd2a0e784\", element=\"92d5d4d5-3b66-4ad0-9365-5e0c72e6d7d2\")>"
      ]
     },
     "execution_count": 25,
     "metadata": {},
     "output_type": "execute_result"
    }
   ],
   "source": [
    "#Finding web element for search job by using class name\n",
    "search_sneakers=driver.find_element_by_xpath('/html/body/div/div/div[1]/div[1]/div[2]/div[2]/form/div/div/input')\n",
    "search_sneakers"
   ]
  },
  {
   "cell_type": "code",
   "execution_count": 26,
   "id": "7f9da66b",
   "metadata": {},
   "outputs": [],
   "source": [
    "#Next is if we write on Search bar, we will get the output\n",
    "search_sneakers.send_keys('sneakers')"
   ]
  },
  {
   "cell_type": "code",
   "execution_count": 27,
   "id": "65a45658",
   "metadata": {},
   "outputs": [
    {
     "data": {
      "text/plain": [
       "<selenium.webdriver.remote.webelement.WebElement (session=\"f73e8a03b622dbc10a310e8cd2a0e784\", element=\"d423a6c9-3809-4404-aa5a-683538988c40\")>"
      ]
     },
     "execution_count": 27,
     "metadata": {},
     "output_type": "execute_result"
    }
   ],
   "source": [
    "search_btn=driver.find_element_by_xpath('/html/body/div[1]/div/div[1]/div[1]/div[2]/div[2]/form/div/button')\n",
    "search_btn"
   ]
  },
  {
   "cell_type": "code",
   "execution_count": 28,
   "id": "7cfb184d",
   "metadata": {},
   "outputs": [],
   "source": [
    "search_btn.click()"
   ]
  },
  {
   "cell_type": "code",
   "execution_count": 29,
   "id": "3b3b24cf",
   "metadata": {},
   "outputs": [
    {
     "data": {
      "text/plain": [
       "40"
      ]
     },
     "execution_count": 29,
     "metadata": {},
     "output_type": "execute_result"
    }
   ],
   "source": [
    "price=driver.find_elements_by_xpath('//div[@class=\"_30jeq3\"]')\n",
    "len(price)"
   ]
  },
  {
   "cell_type": "code",
   "execution_count": 30,
   "id": "39afab6a",
   "metadata": {
    "collapsed": true
   },
   "outputs": [
    {
     "data": {
      "text/plain": [
       "['699',\n",
       " '499',\n",
       " '499',\n",
       " '649',\n",
       " '299',\n",
       " '199',\n",
       " '398',\n",
       " '259',\n",
       " '499',\n",
       " '249',\n",
       " '349',\n",
       " '449',\n",
       " '189',\n",
       " '429',\n",
       " '499',\n",
       " '499',\n",
       " '345',\n",
       " '472',\n",
       " '259',\n",
       " '549',\n",
       " '489',\n",
       " '549',\n",
       " '379',\n",
       " '259',\n",
       " '299',\n",
       " '474',\n",
       " '499',\n",
       " '499',\n",
       " '680',\n",
       " '1,924',\n",
       " '220',\n",
       " '499',\n",
       " '499',\n",
       " '259',\n",
       " '259',\n",
       " '474',\n",
       " '249',\n",
       " '499',\n",
       " '649',\n",
       " '1,648']"
      ]
     },
     "execution_count": 30,
     "metadata": {},
     "output_type": "execute_result"
    }
   ],
   "source": [
    "prices=[]\n",
    "for i in price:\n",
    "    prices.append(i.text.replace('₹',''))\n",
    "prices"
   ]
  },
  {
   "cell_type": "code",
   "execution_count": 31,
   "id": "97ae11d1",
   "metadata": {},
   "outputs": [
    {
     "data": {
      "text/plain": [
       "40"
      ]
     },
     "execution_count": 31,
     "metadata": {},
     "output_type": "execute_result"
    }
   ],
   "source": [
    "brand=driver.find_elements_by_xpath('//div[@class=\"_2WkVRV\"]')\n",
    "len(brand)"
   ]
  },
  {
   "cell_type": "code",
   "execution_count": 32,
   "id": "399b2b35",
   "metadata": {
    "collapsed": true
   },
   "outputs": [
    {
     "data": {
      "text/plain": [
       "['Absolutee shoes',\n",
       " 'Echor',\n",
       " 'BRUTON',\n",
       " 'Chevit',\n",
       " 'BRUTON',\n",
       " 'World Wear Footwear',\n",
       " 'SCATCHITE',\n",
       " 'Chevit',\n",
       " 'Labbin',\n",
       " 'CLYMB',\n",
       " 'Elevarse',\n",
       " 'RODDICK SHOES',\n",
       " 'BRUTON',\n",
       " 'luxury fashion',\n",
       " 'BRUTON',\n",
       " 'PEHANOSA',\n",
       " 'Shoes Bank',\n",
       " 'Magnolia',\n",
       " 'BRUTON',\n",
       " 'CLYMB',\n",
       " 'Chevit',\n",
       " 'Rzisbo',\n",
       " 'aadi',\n",
       " 'Chevit',\n",
       " 'BIRDE',\n",
       " 'Numenzo',\n",
       " 'ASTEROID',\n",
       " 'Echor',\n",
       " 'RapidBox',\n",
       " 'PUMA',\n",
       " 'URBANBOX',\n",
       " 'DUNKASTON',\n",
       " 'Kraasa',\n",
       " 'World Wear Footwear',\n",
       " 'World Wear Footwear',\n",
       " 'Echor',\n",
       " 'CLYMB',\n",
       " 'ASTEROID',\n",
       " 'CLYMB',\n",
       " 'RED TAPE']"
      ]
     },
     "execution_count": 32,
     "metadata": {},
     "output_type": "execute_result"
    }
   ],
   "source": [
    "brands=[]\n",
    "for i in brand:\n",
    "    brands.append(i.text)\n",
    "brands"
   ]
  },
  {
   "cell_type": "code",
   "execution_count": 33,
   "id": "ad679f44",
   "metadata": {},
   "outputs": [
    {
     "data": {
      "text/plain": [
       "40"
      ]
     },
     "execution_count": 33,
     "metadata": {},
     "output_type": "execute_result"
    }
   ],
   "source": [
    "prdoDesc=driver.find_elements_by_class_name(\"IRpwTa\")\n",
    "len(prdoDesc)"
   ]
  },
  {
   "cell_type": "code",
   "execution_count": 34,
   "id": "16572580",
   "metadata": {
    "collapsed": true
   },
   "outputs": [
    {
     "data": {
      "text/plain": [
       "['Sneakers For Men',\n",
       " \"Echor Men's Sneakers Fashion Lightweight Running Shoes ...\",\n",
       " 'Combo Pack Of 4 Casual Shoes Loafer Shoes Sneakers For ...',\n",
       " 'Super Stylish & Trendy Combo Pack of 02 Pairs Sneakers ...',\n",
       " 'Modern Trendy Sneakers Shoes Sneakers For Men',\n",
       " '5011-Latest Collection Stylish Casual Loafer Sneakers S...',\n",
       " 'Sneakers Sneakers For Men',\n",
       " '516 Trendy Star Perfect Sneakers For Men',\n",
       " 'Sneakers For Men',\n",
       " \"Perfect Sports Shoes for Men's Running ,Cycling & Trekk...\",\n",
       " 'Stylish Comfortable shoes Sneakers For Men',\n",
       " 'Fashion Outdoor Canvas Casual Light Weight Lace-up Even...',\n",
       " 'Lightweight Pack Of 1 Trendy Sneakers Sneakers Sneakers...',\n",
       " 'Luxury Fashionable casual shoes Sneakers For Men',\n",
       " 'Combo Pack Of 2 Latest Stylish Casual Shoes for Men Lac...',\n",
       " 'Sneaker for men Sneakers For Men',\n",
       " \"White Sneaker For Men's/Boy's Sneakers For Men\",\n",
       " 'Sneakers For Men',\n",
       " 'Lattest Sneakers Shoe Sneakers For Men',\n",
       " \"Perfect Casual Loafer Shoes for Men's Running Training ...\",\n",
       " 'Perfect & Affordable Combo Pack of 02 Pairs Sneakers Ou...',\n",
       " 'Sneakers For Men',\n",
       " 'Sneakers For Men',\n",
       " 'Trendy Sneakers Outdoor Loafer Sports for Running Rock ...',\n",
       " 'Sports Running Shoes Sneakers For Men',\n",
       " '411 Casual Sneakers For Men',\n",
       " \"Original Luxury Branded Fashionable Men's Casual Walkin...\",\n",
       " \"Men's Sneakers Fashion Lightweight Running Shoes Tennis...\",\n",
       " 'Sneakers For Men',\n",
       " 'Puma Smash v2 L Sneakers For Men',\n",
       " 'Sneakers Sneakers For Men',\n",
       " 'Sneakers For Men',\n",
       " 'Shark-41 Sneakers For Men',\n",
       " 'Sneakers For Men',\n",
       " 'Men 5014 Latest Collection Stylish Casual Sports Loafer...',\n",
       " 'Sneakers For Men',\n",
       " 'Clymb Training & Gym Shoes For Men Sneakers For Men',\n",
       " \"Original Luxury Branded Fashionable Men's Casual Walkin...\",\n",
       " 'Sneakers For Men',\n",
       " 'Sneakers For Men']"
      ]
     },
     "execution_count": 34,
     "metadata": {},
     "output_type": "execute_result"
    }
   ],
   "source": [
    "prdoDescs=[]\n",
    "for i in prdoDesc:\n",
    "    prdoDescs.append(i.text)\n",
    "prdoDescs"
   ]
  },
  {
   "cell_type": "code",
   "execution_count": 35,
   "id": "55e3d9dc",
   "metadata": {},
   "outputs": [
    {
     "data": {
      "text/plain": [
       "40"
      ]
     },
     "execution_count": 35,
     "metadata": {},
     "output_type": "execute_result"
    }
   ],
   "source": [
    "dicountPercent=driver.find_elements_by_xpath('//div[@class=\"_3Ay6Sb\"]')\n",
    "len(dicountPercent)"
   ]
  },
  {
   "cell_type": "code",
   "execution_count": 36,
   "id": "673d239a",
   "metadata": {
    "collapsed": true
   },
   "outputs": [
    {
     "data": {
      "text/plain": [
       "['53% off',\n",
       " '66% off',\n",
       " '85% off',\n",
       " '59% off',\n",
       " '76% off',\n",
       " '60% off',\n",
       " '60% off',\n",
       " '67% off',\n",
       " '50% off',\n",
       " '75% off',\n",
       " '65% off',\n",
       " '55% off',\n",
       " '68% off',\n",
       " '66% off',\n",
       " '80% off',\n",
       " '50% off',\n",
       " '65% off',\n",
       " '52% off',\n",
       " '80% off',\n",
       " '45% off',\n",
       " '72% off',\n",
       " '45% off',\n",
       " '62% off',\n",
       " '48% off',\n",
       " '40% off',\n",
       " '76% off',\n",
       " '75% off',\n",
       " '50% off',\n",
       " '31% off',\n",
       " '45% off',\n",
       " '77% off',\n",
       " '75% off',\n",
       " '50% off',\n",
       " '48% off',\n",
       " '48% off',\n",
       " '68% off',\n",
       " '75% off',\n",
       " '50% off',\n",
       " '56% off',\n",
       " '70% off']"
      ]
     },
     "execution_count": 36,
     "metadata": {},
     "output_type": "execute_result"
    }
   ],
   "source": [
    "dicountPercents=[]\n",
    "for i in dicountPercent:\n",
    "    dicountPercents.append(i.text)\n",
    "dicountPercents"
   ]
  },
  {
   "cell_type": "code",
   "execution_count": 37,
   "id": "4b798655",
   "metadata": {
    "collapsed": true
   },
   "outputs": [
    {
     "data": {
      "text/html": [
       "<div>\n",
       "<style scoped>\n",
       "    .dataframe tbody tr th:only-of-type {\n",
       "        vertical-align: middle;\n",
       "    }\n",
       "\n",
       "    .dataframe tbody tr th {\n",
       "        vertical-align: top;\n",
       "    }\n",
       "\n",
       "    .dataframe thead th {\n",
       "        text-align: right;\n",
       "    }\n",
       "</style>\n",
       "<table border=\"1\" class=\"dataframe\">\n",
       "  <thead>\n",
       "    <tr style=\"text-align: right;\">\n",
       "      <th></th>\n",
       "      <th>Brand</th>\n",
       "      <th>Product Description</th>\n",
       "      <th>Price</th>\n",
       "      <th>Discount</th>\n",
       "    </tr>\n",
       "  </thead>\n",
       "  <tbody>\n",
       "    <tr>\n",
       "      <th>0</th>\n",
       "      <td>Absolutee shoes</td>\n",
       "      <td>Sneakers For Men</td>\n",
       "      <td>699</td>\n",
       "      <td>53% off</td>\n",
       "    </tr>\n",
       "    <tr>\n",
       "      <th>1</th>\n",
       "      <td>Echor</td>\n",
       "      <td>Echor Men's Sneakers Fashion Lightweight Runni...</td>\n",
       "      <td>499</td>\n",
       "      <td>66% off</td>\n",
       "    </tr>\n",
       "    <tr>\n",
       "      <th>2</th>\n",
       "      <td>BRUTON</td>\n",
       "      <td>Combo Pack Of 4 Casual Shoes Loafer Shoes Snea...</td>\n",
       "      <td>499</td>\n",
       "      <td>85% off</td>\n",
       "    </tr>\n",
       "    <tr>\n",
       "      <th>3</th>\n",
       "      <td>Chevit</td>\n",
       "      <td>Super Stylish &amp; Trendy Combo Pack of 02 Pairs ...</td>\n",
       "      <td>649</td>\n",
       "      <td>59% off</td>\n",
       "    </tr>\n",
       "    <tr>\n",
       "      <th>4</th>\n",
       "      <td>BRUTON</td>\n",
       "      <td>Modern Trendy Sneakers Shoes Sneakers For Men</td>\n",
       "      <td>299</td>\n",
       "      <td>76% off</td>\n",
       "    </tr>\n",
       "    <tr>\n",
       "      <th>5</th>\n",
       "      <td>World Wear Footwear</td>\n",
       "      <td>5011-Latest Collection Stylish Casual Loafer S...</td>\n",
       "      <td>199</td>\n",
       "      <td>60% off</td>\n",
       "    </tr>\n",
       "    <tr>\n",
       "      <th>6</th>\n",
       "      <td>SCATCHITE</td>\n",
       "      <td>Sneakers Sneakers For Men</td>\n",
       "      <td>398</td>\n",
       "      <td>60% off</td>\n",
       "    </tr>\n",
       "    <tr>\n",
       "      <th>7</th>\n",
       "      <td>Chevit</td>\n",
       "      <td>516 Trendy Star Perfect Sneakers For Men</td>\n",
       "      <td>259</td>\n",
       "      <td>67% off</td>\n",
       "    </tr>\n",
       "    <tr>\n",
       "      <th>8</th>\n",
       "      <td>Labbin</td>\n",
       "      <td>Sneakers For Men</td>\n",
       "      <td>499</td>\n",
       "      <td>50% off</td>\n",
       "    </tr>\n",
       "    <tr>\n",
       "      <th>9</th>\n",
       "      <td>CLYMB</td>\n",
       "      <td>Perfect Sports Shoes for Men's Running ,Cyclin...</td>\n",
       "      <td>249</td>\n",
       "      <td>75% off</td>\n",
       "    </tr>\n",
       "    <tr>\n",
       "      <th>10</th>\n",
       "      <td>Elevarse</td>\n",
       "      <td>Stylish Comfortable shoes Sneakers For Men</td>\n",
       "      <td>349</td>\n",
       "      <td>65% off</td>\n",
       "    </tr>\n",
       "    <tr>\n",
       "      <th>11</th>\n",
       "      <td>RODDICK SHOES</td>\n",
       "      <td>Fashion Outdoor Canvas Casual Light Weight Lac...</td>\n",
       "      <td>449</td>\n",
       "      <td>55% off</td>\n",
       "    </tr>\n",
       "    <tr>\n",
       "      <th>12</th>\n",
       "      <td>BRUTON</td>\n",
       "      <td>Lightweight Pack Of 1 Trendy Sneakers Sneakers...</td>\n",
       "      <td>189</td>\n",
       "      <td>68% off</td>\n",
       "    </tr>\n",
       "    <tr>\n",
       "      <th>13</th>\n",
       "      <td>luxury fashion</td>\n",
       "      <td>Luxury Fashionable casual shoes Sneakers For Men</td>\n",
       "      <td>429</td>\n",
       "      <td>66% off</td>\n",
       "    </tr>\n",
       "    <tr>\n",
       "      <th>14</th>\n",
       "      <td>BRUTON</td>\n",
       "      <td>Combo Pack Of 2 Latest Stylish Casual Shoes fo...</td>\n",
       "      <td>499</td>\n",
       "      <td>80% off</td>\n",
       "    </tr>\n",
       "    <tr>\n",
       "      <th>15</th>\n",
       "      <td>PEHANOSA</td>\n",
       "      <td>Sneaker for men Sneakers For Men</td>\n",
       "      <td>499</td>\n",
       "      <td>50% off</td>\n",
       "    </tr>\n",
       "    <tr>\n",
       "      <th>16</th>\n",
       "      <td>Shoes Bank</td>\n",
       "      <td>White Sneaker For Men's/Boy's Sneakers For Men</td>\n",
       "      <td>345</td>\n",
       "      <td>65% off</td>\n",
       "    </tr>\n",
       "    <tr>\n",
       "      <th>17</th>\n",
       "      <td>Magnolia</td>\n",
       "      <td>Sneakers For Men</td>\n",
       "      <td>472</td>\n",
       "      <td>52% off</td>\n",
       "    </tr>\n",
       "    <tr>\n",
       "      <th>18</th>\n",
       "      <td>BRUTON</td>\n",
       "      <td>Lattest Sneakers Shoe Sneakers For Men</td>\n",
       "      <td>259</td>\n",
       "      <td>80% off</td>\n",
       "    </tr>\n",
       "    <tr>\n",
       "      <th>19</th>\n",
       "      <td>CLYMB</td>\n",
       "      <td>Perfect Casual Loafer Shoes for Men's Running ...</td>\n",
       "      <td>549</td>\n",
       "      <td>45% off</td>\n",
       "    </tr>\n",
       "    <tr>\n",
       "      <th>20</th>\n",
       "      <td>Chevit</td>\n",
       "      <td>Perfect &amp; Affordable Combo Pack of 02 Pairs Sn...</td>\n",
       "      <td>489</td>\n",
       "      <td>72% off</td>\n",
       "    </tr>\n",
       "    <tr>\n",
       "      <th>21</th>\n",
       "      <td>Rzisbo</td>\n",
       "      <td>Sneakers For Men</td>\n",
       "      <td>549</td>\n",
       "      <td>45% off</td>\n",
       "    </tr>\n",
       "    <tr>\n",
       "      <th>22</th>\n",
       "      <td>aadi</td>\n",
       "      <td>Sneakers For Men</td>\n",
       "      <td>379</td>\n",
       "      <td>62% off</td>\n",
       "    </tr>\n",
       "    <tr>\n",
       "      <th>23</th>\n",
       "      <td>Chevit</td>\n",
       "      <td>Trendy Sneakers Outdoor Loafer Sports for Runn...</td>\n",
       "      <td>259</td>\n",
       "      <td>48% off</td>\n",
       "    </tr>\n",
       "    <tr>\n",
       "      <th>24</th>\n",
       "      <td>BIRDE</td>\n",
       "      <td>Sports Running Shoes Sneakers For Men</td>\n",
       "      <td>299</td>\n",
       "      <td>40% off</td>\n",
       "    </tr>\n",
       "    <tr>\n",
       "      <th>25</th>\n",
       "      <td>Numenzo</td>\n",
       "      <td>411 Casual Sneakers For Men</td>\n",
       "      <td>474</td>\n",
       "      <td>76% off</td>\n",
       "    </tr>\n",
       "    <tr>\n",
       "      <th>26</th>\n",
       "      <td>ASTEROID</td>\n",
       "      <td>Original Luxury Branded Fashionable Men's Casu...</td>\n",
       "      <td>499</td>\n",
       "      <td>75% off</td>\n",
       "    </tr>\n",
       "    <tr>\n",
       "      <th>27</th>\n",
       "      <td>Echor</td>\n",
       "      <td>Men's Sneakers Fashion Lightweight Running Sho...</td>\n",
       "      <td>499</td>\n",
       "      <td>50% off</td>\n",
       "    </tr>\n",
       "    <tr>\n",
       "      <th>28</th>\n",
       "      <td>RapidBox</td>\n",
       "      <td>Sneakers For Men</td>\n",
       "      <td>680</td>\n",
       "      <td>31% off</td>\n",
       "    </tr>\n",
       "    <tr>\n",
       "      <th>29</th>\n",
       "      <td>PUMA</td>\n",
       "      <td>Puma Smash v2 L Sneakers For Men</td>\n",
       "      <td>1,924</td>\n",
       "      <td>45% off</td>\n",
       "    </tr>\n",
       "    <tr>\n",
       "      <th>30</th>\n",
       "      <td>URBANBOX</td>\n",
       "      <td>Sneakers Sneakers For Men</td>\n",
       "      <td>220</td>\n",
       "      <td>77% off</td>\n",
       "    </tr>\n",
       "    <tr>\n",
       "      <th>31</th>\n",
       "      <td>DUNKASTON</td>\n",
       "      <td>Sneakers For Men</td>\n",
       "      <td>499</td>\n",
       "      <td>75% off</td>\n",
       "    </tr>\n",
       "    <tr>\n",
       "      <th>32</th>\n",
       "      <td>Kraasa</td>\n",
       "      <td>Shark-41 Sneakers For Men</td>\n",
       "      <td>499</td>\n",
       "      <td>50% off</td>\n",
       "    </tr>\n",
       "    <tr>\n",
       "      <th>33</th>\n",
       "      <td>World Wear Footwear</td>\n",
       "      <td>Sneakers For Men</td>\n",
       "      <td>259</td>\n",
       "      <td>48% off</td>\n",
       "    </tr>\n",
       "    <tr>\n",
       "      <th>34</th>\n",
       "      <td>World Wear Footwear</td>\n",
       "      <td>Men 5014 Latest Collection Stylish Casual Spor...</td>\n",
       "      <td>259</td>\n",
       "      <td>48% off</td>\n",
       "    </tr>\n",
       "    <tr>\n",
       "      <th>35</th>\n",
       "      <td>Echor</td>\n",
       "      <td>Sneakers For Men</td>\n",
       "      <td>474</td>\n",
       "      <td>68% off</td>\n",
       "    </tr>\n",
       "    <tr>\n",
       "      <th>36</th>\n",
       "      <td>CLYMB</td>\n",
       "      <td>Clymb Training &amp; Gym Shoes For Men Sneakers Fo...</td>\n",
       "      <td>249</td>\n",
       "      <td>75% off</td>\n",
       "    </tr>\n",
       "    <tr>\n",
       "      <th>37</th>\n",
       "      <td>ASTEROID</td>\n",
       "      <td>Original Luxury Branded Fashionable Men's Casu...</td>\n",
       "      <td>499</td>\n",
       "      <td>50% off</td>\n",
       "    </tr>\n",
       "    <tr>\n",
       "      <th>38</th>\n",
       "      <td>CLYMB</td>\n",
       "      <td>Sneakers For Men</td>\n",
       "      <td>649</td>\n",
       "      <td>56% off</td>\n",
       "    </tr>\n",
       "    <tr>\n",
       "      <th>39</th>\n",
       "      <td>RED TAPE</td>\n",
       "      <td>Sneakers For Men</td>\n",
       "      <td>1,648</td>\n",
       "      <td>70% off</td>\n",
       "    </tr>\n",
       "  </tbody>\n",
       "</table>\n",
       "</div>"
      ],
      "text/plain": [
       "                  Brand                                Product Description  \\\n",
       "0       Absolutee shoes                                   Sneakers For Men   \n",
       "1                 Echor  Echor Men's Sneakers Fashion Lightweight Runni...   \n",
       "2                BRUTON  Combo Pack Of 4 Casual Shoes Loafer Shoes Snea...   \n",
       "3                Chevit  Super Stylish & Trendy Combo Pack of 02 Pairs ...   \n",
       "4                BRUTON      Modern Trendy Sneakers Shoes Sneakers For Men   \n",
       "5   World Wear Footwear  5011-Latest Collection Stylish Casual Loafer S...   \n",
       "6             SCATCHITE                          Sneakers Sneakers For Men   \n",
       "7                Chevit           516 Trendy Star Perfect Sneakers For Men   \n",
       "8                Labbin                                   Sneakers For Men   \n",
       "9                 CLYMB  Perfect Sports Shoes for Men's Running ,Cyclin...   \n",
       "10             Elevarse         Stylish Comfortable shoes Sneakers For Men   \n",
       "11        RODDICK SHOES  Fashion Outdoor Canvas Casual Light Weight Lac...   \n",
       "12               BRUTON  Lightweight Pack Of 1 Trendy Sneakers Sneakers...   \n",
       "13       luxury fashion   Luxury Fashionable casual shoes Sneakers For Men   \n",
       "14               BRUTON  Combo Pack Of 2 Latest Stylish Casual Shoes fo...   \n",
       "15             PEHANOSA                   Sneaker for men Sneakers For Men   \n",
       "16           Shoes Bank     White Sneaker For Men's/Boy's Sneakers For Men   \n",
       "17             Magnolia                                   Sneakers For Men   \n",
       "18               BRUTON             Lattest Sneakers Shoe Sneakers For Men   \n",
       "19                CLYMB  Perfect Casual Loafer Shoes for Men's Running ...   \n",
       "20               Chevit  Perfect & Affordable Combo Pack of 02 Pairs Sn...   \n",
       "21               Rzisbo                                   Sneakers For Men   \n",
       "22                 aadi                                   Sneakers For Men   \n",
       "23               Chevit  Trendy Sneakers Outdoor Loafer Sports for Runn...   \n",
       "24                BIRDE              Sports Running Shoes Sneakers For Men   \n",
       "25              Numenzo                        411 Casual Sneakers For Men   \n",
       "26             ASTEROID  Original Luxury Branded Fashionable Men's Casu...   \n",
       "27                Echor  Men's Sneakers Fashion Lightweight Running Sho...   \n",
       "28             RapidBox                                   Sneakers For Men   \n",
       "29                 PUMA                   Puma Smash v2 L Sneakers For Men   \n",
       "30             URBANBOX                          Sneakers Sneakers For Men   \n",
       "31            DUNKASTON                                   Sneakers For Men   \n",
       "32               Kraasa                          Shark-41 Sneakers For Men   \n",
       "33  World Wear Footwear                                   Sneakers For Men   \n",
       "34  World Wear Footwear  Men 5014 Latest Collection Stylish Casual Spor...   \n",
       "35                Echor                                   Sneakers For Men   \n",
       "36                CLYMB  Clymb Training & Gym Shoes For Men Sneakers Fo...   \n",
       "37             ASTEROID  Original Luxury Branded Fashionable Men's Casu...   \n",
       "38                CLYMB                                   Sneakers For Men   \n",
       "39             RED TAPE                                   Sneakers For Men   \n",
       "\n",
       "    Price Discount  \n",
       "0     699  53% off  \n",
       "1     499  66% off  \n",
       "2     499  85% off  \n",
       "3     649  59% off  \n",
       "4     299  76% off  \n",
       "5     199  60% off  \n",
       "6     398  60% off  \n",
       "7     259  67% off  \n",
       "8     499  50% off  \n",
       "9     249  75% off  \n",
       "10    349  65% off  \n",
       "11    449  55% off  \n",
       "12    189  68% off  \n",
       "13    429  66% off  \n",
       "14    499  80% off  \n",
       "15    499  50% off  \n",
       "16    345  65% off  \n",
       "17    472  52% off  \n",
       "18    259  80% off  \n",
       "19    549  45% off  \n",
       "20    489  72% off  \n",
       "21    549  45% off  \n",
       "22    379  62% off  \n",
       "23    259  48% off  \n",
       "24    299  40% off  \n",
       "25    474  76% off  \n",
       "26    499  75% off  \n",
       "27    499  50% off  \n",
       "28    680  31% off  \n",
       "29  1,924  45% off  \n",
       "30    220  77% off  \n",
       "31    499  75% off  \n",
       "32    499  50% off  \n",
       "33    259  48% off  \n",
       "34    259  48% off  \n",
       "35    474  68% off  \n",
       "36    249  75% off  \n",
       "37    499  50% off  \n",
       "38    649  56% off  \n",
       "39  1,648  70% off  "
      ]
     },
     "execution_count": 37,
     "metadata": {},
     "output_type": "execute_result"
    }
   ],
   "source": [
    "df1 = pd.DataFrame({'Brand':brands,'Product Description':prdoDescs,'Price':prices,'Discount':dicountPercents})\n",
    "df1.head(40)"
   ]
  },
  {
   "cell_type": "code",
   "execution_count": 38,
   "id": "8d827256",
   "metadata": {},
   "outputs": [
    {
     "data": {
      "text/plain": [
       "<selenium.webdriver.remote.webelement.WebElement (session=\"f73e8a03b622dbc10a310e8cd2a0e784\", element=\"aa8dec01-60f3-4107-b940-f89c571d7494\")>"
      ]
     },
     "execution_count": 38,
     "metadata": {},
     "output_type": "execute_result"
    }
   ],
   "source": [
    "next_page_btn=driver.find_elements_by_xpath('/html/body/div/div/div[3]/div[1]/div[2]/div[12]/div/div/nav/a[2]')[0]\n",
    "next_page_btn"
   ]
  },
  {
   "cell_type": "code",
   "execution_count": 39,
   "id": "fc5d02e1",
   "metadata": {},
   "outputs": [],
   "source": [
    "next_page_btn.click()"
   ]
  },
  {
   "cell_type": "code",
   "execution_count": 40,
   "id": "857f7694",
   "metadata": {},
   "outputs": [
    {
     "data": {
      "text/plain": [
       "40"
      ]
     },
     "execution_count": 40,
     "metadata": {},
     "output_type": "execute_result"
    }
   ],
   "source": [
    "price2=driver.find_elements_by_xpath('//div[@class=\"_30jeq3\"]')\n",
    "len(price2)"
   ]
  },
  {
   "cell_type": "code",
   "execution_count": 41,
   "id": "740dcd9e",
   "metadata": {
    "collapsed": true
   },
   "outputs": [
    {
     "data": {
      "text/plain": [
       "['449',\n",
       " '1,214',\n",
       " '499',\n",
       " '259',\n",
       " '199',\n",
       " '499',\n",
       " '499',\n",
       " '449',\n",
       " '474',\n",
       " '499',\n",
       " '399',\n",
       " '849',\n",
       " '299',\n",
       " '399',\n",
       " '259',\n",
       " '1,648',\n",
       " '1,799',\n",
       " '599',\n",
       " '299',\n",
       " '449',\n",
       " '259',\n",
       " '498',\n",
       " '435',\n",
       " '498',\n",
       " '328',\n",
       " '499',\n",
       " '420',\n",
       " '499',\n",
       " '449',\n",
       " '499',\n",
       " '433',\n",
       " '549',\n",
       " '249',\n",
       " '448',\n",
       " '549',\n",
       " '449',\n",
       " '499',\n",
       " '442',\n",
       " '1,259',\n",
       " '1,258']"
      ]
     },
     "execution_count": 41,
     "metadata": {},
     "output_type": "execute_result"
    }
   ],
   "source": [
    "prices2=[]\n",
    "for i in price2:\n",
    "    prices2.append(i.text.replace('₹',''))\n",
    "prices2"
   ]
  },
  {
   "cell_type": "code",
   "execution_count": 42,
   "id": "0e5dec41",
   "metadata": {},
   "outputs": [
    {
     "data": {
      "text/plain": [
       "40"
      ]
     },
     "execution_count": 42,
     "metadata": {},
     "output_type": "execute_result"
    }
   ],
   "source": [
    "brand2=driver.find_elements_by_xpath('//div[@class=\"_2WkVRV\"]')\n",
    "len(brand2)"
   ]
  },
  {
   "cell_type": "code",
   "execution_count": 43,
   "id": "575f3d52",
   "metadata": {
    "collapsed": true
   },
   "outputs": [
    {
     "data": {
      "text/plain": [
       "['BRUTON',\n",
       " 'PUMA',\n",
       " 'Kraasa',\n",
       " 'Chevit',\n",
       " 'Trendmode',\n",
       " 'Robbie jones',\n",
       " 'Xtoon',\n",
       " 'RODDICK SHOES',\n",
       " 'aadi',\n",
       " 'corsac',\n",
       " 'Noztile',\n",
       " 'Extoes',\n",
       " 'Chevit',\n",
       " 'DUNKASTON',\n",
       " 'BRUTON',\n",
       " 'RED TAPE',\n",
       " 'PUMA',\n",
       " 'KNIGHT WALKERS',\n",
       " 'D-SNEAKERZ',\n",
       " 'Robbie jones',\n",
       " 'Chevit',\n",
       " 'Chevit',\n",
       " 'Arohi',\n",
       " 'DUNKASTON',\n",
       " 'Zsyto',\n",
       " 'Robbie jones',\n",
       " 'Pieds',\n",
       " 'Smoky',\n",
       " 'aadi',\n",
       " 'Echor',\n",
       " 'RODDICK SHOES',\n",
       " 'CALCADOS',\n",
       " 'HOTSTYLE',\n",
       " 'DRESTA',\n",
       " 'ASIAN',\n",
       " 'LE GREEM',\n",
       " 'bluemaker',\n",
       " 'BIRDE',\n",
       " 'Bond Street By Red Tape',\n",
       " 'RED TAPE']"
      ]
     },
     "execution_count": 43,
     "metadata": {},
     "output_type": "execute_result"
    }
   ],
   "source": [
    "brands2=[]\n",
    "for i in brand2:\n",
    "    brands2.append(i.text)\n",
    "brands2"
   ]
  },
  {
   "cell_type": "code",
   "execution_count": 44,
   "id": "58bc3071",
   "metadata": {},
   "outputs": [
    {
     "data": {
      "text/plain": [
       "40"
      ]
     },
     "execution_count": 44,
     "metadata": {},
     "output_type": "execute_result"
    }
   ],
   "source": [
    "prdoDesc2=driver.find_elements_by_class_name(\"IRpwTa\")\n",
    "len(prdoDesc2)"
   ]
  },
  {
   "cell_type": "code",
   "execution_count": 45,
   "id": "68d26174",
   "metadata": {
    "collapsed": true
   },
   "outputs": [
    {
     "data": {
      "text/plain": [
       "['Modern & Trendy Collection Combo Pack of 02 Shoes for M...',\n",
       " 'Ontario Sneakers For Men',\n",
       " 'Series 7 Sneakers For Men',\n",
       " '512 Zebra Style Smart Lace-Ups Sneakers For Men',\n",
       " 'Sneakers For Men',\n",
       " 'Sneakers For Men',\n",
       " \"white Casual shoes,Sneakers for men's Sneakers For Men\",\n",
       " 'Fashion Outdoor Canvas Casual Light Weight Lace-up Even...',\n",
       " 'Sneakers For Men',\n",
       " 'STYLISH MENS BLACK AND WHITE SNEAKER Sneakers For Men',\n",
       " 'Sneakers For Men',\n",
       " 'Modern Trendy Shoes Combo pack of 4 Sneakers For Men',\n",
       " '494 Perfect Sports Shoes for Running Training Hikking &...',\n",
       " 'Sneakers For Men',\n",
       " 'CUBIC_1 Sneakers For Men',\n",
       " 'Sneakers For Men',\n",
       " 'Smash v2 L White- Black Sneakers For Men',\n",
       " 'Sneakers For Men',\n",
       " \"Casual , Partywear Sneakers Shoes For Men's And Boys Wh...\",\n",
       " 'Casual Sneakers Shoes For Men Sneakers For Men',\n",
       " '516 Trendy Star Perfect Sneakers For Men',\n",
       " \"Men's Combo Pack of 02 Shoes for Men Casual Sneakers Ou...\",\n",
       " 'Sneakers For Men',\n",
       " 'Sneakers For Men',\n",
       " 'Sneakers For Men',\n",
       " 'Sneakers For Men',\n",
       " 'Sneakers For Men',\n",
       " 'Trendy Sneakers For Men',\n",
       " 'Sneakers For Men',\n",
       " \"Men's Sneakers Fashion Lightweight Running Shoes Tennis...\",\n",
       " 'Fashion Outdoor Canvas Casual Light Weight Lace-up Even...',\n",
       " 'Perfect Grip Combo pack Of 3 Sneakers For Men',\n",
       " 'Sneakers For Men',\n",
       " \"Original Luxury Branded Fashionable Men's Casual Walkin...\",\n",
       " 'Skypy-31 Walking Shoes,Training Shoes,Sneakers,Loafers,...',\n",
       " 'Comfortable & Smart Sneakers For Men',\n",
       " 'casual for men Sneakers For Men',\n",
       " 'Stylish and Trendy New Design Lightweight,Casual shoes ...',\n",
       " 'Sneakers For Men',\n",
       " 'Sneakers For Men']"
      ]
     },
     "execution_count": 45,
     "metadata": {},
     "output_type": "execute_result"
    }
   ],
   "source": [
    "prdoDescs2=[]\n",
    "for i in prdoDesc2:\n",
    "    prdoDescs2.append(i.text)\n",
    "prdoDescs2"
   ]
  },
  {
   "cell_type": "code",
   "execution_count": 46,
   "id": "032bb21f",
   "metadata": {},
   "outputs": [
    {
     "data": {
      "text/plain": [
       "40"
      ]
     },
     "execution_count": 46,
     "metadata": {},
     "output_type": "execute_result"
    }
   ],
   "source": [
    "dicountPercent2=driver.find_elements_by_xpath('//div[@class=\"_3Ay6Sb\"]')\n",
    "len(dicountPercent2)"
   ]
  },
  {
   "cell_type": "code",
   "execution_count": 47,
   "id": "1cbd9d4d",
   "metadata": {
    "collapsed": true
   },
   "outputs": [
    {
     "data": {
      "text/plain": [
       "['82% off',\n",
       " '59% off',\n",
       " '50% off',\n",
       " '48% off',\n",
       " '71% off',\n",
       " '50% off',\n",
       " '66% off',\n",
       " '55% off',\n",
       " '76% off',\n",
       " '66% off',\n",
       " '80% off',\n",
       " '43% off',\n",
       " '70% off',\n",
       " '73% off',\n",
       " '80% off',\n",
       " '70% off',\n",
       " '48% off',\n",
       " '60% off',\n",
       " '54% off',\n",
       " '55% off',\n",
       " '67% off',\n",
       " '50% off',\n",
       " '56% off',\n",
       " '50% off',\n",
       " '74% off',\n",
       " '50% off',\n",
       " '57% off',\n",
       " '58% off',\n",
       " '77% off',\n",
       " '50% off',\n",
       " '56% off',\n",
       " '45% off',\n",
       " '75% off',\n",
       " '77% off',\n",
       " '31% off',\n",
       " '55% off',\n",
       " '50% off',\n",
       " '55% off',\n",
       " '70% off',\n",
       " '70% off']"
      ]
     },
     "execution_count": 47,
     "metadata": {},
     "output_type": "execute_result"
    }
   ],
   "source": [
    "dicountPercents2=[]\n",
    "for i in dicountPercent2:\n",
    "    dicountPercents2.append(i.text)\n",
    "dicountPercents2"
   ]
  },
  {
   "cell_type": "code",
   "execution_count": 48,
   "id": "9f60be5c",
   "metadata": {
    "collapsed": true
   },
   "outputs": [
    {
     "data": {
      "text/html": [
       "<div>\n",
       "<style scoped>\n",
       "    .dataframe tbody tr th:only-of-type {\n",
       "        vertical-align: middle;\n",
       "    }\n",
       "\n",
       "    .dataframe tbody tr th {\n",
       "        vertical-align: top;\n",
       "    }\n",
       "\n",
       "    .dataframe thead th {\n",
       "        text-align: right;\n",
       "    }\n",
       "</style>\n",
       "<table border=\"1\" class=\"dataframe\">\n",
       "  <thead>\n",
       "    <tr style=\"text-align: right;\">\n",
       "      <th></th>\n",
       "      <th>Brand</th>\n",
       "      <th>Product Description</th>\n",
       "      <th>Price</th>\n",
       "      <th>Discount</th>\n",
       "    </tr>\n",
       "  </thead>\n",
       "  <tbody>\n",
       "    <tr>\n",
       "      <th>0</th>\n",
       "      <td>BRUTON</td>\n",
       "      <td>Modern &amp; Trendy Collection Combo Pack of 02 Sh...</td>\n",
       "      <td>449</td>\n",
       "      <td>82% off</td>\n",
       "    </tr>\n",
       "    <tr>\n",
       "      <th>1</th>\n",
       "      <td>PUMA</td>\n",
       "      <td>Ontario Sneakers For Men</td>\n",
       "      <td>1,214</td>\n",
       "      <td>59% off</td>\n",
       "    </tr>\n",
       "    <tr>\n",
       "      <th>2</th>\n",
       "      <td>Kraasa</td>\n",
       "      <td>Series 7 Sneakers For Men</td>\n",
       "      <td>499</td>\n",
       "      <td>50% off</td>\n",
       "    </tr>\n",
       "    <tr>\n",
       "      <th>3</th>\n",
       "      <td>Chevit</td>\n",
       "      <td>512 Zebra Style Smart Lace-Ups Sneakers For Men</td>\n",
       "      <td>259</td>\n",
       "      <td>48% off</td>\n",
       "    </tr>\n",
       "    <tr>\n",
       "      <th>4</th>\n",
       "      <td>Trendmode</td>\n",
       "      <td>Sneakers For Men</td>\n",
       "      <td>199</td>\n",
       "      <td>71% off</td>\n",
       "    </tr>\n",
       "    <tr>\n",
       "      <th>5</th>\n",
       "      <td>Robbie jones</td>\n",
       "      <td>Sneakers For Men</td>\n",
       "      <td>499</td>\n",
       "      <td>50% off</td>\n",
       "    </tr>\n",
       "    <tr>\n",
       "      <th>6</th>\n",
       "      <td>Xtoon</td>\n",
       "      <td>white Casual shoes,Sneakers for men's Sneakers...</td>\n",
       "      <td>499</td>\n",
       "      <td>66% off</td>\n",
       "    </tr>\n",
       "    <tr>\n",
       "      <th>7</th>\n",
       "      <td>RODDICK SHOES</td>\n",
       "      <td>Fashion Outdoor Canvas Casual Light Weight Lac...</td>\n",
       "      <td>449</td>\n",
       "      <td>55% off</td>\n",
       "    </tr>\n",
       "    <tr>\n",
       "      <th>8</th>\n",
       "      <td>aadi</td>\n",
       "      <td>Sneakers For Men</td>\n",
       "      <td>474</td>\n",
       "      <td>76% off</td>\n",
       "    </tr>\n",
       "    <tr>\n",
       "      <th>9</th>\n",
       "      <td>corsac</td>\n",
       "      <td>STYLISH MENS BLACK AND WHITE SNEAKER Sneakers ...</td>\n",
       "      <td>499</td>\n",
       "      <td>66% off</td>\n",
       "    </tr>\n",
       "    <tr>\n",
       "      <th>10</th>\n",
       "      <td>Noztile</td>\n",
       "      <td>Sneakers For Men</td>\n",
       "      <td>399</td>\n",
       "      <td>80% off</td>\n",
       "    </tr>\n",
       "    <tr>\n",
       "      <th>11</th>\n",
       "      <td>Extoes</td>\n",
       "      <td>Modern Trendy Shoes Combo pack of 4 Sneakers F...</td>\n",
       "      <td>849</td>\n",
       "      <td>43% off</td>\n",
       "    </tr>\n",
       "    <tr>\n",
       "      <th>12</th>\n",
       "      <td>Chevit</td>\n",
       "      <td>494 Perfect Sports Shoes for Running Training ...</td>\n",
       "      <td>299</td>\n",
       "      <td>70% off</td>\n",
       "    </tr>\n",
       "    <tr>\n",
       "      <th>13</th>\n",
       "      <td>DUNKASTON</td>\n",
       "      <td>Sneakers For Men</td>\n",
       "      <td>399</td>\n",
       "      <td>73% off</td>\n",
       "    </tr>\n",
       "    <tr>\n",
       "      <th>14</th>\n",
       "      <td>BRUTON</td>\n",
       "      <td>CUBIC_1 Sneakers For Men</td>\n",
       "      <td>259</td>\n",
       "      <td>80% off</td>\n",
       "    </tr>\n",
       "    <tr>\n",
       "      <th>15</th>\n",
       "      <td>RED TAPE</td>\n",
       "      <td>Sneakers For Men</td>\n",
       "      <td>1,648</td>\n",
       "      <td>70% off</td>\n",
       "    </tr>\n",
       "    <tr>\n",
       "      <th>16</th>\n",
       "      <td>PUMA</td>\n",
       "      <td>Smash v2 L White- Black Sneakers For Men</td>\n",
       "      <td>1,799</td>\n",
       "      <td>48% off</td>\n",
       "    </tr>\n",
       "    <tr>\n",
       "      <th>17</th>\n",
       "      <td>KNIGHT WALKERS</td>\n",
       "      <td>Sneakers For Men</td>\n",
       "      <td>599</td>\n",
       "      <td>60% off</td>\n",
       "    </tr>\n",
       "    <tr>\n",
       "      <th>18</th>\n",
       "      <td>D-SNEAKERZ</td>\n",
       "      <td>Casual , Partywear Sneakers Shoes For Men's An...</td>\n",
       "      <td>299</td>\n",
       "      <td>54% off</td>\n",
       "    </tr>\n",
       "    <tr>\n",
       "      <th>19</th>\n",
       "      <td>Robbie jones</td>\n",
       "      <td>Casual Sneakers Shoes For Men Sneakers For Men</td>\n",
       "      <td>449</td>\n",
       "      <td>55% off</td>\n",
       "    </tr>\n",
       "    <tr>\n",
       "      <th>20</th>\n",
       "      <td>Chevit</td>\n",
       "      <td>516 Trendy Star Perfect Sneakers For Men</td>\n",
       "      <td>259</td>\n",
       "      <td>67% off</td>\n",
       "    </tr>\n",
       "    <tr>\n",
       "      <th>21</th>\n",
       "      <td>Chevit</td>\n",
       "      <td>Men's Combo Pack of 02 Shoes for Men Casual Sn...</td>\n",
       "      <td>498</td>\n",
       "      <td>50% off</td>\n",
       "    </tr>\n",
       "    <tr>\n",
       "      <th>22</th>\n",
       "      <td>Arohi</td>\n",
       "      <td>Sneakers For Men</td>\n",
       "      <td>435</td>\n",
       "      <td>56% off</td>\n",
       "    </tr>\n",
       "    <tr>\n",
       "      <th>23</th>\n",
       "      <td>DUNKASTON</td>\n",
       "      <td>Sneakers For Men</td>\n",
       "      <td>498</td>\n",
       "      <td>50% off</td>\n",
       "    </tr>\n",
       "    <tr>\n",
       "      <th>24</th>\n",
       "      <td>Zsyto</td>\n",
       "      <td>Sneakers For Men</td>\n",
       "      <td>328</td>\n",
       "      <td>74% off</td>\n",
       "    </tr>\n",
       "    <tr>\n",
       "      <th>25</th>\n",
       "      <td>Robbie jones</td>\n",
       "      <td>Sneakers For Men</td>\n",
       "      <td>499</td>\n",
       "      <td>50% off</td>\n",
       "    </tr>\n",
       "    <tr>\n",
       "      <th>26</th>\n",
       "      <td>Pieds</td>\n",
       "      <td>Sneakers For Men</td>\n",
       "      <td>420</td>\n",
       "      <td>57% off</td>\n",
       "    </tr>\n",
       "    <tr>\n",
       "      <th>27</th>\n",
       "      <td>Smoky</td>\n",
       "      <td>Trendy Sneakers For Men</td>\n",
       "      <td>499</td>\n",
       "      <td>58% off</td>\n",
       "    </tr>\n",
       "    <tr>\n",
       "      <th>28</th>\n",
       "      <td>aadi</td>\n",
       "      <td>Sneakers For Men</td>\n",
       "      <td>449</td>\n",
       "      <td>77% off</td>\n",
       "    </tr>\n",
       "    <tr>\n",
       "      <th>29</th>\n",
       "      <td>Echor</td>\n",
       "      <td>Men's Sneakers Fashion Lightweight Running Sho...</td>\n",
       "      <td>499</td>\n",
       "      <td>50% off</td>\n",
       "    </tr>\n",
       "    <tr>\n",
       "      <th>30</th>\n",
       "      <td>RODDICK SHOES</td>\n",
       "      <td>Fashion Outdoor Canvas Casual Light Weight Lac...</td>\n",
       "      <td>433</td>\n",
       "      <td>56% off</td>\n",
       "    </tr>\n",
       "    <tr>\n",
       "      <th>31</th>\n",
       "      <td>CALCADOS</td>\n",
       "      <td>Perfect Grip Combo pack Of 3 Sneakers For Men</td>\n",
       "      <td>549</td>\n",
       "      <td>45% off</td>\n",
       "    </tr>\n",
       "    <tr>\n",
       "      <th>32</th>\n",
       "      <td>HOTSTYLE</td>\n",
       "      <td>Sneakers For Men</td>\n",
       "      <td>249</td>\n",
       "      <td>75% off</td>\n",
       "    </tr>\n",
       "    <tr>\n",
       "      <th>33</th>\n",
       "      <td>DRESTA</td>\n",
       "      <td>Original Luxury Branded Fashionable Men's Casu...</td>\n",
       "      <td>448</td>\n",
       "      <td>77% off</td>\n",
       "    </tr>\n",
       "    <tr>\n",
       "      <th>34</th>\n",
       "      <td>ASIAN</td>\n",
       "      <td>Skypy-31 Walking Shoes,Training Shoes,Sneakers...</td>\n",
       "      <td>549</td>\n",
       "      <td>31% off</td>\n",
       "    </tr>\n",
       "    <tr>\n",
       "      <th>35</th>\n",
       "      <td>LE GREEM</td>\n",
       "      <td>Comfortable &amp; Smart Sneakers For Men</td>\n",
       "      <td>449</td>\n",
       "      <td>55% off</td>\n",
       "    </tr>\n",
       "    <tr>\n",
       "      <th>36</th>\n",
       "      <td>bluemaker</td>\n",
       "      <td>casual for men Sneakers For Men</td>\n",
       "      <td>499</td>\n",
       "      <td>50% off</td>\n",
       "    </tr>\n",
       "    <tr>\n",
       "      <th>37</th>\n",
       "      <td>BIRDE</td>\n",
       "      <td>Stylish and Trendy New Design Lightweight,Casu...</td>\n",
       "      <td>442</td>\n",
       "      <td>55% off</td>\n",
       "    </tr>\n",
       "    <tr>\n",
       "      <th>38</th>\n",
       "      <td>Bond Street By Red Tape</td>\n",
       "      <td>Sneakers For Men</td>\n",
       "      <td>1,259</td>\n",
       "      <td>70% off</td>\n",
       "    </tr>\n",
       "    <tr>\n",
       "      <th>39</th>\n",
       "      <td>RED TAPE</td>\n",
       "      <td>Sneakers For Men</td>\n",
       "      <td>1,258</td>\n",
       "      <td>70% off</td>\n",
       "    </tr>\n",
       "  </tbody>\n",
       "</table>\n",
       "</div>"
      ],
      "text/plain": [
       "                      Brand  \\\n",
       "0                    BRUTON   \n",
       "1                      PUMA   \n",
       "2                    Kraasa   \n",
       "3                    Chevit   \n",
       "4                 Trendmode   \n",
       "5              Robbie jones   \n",
       "6                     Xtoon   \n",
       "7             RODDICK SHOES   \n",
       "8                      aadi   \n",
       "9                    corsac   \n",
       "10                  Noztile   \n",
       "11                   Extoes   \n",
       "12                   Chevit   \n",
       "13                DUNKASTON   \n",
       "14                   BRUTON   \n",
       "15                 RED TAPE   \n",
       "16                     PUMA   \n",
       "17           KNIGHT WALKERS   \n",
       "18               D-SNEAKERZ   \n",
       "19             Robbie jones   \n",
       "20                   Chevit   \n",
       "21                   Chevit   \n",
       "22                    Arohi   \n",
       "23                DUNKASTON   \n",
       "24                    Zsyto   \n",
       "25             Robbie jones   \n",
       "26                    Pieds   \n",
       "27                    Smoky   \n",
       "28                     aadi   \n",
       "29                    Echor   \n",
       "30            RODDICK SHOES   \n",
       "31                 CALCADOS   \n",
       "32                 HOTSTYLE   \n",
       "33                   DRESTA   \n",
       "34                    ASIAN   \n",
       "35                 LE GREEM   \n",
       "36                bluemaker   \n",
       "37                    BIRDE   \n",
       "38  Bond Street By Red Tape   \n",
       "39                 RED TAPE   \n",
       "\n",
       "                                  Product Description  Price Discount  \n",
       "0   Modern & Trendy Collection Combo Pack of 02 Sh...    449  82% off  \n",
       "1                            Ontario Sneakers For Men  1,214  59% off  \n",
       "2                           Series 7 Sneakers For Men    499  50% off  \n",
       "3     512 Zebra Style Smart Lace-Ups Sneakers For Men    259  48% off  \n",
       "4                                    Sneakers For Men    199  71% off  \n",
       "5                                    Sneakers For Men    499  50% off  \n",
       "6   white Casual shoes,Sneakers for men's Sneakers...    499  66% off  \n",
       "7   Fashion Outdoor Canvas Casual Light Weight Lac...    449  55% off  \n",
       "8                                    Sneakers For Men    474  76% off  \n",
       "9   STYLISH MENS BLACK AND WHITE SNEAKER Sneakers ...    499  66% off  \n",
       "10                                   Sneakers For Men    399  80% off  \n",
       "11  Modern Trendy Shoes Combo pack of 4 Sneakers F...    849  43% off  \n",
       "12  494 Perfect Sports Shoes for Running Training ...    299  70% off  \n",
       "13                                   Sneakers For Men    399  73% off  \n",
       "14                           CUBIC_1 Sneakers For Men    259  80% off  \n",
       "15                                   Sneakers For Men  1,648  70% off  \n",
       "16           Smash v2 L White- Black Sneakers For Men  1,799  48% off  \n",
       "17                                   Sneakers For Men    599  60% off  \n",
       "18  Casual , Partywear Sneakers Shoes For Men's An...    299  54% off  \n",
       "19     Casual Sneakers Shoes For Men Sneakers For Men    449  55% off  \n",
       "20           516 Trendy Star Perfect Sneakers For Men    259  67% off  \n",
       "21  Men's Combo Pack of 02 Shoes for Men Casual Sn...    498  50% off  \n",
       "22                                   Sneakers For Men    435  56% off  \n",
       "23                                   Sneakers For Men    498  50% off  \n",
       "24                                   Sneakers For Men    328  74% off  \n",
       "25                                   Sneakers For Men    499  50% off  \n",
       "26                                   Sneakers For Men    420  57% off  \n",
       "27                            Trendy Sneakers For Men    499  58% off  \n",
       "28                                   Sneakers For Men    449  77% off  \n",
       "29  Men's Sneakers Fashion Lightweight Running Sho...    499  50% off  \n",
       "30  Fashion Outdoor Canvas Casual Light Weight Lac...    433  56% off  \n",
       "31      Perfect Grip Combo pack Of 3 Sneakers For Men    549  45% off  \n",
       "32                                   Sneakers For Men    249  75% off  \n",
       "33  Original Luxury Branded Fashionable Men's Casu...    448  77% off  \n",
       "34  Skypy-31 Walking Shoes,Training Shoes,Sneakers...    549  31% off  \n",
       "35               Comfortable & Smart Sneakers For Men    449  55% off  \n",
       "36                    casual for men Sneakers For Men    499  50% off  \n",
       "37  Stylish and Trendy New Design Lightweight,Casu...    442  55% off  \n",
       "38                                   Sneakers For Men  1,259  70% off  \n",
       "39                                   Sneakers For Men  1,258  70% off  "
      ]
     },
     "execution_count": 48,
     "metadata": {},
     "output_type": "execute_result"
    }
   ],
   "source": [
    "df2 = pd.DataFrame({'Brand':brands2,'Product Description':prdoDescs2,'Price':prices2,'Discount':dicountPercents2})\n",
    "df2.head(40)"
   ]
  },
  {
   "cell_type": "code",
   "execution_count": 49,
   "id": "4703934a",
   "metadata": {},
   "outputs": [
    {
     "data": {
      "text/plain": [
       "<selenium.webdriver.remote.webelement.WebElement (session=\"f73e8a03b622dbc10a310e8cd2a0e784\", element=\"f6ad3b9e-1f18-494d-9809-1f41b8a836c2\")>"
      ]
     },
     "execution_count": 49,
     "metadata": {},
     "output_type": "execute_result"
    }
   ],
   "source": [
    "next_page_btn=driver.find_elements_by_xpath('/html/body/div/div/div[3]/div[1]/div[2]/div[12]/div/div/nav/a[4]')[0]\n",
    "next_page_btn"
   ]
  },
  {
   "cell_type": "code",
   "execution_count": 50,
   "id": "da66aaca",
   "metadata": {},
   "outputs": [],
   "source": [
    "next_page_btn.click()"
   ]
  },
  {
   "cell_type": "code",
   "execution_count": 51,
   "id": "70a96e1a",
   "metadata": {},
   "outputs": [
    {
     "data": {
      "text/plain": [
       "40"
      ]
     },
     "execution_count": 51,
     "metadata": {},
     "output_type": "execute_result"
    }
   ],
   "source": [
    "price3=driver.find_elements_by_xpath('//div[@class=\"_30jeq3\"]')\n",
    "len(price3)"
   ]
  },
  {
   "cell_type": "code",
   "execution_count": 63,
   "id": "bc36ac53",
   "metadata": {
    "collapsed": true
   },
   "outputs": [
    {
     "data": {
      "text/plain": [
       "['259',\n",
       " '499',\n",
       " '690',\n",
       " '449',\n",
       " '449',\n",
       " '499',\n",
       " '711',\n",
       " '499',\n",
       " '472',\n",
       " '849',\n",
       " '498',\n",
       " '499',\n",
       " '6,999',\n",
       " '429',\n",
       " '449',\n",
       " '550',\n",
       " '428',\n",
       " '2,289',\n",
       " '498',\n",
       " '1,678']"
      ]
     },
     "execution_count": 63,
     "metadata": {},
     "output_type": "execute_result"
    }
   ],
   "source": [
    "prices3=[]\n",
    "for i in price3:\n",
    "    prices3.append(i.text.replace('₹',''))\n",
    "prices3[0:20]"
   ]
  },
  {
   "cell_type": "code",
   "execution_count": 64,
   "id": "92b70910",
   "metadata": {},
   "outputs": [
    {
     "data": {
      "text/plain": [
       "40"
      ]
     },
     "execution_count": 64,
     "metadata": {},
     "output_type": "execute_result"
    }
   ],
   "source": [
    "brand3=driver.find_elements_by_xpath('//div[@class=\"_2WkVRV\"]')\n",
    "len(brand3)"
   ]
  },
  {
   "cell_type": "code",
   "execution_count": 65,
   "id": "f5f65b77",
   "metadata": {
    "collapsed": true
   },
   "outputs": [
    {
     "data": {
      "text/plain": [
       "['World Wear Footwear',\n",
       " 'BRUTON',\n",
       " 'RapidBox',\n",
       " 'Strollin',\n",
       " 'LE GREEM',\n",
       " 'Echor',\n",
       " 'Vellinto',\n",
       " 'Echor',\n",
       " 'Magnolia',\n",
       " 'SPARX',\n",
       " 'aadi',\n",
       " 'Smoky',\n",
       " 'PUMA',\n",
       " 'Numenzo',\n",
       " 'LE GREEM',\n",
       " 'Vigglo Fashion',\n",
       " 'RODDICK SHOES',\n",
       " 'PUMA',\n",
       " 'Chevit',\n",
       " 'RED TAPE']"
      ]
     },
     "execution_count": 65,
     "metadata": {},
     "output_type": "execute_result"
    }
   ],
   "source": [
    "brands3=[]\n",
    "for i in brand3:\n",
    "    brands3.append(i.text)\n",
    "brands3[0:20]"
   ]
  },
  {
   "cell_type": "code",
   "execution_count": 66,
   "id": "56bdbdae",
   "metadata": {},
   "outputs": [
    {
     "data": {
      "text/plain": [
       "40"
      ]
     },
     "execution_count": 66,
     "metadata": {},
     "output_type": "execute_result"
    }
   ],
   "source": [
    "prdoDesc3=driver.find_elements_by_class_name(\"IRpwTa\")\n",
    "len(prdoDesc3)"
   ]
  },
  {
   "cell_type": "code",
   "execution_count": 67,
   "id": "c50c57da",
   "metadata": {
    "collapsed": true
   },
   "outputs": [
    {
     "data": {
      "text/plain": [
       "['Latest Collection-1227 Stylish Casual Sports Sneakers F...',\n",
       " 'Combo Pack Of 4 Casual Sneakers For Men',\n",
       " 'RapidBox Men Shoes Sneakers For Men',\n",
       " 'Sneakers For Men',\n",
       " 'Comfortable & Ultra Light Weight Sneaker Sneakers For M...',\n",
       " \"Men's Sneakers Fashion Lightweight Running Shoes Tennis...\",\n",
       " 'Casual Sneakrs For Men Sneakers For Men',\n",
       " \"Men's Sneakers Walking Shoes - Lightweight Classic Whit...\",\n",
       " 'Sneakers For Men',\n",
       " 'SM-439 Sneakers For Men',\n",
       " 'Sneakers For Men',\n",
       " 'Sneakers For Men',\n",
       " 'X-Ray 2 Square Sneakers For Men',\n",
       " 'White Sneaker For Men Sneakers For Men',\n",
       " 'Comfortable & Smart Sneakers For Men',\n",
       " 'Casual syenthetic shoes men boys for party wear/sneaker...',\n",
       " 'Fashion Outdoor Canvas Casual Light Weight Lace-up Even...',\n",
       " 'Puma Rebound LayUp SL Sneakers For Men',\n",
       " 'Unique & Perfect Collection Combo Pack of 02 Shoes for ...',\n",
       " 'Classic Sneakers For Men']"
      ]
     },
     "execution_count": 67,
     "metadata": {},
     "output_type": "execute_result"
    }
   ],
   "source": [
    "prdoDescs3=[]\n",
    "for i in prdoDesc3:\n",
    "    prdoDescs3.append(i.text)\n",
    "prdoDescs3[0:20]"
   ]
  },
  {
   "cell_type": "code",
   "execution_count": 68,
   "id": "d8e4fbe8",
   "metadata": {},
   "outputs": [],
   "source": [
    "dicountPercent3=driver.find_elements_by_xpath('//div[@class=\"_3Ay6Sb\"]')"
   ]
  },
  {
   "cell_type": "code",
   "execution_count": 69,
   "id": "0d019ebc",
   "metadata": {
    "collapsed": true
   },
   "outputs": [
    {
     "data": {
      "text/plain": [
       "['48% off',\n",
       " '87% off',\n",
       " '30% off',\n",
       " '55% off',\n",
       " '55% off',\n",
       " '50% off',\n",
       " '45% off',\n",
       " '66% off',\n",
       " '52% off',\n",
       " '75% off',\n",
       " '58% off',\n",
       " '66% off',\n",
       " '55% off',\n",
       " '57% off',\n",
       " '57% off',\n",
       " '54% off',\n",
       " '66% off',\n",
       " '70% off',\n",
       " '56% off',\n",
       " '42% off']"
      ]
     },
     "execution_count": 69,
     "metadata": {},
     "output_type": "execute_result"
    }
   ],
   "source": [
    "dicountPercents3=[]\n",
    "for i in dicountPercent3:\n",
    "    dicountPercents3.append(i.text)\n",
    "dicountPercents3[0:20]"
   ]
  },
  {
   "cell_type": "code",
   "execution_count": 70,
   "id": "ff36458e",
   "metadata": {
    "collapsed": true
   },
   "outputs": [
    {
     "data": {
      "text/html": [
       "<div>\n",
       "<style scoped>\n",
       "    .dataframe tbody tr th:only-of-type {\n",
       "        vertical-align: middle;\n",
       "    }\n",
       "\n",
       "    .dataframe tbody tr th {\n",
       "        vertical-align: top;\n",
       "    }\n",
       "\n",
       "    .dataframe thead th {\n",
       "        text-align: right;\n",
       "    }\n",
       "</style>\n",
       "<table border=\"1\" class=\"dataframe\">\n",
       "  <thead>\n",
       "    <tr style=\"text-align: right;\">\n",
       "      <th></th>\n",
       "      <th>Brand</th>\n",
       "      <th>Product Description</th>\n",
       "      <th>Price</th>\n",
       "      <th>Discount</th>\n",
       "    </tr>\n",
       "  </thead>\n",
       "  <tbody>\n",
       "    <tr>\n",
       "      <th>0</th>\n",
       "      <td>Absolutee shoes</td>\n",
       "      <td>Sneakers For Men</td>\n",
       "      <td>699</td>\n",
       "      <td>53% off</td>\n",
       "    </tr>\n",
       "    <tr>\n",
       "      <th>1</th>\n",
       "      <td>Echor</td>\n",
       "      <td>Echor Men's Sneakers Fashion Lightweight Runni...</td>\n",
       "      <td>499</td>\n",
       "      <td>66% off</td>\n",
       "    </tr>\n",
       "    <tr>\n",
       "      <th>2</th>\n",
       "      <td>BRUTON</td>\n",
       "      <td>Combo Pack Of 4 Casual Shoes Loafer Shoes Snea...</td>\n",
       "      <td>499</td>\n",
       "      <td>85% off</td>\n",
       "    </tr>\n",
       "    <tr>\n",
       "      <th>3</th>\n",
       "      <td>Chevit</td>\n",
       "      <td>Super Stylish &amp; Trendy Combo Pack of 02 Pairs ...</td>\n",
       "      <td>649</td>\n",
       "      <td>59% off</td>\n",
       "    </tr>\n",
       "    <tr>\n",
       "      <th>4</th>\n",
       "      <td>BRUTON</td>\n",
       "      <td>Modern Trendy Sneakers Shoes Sneakers For Men</td>\n",
       "      <td>299</td>\n",
       "      <td>76% off</td>\n",
       "    </tr>\n",
       "    <tr>\n",
       "      <th>5</th>\n",
       "      <td>World Wear Footwear</td>\n",
       "      <td>5011-Latest Collection Stylish Casual Loafer S...</td>\n",
       "      <td>199</td>\n",
       "      <td>60% off</td>\n",
       "    </tr>\n",
       "    <tr>\n",
       "      <th>6</th>\n",
       "      <td>SCATCHITE</td>\n",
       "      <td>Sneakers Sneakers For Men</td>\n",
       "      <td>398</td>\n",
       "      <td>60% off</td>\n",
       "    </tr>\n",
       "    <tr>\n",
       "      <th>7</th>\n",
       "      <td>Chevit</td>\n",
       "      <td>516 Trendy Star Perfect Sneakers For Men</td>\n",
       "      <td>259</td>\n",
       "      <td>67% off</td>\n",
       "    </tr>\n",
       "    <tr>\n",
       "      <th>8</th>\n",
       "      <td>Labbin</td>\n",
       "      <td>Sneakers For Men</td>\n",
       "      <td>499</td>\n",
       "      <td>50% off</td>\n",
       "    </tr>\n",
       "    <tr>\n",
       "      <th>9</th>\n",
       "      <td>CLYMB</td>\n",
       "      <td>Perfect Sports Shoes for Men's Running ,Cyclin...</td>\n",
       "      <td>249</td>\n",
       "      <td>75% off</td>\n",
       "    </tr>\n",
       "    <tr>\n",
       "      <th>10</th>\n",
       "      <td>Elevarse</td>\n",
       "      <td>Stylish Comfortable shoes Sneakers For Men</td>\n",
       "      <td>349</td>\n",
       "      <td>65% off</td>\n",
       "    </tr>\n",
       "    <tr>\n",
       "      <th>11</th>\n",
       "      <td>RODDICK SHOES</td>\n",
       "      <td>Fashion Outdoor Canvas Casual Light Weight Lac...</td>\n",
       "      <td>449</td>\n",
       "      <td>55% off</td>\n",
       "    </tr>\n",
       "    <tr>\n",
       "      <th>12</th>\n",
       "      <td>BRUTON</td>\n",
       "      <td>Lightweight Pack Of 1 Trendy Sneakers Sneakers...</td>\n",
       "      <td>189</td>\n",
       "      <td>68% off</td>\n",
       "    </tr>\n",
       "    <tr>\n",
       "      <th>13</th>\n",
       "      <td>luxury fashion</td>\n",
       "      <td>Luxury Fashionable casual shoes Sneakers For Men</td>\n",
       "      <td>429</td>\n",
       "      <td>66% off</td>\n",
       "    </tr>\n",
       "    <tr>\n",
       "      <th>14</th>\n",
       "      <td>BRUTON</td>\n",
       "      <td>Combo Pack Of 2 Latest Stylish Casual Shoes fo...</td>\n",
       "      <td>499</td>\n",
       "      <td>80% off</td>\n",
       "    </tr>\n",
       "    <tr>\n",
       "      <th>15</th>\n",
       "      <td>PEHANOSA</td>\n",
       "      <td>Sneaker for men Sneakers For Men</td>\n",
       "      <td>499</td>\n",
       "      <td>50% off</td>\n",
       "    </tr>\n",
       "    <tr>\n",
       "      <th>16</th>\n",
       "      <td>Shoes Bank</td>\n",
       "      <td>White Sneaker For Men's/Boy's Sneakers For Men</td>\n",
       "      <td>345</td>\n",
       "      <td>65% off</td>\n",
       "    </tr>\n",
       "    <tr>\n",
       "      <th>17</th>\n",
       "      <td>Magnolia</td>\n",
       "      <td>Sneakers For Men</td>\n",
       "      <td>472</td>\n",
       "      <td>52% off</td>\n",
       "    </tr>\n",
       "    <tr>\n",
       "      <th>18</th>\n",
       "      <td>BRUTON</td>\n",
       "      <td>Lattest Sneakers Shoe Sneakers For Men</td>\n",
       "      <td>259</td>\n",
       "      <td>80% off</td>\n",
       "    </tr>\n",
       "    <tr>\n",
       "      <th>19</th>\n",
       "      <td>CLYMB</td>\n",
       "      <td>Perfect Casual Loafer Shoes for Men's Running ...</td>\n",
       "      <td>549</td>\n",
       "      <td>45% off</td>\n",
       "    </tr>\n",
       "  </tbody>\n",
       "</table>\n",
       "</div>"
      ],
      "text/plain": [
       "                  Brand                                Product Description  \\\n",
       "0       Absolutee shoes                                   Sneakers For Men   \n",
       "1                 Echor  Echor Men's Sneakers Fashion Lightweight Runni...   \n",
       "2                BRUTON  Combo Pack Of 4 Casual Shoes Loafer Shoes Snea...   \n",
       "3                Chevit  Super Stylish & Trendy Combo Pack of 02 Pairs ...   \n",
       "4                BRUTON      Modern Trendy Sneakers Shoes Sneakers For Men   \n",
       "5   World Wear Footwear  5011-Latest Collection Stylish Casual Loafer S...   \n",
       "6             SCATCHITE                          Sneakers Sneakers For Men   \n",
       "7                Chevit           516 Trendy Star Perfect Sneakers For Men   \n",
       "8                Labbin                                   Sneakers For Men   \n",
       "9                 CLYMB  Perfect Sports Shoes for Men's Running ,Cyclin...   \n",
       "10             Elevarse         Stylish Comfortable shoes Sneakers For Men   \n",
       "11        RODDICK SHOES  Fashion Outdoor Canvas Casual Light Weight Lac...   \n",
       "12               BRUTON  Lightweight Pack Of 1 Trendy Sneakers Sneakers...   \n",
       "13       luxury fashion   Luxury Fashionable casual shoes Sneakers For Men   \n",
       "14               BRUTON  Combo Pack Of 2 Latest Stylish Casual Shoes fo...   \n",
       "15             PEHANOSA                   Sneaker for men Sneakers For Men   \n",
       "16           Shoes Bank     White Sneaker For Men's/Boy's Sneakers For Men   \n",
       "17             Magnolia                                   Sneakers For Men   \n",
       "18               BRUTON             Lattest Sneakers Shoe Sneakers For Men   \n",
       "19                CLYMB  Perfect Casual Loafer Shoes for Men's Running ...   \n",
       "\n",
       "   Price Discount  \n",
       "0    699  53% off  \n",
       "1    499  66% off  \n",
       "2    499  85% off  \n",
       "3    649  59% off  \n",
       "4    299  76% off  \n",
       "5    199  60% off  \n",
       "6    398  60% off  \n",
       "7    259  67% off  \n",
       "8    499  50% off  \n",
       "9    249  75% off  \n",
       "10   349  65% off  \n",
       "11   449  55% off  \n",
       "12   189  68% off  \n",
       "13   429  66% off  \n",
       "14   499  80% off  \n",
       "15   499  50% off  \n",
       "16   345  65% off  \n",
       "17   472  52% off  \n",
       "18   259  80% off  \n",
       "19   549  45% off  "
      ]
     },
     "execution_count": 70,
     "metadata": {},
     "output_type": "execute_result"
    }
   ],
   "source": [
    "df_3 = pd.DataFrame({'Brand':brands,'Product Description':prdoDescs,'Price':prices,'Discount':dicountPercents})\n",
    "df3=df_3.head(20)\n",
    "df3"
   ]
  },
  {
   "cell_type": "code",
   "execution_count": 72,
   "id": "5657744e",
   "metadata": {},
   "outputs": [],
   "source": [
    "z=pd.concat([df1, df2, df3])"
   ]
  },
  {
   "cell_type": "code",
   "execution_count": 74,
   "id": "6811c655",
   "metadata": {
    "collapsed": true
   },
   "outputs": [
    {
     "data": {
      "text/html": [
       "<div>\n",
       "<style scoped>\n",
       "    .dataframe tbody tr th:only-of-type {\n",
       "        vertical-align: middle;\n",
       "    }\n",
       "\n",
       "    .dataframe tbody tr th {\n",
       "        vertical-align: top;\n",
       "    }\n",
       "\n",
       "    .dataframe thead th {\n",
       "        text-align: right;\n",
       "    }\n",
       "</style>\n",
       "<table border=\"1\" class=\"dataframe\">\n",
       "  <thead>\n",
       "    <tr style=\"text-align: right;\">\n",
       "      <th></th>\n",
       "      <th>index</th>\n",
       "      <th>Brand</th>\n",
       "      <th>Product Description</th>\n",
       "      <th>Price</th>\n",
       "      <th>Discount</th>\n",
       "    </tr>\n",
       "  </thead>\n",
       "  <tbody>\n",
       "    <tr>\n",
       "      <th>0</th>\n",
       "      <td>0</td>\n",
       "      <td>Absolutee shoes</td>\n",
       "      <td>Sneakers For Men</td>\n",
       "      <td>699</td>\n",
       "      <td>53% off</td>\n",
       "    </tr>\n",
       "    <tr>\n",
       "      <th>1</th>\n",
       "      <td>1</td>\n",
       "      <td>Echor</td>\n",
       "      <td>Echor Men's Sneakers Fashion Lightweight Runni...</td>\n",
       "      <td>499</td>\n",
       "      <td>66% off</td>\n",
       "    </tr>\n",
       "    <tr>\n",
       "      <th>2</th>\n",
       "      <td>2</td>\n",
       "      <td>BRUTON</td>\n",
       "      <td>Combo Pack Of 4 Casual Shoes Loafer Shoes Snea...</td>\n",
       "      <td>499</td>\n",
       "      <td>85% off</td>\n",
       "    </tr>\n",
       "    <tr>\n",
       "      <th>3</th>\n",
       "      <td>3</td>\n",
       "      <td>Chevit</td>\n",
       "      <td>Super Stylish &amp; Trendy Combo Pack of 02 Pairs ...</td>\n",
       "      <td>649</td>\n",
       "      <td>59% off</td>\n",
       "    </tr>\n",
       "    <tr>\n",
       "      <th>4</th>\n",
       "      <td>4</td>\n",
       "      <td>BRUTON</td>\n",
       "      <td>Modern Trendy Sneakers Shoes Sneakers For Men</td>\n",
       "      <td>299</td>\n",
       "      <td>76% off</td>\n",
       "    </tr>\n",
       "    <tr>\n",
       "      <th>...</th>\n",
       "      <td>...</td>\n",
       "      <td>...</td>\n",
       "      <td>...</td>\n",
       "      <td>...</td>\n",
       "      <td>...</td>\n",
       "    </tr>\n",
       "    <tr>\n",
       "      <th>95</th>\n",
       "      <td>15</td>\n",
       "      <td>PEHANOSA</td>\n",
       "      <td>Sneaker for men Sneakers For Men</td>\n",
       "      <td>499</td>\n",
       "      <td>50% off</td>\n",
       "    </tr>\n",
       "    <tr>\n",
       "      <th>96</th>\n",
       "      <td>16</td>\n",
       "      <td>Shoes Bank</td>\n",
       "      <td>White Sneaker For Men's/Boy's Sneakers For Men</td>\n",
       "      <td>345</td>\n",
       "      <td>65% off</td>\n",
       "    </tr>\n",
       "    <tr>\n",
       "      <th>97</th>\n",
       "      <td>17</td>\n",
       "      <td>Magnolia</td>\n",
       "      <td>Sneakers For Men</td>\n",
       "      <td>472</td>\n",
       "      <td>52% off</td>\n",
       "    </tr>\n",
       "    <tr>\n",
       "      <th>98</th>\n",
       "      <td>18</td>\n",
       "      <td>BRUTON</td>\n",
       "      <td>Lattest Sneakers Shoe Sneakers For Men</td>\n",
       "      <td>259</td>\n",
       "      <td>80% off</td>\n",
       "    </tr>\n",
       "    <tr>\n",
       "      <th>99</th>\n",
       "      <td>19</td>\n",
       "      <td>CLYMB</td>\n",
       "      <td>Perfect Casual Loafer Shoes for Men's Running ...</td>\n",
       "      <td>549</td>\n",
       "      <td>45% off</td>\n",
       "    </tr>\n",
       "  </tbody>\n",
       "</table>\n",
       "<p>100 rows × 5 columns</p>\n",
       "</div>"
      ],
      "text/plain": [
       "    index            Brand                                Product Description  \\\n",
       "0       0  Absolutee shoes                                   Sneakers For Men   \n",
       "1       1            Echor  Echor Men's Sneakers Fashion Lightweight Runni...   \n",
       "2       2           BRUTON  Combo Pack Of 4 Casual Shoes Loafer Shoes Snea...   \n",
       "3       3           Chevit  Super Stylish & Trendy Combo Pack of 02 Pairs ...   \n",
       "4       4           BRUTON      Modern Trendy Sneakers Shoes Sneakers For Men   \n",
       "..    ...              ...                                                ...   \n",
       "95     15         PEHANOSA                   Sneaker for men Sneakers For Men   \n",
       "96     16       Shoes Bank     White Sneaker For Men's/Boy's Sneakers For Men   \n",
       "97     17         Magnolia                                   Sneakers For Men   \n",
       "98     18           BRUTON             Lattest Sneakers Shoe Sneakers For Men   \n",
       "99     19            CLYMB  Perfect Casual Loafer Shoes for Men's Running ...   \n",
       "\n",
       "   Price Discount  \n",
       "0    699  53% off  \n",
       "1    499  66% off  \n",
       "2    499  85% off  \n",
       "3    649  59% off  \n",
       "4    299  76% off  \n",
       "..   ...      ...  \n",
       "95   499  50% off  \n",
       "96   345  65% off  \n",
       "97   472  52% off  \n",
       "98   259  80% off  \n",
       "99   549  45% off  \n",
       "\n",
       "[100 rows x 5 columns]"
      ]
     },
     "execution_count": 74,
     "metadata": {},
     "output_type": "execute_result"
    }
   ],
   "source": [
    "z.reset_index()"
   ]
  },
  {
   "cell_type": "code",
   "execution_count": 75,
   "id": "469c367c",
   "metadata": {},
   "outputs": [
    {
     "data": {
      "text/plain": [
       "<bound method WebDriver.close of <selenium.webdriver.chrome.webdriver.WebDriver (session=\"f73e8a03b622dbc10a310e8cd2a0e784\")>>"
      ]
     },
     "execution_count": 75,
     "metadata": {},
     "output_type": "execute_result"
    }
   ],
   "source": [
    "driver.close"
   ]
  },
  {
   "cell_type": "markdown",
   "id": "c1871497",
   "metadata": {},
   "source": [
    "# Q7: \n",
    "Go to the link - https://www.myntra.com/shoes\n",
    "\n",
    "1) Set Price filter to “Rs. 7149 to Rs. 14099 ” , Color filter to “Black”, as shown inthe below image.\n",
    "\n",
    "2) And then scrape First 100 shoes data you get. The data should include “Brand” of the shoes , Short Shoe description, price of the shoe as shown in the below image"
   ]
  },
  {
   "cell_type": "code",
   "execution_count": 99,
   "id": "c57a43e3",
   "metadata": {},
   "outputs": [],
   "source": [
    "driver=webdriver.Chrome('chromedriver.exe')"
   ]
  },
  {
   "cell_type": "code",
   "execution_count": 100,
   "id": "2a7625b6",
   "metadata": {},
   "outputs": [],
   "source": [
    "url='https://www.myntra.com/shoes'\n",
    "#This opens the https://www.myntra.com/shoes url automatically in the Chrome\n",
    "driver.get(url)"
   ]
  },
  {
   "cell_type": "code",
   "execution_count": 101,
   "id": "d5585dab",
   "metadata": {},
   "outputs": [
    {
     "data": {
      "text/plain": [
       "<selenium.webdriver.remote.webelement.WebElement (session=\"b4d5c117d630720492368d5e7c81da84\", element=\"4fff8f68-d827-4a4b-9d17-a12caa2ac043\")>"
      ]
     },
     "execution_count": 101,
     "metadata": {},
     "output_type": "execute_result"
    }
   ],
   "source": [
    "#Apply Filter on Prices from Rs 7149 to 14099\n",
    "price_filter=driver.find_element_by_xpath('/html/body/div[2]/div/div[1]/main/div[3]/div[1]/section/div/div[5]/ul/li[2]/label/div')\n",
    "price_filter"
   ]
  },
  {
   "cell_type": "code",
   "execution_count": 102,
   "id": "e038775e",
   "metadata": {},
   "outputs": [],
   "source": [
    "price_filter.click()"
   ]
  },
  {
   "cell_type": "code",
   "execution_count": 103,
   "id": "0ff65310",
   "metadata": {},
   "outputs": [
    {
     "data": {
      "text/plain": [
       "<selenium.webdriver.remote.webelement.WebElement (session=\"b4d5c117d630720492368d5e7c81da84\", element=\"0eb3487c-1d62-48fe-8901-9ce8dc9d6afe\")>"
      ]
     },
     "execution_count": 103,
     "metadata": {},
     "output_type": "execute_result"
    }
   ],
   "source": [
    "#Apply Filter on Color to Black\n",
    "color_filter=driver.find_element_by_xpath('/html/body/div[2]/div/div[1]/main/div[3]/div[1]/section/div/div[6]/ul/li[1]/label/div')\n",
    "color_filter"
   ]
  },
  {
   "cell_type": "code",
   "execution_count": 104,
   "id": "22c87946",
   "metadata": {},
   "outputs": [],
   "source": [
    "color_filter.click()"
   ]
  },
  {
   "cell_type": "markdown",
   "id": "a63d1219",
   "metadata": {},
   "source": [
    "Lets Scrap the Brands from all Pages, We are just scrapping 2 pages as one page as 50 brands"
   ]
  },
  {
   "cell_type": "code",
   "execution_count": 106,
   "id": "81fef6c6",
   "metadata": {},
   "outputs": [
    {
     "name": "stdout",
     "output_type": "stream",
     "text": [
      "Scraping page 1\n",
      "Scraping page 2\n"
     ]
    }
   ],
   "source": [
    "brands = []\n",
    "for i in range(2):\n",
    "    print('Scraping page', i+1)\n",
    "    brand = driver.find_elements_by_xpath('//h3[@class=\"product-brand\"]')\n",
    "    for p in brand:\n",
    "        brands.append(p.text)\n",
    "    next_button = driver.find_element_by_xpath('//li[@class=\"pagination-active\"]')\n",
    "    next_button.click()\n",
    "    sleep(2)"
   ]
  },
  {
   "cell_type": "code",
   "execution_count": 107,
   "id": "353a3bf2",
   "metadata": {},
   "outputs": [
    {
     "data": {
      "text/plain": [
       "100"
      ]
     },
     "execution_count": 107,
     "metadata": {},
     "output_type": "execute_result"
    }
   ],
   "source": [
    "len(brands)"
   ]
  },
  {
   "cell_type": "code",
   "execution_count": 108,
   "id": "04ff65c0",
   "metadata": {
    "collapsed": true
   },
   "outputs": [
    {
     "data": {
      "text/plain": [
       "['Nike',\n",
       " 'Tommy Hilfiger',\n",
       " 'ALDO',\n",
       " 'Nike',\n",
       " 'DAVINCHI',\n",
       " 'Tommy Hilfiger',\n",
       " 'Tommy Hilfiger',\n",
       " 'Puma',\n",
       " 'Puma',\n",
       " 'Puma',\n",
       " 'Puma',\n",
       " 'Puma',\n",
       " 'New Balance',\n",
       " 'ASICS',\n",
       " 'RARE RABBIT',\n",
       " 'Skechers',\n",
       " 'Puma',\n",
       " 'PUMA Motorsport',\n",
       " 'Hush Puppies',\n",
       " 'Puma',\n",
       " 'Hush Puppies',\n",
       " 'Tommy Hilfiger',\n",
       " 'New Balance',\n",
       " 'Puma',\n",
       " 'Reebok',\n",
       " 'Bugatti',\n",
       " 'RARE RABBIT',\n",
       " 'New Balance',\n",
       " 'Puma',\n",
       " 'Bugatti',\n",
       " 'ALDO',\n",
       " 'Columbia',\n",
       " 'Xtep',\n",
       " 'Saint G',\n",
       " 'ASICS',\n",
       " 'Puma',\n",
       " 'Saint G',\n",
       " 'Hush Puppies',\n",
       " 'Hush Puppies',\n",
       " 'DAVINCHI',\n",
       " 'Hush Puppies',\n",
       " 'Royal Enfield',\n",
       " 'J.FONTINI',\n",
       " 'Heel & Buckle London',\n",
       " 'Hush Puppies',\n",
       " 'Hush Puppies',\n",
       " 'DAVINCHI',\n",
       " 'Saint G',\n",
       " 'Tommy Hilfiger',\n",
       " 'Clarks',\n",
       " 'Nike',\n",
       " 'Tommy Hilfiger',\n",
       " 'ALDO',\n",
       " 'Nike',\n",
       " 'DAVINCHI',\n",
       " 'Tommy Hilfiger',\n",
       " 'Tommy Hilfiger',\n",
       " 'Puma',\n",
       " 'Puma',\n",
       " 'Puma',\n",
       " 'Puma',\n",
       " 'Puma',\n",
       " 'New Balance',\n",
       " 'ASICS',\n",
       " 'RARE RABBIT',\n",
       " 'Skechers',\n",
       " 'Puma',\n",
       " 'PUMA Motorsport',\n",
       " 'Hush Puppies',\n",
       " 'Puma',\n",
       " 'Hush Puppies',\n",
       " 'Tommy Hilfiger',\n",
       " 'New Balance',\n",
       " 'Puma',\n",
       " 'Reebok',\n",
       " 'Bugatti',\n",
       " 'RARE RABBIT',\n",
       " 'New Balance',\n",
       " 'Puma',\n",
       " 'Bugatti',\n",
       " 'ALDO',\n",
       " 'Columbia',\n",
       " 'Xtep',\n",
       " 'Saint G',\n",
       " 'ASICS',\n",
       " 'Puma',\n",
       " 'Saint G',\n",
       " 'Hush Puppies',\n",
       " 'Hush Puppies',\n",
       " 'DAVINCHI',\n",
       " 'Hush Puppies',\n",
       " 'Royal Enfield',\n",
       " 'J.FONTINI',\n",
       " 'Heel & Buckle London',\n",
       " 'Hush Puppies',\n",
       " 'Hush Puppies',\n",
       " 'DAVINCHI',\n",
       " 'Saint G',\n",
       " 'Tommy Hilfiger',\n",
       " 'Clarks']"
      ]
     },
     "execution_count": 108,
     "metadata": {},
     "output_type": "execute_result"
    }
   ],
   "source": [
    "brands"
   ]
  },
  {
   "cell_type": "markdown",
   "id": "c9db2337",
   "metadata": {},
   "source": [
    "Lets Scrap Short Shoe Description from all Pages"
   ]
  },
  {
   "cell_type": "code",
   "execution_count": 113,
   "id": "62dd3309",
   "metadata": {},
   "outputs": [
    {
     "name": "stdout",
     "output_type": "stream",
     "text": [
      "Scraping page 1\n",
      "Scraping page 2\n"
     ]
    }
   ],
   "source": [
    "shoeDesc = []\n",
    "for i in range(2):\n",
    "    print('Scraping page', i+1)\n",
    "    desc = driver.find_elements_by_xpath('//h4[@class=\"product-product\"]')\n",
    "    for d in desc:\n",
    "        shoeDesc.append(d.text)\n",
    "    next_button = driver.find_element_by_xpath('//li[@class=\"pagination-active\"]')\n",
    "    next_button.click()\n",
    "    sleep(2)"
   ]
  },
  {
   "cell_type": "code",
   "execution_count": 114,
   "id": "90e0973b",
   "metadata": {},
   "outputs": [
    {
     "data": {
      "text/plain": [
       "100"
      ]
     },
     "execution_count": 114,
     "metadata": {},
     "output_type": "execute_result"
    }
   ],
   "source": [
    "len(shoeDesc)"
   ]
  },
  {
   "cell_type": "code",
   "execution_count": 115,
   "id": "48862d48",
   "metadata": {
    "collapsed": true
   },
   "outputs": [
    {
     "data": {
      "text/plain": [
       "['Men AIR ZOOM PEGASUS 38',\n",
       " 'Men Solid Loafers',\n",
       " 'Men Printed Sneakers',\n",
       " 'Men Blazer Court Skateboarding',\n",
       " 'Men Textured Formal Leather Loafers',\n",
       " 'Men Leather Sneakers',\n",
       " 'Men Leather Sneakers',\n",
       " 'Men Jamming 2.0 Running Shoes',\n",
       " 'Men Running Shoes',\n",
       " 'Men Magnify Nitro Running',\n",
       " 'Men Deviate Nitro Running Shoe',\n",
       " 'Men Electrify Nitro Running',\n",
       " 'Men Woven Design Running Shoes',\n",
       " 'Women Running Shoes',\n",
       " 'Men Leather Slip-On Sneakers',\n",
       " 'Men Go Run Hyper Burst Running',\n",
       " 'Men Training or Gym Shoes',\n",
       " 'Unisex Ferrari Drift8 Sneakers',\n",
       " 'Men Solid Leather Formal Slip-Ons',\n",
       " 'Women Magnify Nitro Shoes',\n",
       " 'Men Perforations Leather Slip-On Sneakers',\n",
       " 'Leather Sandals',\n",
       " 'Men Woven Design Running Shoes',\n",
       " 'Men Liberate Nitro Running',\n",
       " 'Men Astroride Forever Running',\n",
       " 'Men Black Walking Shoes',\n",
       " 'Men Leather Flat Boots',\n",
       " 'Men Woven Design Running Shoes',\n",
       " 'Women Eternity NITRO Shoes',\n",
       " 'Men Textured Leather High-Top Flat Boots',\n",
       " 'Wedge Sandals',\n",
       " 'NEWTON RIDGE PLUS II WATERPROOF',\n",
       " 'Men Running Shoes',\n",
       " 'Men Mid-Top Chelsea Boots',\n",
       " 'Men Colourblocked PU Sneakers',\n",
       " 'Women Velocity NITRO Runners',\n",
       " 'Men Leather Chelsea Boots',\n",
       " 'Men Solid Leather Formal Derbys',\n",
       " 'Men Formal Derbys',\n",
       " 'Ustraa black',\n",
       " 'Men Solid Formal Slip-Ons',\n",
       " 'Cabo WP Riding Boots',\n",
       " 'Men Textured Leather Loafers',\n",
       " 'Men Solid Leather Formal Loafers',\n",
       " 'Men Leather Derbys',\n",
       " 'Men Solid Leather Formal Slip-Ons',\n",
       " 'Men Solid Leather Formal Loafers',\n",
       " 'Women Leather Heeled Boots',\n",
       " 'Women ELEVATED Leather Sneaker',\n",
       " 'Men Solid Leather Formal Loafers',\n",
       " 'Men AIR ZOOM PEGASUS 38',\n",
       " 'Men Solid Loafers',\n",
       " 'Men Printed Sneakers',\n",
       " 'Men Blazer Court Skateboarding',\n",
       " 'Men Textured Formal Leather Loafers',\n",
       " 'Men Leather Sneakers',\n",
       " 'Men Leather Sneakers',\n",
       " 'Men Jamming 2.0 Running Shoes',\n",
       " 'Men Running Shoes',\n",
       " 'Men Magnify Nitro Running',\n",
       " 'Men Deviate Nitro Running Shoe',\n",
       " 'Men Electrify Nitro Running',\n",
       " 'Men Woven Design Running Shoes',\n",
       " 'Women Running Shoes',\n",
       " 'Men Leather Slip-On Sneakers',\n",
       " 'Men Go Run Hyper Burst Running',\n",
       " 'Men Training or Gym Shoes',\n",
       " 'Unisex Ferrari Drift8 Sneakers',\n",
       " 'Men Solid Leather Formal Slip-Ons',\n",
       " 'Women Magnify Nitro Shoes',\n",
       " 'Men Perforations Leather Slip-On Sneakers',\n",
       " 'Leather Sandals',\n",
       " 'Men Woven Design Running Shoes',\n",
       " 'Men Liberate Nitro Running',\n",
       " 'Men Astroride Forever Running',\n",
       " 'Men Black Walking Shoes',\n",
       " 'Men Leather Flat Boots',\n",
       " 'Men Woven Design Running Shoes',\n",
       " 'Women Eternity NITRO Shoes',\n",
       " 'Men Textured Leather High-Top Flat Boots',\n",
       " 'Wedge Sandals',\n",
       " 'NEWTON RIDGE PLUS II WATERPROOF',\n",
       " 'Men Running Shoes',\n",
       " 'Men Mid-Top Chelsea Boots',\n",
       " 'Men Colourblocked PU Sneakers',\n",
       " 'Women Velocity NITRO Runners',\n",
       " 'Men Leather Chelsea Boots',\n",
       " 'Men Solid Leather Formal Derbys',\n",
       " 'Men Formal Derbys',\n",
       " 'Ustraa black',\n",
       " 'Men Solid Formal Slip-Ons',\n",
       " 'Cabo WP Riding Boots',\n",
       " 'Men Textured Leather Loafers',\n",
       " 'Men Solid Leather Formal Loafers',\n",
       " 'Men Leather Derbys',\n",
       " 'Men Solid Leather Formal Slip-Ons',\n",
       " 'Men Solid Leather Formal Loafers',\n",
       " 'Women Leather Heeled Boots',\n",
       " 'Women ELEVATED Leather Sneaker',\n",
       " 'Men Solid Leather Formal Loafers']"
      ]
     },
     "execution_count": 115,
     "metadata": {},
     "output_type": "execute_result"
    }
   ],
   "source": [
    "shoeDesc"
   ]
  },
  {
   "cell_type": "code",
   "execution_count": 134,
   "id": "df176a03",
   "metadata": {},
   "outputs": [
    {
     "name": "stdout",
     "output_type": "stream",
     "text": [
      "Scraping page 1\n",
      "Scraping page 2\n"
     ]
    }
   ],
   "source": [
    "prices = []\n",
    "for i in range(2):\n",
    "    print('Scraping page', i+1)\n",
    "    price = driver.find_elements_by_xpath('//div[@class=\"product-price\"]')\n",
    "    for i in price:\n",
    "        prices.append(i.text[0:10].replace('Rs. ','').replace('R','').replace('Rs',''))\n",
    "    next_button = driver.find_element_by_xpath('//li[@class=\"pagination-active\"]')\n",
    "    next_button.click()\n",
    "    sleep(2)"
   ]
  },
  {
   "cell_type": "code",
   "execution_count": 117,
   "id": "529f103e",
   "metadata": {},
   "outputs": [
    {
     "data": {
      "text/plain": [
       "100"
      ]
     },
     "execution_count": 117,
     "metadata": {},
     "output_type": "execute_result"
    }
   ],
   "source": [
    "len(prices)"
   ]
  },
  {
   "cell_type": "code",
   "execution_count": 135,
   "id": "ee52313c",
   "metadata": {
    "collapsed": true
   },
   "outputs": [
    {
     "data": {
      "text/plain": [
       "['10920',\n",
       " '8999',\n",
       " '9099s',\n",
       " '7495',\n",
       " '8990',\n",
       " '7999',\n",
       " '7999',\n",
       " '12999',\n",
       " '9749s',\n",
       " '7799s',\n",
       " '10499',\n",
       " '9999',\n",
       " '7499s',\n",
       " '7999',\n",
       " '7999',\n",
       " '7649s',\n",
       " '7999',\n",
       " '7999',\n",
       " '8999',\n",
       " '7799s',\n",
       " '7999',\n",
       " '7599',\n",
       " '8249s',\n",
       " '7499s',\n",
       " '7199s',\n",
       " '7199s',\n",
       " '7999s',\n",
       " '8499s',\n",
       " '12999',\n",
       " '8399s',\n",
       " '7999',\n",
       " '8499',\n",
       " '7699',\n",
       " '10500',\n",
       " '9999',\n",
       " '7149s',\n",
       " '10710',\n",
       " '9999',\n",
       " '9999',\n",
       " '8990',\n",
       " '9999',\n",
       " '8500',\n",
       " '8490',\n",
       " '11990',\n",
       " '7999',\n",
       " '9999',\n",
       " '8490',\n",
       " '12325',\n",
       " '7219s',\n",
       " '7999',\n",
       " '10920',\n",
       " '8999',\n",
       " '9099s',\n",
       " '7495',\n",
       " '8990',\n",
       " '7999',\n",
       " '7999',\n",
       " '12999',\n",
       " '9749s',\n",
       " '7799s',\n",
       " '10499',\n",
       " '9999',\n",
       " '7499s',\n",
       " '7999',\n",
       " '7999',\n",
       " '7649s',\n",
       " '7999',\n",
       " '7999',\n",
       " '8999',\n",
       " '7799s',\n",
       " '7999',\n",
       " '7599',\n",
       " '8249s',\n",
       " '7499s',\n",
       " '7199s',\n",
       " '7199s',\n",
       " '7999s',\n",
       " '8499s',\n",
       " '12999',\n",
       " '8399s',\n",
       " '7999',\n",
       " '8499',\n",
       " '7699',\n",
       " '10500',\n",
       " '9999',\n",
       " '7149s',\n",
       " '10710',\n",
       " '9999',\n",
       " '9999',\n",
       " '8990',\n",
       " '9999',\n",
       " '8500',\n",
       " '8490',\n",
       " '11990',\n",
       " '7999',\n",
       " '9999',\n",
       " '8490',\n",
       " '12325',\n",
       " '7219s',\n",
       " '7999']"
      ]
     },
     "execution_count": 135,
     "metadata": {},
     "output_type": "execute_result"
    }
   ],
   "source": [
    "prices"
   ]
  },
  {
   "cell_type": "markdown",
   "id": "323e178f",
   "metadata": {},
   "source": [
    "Create a Dataframe and combine all prices"
   ]
  },
  {
   "cell_type": "code",
   "execution_count": 136,
   "id": "91590285",
   "metadata": {},
   "outputs": [
    {
     "data": {
      "text/html": [
       "<div>\n",
       "<style scoped>\n",
       "    .dataframe tbody tr th:only-of-type {\n",
       "        vertical-align: middle;\n",
       "    }\n",
       "\n",
       "    .dataframe tbody tr th {\n",
       "        vertical-align: top;\n",
       "    }\n",
       "\n",
       "    .dataframe thead th {\n",
       "        text-align: right;\n",
       "    }\n",
       "</style>\n",
       "<table border=\"1\" class=\"dataframe\">\n",
       "  <thead>\n",
       "    <tr style=\"text-align: right;\">\n",
       "      <th></th>\n",
       "      <th>Brand</th>\n",
       "      <th>Short Shoe Description</th>\n",
       "      <th>Price</th>\n",
       "    </tr>\n",
       "  </thead>\n",
       "  <tbody>\n",
       "    <tr>\n",
       "      <th>0</th>\n",
       "      <td>Nike</td>\n",
       "      <td>Men AIR ZOOM PEGASUS 38</td>\n",
       "      <td>10920</td>\n",
       "    </tr>\n",
       "    <tr>\n",
       "      <th>1</th>\n",
       "      <td>Tommy Hilfiger</td>\n",
       "      <td>Men Solid Loafers</td>\n",
       "      <td>8999</td>\n",
       "    </tr>\n",
       "    <tr>\n",
       "      <th>2</th>\n",
       "      <td>ALDO</td>\n",
       "      <td>Men Printed Sneakers</td>\n",
       "      <td>9099s</td>\n",
       "    </tr>\n",
       "    <tr>\n",
       "      <th>3</th>\n",
       "      <td>Nike</td>\n",
       "      <td>Men Blazer Court Skateboarding</td>\n",
       "      <td>7495</td>\n",
       "    </tr>\n",
       "    <tr>\n",
       "      <th>4</th>\n",
       "      <td>DAVINCHI</td>\n",
       "      <td>Men Textured Formal Leather Loafers</td>\n",
       "      <td>8990</td>\n",
       "    </tr>\n",
       "    <tr>\n",
       "      <th>...</th>\n",
       "      <td>...</td>\n",
       "      <td>...</td>\n",
       "      <td>...</td>\n",
       "    </tr>\n",
       "    <tr>\n",
       "      <th>95</th>\n",
       "      <td>Hush Puppies</td>\n",
       "      <td>Men Solid Leather Formal Slip-Ons</td>\n",
       "      <td>9999</td>\n",
       "    </tr>\n",
       "    <tr>\n",
       "      <th>96</th>\n",
       "      <td>DAVINCHI</td>\n",
       "      <td>Men Solid Leather Formal Loafers</td>\n",
       "      <td>8490</td>\n",
       "    </tr>\n",
       "    <tr>\n",
       "      <th>97</th>\n",
       "      <td>Saint G</td>\n",
       "      <td>Women Leather Heeled Boots</td>\n",
       "      <td>12325</td>\n",
       "    </tr>\n",
       "    <tr>\n",
       "      <th>98</th>\n",
       "      <td>Tommy Hilfiger</td>\n",
       "      <td>Women ELEVATED Leather Sneaker</td>\n",
       "      <td>7219s</td>\n",
       "    </tr>\n",
       "    <tr>\n",
       "      <th>99</th>\n",
       "      <td>Clarks</td>\n",
       "      <td>Men Solid Leather Formal Loafers</td>\n",
       "      <td>7999</td>\n",
       "    </tr>\n",
       "  </tbody>\n",
       "</table>\n",
       "<p>100 rows × 3 columns</p>\n",
       "</div>"
      ],
      "text/plain": [
       "             Brand               Short Shoe Description  Price\n",
       "0             Nike              Men AIR ZOOM PEGASUS 38  10920\n",
       "1   Tommy Hilfiger                    Men Solid Loafers   8999\n",
       "2             ALDO                 Men Printed Sneakers  9099s\n",
       "3             Nike       Men Blazer Court Skateboarding   7495\n",
       "4         DAVINCHI  Men Textured Formal Leather Loafers   8990\n",
       "..             ...                                  ...    ...\n",
       "95    Hush Puppies    Men Solid Leather Formal Slip-Ons   9999\n",
       "96        DAVINCHI     Men Solid Leather Formal Loafers   8490\n",
       "97         Saint G           Women Leather Heeled Boots  12325\n",
       "98  Tommy Hilfiger       Women ELEVATED Leather Sneaker  7219s\n",
       "99          Clarks     Men Solid Leather Formal Loafers   7999\n",
       "\n",
       "[100 rows x 3 columns]"
      ]
     },
     "execution_count": 136,
     "metadata": {},
     "output_type": "execute_result"
    }
   ],
   "source": [
    "df =(pd.DataFrame({'Brand':brands,'Short Shoe Description':shoeDesc,'Price':prices}))\n",
    "df"
   ]
  },
  {
   "cell_type": "code",
   "execution_count": null,
   "id": "e81bf1dc",
   "metadata": {},
   "outputs": [],
   "source": []
  },
  {
   "cell_type": "markdown",
   "id": "31f5a2e1",
   "metadata": {},
   "source": [
    "# Q8\n",
    "Go to webpage https://www.amazon.in/\n",
    "Enter “Laptop” in the search field and then click the search icon.\n",
    "\n",
    "After setting the filters scrape first 10 laptops data. You have to scrape 3 attributesfor each laptop:\n",
    "1. Title\n",
    "2. Ratings\n",
    "3. Price\n",
    "As shown in the below image as the tick marked attributes.\n"
   ]
  },
  {
   "cell_type": "code",
   "execution_count": 137,
   "id": "cf5d2040",
   "metadata": {},
   "outputs": [],
   "source": [
    "driver=webdriver.Chrome('chromedriver.exe')"
   ]
  },
  {
   "cell_type": "code",
   "execution_count": 138,
   "id": "4efacc2e",
   "metadata": {},
   "outputs": [],
   "source": [
    "url='https://www.amazon.in/'\n",
    "#This opens the amazon.in url automatically in the Chrome\n",
    "driver.get(url)"
   ]
  },
  {
   "cell_type": "code",
   "execution_count": 139,
   "id": "b41ca8ca",
   "metadata": {},
   "outputs": [
    {
     "data": {
      "text/plain": [
       "<selenium.webdriver.remote.webelement.WebElement (session=\"d781fe6ad6c0917f3b6331d56eaab6a9\", element=\"2ae1dfdf-0220-4dc1-92ff-74061ab56d30\")>"
      ]
     },
     "execution_count": 139,
     "metadata": {},
     "output_type": "execute_result"
    }
   ],
   "source": [
    "#Finding web element for search job by using class name\n",
    "search_job=driver.find_element_by_xpath('/html/body/div[1]/header/div/div[1]/div[2]/div/form/div[2]/div[1]/input')\n",
    "search_job"
   ]
  },
  {
   "cell_type": "code",
   "execution_count": 140,
   "id": "4e13c810",
   "metadata": {},
   "outputs": [],
   "source": [
    "#Next is if we write on Search bar, we will get the output\n",
    "search_job.send_keys('Laptop')"
   ]
  },
  {
   "cell_type": "code",
   "execution_count": 141,
   "id": "0c3bb7a9",
   "metadata": {},
   "outputs": [
    {
     "data": {
      "text/plain": [
       "<selenium.webdriver.remote.webelement.WebElement (session=\"d781fe6ad6c0917f3b6331d56eaab6a9\", element=\"0e2c4afe-e97d-450d-86f1-b45d4f095bff\")>"
      ]
     },
     "execution_count": 141,
     "metadata": {},
     "output_type": "execute_result"
    }
   ],
   "source": [
    "search_btn=driver.find_element_by_xpath('/html/body/div[1]/header/div/div[1]/div[2]/div/form/div[3]/div/span/input')\n",
    "search_btn"
   ]
  },
  {
   "cell_type": "code",
   "execution_count": 142,
   "id": "d7493297",
   "metadata": {},
   "outputs": [],
   "source": [
    "search_btn.click()"
   ]
  },
  {
   "cell_type": "code",
   "execution_count": 143,
   "id": "389a985b",
   "metadata": {},
   "outputs": [
    {
     "data": {
      "text/plain": [
       "<selenium.webdriver.remote.webelement.WebElement (session=\"d781fe6ad6c0917f3b6331d56eaab6a9\", element=\"750e5537-598b-448c-b1dd-e512c9969126\")>"
      ]
     },
     "execution_count": 143,
     "metadata": {},
     "output_type": "execute_result"
    }
   ],
   "source": [
    "apply_i7_filter=driver.find_element_by_xpath('//*[@id=\"p_n_feature_thirteen_browse-bin/12598163031\"]/span/a/div/label/i')\n",
    "apply_i7_filter"
   ]
  },
  {
   "cell_type": "code",
   "execution_count": 144,
   "id": "e451ca36",
   "metadata": {},
   "outputs": [],
   "source": [
    "sleep(2)"
   ]
  },
  {
   "cell_type": "code",
   "execution_count": 145,
   "id": "4a8a6378",
   "metadata": {},
   "outputs": [],
   "source": [
    "apply_i7_filter.click()"
   ]
  },
  {
   "cell_type": "code",
   "execution_count": 146,
   "id": "069db242",
   "metadata": {},
   "outputs": [
    {
     "data": {
      "text/plain": [
       "30"
      ]
     },
     "execution_count": 146,
     "metadata": {},
     "output_type": "execute_result"
    }
   ],
   "source": [
    "titles=driver.find_elements_by_xpath('//span[@class=\"a-size-medium a-color-base a-text-normal\"]')\n",
    "len(titles)"
   ]
  },
  {
   "cell_type": "code",
   "execution_count": 147,
   "id": "fdc3699b",
   "metadata": {
    "collapsed": true
   },
   "outputs": [
    {
     "data": {
      "text/plain": [
       "['Fujitsu UH-X 11th Gen Intel i7 Core 13.3” (33.78cm) FHD IPS 400Nits Thin & Light Laptop (16GB/512GB SSD/Windows 11/Office 2021/Iris Xe Graphics/Backlit Kb/ Fingerprint Reader/Black/878gms), 4ZR1F38024',\n",
       " 'LG Gram 16 inches Intel Evo 11th Gen Core i7 Ultra-Light Laptop (16 GB RAM, 512 GB SSD, New Windows 11 Home Preload, Iris Xe Graphics, USC -C x 2 (with Power), 1.19 kg, 16Z90P-G.AH85A2, Black)',\n",
       " 'ASUS VivoBook 14 (2021), 14-inch (35.56 cms) FHD, Intel Core i7-1065G7 10th Gen, Thin and Light Laptop (16GB/512GB SSD/Integrated Graphics/Office 2021/Windows 11/Silver/1.6 Kg), X415JA-EK701WS',\n",
       " 'ASUS TUF Gaming F15 (2021) 15.6-inch (39.62 cms) FHD 144Hz, Intel Core i7-11800H 11th Gen, RTX 3050 Ti 4GB Graphics, Gaming Laptop (16GB/1TB SSD/Windows 10/Gray/2.3 Kg), FX566HEB-HN248T',\n",
       " 'HP Pavilion x360 11th Gen Intel Core i7-16GB RAM/512GB SSD 14-inch(35.6 cm) FHD, IPS, Convertible Laptop (B&O/Win 11/Backlit keyboard/FPR/ Alexa-Built in/MS Office/Natural Silver/1.52 Kg) -14-dy1013TU',\n",
       " 'ASUS TUF Gaming F15 (2021), 15.6\" (39.62 cms) FHD 144Hz, Intel Core i7-11600H 11th Gen, 4GB RTX 3050 Graphics, Gaming Laptop (16GB/512GB SSD/Windows 10/Office 2019/Gray/2.3 Kg), FX566HCB-HN299TS',\n",
       " 'LG Gram Intel Evo 11th Gen Core i7 17 inches Ultra-Light Laptop (16 GB RAM, 512 GB SSD, New Windows 11 Home Preload, Iris Xe Graphics, USC -C x 2 (with Power), 1.35 kg, 17Z90P-G.AH85A2, Black)',\n",
       " 'Lenovo ThinkBook 13s Intel 11th Gen Core i7 13.3\"(33.78 cm) WQXGA IPS 300 nits 100% sRGB Dolby Vision Thin and Light Laptop (16GB/512GB SSD/Windows 10/MS Office/FPR/Mineral Grey/1.26 Kg), 20V9A05FIH',\n",
       " 'LG Gram 14 inches Ultra-Light Intel Evo 11th Gen Core i7 Laptop (16 GB RAM, 512 GB SSD, New Windows 11 Home Preload, Iris Xe Graphics, USC -C x 2 (with Power), 0.999Kg, (14Z90P-G.AH85A2, Black)',\n",
       " 'MSI GF75 Thin Gaming, Intel Core i7-10750H, 44cm IPS-Level 144Hz Panel Laptop (8GB/512GB NVMe SSD/Windows 10 Home/Nvidia GeForce GTX 1650/GDDR6 4GB/Black/2.2kg) 10SCXR-654IN']"
      ]
     },
     "execution_count": 147,
     "metadata": {},
     "output_type": "execute_result"
    }
   ],
   "source": [
    "ptitles=[]\n",
    "for i in titles:\n",
    "    ptitles.append(i.text)\n",
    "prodTitle=ptitles[0:10]\n",
    "prodTitle"
   ]
  },
  {
   "cell_type": "code",
   "execution_count": 149,
   "id": "ccc9c678",
   "metadata": {
    "collapsed": true
   },
   "outputs": [
    {
     "data": {
      "text/plain": [
       "[<selenium.webdriver.remote.webelement.WebElement (session=\"d781fe6ad6c0917f3b6331d56eaab6a9\", element=\"773b695b-ad5a-4abd-a818-e6ca4c327917\")>,\n",
       " <selenium.webdriver.remote.webelement.WebElement (session=\"d781fe6ad6c0917f3b6331d56eaab6a9\", element=\"39b06572-71cb-4ce8-8d1c-3de201c079a6\")>,\n",
       " <selenium.webdriver.remote.webelement.WebElement (session=\"d781fe6ad6c0917f3b6331d56eaab6a9\", element=\"f4488a04-935f-47dc-b458-9497e92f97fe\")>,\n",
       " <selenium.webdriver.remote.webelement.WebElement (session=\"d781fe6ad6c0917f3b6331d56eaab6a9\", element=\"18e683db-3886-4ac1-a3d4-e6bfee3bed12\")>,\n",
       " <selenium.webdriver.remote.webelement.WebElement (session=\"d781fe6ad6c0917f3b6331d56eaab6a9\", element=\"c7cd994e-90ca-4f8a-af29-11149716a51f\")>,\n",
       " <selenium.webdriver.remote.webelement.WebElement (session=\"d781fe6ad6c0917f3b6331d56eaab6a9\", element=\"5fd39dcf-b3ce-4017-a8c9-55582a5bc82d\")>,\n",
       " <selenium.webdriver.remote.webelement.WebElement (session=\"d781fe6ad6c0917f3b6331d56eaab6a9\", element=\"70bd60cf-d977-4858-9fa7-a312f5841521\")>,\n",
       " <selenium.webdriver.remote.webelement.WebElement (session=\"d781fe6ad6c0917f3b6331d56eaab6a9\", element=\"6ab8300a-93d5-4a07-8578-d3c5982fcb0c\")>,\n",
       " <selenium.webdriver.remote.webelement.WebElement (session=\"d781fe6ad6c0917f3b6331d56eaab6a9\", element=\"c40a2f36-8eb4-4883-805a-74b97536842f\")>,\n",
       " <selenium.webdriver.remote.webelement.WebElement (session=\"d781fe6ad6c0917f3b6331d56eaab6a9\", element=\"f83d123d-a9ac-4981-86ca-4739c8627e88\")>,\n",
       " <selenium.webdriver.remote.webelement.WebElement (session=\"d781fe6ad6c0917f3b6331d56eaab6a9\", element=\"56229f46-7a83-414c-a8d5-1fb73dbdf4ca\")>,\n",
       " <selenium.webdriver.remote.webelement.WebElement (session=\"d781fe6ad6c0917f3b6331d56eaab6a9\", element=\"fdda670b-7a68-4981-8393-4829d45124e4\")>,\n",
       " <selenium.webdriver.remote.webelement.WebElement (session=\"d781fe6ad6c0917f3b6331d56eaab6a9\", element=\"6d493726-ede9-48bd-8402-3c3435775f97\")>,\n",
       " <selenium.webdriver.remote.webelement.WebElement (session=\"d781fe6ad6c0917f3b6331d56eaab6a9\", element=\"db8188ee-3bd4-4ccd-8e13-1976705a55d3\")>,\n",
       " <selenium.webdriver.remote.webelement.WebElement (session=\"d781fe6ad6c0917f3b6331d56eaab6a9\", element=\"33c9f23d-aa88-4ffe-bf0f-840d2b9ddf49\")>,\n",
       " <selenium.webdriver.remote.webelement.WebElement (session=\"d781fe6ad6c0917f3b6331d56eaab6a9\", element=\"84617603-e767-4d31-a85e-2eb3427383e8\")>,\n",
       " <selenium.webdriver.remote.webelement.WebElement (session=\"d781fe6ad6c0917f3b6331d56eaab6a9\", element=\"349612d6-860c-48be-8b6d-28e916cedc3e\")>,\n",
       " <selenium.webdriver.remote.webelement.WebElement (session=\"d781fe6ad6c0917f3b6331d56eaab6a9\", element=\"96130d9a-ca36-4c39-94d6-12f4ce1cd819\")>,\n",
       " <selenium.webdriver.remote.webelement.WebElement (session=\"d781fe6ad6c0917f3b6331d56eaab6a9\", element=\"a05b04cf-428c-4713-92c9-3bba4fc3712b\")>,\n",
       " <selenium.webdriver.remote.webelement.WebElement (session=\"d781fe6ad6c0917f3b6331d56eaab6a9\", element=\"dc62ae6c-b829-408a-947b-76eb448fe9bf\")>,\n",
       " <selenium.webdriver.remote.webelement.WebElement (session=\"d781fe6ad6c0917f3b6331d56eaab6a9\", element=\"1ed4e37c-6b26-449f-aee2-437e1d31f104\")>,\n",
       " <selenium.webdriver.remote.webelement.WebElement (session=\"d781fe6ad6c0917f3b6331d56eaab6a9\", element=\"455b503e-6583-4dbc-b1ca-fcf90092b950\")>,\n",
       " <selenium.webdriver.remote.webelement.WebElement (session=\"d781fe6ad6c0917f3b6331d56eaab6a9\", element=\"cf96d52e-62fb-482e-a485-36cc62a61af4\")>,\n",
       " <selenium.webdriver.remote.webelement.WebElement (session=\"d781fe6ad6c0917f3b6331d56eaab6a9\", element=\"b8c07987-21bd-4290-acfb-344f7a237cf8\")>,\n",
       " <selenium.webdriver.remote.webelement.WebElement (session=\"d781fe6ad6c0917f3b6331d56eaab6a9\", element=\"4a958aec-1e26-4793-8993-ce5844519d72\")>,\n",
       " <selenium.webdriver.remote.webelement.WebElement (session=\"d781fe6ad6c0917f3b6331d56eaab6a9\", element=\"b37869be-52a5-4dc8-9c0a-45080559cd9a\")>]"
      ]
     },
     "execution_count": 149,
     "metadata": {},
     "output_type": "execute_result"
    }
   ],
   "source": [
    "rating=driver.find_elements_by_xpath('//*[contains(@aria-label,\"stars\")]')\n",
    "rating"
   ]
  },
  {
   "cell_type": "code",
   "execution_count": 157,
   "id": "7439f6b6",
   "metadata": {
    "collapsed": true
   },
   "outputs": [
    {
     "data": {
      "text/plain": [
       "['', '', '', '', '', '', '', '', '', '']"
      ]
     },
     "execution_count": 157,
     "metadata": {},
     "output_type": "execute_result"
    }
   ],
   "source": [
    "ratings=[]\n",
    "for i in rating:\n",
    "    ratings.append(i.text)\n",
    "ratings=ratings[0:10]\n",
    "ratings"
   ]
  },
  {
   "cell_type": "markdown",
   "id": "57c0c770",
   "metadata": {},
   "source": [
    "Important : The rating here is blank because the screen doesn't show Ratings.It only shows stars not the rating. For this we have to scrap it by going into Individual URLs"
   ]
  },
  {
   "cell_type": "code",
   "execution_count": 151,
   "id": "77a6a67a",
   "metadata": {},
   "outputs": [],
   "source": [
    "price=driver.find_elements_by_xpath('//span[@class=\"a-price-whole\"]')"
   ]
  },
  {
   "cell_type": "code",
   "execution_count": 152,
   "id": "b50946b7",
   "metadata": {
    "collapsed": true
   },
   "outputs": [
    {
     "data": {
      "text/plain": [
       "['92,490',\n",
       " '90,999',\n",
       " '59,990',\n",
       " '96,990',\n",
       " '86,990',\n",
       " '83,990',\n",
       " '99,999',\n",
       " '84,990',\n",
       " '85,999',\n",
       " '70,000']"
      ]
     },
     "execution_count": 152,
     "metadata": {},
     "output_type": "execute_result"
    }
   ],
   "source": [
    "prices=[]\n",
    "for i in price:\n",
    "    prices.append(i.text)\n",
    "prod_price=prices[0:10]\n",
    "prod_price"
   ]
  },
  {
   "cell_type": "code",
   "execution_count": 161,
   "id": "4467ab92",
   "metadata": {},
   "outputs": [
    {
     "data": {
      "text/html": [
       "<div>\n",
       "<style scoped>\n",
       "    .dataframe tbody tr th:only-of-type {\n",
       "        vertical-align: middle;\n",
       "    }\n",
       "\n",
       "    .dataframe tbody tr th {\n",
       "        vertical-align: top;\n",
       "    }\n",
       "\n",
       "    .dataframe thead th {\n",
       "        text-align: right;\n",
       "    }\n",
       "</style>\n",
       "<table border=\"1\" class=\"dataframe\">\n",
       "  <thead>\n",
       "    <tr style=\"text-align: right;\">\n",
       "      <th></th>\n",
       "      <th>Title</th>\n",
       "      <th>Rating</th>\n",
       "      <th>Price</th>\n",
       "    </tr>\n",
       "  </thead>\n",
       "  <tbody>\n",
       "    <tr>\n",
       "      <th>0</th>\n",
       "      <td>Fujitsu UH-X 11th Gen Intel i7 Core 13.3” (33....</td>\n",
       "      <td></td>\n",
       "      <td>92,490</td>\n",
       "    </tr>\n",
       "    <tr>\n",
       "      <th>1</th>\n",
       "      <td>LG Gram 16 inches Intel Evo 11th Gen Core i7 U...</td>\n",
       "      <td></td>\n",
       "      <td>90,999</td>\n",
       "    </tr>\n",
       "    <tr>\n",
       "      <th>2</th>\n",
       "      <td>ASUS VivoBook 14 (2021), 14-inch (35.56 cms) F...</td>\n",
       "      <td></td>\n",
       "      <td>59,990</td>\n",
       "    </tr>\n",
       "    <tr>\n",
       "      <th>3</th>\n",
       "      <td>ASUS TUF Gaming F15 (2021) 15.6-inch (39.62 cm...</td>\n",
       "      <td></td>\n",
       "      <td>96,990</td>\n",
       "    </tr>\n",
       "    <tr>\n",
       "      <th>4</th>\n",
       "      <td>HP Pavilion x360 11th Gen Intel Core i7-16GB R...</td>\n",
       "      <td></td>\n",
       "      <td>86,990</td>\n",
       "    </tr>\n",
       "    <tr>\n",
       "      <th>5</th>\n",
       "      <td>ASUS TUF Gaming F15 (2021), 15.6\" (39.62 cms) ...</td>\n",
       "      <td></td>\n",
       "      <td>83,990</td>\n",
       "    </tr>\n",
       "    <tr>\n",
       "      <th>6</th>\n",
       "      <td>LG Gram Intel Evo 11th Gen Core i7 17 inches U...</td>\n",
       "      <td></td>\n",
       "      <td>99,999</td>\n",
       "    </tr>\n",
       "    <tr>\n",
       "      <th>7</th>\n",
       "      <td>Lenovo ThinkBook 13s Intel 11th Gen Core i7 13...</td>\n",
       "      <td></td>\n",
       "      <td>84,990</td>\n",
       "    </tr>\n",
       "    <tr>\n",
       "      <th>8</th>\n",
       "      <td>LG Gram 14 inches Ultra-Light Intel Evo 11th G...</td>\n",
       "      <td></td>\n",
       "      <td>85,999</td>\n",
       "    </tr>\n",
       "    <tr>\n",
       "      <th>9</th>\n",
       "      <td>MSI GF75 Thin Gaming, Intel Core i7-10750H, 44...</td>\n",
       "      <td></td>\n",
       "      <td>70,000</td>\n",
       "    </tr>\n",
       "  </tbody>\n",
       "</table>\n",
       "</div>"
      ],
      "text/plain": [
       "                                               Title Rating   Price\n",
       "0  Fujitsu UH-X 11th Gen Intel i7 Core 13.3” (33....         92,490\n",
       "1  LG Gram 16 inches Intel Evo 11th Gen Core i7 U...         90,999\n",
       "2  ASUS VivoBook 14 (2021), 14-inch (35.56 cms) F...         59,990\n",
       "3  ASUS TUF Gaming F15 (2021) 15.6-inch (39.62 cm...         96,990\n",
       "4  HP Pavilion x360 11th Gen Intel Core i7-16GB R...         86,990\n",
       "5  ASUS TUF Gaming F15 (2021), 15.6\" (39.62 cms) ...         83,990\n",
       "6  LG Gram Intel Evo 11th Gen Core i7 17 inches U...         99,999\n",
       "7  Lenovo ThinkBook 13s Intel 11th Gen Core i7 13...         84,990\n",
       "8  LG Gram 14 inches Ultra-Light Intel Evo 11th G...         85,999\n",
       "9  MSI GF75 Thin Gaming, Intel Core i7-10750H, 44...         70,000"
      ]
     },
     "execution_count": 161,
     "metadata": {},
     "output_type": "execute_result"
    }
   ],
   "source": [
    "df= pd.DataFrame({'Title':prodTitle,'Rating':ratings,'Price':prod_price})\n",
    "df"
   ]
  },
  {
   "cell_type": "markdown",
   "id": "f1c689ce",
   "metadata": {},
   "source": [
    "# Q9\n",
    "Write a python program to scrape data for first 10 job results for Data Scientist Designation in Noida\n",
    "location. You have to scrape company name, No. of days ago when job was posted, Rating of the company.\n",
    "This task will be done in following steps:\n",
    "1. First get the webpage https://www.ambitionbox.com/\n",
    "2. Click on the Job option as shown in the image\n",
    "3. After reaching to the next webpage, In place of “Search by Designations, Companies, Skills” enter “Data Scientist” and click on search button"
   ]
  },
  {
   "cell_type": "code",
   "execution_count": 167,
   "id": "ca416734",
   "metadata": {},
   "outputs": [],
   "source": [
    "def scrap_ambitionBox():\n",
    "    driver=webdriver.Chrome('chromedriver.exe')\n",
    "    url='https://www.ambitionbox.com/'\n",
    "    #print(url)\n",
    "    driver.get(url)\n",
    "    sleep(2)\n",
    "    job_option = driver.find_element_by_xpath('/html/body/div[1]/nav/nav/a[6]').click()\n",
    "    sleep(2)\n",
    "    \n",
    "    search_job=driver.find_element_by_xpath('/html/body/div/div/div/div[2]/div[1]/div/div/div/div/span/input')\n",
    "        \n",
    "    search_job.send_keys('Data Scientist')\n",
    "    search_job\n",
    "    \n",
    "    search_btn=driver.find_element_by_xpath('/html/body/div/div/div/div[2]/div[1]/div/div/div/button')\n",
    "    search_btn.click()\n",
    "    sleep(2)\n",
    "    \n",
    "    #Name of the Company\n",
    "    company_name=driver.find_elements_by_xpath('//p[@class=\"company body-medium\"]')\n",
    "    #len(company_name)\n",
    "    company_names=[]\n",
    "    for i in company_name:\n",
    "        company_names.append(i.text)\n",
    "    company_names\n",
    "    posted=driver.find_elements_by_xpath('//div//span[@class=\"body-small-l\"]')\n",
    "    #len(posted)\n",
    "    \n",
    "    durations=[]\n",
    "    for i in posted:\n",
    "        durations.append(i.text.replace('via naukri.com',''))\n",
    "    durations[0:20:2]\n",
    "    actualdurations=durations[0:20:2]\n",
    "    actualdurations\n",
    "    \n",
    "    rating=driver.find_elements_by_xpath('//span[@class=\"body-small\"]')\n",
    "    #len(rating)\n",
    "    \n",
    "    ratings=[]\n",
    "    for i in rating:\n",
    "        ratings.append(i.text)\n",
    "    ratings  \n",
    "    df= pd.DataFrame({'Company Name':company_names,',No. of days ago when job was posted':actualdurations,'Rating of the company':ratings})\n",
    "    return(df)\n",
    "    \n",
    "    "
   ]
  },
  {
   "cell_type": "code",
   "execution_count": 168,
   "id": "85e77e45",
   "metadata": {},
   "outputs": [
    {
     "data": {
      "text/html": [
       "<div>\n",
       "<style scoped>\n",
       "    .dataframe tbody tr th:only-of-type {\n",
       "        vertical-align: middle;\n",
       "    }\n",
       "\n",
       "    .dataframe tbody tr th {\n",
       "        vertical-align: top;\n",
       "    }\n",
       "\n",
       "    .dataframe thead th {\n",
       "        text-align: right;\n",
       "    }\n",
       "</style>\n",
       "<table border=\"1\" class=\"dataframe\">\n",
       "  <thead>\n",
       "    <tr style=\"text-align: right;\">\n",
       "      <th></th>\n",
       "      <th>Company Name</th>\n",
       "      <th>,No. of days ago when job was posted</th>\n",
       "      <th>Rating of the company</th>\n",
       "    </tr>\n",
       "  </thead>\n",
       "  <tbody>\n",
       "    <tr>\n",
       "      <th>0</th>\n",
       "      <td>Intel Technology India Pvt Ltd</td>\n",
       "      <td>18hr ago</td>\n",
       "      <td>4.3</td>\n",
       "    </tr>\n",
       "    <tr>\n",
       "      <th>1</th>\n",
       "      <td>Nokia Solutions and Networks India (P)Ltd.</td>\n",
       "      <td>18hr ago</td>\n",
       "      <td>4.3</td>\n",
       "    </tr>\n",
       "    <tr>\n",
       "      <th>2</th>\n",
       "      <td>RELIANCE RETAIL LIMITED</td>\n",
       "      <td>2d ago</td>\n",
       "      <td>4.0</td>\n",
       "    </tr>\n",
       "    <tr>\n",
       "      <th>3</th>\n",
       "      <td>Walmart Labs</td>\n",
       "      <td>2d ago</td>\n",
       "      <td>4.1</td>\n",
       "    </tr>\n",
       "    <tr>\n",
       "      <th>4</th>\n",
       "      <td>Walmart Labs</td>\n",
       "      <td>2d ago</td>\n",
       "      <td>4.1</td>\n",
       "    </tr>\n",
       "    <tr>\n",
       "      <th>5</th>\n",
       "      <td>Ericsson India Global Services Pvt. Ltd.</td>\n",
       "      <td>6d ago</td>\n",
       "      <td>4.2</td>\n",
       "    </tr>\n",
       "    <tr>\n",
       "      <th>6</th>\n",
       "      <td>IBM India Pvt. Limited</td>\n",
       "      <td>6d ago</td>\n",
       "      <td>4.1</td>\n",
       "    </tr>\n",
       "    <tr>\n",
       "      <th>7</th>\n",
       "      <td>GlaxoSmithKline Pharmaceuticals Limited</td>\n",
       "      <td>9d ago</td>\n",
       "      <td>4.3</td>\n",
       "    </tr>\n",
       "    <tr>\n",
       "      <th>8</th>\n",
       "      <td>IBM India Pvt. Limited</td>\n",
       "      <td>7d ago</td>\n",
       "      <td>4.1</td>\n",
       "    </tr>\n",
       "    <tr>\n",
       "      <th>9</th>\n",
       "      <td>IBM India Pvt. Limited</td>\n",
       "      <td>7d ago</td>\n",
       "      <td>4.1</td>\n",
       "    </tr>\n",
       "  </tbody>\n",
       "</table>\n",
       "</div>"
      ],
      "text/plain": [
       "                                 Company Name  \\\n",
       "0              Intel Technology India Pvt Ltd   \n",
       "1  Nokia Solutions and Networks India (P)Ltd.   \n",
       "2                     RELIANCE RETAIL LIMITED   \n",
       "3                                Walmart Labs   \n",
       "4                                Walmart Labs   \n",
       "5    Ericsson India Global Services Pvt. Ltd.   \n",
       "6                      IBM India Pvt. Limited   \n",
       "7     GlaxoSmithKline Pharmaceuticals Limited   \n",
       "8                      IBM India Pvt. Limited   \n",
       "9                      IBM India Pvt. Limited   \n",
       "\n",
       "  ,No. of days ago when job was posted Rating of the company  \n",
       "0                             18hr ago                   4.3  \n",
       "1                             18hr ago                   4.3  \n",
       "2                               2d ago                   4.0  \n",
       "3                               2d ago                   4.1  \n",
       "4                               2d ago                   4.1  \n",
       "5                               6d ago                   4.2  \n",
       "6                               6d ago                   4.1  \n",
       "7                               9d ago                   4.3  \n",
       "8                               7d ago                   4.1  \n",
       "9                               7d ago                   4.1  "
      ]
     },
     "execution_count": 168,
     "metadata": {},
     "output_type": "execute_result"
    }
   ],
   "source": [
    "scrap_ambitionBox()"
   ]
  },
  {
   "cell_type": "markdown",
   "id": "d9509ff5",
   "metadata": {},
   "source": [
    "# Q10: \n",
    "Write a python program to scrape the salary data for Data Scientist designation.\n",
    "You have to scrape Company name, Number of salaries, Average salary, Minsalary, Max Salary.\n",
    "The above task will be, done as shown in the below steps:\n",
    "1. First get the webpage https://www.ambitionbox.com/\n",
    "2. Click on the salaries option as shown in the image.\n",
    "3. After reaching to the following webpage, In place of “Search Job Profile” enters “Data Scientist” and then click on “Data Scientist”.\n",
    "You have to scrape the data ticked in the above image.\n",
    "4. Scrape the data for the first 10 companies. Scrape the company name, total salary record, average, salary, minimum salary, maximum salary, experience required.\n",
    "5. Store the data in a dataframe.\n"
   ]
  },
  {
   "cell_type": "code",
   "execution_count": 169,
   "id": "566e9229",
   "metadata": {},
   "outputs": [],
   "source": [
    "driver=webdriver.Chrome('chromedriver.exe')"
   ]
  },
  {
   "cell_type": "code",
   "execution_count": 170,
   "id": "a909106c",
   "metadata": {},
   "outputs": [],
   "source": [
    "url='https://www.ambitionbox.com/'\n",
    "    #print(url)\n",
    "driver.get(url)"
   ]
  },
  {
   "cell_type": "code",
   "execution_count": 171,
   "id": "6fef141e",
   "metadata": {},
   "outputs": [],
   "source": [
    "sleep(2)    "
   ]
  },
  {
   "cell_type": "code",
   "execution_count": 172,
   "id": "8d70582a",
   "metadata": {},
   "outputs": [],
   "source": [
    "job_option = driver.find_element_by_xpath('/html/body/div[1]/nav/nav/a[4]').click()\n",
    "sleep(2)"
   ]
  },
  {
   "cell_type": "code",
   "execution_count": 173,
   "id": "dfd3d95f",
   "metadata": {},
   "outputs": [
    {
     "data": {
      "text/plain": [
       "<selenium.webdriver.remote.webelement.WebElement (session=\"c3f873447266b58edfe5519367f3d48b\", element=\"07c25d91-e74d-40cc-b1dc-f0806c399dc1\")>"
      ]
     },
     "execution_count": 173,
     "metadata": {},
     "output_type": "execute_result"
    }
   ],
   "source": [
    "search_job=driver.find_element_by_xpath('/html/body/div/div/div/main/section[1]/div[2]/div[1]/span/input')\n",
    "#search_job\n",
    "    \n",
    "search_job.send_keys('Data Scientist')\n",
    "search_job\n"
   ]
  },
  {
   "cell_type": "code",
   "execution_count": 174,
   "id": "79da6565",
   "metadata": {},
   "outputs": [],
   "source": [
    "search_btn=driver.find_element_by_xpath('//i[@class=\"icon-search\"]').click()\n",
    "sleep(2)"
   ]
  },
  {
   "cell_type": "code",
   "execution_count": 175,
   "id": "afd33293",
   "metadata": {},
   "outputs": [],
   "source": [
    "company_name=driver.find_elements_by_xpath('//div[@class=\"company-info\"]')"
   ]
  },
  {
   "cell_type": "code",
   "execution_count": 176,
   "id": "ca14624d",
   "metadata": {},
   "outputs": [
    {
     "data": {
      "text/plain": [
       "25"
      ]
     },
     "execution_count": 176,
     "metadata": {},
     "output_type": "execute_result"
    }
   ],
   "source": [
    "len(company_name)"
   ]
  },
  {
   "cell_type": "code",
   "execution_count": 177,
   "id": "af642b7b",
   "metadata": {
    "collapsed": true
   },
   "outputs": [
    {
     "data": {
      "text/plain": [
       "[['Tekion', 'based on 10 salaries', 'Software Engineer', ' . ', '4 yrs exp'],\n",
       " ['Microsoft Corporation',\n",
       "  'based on 227 salaries',\n",
       "  'Software Engineer',\n",
       "  ' . ',\n",
       "  '1-4 yrs exp'],\n",
       " ['Goldman Sachs',\n",
       "  'based on 12 salaries',\n",
       "  'Software Engineer',\n",
       "  ' . ',\n",
       "  '2 yrs exp'],\n",
       " ['Flipkart',\n",
       "  'based on 53 salaries',\n",
       "  'Software Engineer',\n",
       "  ' . ',\n",
       "  '1-4 yrs exp'],\n",
       " ['PayPal', 'based on 22 salaries', 'Software Engineer', ' . ', '1-2 yrs exp'],\n",
       " ['Amazon', 'based on 89 salaries', 'Software Engineer', ' . ', '1-4 yrs exp'],\n",
       " ['Servicenow Software Development India',\n",
       "  'based on 41 salaries',\n",
       "  'Software Engineer',\n",
       "  ' . ',\n",
       "  '2-4 yrs exp'],\n",
       " ['Arcesium',\n",
       "  'based on 48 salaries',\n",
       "  'Software Engineer',\n",
       "  ' . ',\n",
       "  '1-2 yrs exp'],\n",
       " ['Walmart',\n",
       "  'based on 82 salaries',\n",
       "  'Software Engineer',\n",
       "  ' . ',\n",
       "  '1-4 yrs exp'],\n",
       " ['ServiceNow',\n",
       "  'based on 18 salaries',\n",
       "  'Software Engineer',\n",
       "  ' . ',\n",
       "  '3 yrs exp']]"
      ]
     },
     "execution_count": 177,
     "metadata": {},
     "output_type": "execute_result"
    }
   ],
   "source": [
    "#Get the name of Company and split with \\n to get the name\n",
    "company_names=[]\n",
    "for i in company_name:\n",
    "    company_names.append(i.text.split('\\n'))\n",
    "organisation=company_names[0:10]\n",
    "organisation"
   ]
  },
  {
   "cell_type": "code",
   "execution_count": 178,
   "id": "72bab1c5",
   "metadata": {
    "collapsed": true
   },
   "outputs": [
    {
     "data": {
      "text/plain": [
       "['Tekion\\nbased on 10 salaries\\nSoftware Engineer\\n . \\n4 yrs exp',\n",
       " 'Microsoft Corporation\\nbased on 227 salaries\\nSoftware Engineer\\n . \\n1-4 yrs exp',\n",
       " 'Goldman Sachs\\nbased on 12 salaries\\nSoftware Engineer\\n . \\n2 yrs exp',\n",
       " 'Flipkart\\nbased on 53 salaries\\nSoftware Engineer\\n . \\n1-4 yrs exp',\n",
       " 'PayPal\\nbased on 22 salaries\\nSoftware Engineer\\n . \\n1-2 yrs exp',\n",
       " 'Amazon\\nbased on 89 salaries\\nSoftware Engineer\\n . \\n1-4 yrs exp',\n",
       " 'Servicenow Software Development India\\nbased on 41 salaries\\nSoftware Engineer\\n . \\n2-4 yrs exp',\n",
       " 'Arcesium\\nbased on 48 salaries\\nSoftware Engineer\\n . \\n1-2 yrs exp',\n",
       " 'Walmart\\nbased on 82 salaries\\nSoftware Engineer\\n . \\n1-4 yrs exp',\n",
       " 'ServiceNow\\nbased on 18 salaries\\nSoftware Engineer\\n . \\n3 yrs exp']"
      ]
     },
     "execution_count": 178,
     "metadata": {},
     "output_type": "execute_result"
    }
   ],
   "source": [
    "records=[]\n",
    "for i in company_name:\n",
    "    records.append(i.text)\n",
    "total_record=records[0:10]\n",
    "total_record"
   ]
  },
  {
   "cell_type": "code",
   "execution_count": 179,
   "id": "cfbbab43",
   "metadata": {},
   "outputs": [],
   "source": [
    "data=pd.DataFrame(organisation)"
   ]
  },
  {
   "cell_type": "code",
   "execution_count": 180,
   "id": "3a54cdb1",
   "metadata": {},
   "outputs": [],
   "source": [
    "#Rename the Columns for meaningful names\n",
    "data.rename(columns={0: \"Company Name\",1:\"Total_Salary_Record\",2:\"Designation\",3:\"Sep\",4:\"Experience_Required\"}, errors=\"raise\",inplace=True)"
   ]
  },
  {
   "cell_type": "code",
   "execution_count": 181,
   "id": "b66a66f5",
   "metadata": {
    "collapsed": true
   },
   "outputs": [
    {
     "data": {
      "text/html": [
       "<div>\n",
       "<style scoped>\n",
       "    .dataframe tbody tr th:only-of-type {\n",
       "        vertical-align: middle;\n",
       "    }\n",
       "\n",
       "    .dataframe tbody tr th {\n",
       "        vertical-align: top;\n",
       "    }\n",
       "\n",
       "    .dataframe thead th {\n",
       "        text-align: right;\n",
       "    }\n",
       "</style>\n",
       "<table border=\"1\" class=\"dataframe\">\n",
       "  <thead>\n",
       "    <tr style=\"text-align: right;\">\n",
       "      <th></th>\n",
       "      <th>Company Name</th>\n",
       "      <th>Total_Salary_Record</th>\n",
       "      <th>Designation</th>\n",
       "      <th>Sep</th>\n",
       "      <th>Experience_Required</th>\n",
       "    </tr>\n",
       "  </thead>\n",
       "  <tbody>\n",
       "    <tr>\n",
       "      <th>0</th>\n",
       "      <td>Tekion</td>\n",
       "      <td>based on 10 salaries</td>\n",
       "      <td>Software Engineer</td>\n",
       "      <td>.</td>\n",
       "      <td>4 yrs exp</td>\n",
       "    </tr>\n",
       "    <tr>\n",
       "      <th>1</th>\n",
       "      <td>Microsoft Corporation</td>\n",
       "      <td>based on 227 salaries</td>\n",
       "      <td>Software Engineer</td>\n",
       "      <td>.</td>\n",
       "      <td>1-4 yrs exp</td>\n",
       "    </tr>\n",
       "    <tr>\n",
       "      <th>2</th>\n",
       "      <td>Goldman Sachs</td>\n",
       "      <td>based on 12 salaries</td>\n",
       "      <td>Software Engineer</td>\n",
       "      <td>.</td>\n",
       "      <td>2 yrs exp</td>\n",
       "    </tr>\n",
       "    <tr>\n",
       "      <th>3</th>\n",
       "      <td>Flipkart</td>\n",
       "      <td>based on 53 salaries</td>\n",
       "      <td>Software Engineer</td>\n",
       "      <td>.</td>\n",
       "      <td>1-4 yrs exp</td>\n",
       "    </tr>\n",
       "    <tr>\n",
       "      <th>4</th>\n",
       "      <td>PayPal</td>\n",
       "      <td>based on 22 salaries</td>\n",
       "      <td>Software Engineer</td>\n",
       "      <td>.</td>\n",
       "      <td>1-2 yrs exp</td>\n",
       "    </tr>\n",
       "    <tr>\n",
       "      <th>5</th>\n",
       "      <td>Amazon</td>\n",
       "      <td>based on 89 salaries</td>\n",
       "      <td>Software Engineer</td>\n",
       "      <td>.</td>\n",
       "      <td>1-4 yrs exp</td>\n",
       "    </tr>\n",
       "    <tr>\n",
       "      <th>6</th>\n",
       "      <td>Servicenow Software Development India</td>\n",
       "      <td>based on 41 salaries</td>\n",
       "      <td>Software Engineer</td>\n",
       "      <td>.</td>\n",
       "      <td>2-4 yrs exp</td>\n",
       "    </tr>\n",
       "    <tr>\n",
       "      <th>7</th>\n",
       "      <td>Arcesium</td>\n",
       "      <td>based on 48 salaries</td>\n",
       "      <td>Software Engineer</td>\n",
       "      <td>.</td>\n",
       "      <td>1-2 yrs exp</td>\n",
       "    </tr>\n",
       "    <tr>\n",
       "      <th>8</th>\n",
       "      <td>Walmart</td>\n",
       "      <td>based on 82 salaries</td>\n",
       "      <td>Software Engineer</td>\n",
       "      <td>.</td>\n",
       "      <td>1-4 yrs exp</td>\n",
       "    </tr>\n",
       "    <tr>\n",
       "      <th>9</th>\n",
       "      <td>ServiceNow</td>\n",
       "      <td>based on 18 salaries</td>\n",
       "      <td>Software Engineer</td>\n",
       "      <td>.</td>\n",
       "      <td>3 yrs exp</td>\n",
       "    </tr>\n",
       "  </tbody>\n",
       "</table>\n",
       "</div>"
      ],
      "text/plain": [
       "                            Company Name    Total_Salary_Record  \\\n",
       "0                                 Tekion   based on 10 salaries   \n",
       "1                  Microsoft Corporation  based on 227 salaries   \n",
       "2                          Goldman Sachs   based on 12 salaries   \n",
       "3                               Flipkart   based on 53 salaries   \n",
       "4                                 PayPal   based on 22 salaries   \n",
       "5                                 Amazon   based on 89 salaries   \n",
       "6  Servicenow Software Development India   based on 41 salaries   \n",
       "7                               Arcesium   based on 48 salaries   \n",
       "8                                Walmart   based on 82 salaries   \n",
       "9                             ServiceNow   based on 18 salaries   \n",
       "\n",
       "         Designation  Sep Experience_Required  \n",
       "0  Software Engineer   .            4 yrs exp  \n",
       "1  Software Engineer   .          1-4 yrs exp  \n",
       "2  Software Engineer   .            2 yrs exp  \n",
       "3  Software Engineer   .          1-4 yrs exp  \n",
       "4  Software Engineer   .          1-2 yrs exp  \n",
       "5  Software Engineer   .          1-4 yrs exp  \n",
       "6  Software Engineer   .          2-4 yrs exp  \n",
       "7  Software Engineer   .          1-2 yrs exp  \n",
       "8  Software Engineer   .          1-4 yrs exp  \n",
       "9  Software Engineer   .            3 yrs exp  "
      ]
     },
     "execution_count": 181,
     "metadata": {},
     "output_type": "execute_result"
    }
   ],
   "source": [
    "data"
   ]
  },
  {
   "cell_type": "code",
   "execution_count": 182,
   "id": "02cf0ad2",
   "metadata": {},
   "outputs": [],
   "source": [
    "#Lets drop Designation and Separator as it is not required\n",
    "data_new= data.drop(['Designation','Sep'],axis=1,inplace=True)"
   ]
  },
  {
   "cell_type": "code",
   "execution_count": 183,
   "id": "5dfd8228",
   "metadata": {
    "collapsed": true
   },
   "outputs": [
    {
     "data": {
      "text/html": [
       "<div>\n",
       "<style scoped>\n",
       "    .dataframe tbody tr th:only-of-type {\n",
       "        vertical-align: middle;\n",
       "    }\n",
       "\n",
       "    .dataframe tbody tr th {\n",
       "        vertical-align: top;\n",
       "    }\n",
       "\n",
       "    .dataframe thead th {\n",
       "        text-align: right;\n",
       "    }\n",
       "</style>\n",
       "<table border=\"1\" class=\"dataframe\">\n",
       "  <thead>\n",
       "    <tr style=\"text-align: right;\">\n",
       "      <th></th>\n",
       "      <th>Company Name</th>\n",
       "      <th>Total_Salary_Record</th>\n",
       "      <th>Experience_Required</th>\n",
       "    </tr>\n",
       "  </thead>\n",
       "  <tbody>\n",
       "    <tr>\n",
       "      <th>0</th>\n",
       "      <td>Tekion</td>\n",
       "      <td>based on 10 salaries</td>\n",
       "      <td>4 yrs exp</td>\n",
       "    </tr>\n",
       "    <tr>\n",
       "      <th>1</th>\n",
       "      <td>Microsoft Corporation</td>\n",
       "      <td>based on 227 salaries</td>\n",
       "      <td>1-4 yrs exp</td>\n",
       "    </tr>\n",
       "    <tr>\n",
       "      <th>2</th>\n",
       "      <td>Goldman Sachs</td>\n",
       "      <td>based on 12 salaries</td>\n",
       "      <td>2 yrs exp</td>\n",
       "    </tr>\n",
       "    <tr>\n",
       "      <th>3</th>\n",
       "      <td>Flipkart</td>\n",
       "      <td>based on 53 salaries</td>\n",
       "      <td>1-4 yrs exp</td>\n",
       "    </tr>\n",
       "    <tr>\n",
       "      <th>4</th>\n",
       "      <td>PayPal</td>\n",
       "      <td>based on 22 salaries</td>\n",
       "      <td>1-2 yrs exp</td>\n",
       "    </tr>\n",
       "    <tr>\n",
       "      <th>5</th>\n",
       "      <td>Amazon</td>\n",
       "      <td>based on 89 salaries</td>\n",
       "      <td>1-4 yrs exp</td>\n",
       "    </tr>\n",
       "    <tr>\n",
       "      <th>6</th>\n",
       "      <td>Servicenow Software Development India</td>\n",
       "      <td>based on 41 salaries</td>\n",
       "      <td>2-4 yrs exp</td>\n",
       "    </tr>\n",
       "    <tr>\n",
       "      <th>7</th>\n",
       "      <td>Arcesium</td>\n",
       "      <td>based on 48 salaries</td>\n",
       "      <td>1-2 yrs exp</td>\n",
       "    </tr>\n",
       "    <tr>\n",
       "      <th>8</th>\n",
       "      <td>Walmart</td>\n",
       "      <td>based on 82 salaries</td>\n",
       "      <td>1-4 yrs exp</td>\n",
       "    </tr>\n",
       "    <tr>\n",
       "      <th>9</th>\n",
       "      <td>ServiceNow</td>\n",
       "      <td>based on 18 salaries</td>\n",
       "      <td>3 yrs exp</td>\n",
       "    </tr>\n",
       "  </tbody>\n",
       "</table>\n",
       "</div>"
      ],
      "text/plain": [
       "                            Company Name    Total_Salary_Record  \\\n",
       "0                                 Tekion   based on 10 salaries   \n",
       "1                  Microsoft Corporation  based on 227 salaries   \n",
       "2                          Goldman Sachs   based on 12 salaries   \n",
       "3                               Flipkart   based on 53 salaries   \n",
       "4                                 PayPal   based on 22 salaries   \n",
       "5                                 Amazon   based on 89 salaries   \n",
       "6  Servicenow Software Development India   based on 41 salaries   \n",
       "7                               Arcesium   based on 48 salaries   \n",
       "8                                Walmart   based on 82 salaries   \n",
       "9                             ServiceNow   based on 18 salaries   \n",
       "\n",
       "  Experience_Required  \n",
       "0           4 yrs exp  \n",
       "1         1-4 yrs exp  \n",
       "2           2 yrs exp  \n",
       "3         1-4 yrs exp  \n",
       "4         1-2 yrs exp  \n",
       "5         1-4 yrs exp  \n",
       "6         2-4 yrs exp  \n",
       "7         1-2 yrs exp  \n",
       "8         1-4 yrs exp  \n",
       "9           3 yrs exp  "
      ]
     },
     "execution_count": 183,
     "metadata": {},
     "output_type": "execute_result"
    }
   ],
   "source": [
    "#Finally we have our required data from the elements.\n",
    "data"
   ]
  },
  {
   "cell_type": "code",
   "execution_count": 184,
   "id": "2da5d45c",
   "metadata": {},
   "outputs": [
    {
     "data": {
      "text/plain": [
       "20"
      ]
     },
     "execution_count": 184,
     "metadata": {},
     "output_type": "execute_result"
    }
   ],
   "source": [
    "#Lets get the Salary now\n",
    "salary=driver.find_elements_by_xpath('//div[@class=\"value body-medium\"]')\n",
    "len(salary)"
   ]
  },
  {
   "cell_type": "code",
   "execution_count": 186,
   "id": "6a94ad23",
   "metadata": {
    "collapsed": true
   },
   "outputs": [
    {
     "data": {
      "text/plain": [
       "['₹ 14.0L',\n",
       " '₹ 13.0L',\n",
       " '₹ 16.0L',\n",
       " '₹ 7.5L',\n",
       " '₹ 12.0L',\n",
       " '₹ 8.0L',\n",
       " '₹ 12.0L',\n",
       " '₹ 12.0L',\n",
       " '₹ 10.0L',\n",
       " '₹ 11.0L']"
      ]
     },
     "execution_count": 186,
     "metadata": {},
     "output_type": "execute_result"
    }
   ],
   "source": [
    "min_salary=[]\n",
    "for i in salary:\n",
    "    min_salary.append(i.text)\n",
    "min_salary\n",
    "min_salary[0:20:2]\n",
    "minm_salary=min_salary[0:20:2]\n",
    "minm_salary"
   ]
  },
  {
   "cell_type": "code",
   "execution_count": 187,
   "id": "e8c33546",
   "metadata": {
    "collapsed": true
   },
   "outputs": [
    {
     "data": {
      "text/plain": [
       "['₹ 32.0L',\n",
       " '₹ 45.0L',\n",
       " '₹ 30.0L',\n",
       " '₹ 30.0L',\n",
       " '₹ 28.4L',\n",
       " '₹ 41.5L',\n",
       " '₹ 25.8L',\n",
       " '₹ 30.0L',\n",
       " '₹ 32.0L',\n",
       " '₹ 23.0L']"
      ]
     },
     "execution_count": 187,
     "metadata": {},
     "output_type": "execute_result"
    }
   ],
   "source": [
    "max_salary=[]\n",
    "for i in salary:\n",
    "    max_salary.append(i.text)\n",
    "max_salary\n",
    "max_salary[1:21:2]\n",
    "maxm_salary=min_salary[1:21:2]\n",
    "maxm_salary"
   ]
  },
  {
   "cell_type": "code",
   "execution_count": 188,
   "id": "1a0d22ea",
   "metadata": {},
   "outputs": [
    {
     "data": {
      "text/plain": [
       "10"
      ]
     },
     "execution_count": 188,
     "metadata": {},
     "output_type": "execute_result"
    }
   ],
   "source": [
    "avg_salary=driver.find_elements_by_xpath('//p[@class=\"averageCtc\"]')\n",
    "len(avg_salary)"
   ]
  },
  {
   "cell_type": "code",
   "execution_count": 189,
   "id": "2a55c0f2",
   "metadata": {
    "collapsed": true
   },
   "outputs": [
    {
     "data": {
      "text/plain": [
       "['23.3L',\n",
       " '23.1L',\n",
       " '22.1L',\n",
       " '20.9L',\n",
       " '20.0L',\n",
       " '19.3L',\n",
       " '19.0L',\n",
       " '18.4L',\n",
       " '18.0L',\n",
       " '17.3L']"
      ]
     },
     "execution_count": 189,
     "metadata": {},
     "output_type": "execute_result"
    }
   ],
   "source": [
    "avgSalary=[]\n",
    "for i in avg_salary:\n",
    "    avgSalary.append(i.text.replace('₹ ',''))\n",
    "avgSalary"
   ]
  },
  {
   "cell_type": "code",
   "execution_count": 190,
   "id": "043cd939",
   "metadata": {
    "collapsed": true
   },
   "outputs": [
    {
     "data": {
      "text/html": [
       "<div>\n",
       "<style scoped>\n",
       "    .dataframe tbody tr th:only-of-type {\n",
       "        vertical-align: middle;\n",
       "    }\n",
       "\n",
       "    .dataframe tbody tr th {\n",
       "        vertical-align: top;\n",
       "    }\n",
       "\n",
       "    .dataframe thead th {\n",
       "        text-align: right;\n",
       "    }\n",
       "</style>\n",
       "<table border=\"1\" class=\"dataframe\">\n",
       "  <thead>\n",
       "    <tr style=\"text-align: right;\">\n",
       "      <th></th>\n",
       "      <th>Average_Salary</th>\n",
       "      <th>Minimum_Salary</th>\n",
       "      <th>Maximum_Salary</th>\n",
       "    </tr>\n",
       "  </thead>\n",
       "  <tbody>\n",
       "    <tr>\n",
       "      <th>0</th>\n",
       "      <td>23.3L</td>\n",
       "      <td>₹ 14.0L</td>\n",
       "      <td>₹ 32.0L</td>\n",
       "    </tr>\n",
       "    <tr>\n",
       "      <th>1</th>\n",
       "      <td>23.1L</td>\n",
       "      <td>₹ 13.0L</td>\n",
       "      <td>₹ 45.0L</td>\n",
       "    </tr>\n",
       "    <tr>\n",
       "      <th>2</th>\n",
       "      <td>22.1L</td>\n",
       "      <td>₹ 16.0L</td>\n",
       "      <td>₹ 30.0L</td>\n",
       "    </tr>\n",
       "    <tr>\n",
       "      <th>3</th>\n",
       "      <td>20.9L</td>\n",
       "      <td>₹ 7.5L</td>\n",
       "      <td>₹ 30.0L</td>\n",
       "    </tr>\n",
       "    <tr>\n",
       "      <th>4</th>\n",
       "      <td>20.0L</td>\n",
       "      <td>₹ 12.0L</td>\n",
       "      <td>₹ 28.4L</td>\n",
       "    </tr>\n",
       "    <tr>\n",
       "      <th>5</th>\n",
       "      <td>19.3L</td>\n",
       "      <td>₹ 8.0L</td>\n",
       "      <td>₹ 41.5L</td>\n",
       "    </tr>\n",
       "    <tr>\n",
       "      <th>6</th>\n",
       "      <td>19.0L</td>\n",
       "      <td>₹ 12.0L</td>\n",
       "      <td>₹ 25.8L</td>\n",
       "    </tr>\n",
       "    <tr>\n",
       "      <th>7</th>\n",
       "      <td>18.4L</td>\n",
       "      <td>₹ 12.0L</td>\n",
       "      <td>₹ 30.0L</td>\n",
       "    </tr>\n",
       "    <tr>\n",
       "      <th>8</th>\n",
       "      <td>18.0L</td>\n",
       "      <td>₹ 10.0L</td>\n",
       "      <td>₹ 32.0L</td>\n",
       "    </tr>\n",
       "    <tr>\n",
       "      <th>9</th>\n",
       "      <td>17.3L</td>\n",
       "      <td>₹ 11.0L</td>\n",
       "      <td>₹ 23.0L</td>\n",
       "    </tr>\n",
       "  </tbody>\n",
       "</table>\n",
       "</div>"
      ],
      "text/plain": [
       "  Average_Salary Minimum_Salary Maximum_Salary\n",
       "0          23.3L        ₹ 14.0L        ₹ 32.0L\n",
       "1          23.1L        ₹ 13.0L        ₹ 45.0L\n",
       "2          22.1L        ₹ 16.0L        ₹ 30.0L\n",
       "3          20.9L         ₹ 7.5L        ₹ 30.0L\n",
       "4          20.0L        ₹ 12.0L        ₹ 28.4L\n",
       "5          19.3L         ₹ 8.0L        ₹ 41.5L\n",
       "6          19.0L        ₹ 12.0L        ₹ 25.8L\n",
       "7          18.4L        ₹ 12.0L        ₹ 30.0L\n",
       "8          18.0L        ₹ 10.0L        ₹ 32.0L\n",
       "9          17.3L        ₹ 11.0L        ₹ 23.0L"
      ]
     },
     "execution_count": 190,
     "metadata": {},
     "output_type": "execute_result"
    }
   ],
   "source": [
    "# Here we have our salary data which has Average Salary, Minimum Salary and MAximum Salary\n",
    "salary_data=pd.DataFrame({'Average_Salary':avgSalary ,'Minimum_Salary' :minm_salary ,'Maximum_Salary':maxm_salary})\n",
    "salary_data"
   ]
  },
  {
   "cell_type": "code",
   "execution_count": 191,
   "id": "78b8c56e",
   "metadata": {},
   "outputs": [],
   "source": [
    "#Lets join the data and salary data to get the excat output\n",
    "result = pd.concat([data, salary_data], axis=1, join='inner')"
   ]
  },
  {
   "cell_type": "code",
   "execution_count": 192,
   "id": "2b591194",
   "metadata": {},
   "outputs": [
    {
     "data": {
      "text/html": [
       "<div>\n",
       "<style scoped>\n",
       "    .dataframe tbody tr th:only-of-type {\n",
       "        vertical-align: middle;\n",
       "    }\n",
       "\n",
       "    .dataframe tbody tr th {\n",
       "        vertical-align: top;\n",
       "    }\n",
       "\n",
       "    .dataframe thead th {\n",
       "        text-align: right;\n",
       "    }\n",
       "</style>\n",
       "<table border=\"1\" class=\"dataframe\">\n",
       "  <thead>\n",
       "    <tr style=\"text-align: right;\">\n",
       "      <th></th>\n",
       "      <th>Company Name</th>\n",
       "      <th>Total_Salary_Record</th>\n",
       "      <th>Experience_Required</th>\n",
       "      <th>Average_Salary</th>\n",
       "      <th>Minimum_Salary</th>\n",
       "      <th>Maximum_Salary</th>\n",
       "    </tr>\n",
       "  </thead>\n",
       "  <tbody>\n",
       "    <tr>\n",
       "      <th>0</th>\n",
       "      <td>Tekion</td>\n",
       "      <td>based on 10 salaries</td>\n",
       "      <td>4 yrs exp</td>\n",
       "      <td>23.3L</td>\n",
       "      <td>₹ 14.0L</td>\n",
       "      <td>₹ 32.0L</td>\n",
       "    </tr>\n",
       "    <tr>\n",
       "      <th>1</th>\n",
       "      <td>Microsoft Corporation</td>\n",
       "      <td>based on 227 salaries</td>\n",
       "      <td>1-4 yrs exp</td>\n",
       "      <td>23.1L</td>\n",
       "      <td>₹ 13.0L</td>\n",
       "      <td>₹ 45.0L</td>\n",
       "    </tr>\n",
       "    <tr>\n",
       "      <th>2</th>\n",
       "      <td>Goldman Sachs</td>\n",
       "      <td>based on 12 salaries</td>\n",
       "      <td>2 yrs exp</td>\n",
       "      <td>22.1L</td>\n",
       "      <td>₹ 16.0L</td>\n",
       "      <td>₹ 30.0L</td>\n",
       "    </tr>\n",
       "    <tr>\n",
       "      <th>3</th>\n",
       "      <td>Flipkart</td>\n",
       "      <td>based on 53 salaries</td>\n",
       "      <td>1-4 yrs exp</td>\n",
       "      <td>20.9L</td>\n",
       "      <td>₹ 7.5L</td>\n",
       "      <td>₹ 30.0L</td>\n",
       "    </tr>\n",
       "    <tr>\n",
       "      <th>4</th>\n",
       "      <td>PayPal</td>\n",
       "      <td>based on 22 salaries</td>\n",
       "      <td>1-2 yrs exp</td>\n",
       "      <td>20.0L</td>\n",
       "      <td>₹ 12.0L</td>\n",
       "      <td>₹ 28.4L</td>\n",
       "    </tr>\n",
       "    <tr>\n",
       "      <th>5</th>\n",
       "      <td>Amazon</td>\n",
       "      <td>based on 89 salaries</td>\n",
       "      <td>1-4 yrs exp</td>\n",
       "      <td>19.3L</td>\n",
       "      <td>₹ 8.0L</td>\n",
       "      <td>₹ 41.5L</td>\n",
       "    </tr>\n",
       "    <tr>\n",
       "      <th>6</th>\n",
       "      <td>Servicenow Software Development India</td>\n",
       "      <td>based on 41 salaries</td>\n",
       "      <td>2-4 yrs exp</td>\n",
       "      <td>19.0L</td>\n",
       "      <td>₹ 12.0L</td>\n",
       "      <td>₹ 25.8L</td>\n",
       "    </tr>\n",
       "    <tr>\n",
       "      <th>7</th>\n",
       "      <td>Arcesium</td>\n",
       "      <td>based on 48 salaries</td>\n",
       "      <td>1-2 yrs exp</td>\n",
       "      <td>18.4L</td>\n",
       "      <td>₹ 12.0L</td>\n",
       "      <td>₹ 30.0L</td>\n",
       "    </tr>\n",
       "    <tr>\n",
       "      <th>8</th>\n",
       "      <td>Walmart</td>\n",
       "      <td>based on 82 salaries</td>\n",
       "      <td>1-4 yrs exp</td>\n",
       "      <td>18.0L</td>\n",
       "      <td>₹ 10.0L</td>\n",
       "      <td>₹ 32.0L</td>\n",
       "    </tr>\n",
       "    <tr>\n",
       "      <th>9</th>\n",
       "      <td>ServiceNow</td>\n",
       "      <td>based on 18 salaries</td>\n",
       "      <td>3 yrs exp</td>\n",
       "      <td>17.3L</td>\n",
       "      <td>₹ 11.0L</td>\n",
       "      <td>₹ 23.0L</td>\n",
       "    </tr>\n",
       "  </tbody>\n",
       "</table>\n",
       "</div>"
      ],
      "text/plain": [
       "                            Company Name    Total_Salary_Record  \\\n",
       "0                                 Tekion   based on 10 salaries   \n",
       "1                  Microsoft Corporation  based on 227 salaries   \n",
       "2                          Goldman Sachs   based on 12 salaries   \n",
       "3                               Flipkart   based on 53 salaries   \n",
       "4                                 PayPal   based on 22 salaries   \n",
       "5                                 Amazon   based on 89 salaries   \n",
       "6  Servicenow Software Development India   based on 41 salaries   \n",
       "7                               Arcesium   based on 48 salaries   \n",
       "8                                Walmart   based on 82 salaries   \n",
       "9                             ServiceNow   based on 18 salaries   \n",
       "\n",
       "  Experience_Required Average_Salary Minimum_Salary Maximum_Salary  \n",
       "0           4 yrs exp          23.3L        ₹ 14.0L        ₹ 32.0L  \n",
       "1         1-4 yrs exp          23.1L        ₹ 13.0L        ₹ 45.0L  \n",
       "2           2 yrs exp          22.1L        ₹ 16.0L        ₹ 30.0L  \n",
       "3         1-4 yrs exp          20.9L         ₹ 7.5L        ₹ 30.0L  \n",
       "4         1-2 yrs exp          20.0L        ₹ 12.0L        ₹ 28.4L  \n",
       "5         1-4 yrs exp          19.3L         ₹ 8.0L        ₹ 41.5L  \n",
       "6         2-4 yrs exp          19.0L        ₹ 12.0L        ₹ 25.8L  \n",
       "7         1-2 yrs exp          18.4L        ₹ 12.0L        ₹ 30.0L  \n",
       "8         1-4 yrs exp          18.0L        ₹ 10.0L        ₹ 32.0L  \n",
       "9           3 yrs exp          17.3L        ₹ 11.0L        ₹ 23.0L  "
      ]
     },
     "execution_count": 192,
     "metadata": {},
     "output_type": "execute_result"
    }
   ],
   "source": [
    "result"
   ]
  },
  {
   "cell_type": "code",
   "execution_count": null,
   "id": "373af81a",
   "metadata": {},
   "outputs": [],
   "source": []
  }
 ],
 "metadata": {
  "kernelspec": {
   "display_name": "Python 3",
   "language": "python",
   "name": "python3"
  },
  "language_info": {
   "codemirror_mode": {
    "name": "ipython",
    "version": 3
   },
   "file_extension": ".py",
   "mimetype": "text/x-python",
   "name": "python",
   "nbconvert_exporter": "python",
   "pygments_lexer": "ipython3",
   "version": "3.8.8"
  }
 },
 "nbformat": 4,
 "nbformat_minor": 5
}
