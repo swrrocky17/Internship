{
 "cells": [
  {
   "cell_type": "markdown",
   "metadata": {},
   "source": [
    "## Application Flow\n",
    "\n",
    "Before proceeding with the algorithm, let’s first discuss the lifecycle of an unsupervises machine learning model. This diagram explains the creation of an unsupervised Machine Learning model from scratch and then taking the same model further with hyperparameter tuning to increase its accuracy, deciding the deployment strategies for that model and once deployed setting up the logging and monitoring frameworks to generate reports and dashboards based on the client requirements. \n",
    "A typical lifecycle diagram for an unsupervised machine learning model looks like:\n",
    "\n",
    "<img src=\"unsupervised_ApplicationFlow.PNG\" width= \"300\">"
   ]
  },
  {
   "cell_type": "markdown",
   "metadata": {},
   "source": [
    "## Clustering\n",
    "\n",
    "Let’s suppose we give a child different objects to group. How does a child make a group? The child may group over the colour, over the shape, over the hardness or softness of the objects etc. The basic idea here is that the child tries to find out similarities and dissimilarities between different objects and then tries to make a group of similar objects. This is called **clustering**, the method of identifying similar instances and keeping them together.\n",
    "In Other words, clustering identifies homogeneous subgroups among the observations.\n",
    "\n",
    "\n",
    "Clustering is an unsupervised approach which finds a structure/pattern in a collection of unlabeled data.\n",
    "A cluster is a collection of objects which are “similar” amongst themselves and are “dissimilar” to the objects belonging to a different cluster.\n",
    "For example:\n",
    "\n",
    "\n",
    "<img src=\"https://summerofhpc.prace-ri.eu/wp-content/uploads/2013/07/k-means_ilustration.png\">\n",
    "\n",
    "\n",
    "In the figure above, we can easily identify 4 different clusters. The clustering criteria here is distance. Whichever points are near to each other are kept in the same cluster and the faraway points belong to a different cluster\n"
   ]
  },
  {
   "cell_type": "markdown",
   "metadata": {},
   "source": [
    "#### The Goal of Clustering\n",
    "\n",
    "The goal of clustering is to determine the intrinsic groups in unlabeled data. The question is: what constitutes a good cluster? It can be shown that there is no absolute “best” criterion for cluster validation. Consequently, it is the user who must supply the criterion for validating the cluster. For example, we might be interested in finding representatives of homogeneous instances for finding the  “natural clusters” and identifying their unknown properties ( like “natural” data types), for finding appropriate groupings or in finding unusual(which are different from all other data) data objects (outlier detection).\n"
   ]
  },
  {
   "cell_type": "markdown",
   "metadata": {},
   "source": [
    "### Applications\n",
    "The scikit-learn book describes the various applications of clustering as follows:\n",
    "\n",
    "* __For customer segmentation:__ You can cluster your customers based on their purchases,their activity on your website, and so on. This is useful to understand who your customers are and what they need, so you can adapt your products and marketing campaigns to each segment. For example, this can be useful in recommender systems to suggest content that other users in the same cluster enjoyed.\n",
    "\n",
    "* __For data analysis:__ When analyzing a new dataset, it is often useful to first discover clusters of similar instances, as it is often easier to analyze clusters separately.\n",
    "\n",
    "* __As a dimensionality reduction technique:__ Once a dataset has been clustered, it is usually possible to measure each instance’s affinity with each cluster (affinity is any measure of how well an instance fits into a cluster). Each instance’s feature vector x can then be replaced with the vector of its cluster affinities. If there are k clusters, then this vector is k dimensional. This is typically much lower dimensional than the original feature vector, but it can preserve enough information for further processing.\n",
    "\n",
    "* __For anomaly detection (also called outlier detection):__ Any instance that has a low affinity to all the clusters is likely to be an anomaly. For example, if you have clustered the users of your website based on their behavior, you can detect users with unusual behavior, such as an unusual number of requests per second, and so on. Anomaly detection is particularly useful in detecting defects in manufacturing, or for fraud detection.\n",
    "\n",
    "* __For semi-supervised learning:__ If you only have a few labels, you could perform clustering and propagate the labels to all the instances in the same cluster. This can greatly increase the amount of labels available for a subsequent supervised learning algorithm, and thus improve its performance.\n",
    ".\n",
    "* __For search engines:__ For example, some search engines let you search for images that are similar to a reference image. To build such a system, you would first apply a clustering algorithm to all the images in your database: similar images would end up in the same cluster. Then when a user provides a reference image, all you need to do is to find this image’s cluster using the trained clustering model, and you can then simply return all the images from this cluster.\n",
    "\n",
    "* __To segment an image:__ By clustering pixels according to their color, then replacing each pixel’s color with the mean color of its cluster, it is possible to reduce the number of different colors in the image considerably. This technique is used in many object detection and tracking systems, as it makes it easier to detect the contour of each object.\n"
   ]
  },
  {
   "cell_type": "markdown",
   "metadata": {},
   "source": [
    "##### Main Requirements:\n",
    "The primary requirements that should be met by a clustering algorithm are:\n",
    "* It should be scalable\n",
    "* It should be able to deal with attributes of different types;\n",
    "* It should be able to discover arbitrary shape clusters;\n",
    "* It should have an inbuilt ability to deal with noise and outliers;\n",
    "* The clusters should not vary with the order of input records;\n",
    "* It should be able to handle data of high dimensions.\n",
    "* It should be easy to interpret and use.\n"
   ]
  },
  {
   "cell_type": "markdown",
   "metadata": {},
   "source": [
    "##### Approaches for Clustering:\n",
    "The clustering approaches can be broadly divided into two categories: _Agglomerative_ and _Divisive_.\n",
    "\n",
    "**Agglomerative:** This approach first considers all the points as individual clusters and then finds out the similarity between two points, puts them into a cluster. Then it goes on finding similar points and clusters until there is only one cluster left i.e., all points belong to a big cluster. This is also called the bottom-up approach.\n",
    "\n",
    "**Divisive:** It is opposite of the agglomerative approach. It first considers all the points to be part of one big cluster and in the subsequent steps tries to find out the points/ clusters which are least similar to each other and then breaks the bigger cluster into smaller ones. This continues until there are as many clusters as there are datapoints. This is also called the top-down approach.\n"
   ]
  },
  {
   "cell_type": "markdown",
   "metadata": {},
   "source": [
    "### K-Means Clustering\n",
    "\n",
    "It was proposed by Stuart Lloyd at the Bell Labs in 1957 as a technique for pulse-code modulation,\n",
    "but it was only published outside of the company in 1982, in a paper titled\n",
    "_“Least square quantization in PCM”._By then, in 1965, Edward W. Forgy had published\n",
    "virtually the same algorithm, so K-Means is sometimes referred to as Lloyd-Forgy.\n",
    "\n",
    "\n",
    "K-Means is a clustering approach in which the data is grouped into K distinct non-overlapping clusters based on their distances from the K centres. The value of **K** needs to be specified first and then the algorithm assigns the points to exactly one cluster.\n"
   ]
  },
  {
   "cell_type": "markdown",
   "metadata": {},
   "source": [
    "##### Theory\n",
    "\n",
    "The theory discussed above can be mathematically expressed as:\n",
    "* Let C1, C2, Ck be the K clusters\n",
    "* Then we can write: $C_1 U C_2 UC_3 U…UC_k $={1,2,3,…,n} i.e., each datapoint has been assigned to a cluster.\n",
    "* Also, \n",
    "<img src='non_overlapping.PNG' width='300'>\n",
    "This means that the clusters are non-overlapping.\n",
    "\n",
    "* The idea behind the K-Means clustering approach is that the within-cluster variation amongst the point should be minimum. The within-cluster variance is denoted by: W(Ck).Hence, according to the statement above, we need to  minimize this variance for all the clusters. Mathematically it can be written as:\n",
    "<img src='minimize_ck.PNG' width='300'>\n",
    "\n",
    "* The next step  is to define the criterion for measuring the within-cluster variance. Generally, the criterion is the Euclidean distance between two data points.\n",
    "<img src='wck_formula.PNG' width='300'>\n",
    "\n",
    "* The above formula says that we are calculating the distances between all the point in a cluster, then we are repeating it for all the K clusters(That’s why two summation signs) and then we are dividing it by the number of observation in the clusters (Ck is the number of observations in the Kth cluster) to calculate the average.\n",
    "\n",
    "So, ultimately our goal is to minimize:\n",
    "\n",
    "<img src='final_ck.PNG' width='300'>\n",
    "\n",
    "The following algorithm steps are used to solve this problem\n",
    "\n",
    "\n"
   ]
  },
  {
   "cell_type": "markdown",
   "metadata": {},
   "source": [
    "#### Algorithm:\n",
    "1. Randomly assign K centres.\n",
    "2. Calculate the distance of all the points from all the K centres and allocate the points to cluster based on the shortest distance. The model’s _inertia_ is the mean squared distance between each instance and its closest centroid. The goal is to have a model with the lowes intertia.\n",
    "3. Once all the points are assigned to clusters, recompute the centroids.\n",
    "4. Repeat the steps 2 and 3 until the locations of the centroids stop changing and the cluster allocation of the points becomes constant.\n",
    "\n",
    "#### Python Explanation:"
   ]
  },
  {
   "cell_type": "code",
   "execution_count": null,
   "metadata": {},
   "outputs": [],
   "source": [
    "# Doing the necessary imports\n",
    "%pylab inline\n",
    "from pylab import *\n",
    "import random as pyrandom\n",
    "from scipy.spatial.distance import cdist\n",
    "matplotlib.rc(\"image\",cmap=\"gray\")\n",
    "from collections import Counter"
   ]
  },
  {
   "cell_type": "markdown",
   "metadata": {},
   "source": [
    "Consider a collection of points that are sampled from three different densities,\n",
    "in this case normal densities with the same covariances but different means."
   ]
  },
  {
   "cell_type": "code",
   "execution_count": null,
   "metadata": {},
   "outputs": [],
   "source": [
    "data = r_[10*randn(1000,2)+array([70,30]),\n",
    "          10*randn(1000,2)+array([10,10]),\n",
    "          10*randn(1000,2)+array([50,80])]\n",
    "data = data[pyrandom.sample(range(len(data)),len(data))]"
   ]
  },
  {
   "cell_type": "code",
   "execution_count": null,
   "metadata": {},
   "outputs": [],
   "source": [
    "import pandas as pd\n",
    "df = pd.DataFrame(data,columns=['Unit_1-Marks','Unit_2-Marks'])\n",
    "df"
   ]
  },
  {
   "cell_type": "markdown",
   "metadata": {},
   "source": [
    "Here is a scatterplot of this data.\n",
    "\n",
    "We clearly see three _clusters_, corresponding to the three _mixture components_.\n",
    "How can we recover these clusters?\n",
    "\n",
    "This is the job of _clustering algorithms_."
   ]
  },
  {
   "cell_type": "code",
   "execution_count": null,
   "metadata": {
    "scrolled": true
   },
   "outputs": [],
   "source": [
    "figsize(10,10)\n",
    "plot(data[:,0],data[:,1],'r+')"
   ]
  },
  {
   "cell_type": "markdown",
   "metadata": {},
   "source": [
    "Mixture densities arise in both unsupervised learning and in supervised learning.\n",
    "In both cases, they commonly represent a problem structure in which data is\n",
    "generated from a number of ideal prototypes (the cluster centres) but then\n",
    "corrupted by noise.\n",
    "\n",
    "- When each cluster has a distinct class label, we have a regular classification\n",
    "problem with normal densities.\n",
    "\n",
    "- When no cluster has any labels, we can hope to recover the underlying\n",
    "clusters with a clustering algorithm and then assign labels to these clusters.\n",
    "This is a form of _semi-supervised learning_.\n",
    "\n",
    "- When there is training data with labels available, often each class is\n",
    "a mixture of multiple clusters.  That is, each class is generated by multiple\n",
    "prototypes (think characters in different fonts).\n",
    "\n",
    "You can perform clustering either at the class level or across all samples and then label each cluster with its\n",
    "corresponding class label.\n"
   ]
  },
  {
   "cell_type": "code",
   "execution_count": null,
   "metadata": {},
   "outputs": [],
   "source": [
    "protos = array([[1,30],[20,45],[40,78]]) # Initialize centroids\n",
    "start = protos.copy()\n",
    "\n",
    "figsize(10,10)\n",
    "plot(data[:,0],data[:,1],'b+')\n",
    "plot(protos[:,0],protos[:,1],'ro',markersize=10)"
   ]
  },
  {
   "cell_type": "markdown",
   "metadata": {},
   "source": [
    "Obviously, those centers are wrong, but let's keep going.\n",
    "\n",
    "Now, we compute the assignment of the data points to the prototypes\n",
    "(array `closest`).\n",
    "This is also wrong, but we're going to be using it anyay."
   ]
  },
  {
   "cell_type": "code",
   "execution_count": null,
   "metadata": {},
   "outputs": [],
   "source": [
    "figsize(10,10)\n",
    "dists = cdist(protos,data)\n",
    "closest = argmin(dists,axis=0)\n",
    "for i in range(len(protos)):\n",
    "    plot(data[closest==i,0],data[closest==i,1],['c+','g+','b+','y+'][i])\n",
    "plot(protos[:,0],protos[:,1],'ro',markersize=10)"
   ]
  },
  {
   "cell_type": "code",
   "execution_count": null,
   "metadata": {},
   "outputs": [],
   "source": [
    "history = [protos.copy()]\n",
    "\n",
    "for i in range(len(protos)):\n",
    "    protos[i,:] = average(data[closest==i],axis=0)\n",
    "    \n",
    "history.append(protos.copy())"
   ]
  },
  {
   "cell_type": "markdown",
   "metadata": {},
   "source": [
    "Now we pretend that the cluster assignments are correct and\n",
    "recompute the location of the centers."
   ]
  },
  {
   "cell_type": "code",
   "execution_count": null,
   "metadata": {},
   "outputs": [],
   "source": [
    "# Plotting the centroid movements\n",
    "figsize(10,10)\n",
    "plot(data[:,0],data[:,1],'b+')\n",
    "harray = array(history)\n",
    "for i in range(len(protos)):\n",
    "    plot(harray[:,i,0],harray[:,i,1],'r')\n",
    "plot(harray[0,:,0],harray[0,:,1],'ko',markersize=10)\n",
    "plot(protos[:,0],protos[:,1],'ro',markersize=10)"
   ]
  },
  {
   "cell_type": "markdown",
   "metadata": {},
   "source": [
    "As you can see, the centers have moved, and it looks like they have generally\n",
    "moved in the right direction.\n",
    "\n",
    "Now let's just repeat this process multiple times"
   ]
  },
  {
   "cell_type": "code",
   "execution_count": null,
   "metadata": {},
   "outputs": [],
   "source": [
    "for round in range(1000):\n",
    "    if round%100==0: sys.stderr.write(\"%d \"%round)\n",
    "    dists = cdist(protos,data)\n",
    "    closest = argmin(dists,axis=0)\n",
    "    for i in range(len(protos)):\n",
    "            protos[i,:] = average(data[closest==i],axis=0)\n",
    "    history.append(protos.copy())"
   ]
  },
  {
   "cell_type": "markdown",
   "metadata": {},
   "source": [
    "We can now plot the path that the prototype guesses have taken."
   ]
  },
  {
   "cell_type": "code",
   "execution_count": null,
   "metadata": {},
   "outputs": [],
   "source": [
    "figsize(10,10)\n",
    "plot(data[:,0],data[:,1],'b+')\n",
    "history = array(history)\n",
    "for i in range(len(protos)):\n",
    "    plot(history[:,i,0],history[:,i,1],'r')\n",
    "plot(history[0,:,0],history[0,:,1],'ko',markersize=10)\n",
    "plot(protos[:,0],protos[:,1],'ro',markersize=10)"
   ]
  },
  {
   "cell_type": "markdown",
   "metadata": {},
   "source": [
    "As you can see, the final location of the prototype centers (red) are nicely\n",
    "in the center of the classes.\n",
    "The algorithm doesn't give us exactly the cluster centers because there are\n",
    "three clusters but we postulated four cluster centers.\n",
    "\n",
    "We can also look at the partition of the data induced by these cluster centers."
   ]
  },
  {
   "cell_type": "code",
   "execution_count": null,
   "metadata": {},
   "outputs": [],
   "source": [
    "figsize(10,10)\n",
    "dists = cdist(protos,data)\n",
    "closest = argmin(dists,axis=0)\n",
    "for i in range(len(protos)):\n",
    "    plot(data[closest==i,0],data[closest==i,1],['c+','g+','b+','y+'][i])\n",
    "plot(protos[:,0],protos[:,1],'ro',markersize=10)"
   ]
  },
  {
   "cell_type": "markdown",
   "metadata": {},
   "source": [
    "The diagram above shows the step by step implementation of the K-Means algorithm."
   ]
  },
  {
   "cell_type": "markdown",
   "metadata": {},
   "source": [
    "As we saw earlier, we need to provide the value of K beforehand. But the question is how to get a good  value of K. An optimum value of K is obtained using the Elbow Method."
   ]
  },
  {
   "cell_type": "markdown",
   "metadata": {},
   "source": [
    "###### The Elbow-Method\n",
    "\n",
    "This method is based on the relationship between the within-cluster sum of squared distances(WCSS Or Inertia) and the number of clusters. It is observed that first with an increase in the number of clusters WCSS decreases steeply and then after a certain number of clusters the drop in WCSS is not that prominent. The point after which the graph between WCSS and the number of clusters becomes comparatively smother is termed as the elbow and the number of cluster at that point are the optimum number of clusters as even after increasing the clusters after that point the variation is not decreasing by much i.e., we have accounted for almost all the dissimilarity in the data. An elbow-curve looks like:\n",
    "\n",
    "<img src='elbow.PNG' width='500'>\n"
   ]
  },
  {
   "cell_type": "markdown",
   "metadata": {},
   "source": [
    "##### An example with actual data"
   ]
  },
  {
   "cell_type": "code",
   "execution_count": null,
   "metadata": {},
   "outputs": [],
   "source": [
    "import pandas as pd\n",
    "import numpy as np\n",
    "import matplotlib.pyplot as plt\n",
    "% matplotlib inline"
   ]
  },
  {
   "cell_type": "code",
   "execution_count": null,
   "metadata": {},
   "outputs": [],
   "source": [
    "dataset=pd.read_csv('Mall_Customers.csv')"
   ]
  },
  {
   "cell_type": "code",
   "execution_count": null,
   "metadata": {},
   "outputs": [],
   "source": [
    "dataset"
   ]
  },
  {
   "cell_type": "code",
   "execution_count": null,
   "metadata": {},
   "outputs": [],
   "source": [
    "#dataset\n",
    "X=dataset.iloc[:,3:]\n",
    "X.tail()"
   ]
  },
  {
   "cell_type": "code",
   "execution_count": null,
   "metadata": {},
   "outputs": [],
   "source": [
    "#Elbow method\n",
    "from sklearn.cluster import KMeans\n",
    "\n",
    "wcss=[]\n",
    "for i in range (1,11):\n",
    "    kmeans=KMeans(n_clusters=i,init='k-means++',random_state=42)\n",
    "    kmeans.fit(X)\n",
    "    wcss.append(kmeans.inertia_)\n",
    "plt.plot(range(1,11),wcss)\n",
    "plt.title('The Elbow Method')\n",
    "plt.xlabel('Number of clusters')\n",
    "plt.ylabel('WCSS')\n",
    "plt.show()"
   ]
  },
  {
   "cell_type": "code",
   "execution_count": null,
   "metadata": {},
   "outputs": [],
   "source": [
    "X.head()"
   ]
  },
  {
   "cell_type": "code",
   "execution_count": null,
   "metadata": {
    "scrolled": true
   },
   "outputs": [],
   "source": [
    "# Fitting K-Means to the dataset\n",
    "kmeans = KMeans(n_clusters = 5, init = 'k-means++', random_state = 42)\n",
    "y_kmeans = kmeans.fit_predict(X)\n",
    "print(y_kmeans)"
   ]
  },
  {
   "cell_type": "code",
   "execution_count": null,
   "metadata": {},
   "outputs": [],
   "source": [
    "# It predicts the cluster number to which the datapoint belongs to\n",
    "test=kmeans.predict(np.asarray([[85,100]]))\n",
    "test[0]"
   ]
  },
  {
   "cell_type": "code",
   "execution_count": null,
   "metadata": {},
   "outputs": [],
   "source": [
    "# saving the model to the local file system\n",
    "import pickle\n",
    "filename = 'finalized_model.pickle'\n",
    "pickle.dump(kmeans, open(filename, 'wb'))"
   ]
  },
  {
   "cell_type": "code",
   "execution_count": null,
   "metadata": {},
   "outputs": [],
   "source": [
    "# Looking at the points which belong to Cluster0\n",
    "X[y_kmeans==0]"
   ]
  },
  {
   "cell_type": "code",
   "execution_count": null,
   "metadata": {},
   "outputs": [],
   "source": [
    "# Visualising the clusters\n",
    "plt.figure(figsize=(8,5))\n",
    "plt.scatter(X[y_kmeans == 0]['Annual Income (k$)'], X[y_kmeans == 0]['Spending Score (1-100)'], s = 100, c = 'red', label = 'Cluster 1')\n",
    "\n",
    "plt.scatter(X[y_kmeans == 1]['Annual Income (k$)'], X[y_kmeans == 1]['Spending Score (1-100)'], s = 100, c = 'blue', label = 'Cluster 2')\n",
    "\n",
    "plt.scatter(X[y_kmeans == 2]['Annual Income (k$)'], X[y_kmeans == 2]['Spending Score (1-100)'], s = 100, c = 'green', label = 'Cluster 3')\n",
    "\n",
    "plt.scatter(X[y_kmeans == 3]['Annual Income (k$)'], X[y_kmeans == 3]['Spending Score (1-100)'], s = 100, c = 'cyan', label = 'Cluster 4')\n",
    "\n",
    "plt.scatter(X[y_kmeans == 4]['Annual Income (k$)'], X[y_kmeans == 4]['Spending Score (1-100)'], s = 100, c = 'magenta', label = 'Cluster 5')\n",
    "\n",
    "plt.scatter(kmeans.cluster_centers_[:, 0], kmeans.cluster_centers_[:, 1], s = 300, c = 'yellow', label = 'Centroids')\n",
    "plt.title('Clusters of customers')\n",
    "plt.xlabel('Annual Income (k$)')\n",
    "plt.ylabel('Spending Score (1-100)')\n",
    "plt.legend()\n",
    "plt.show()"
   ]
  },
  {
   "cell_type": "code",
   "execution_count": null,
   "metadata": {},
   "outputs": [],
   "source": [
    "kmeans.cluster_centers_"
   ]
  },
  {
   "cell_type": "markdown",
   "metadata": {},
   "source": [
    "#### Custom Centroid Initialization\n",
    "\n",
    "If you already know approximately where the centroids should be (e.g., if you ran\n",
    "another clustering algorithm earlier), then you can set the init hyperparameter to a\n",
    "NumPy array containing the list of centroids, and set n_init to 1:\n"
   ]
  },
  {
   "cell_type": "raw",
   "metadata": {},
   "source": [
    "good_init = np.array([[-3, 3], [-3, 2], [-3, 1], [-1, 2], [0, 2]])\n",
    "kmeans = KMeans(n_clusters=5, init=good_init, n_init=1)\n",
    "kmeans"
   ]
  },
  {
   "cell_type": "markdown",
   "metadata": {},
   "source": [
    "###### Challenges and improvements in K-Means:\n",
    "\n",
    "1.\tWe need to specify the number of clusters beforehand.\n",
    "2.\tIt is required to run the algorithm multiple times to avoid a sub-optimal solution\n",
    "3.\tK-Means does not behave very well when the clusters have varying sizes, different densities, or non-spherical shapes.\n",
    "4.\tThe clusters sometimes vary based on the initial choice of the centroids. An important improvement to the K-Means algorithm, called **K-Means++**, was proposed in a _2006 paper by David Arthur and Sergei Vassilvitskii_. They introduced a smarter initialization step that tends to select centroids that are distant from one another, and this makes the K-Means algorithm much less likely to converge to a suboptimal solution.\n",
    "5.\tAnother important improvement to the K-Means algorithm was proposed in a _2003 paper by Charles Elkan_.It considerably accelerates the algorithm by avoiding many unnecessary distance calculations: this is achieved by exploiting the _triangle inequality_ (i.e., the straight line is always the shortest; in a triangle with sides a,b and c=> **a+b>c**) and by keeping track of lower and upper bounds for distances between instances and centroids. \n",
    "6.\tYet another important variant of the K-Means algorithm was proposed in a _2010 paper by David Sculley_. Instead of using the full dataset at each iteration, the algorithm is capable of using **mini-batches**, moving the centroids just slightly at each iteration. This speeds up the algorithm typically by a factor of 3 or 4 and makes it possible to cluster huge datasets that do not fit in memory. Scikit-Learn implements this algorithm in the **MiniBatchKMeans** class. You can just use this class like the KMeans class:\n"
   ]
  },
  {
   "cell_type": "code",
   "execution_count": null,
   "metadata": {},
   "outputs": [],
   "source": [
    "# MiniBatchKMeans\n",
    "from sklearn.cluster import MiniBatchKMeans\n",
    "\n",
    "minibatch_kmeans = MiniBatchKMeans(n_clusters=5)\n",
    "minibatch_kmeans.fit_predict(X)"
   ]
  },
  {
   "cell_type": "markdown",
   "metadata": {},
   "source": [
    "### Hierarchical clustering\n",
    "\n",
    "One main disadvantage of K-Means is that it needs us to pre-enter the number of clusters (K). Hierarchical clustering is an alternative approach which does not need us to give the value of K beforehand and also, it creates a beautiful tree-based structure for visualization.\n",
    "\n",
    "Here, we are going to discuss the bottom-up (or Agglomerative) approach of cluster building.\n",
    "We start by defining any sort of similarity between the datapoints. Generally, we consider the Euclidean distance. The points which are closer to each are more similar than the points which re farther away. The Algorithms starts with considering all points as separate clusters and then grouping pints together to form clusters.\n"
   ]
  },
  {
   "cell_type": "markdown",
   "metadata": {},
   "source": [
    "**The Algorithm:**\n",
    "\n",
    "1.\tBegin with n observations and a measure (such as Euclidean distance) of all the n(n−1)/2 pairwise dissimilarities(or the Euclidean distances generally). Treat each observation as its own cluster. Initially, we have n clusters.\n",
    "2.\tCompare all the distances and put the two closest points/clusters in the same cluster. The dissimilarity(or the Euclidean distances) between these two clusters indicates the height in the dendrogram at which the fusion line should be placed.\n",
    "3.\tCompute the new pairwise inter-cluster dissimilarities(or the Euclidean distances) among the remaining clusters.\n",
    "4.\tRepeat steps 2 and 3 till we have only one cluster left.\n"
   ]
  },
  {
   "cell_type": "markdown",
   "metadata": {},
   "source": [
    "**Code Example**"
   ]
  },
  {
   "cell_type": "code",
   "execution_count": null,
   "metadata": {},
   "outputs": [],
   "source": [
    "# Importing the necessary libraries\n",
    "%pylab inline\n",
    "from pylab import *\n",
    "import random as pyrandom\n",
    "from scipy.spatial.distance import cdist\n",
    "matplotlib.rc(\"image\",cmap=\"gray\")\n",
    "from collections import Counter"
   ]
  },
  {
   "cell_type": "code",
   "execution_count": null,
   "metadata": {},
   "outputs": [],
   "source": [
    "#Defining a method to plot the clusters\n",
    "ccolors = ['go', 'ro','bo','mo','co','yo']\n",
    "def plotclusters(data,centers=None):\n",
    "    xlim([0,100]); ylim([0,100])\n",
    "    if centers is None:\n",
    "        plot(data[:,0],data[:,1],'bo',markersize=5)\n",
    "    else:\n",
    "        for i in range(amax(centers)+1):\n",
    "            plot(data[centers==i,0],data[centers==i,1],ccolors[i%len(ccolors)],markersize=5)"
   ]
  },
  {
   "cell_type": "code",
   "execution_count": 3,
   "metadata": {},
   "outputs": [
    {
     "data": {
      "image/png": "[encoded data removed]",
      "text/plain": [
       "<Figure size 432x288 with 1 Axes>"
      ]
     },
     "metadata": {},
     "output_type": "display_data"
    }
   ],
   "source": [
    "# A Simple Clustering Problem\n",
    "data = r_[4*randn(10,2)+array([70,50]),\n",
    "          4*randn(10,2)+array([30,50])]\n",
    "# shuffle(data)\n",
    "plotclusters(data)"
   ]
  },
  {
   "cell_type": "markdown",
   "metadata": {},
   "source": [
    "The idea behind linkage clustering, or hierarchical clustering, is to put things that are close together into the same cluster. Linkage clustering is usually based on distances only."
   ]
  },
  {
   "cell_type": "code",
   "execution_count": 5,
   "metadata": {},
   "outputs": [],
   "source": [
    "# Compute distance between each pair of the two collections of inputs i.e., calculate distance between all the points in data\n",
    "from scipy.spatial.distance import cdist\n",
    "ds = cdist(data,data)"
   ]
  },
  {
   "cell_type": "markdown",
   "metadata": {},
   "source": [
    "Based on pairwise distances, we can now compute a linkage matrix. We successively merge the closest points/clusters into the same cluster. The linkage \"matrix\" is simply a table listing which pairs of points are merged at what step and what distance."
   ]
  },
  {
   "cell_type": "code",
   "execution_count": 6,
   "metadata": {},
   "outputs": [
    {
     "name": "stderr",
     "output_type": "stream",
     "text": [
      "C:\\Users\\Shankar\\Anaconda3\\lib\\site-packages\\ipykernel_launcher.py:2: ClusterWarning: scipy.cluster: The symmetric non-negative hollow observation matrix looks suspiciously like an uncondensed distance matrix\n",
      "  \n"
     ]
    },
    {
     "data": {
      "text/plain": [
       "array([[12.        , 19.        ,  1.88975899,  2.        ],\n",
       "       [ 0.        ,  3.        ,  4.02947801,  2.        ],\n",
       "       [ 1.        ,  2.        ,  5.54213969,  2.        ],\n",
       "       [ 6.        , 22.        ,  7.60226687,  3.        ],\n",
       "       [ 5.        , 21.        ,  8.80477901,  3.        ]])"
      ]
     },
     "execution_count": 6,
     "metadata": {},
     "output_type": "execute_result"
    }
   ],
   "source": [
    "from scipy.cluster.hierarchy import *\n",
    "lm = linkage(ds,\"single\")\n",
    "lm[:5]"
   ]
  },
  {
   "cell_type": "code",
   "execution_count": 7,
   "metadata": {},
   "outputs": [
    {
     "data": {
      "image/png": "[encoded data removed]",
      "text/plain": [
       "<Figure size 432x288 with 1 Axes>"
      ]
     },
     "metadata": {},
     "output_type": "display_data"
    }
   ],
   "source": [
    "_ = dendrogram(lm)"
   ]
  },
  {
   "cell_type": "markdown",
   "metadata": {},
   "source": [
    "We can \"cut\" the dendrogram to form flat clusters. If we cut the above diagram into two clusters, we get a good answer."
   ]
  },
  {
   "cell_type": "code",
   "execution_count": 10,
   "metadata": {},
   "outputs": [
    {
     "data": {
      "image/png": "[encoded data removed]",
      "text/plain": [
       "<Figure size 432x288 with 1 Axes>"
      ]
     },
     "metadata": {},
     "output_type": "display_data"
    }
   ],
   "source": [
    "## Plotting the individual clusters\n",
    "plotclusters(data,fcluster(lm,3,criterion='maxclust'))"
   ]
  },
  {
   "cell_type": "markdown",
   "metadata": {},
   "source": [
    "As you can see that now the clusters are shown in two different colours. It means that the algorithm has created two separate groupings based on some similarity criteria."
   ]
  },
  {
   "cell_type": "markdown",
   "metadata": {},
   "source": [
    "In the lines above, have talked about linkage matrices and we have written in our code _lm = linkage(ds,\"**single**\")_. So Let’s discuss about the different types of linkages that we generally use."
   ]
  },
  {
   "cell_type": "markdown",
   "metadata": {},
   "source": [
    "**Linkage Methods**"
   ]
  },
  {
   "cell_type": "code",
   "execution_count": 11,
   "metadata": {},
   "outputs": [],
   "source": [
    "# Taking a data for example\n",
    "data = r_[dot(randn(100,2),diag([4,10]))+array([60,60]),\n",
    "           dot(randn(100,2),diag([4,10]))+array([40,40])]\n",
    "shuffle(data)"
   ]
  },
  {
   "cell_type": "markdown",
   "metadata": {},
   "source": [
    "Initially, hierarchical clustering starts out with clusters consisting of individual points. \n",
    "\n",
    "Later, it compares clusters with each other and merges the two \"closest\" clusters.\n",
    "\n",
    "Since clusters are sets of points, there are many different kinds of linkage methods:\n",
    "\n",
    "- Single Linkage: cluster distance = smallest pairwise distance\n",
    "- Complete Linkage: cluster distance = largest pairwise distance\n",
    "- Average Linkage: cluster distance = average pairwise distance\n",
    "- Centroid Linkage: cluster distance=  distance between the centroids of the clusters\n",
    "- Ward’s Linkage: cluster criteria= Minimize the variance in the cluster\n"
   ]
  },
  {
   "cell_type": "markdown",
   "metadata": {},
   "source": [
    "**Single Linkage:** Minimal intercluster dissimilarity. Compute all pairwise dissimilarities between the observations in cluster A and the observations in cluster B, and record the smallest of these dissimilarities. Single linkage can result in extended, trailing clusters in which single observations are fused one-at-a-time.\n",
    "\n",
    "- cluster distance is the smallest distance between any point in cluster 1 and any point in cluster 2\n",
    "- highly sensitive to outliers when forming flat clusters\n",
    "- works well for low-noise data with an unusual structure\n"
   ]
  },
  {
   "cell_type": "code",
   "execution_count": 13,
   "metadata": {},
   "outputs": [
    {
     "data": {
      "image/png": "[encoded data removed]",
      "text/plain": [
       "<Figure size 432x288 with 1 Axes>"
      ]
     },
     "metadata": {},
     "output_type": "display_data"
    }
   ],
   "source": [
    "assignment = fclusterdata(data,3,metric='euclidean',method='single',criterion='maxclust')\n",
    "plotclusters(data,assignment)"
   ]
  },
  {
   "cell_type": "code",
   "execution_count": 14,
   "metadata": {},
   "outputs": [
    {
     "data": {
      "image/png": "[encoded data removed]",
      "text/plain": [
       "<Figure size 432x288 with 1 Axes>"
      ]
     },
     "metadata": {},
     "output_type": "display_data"
    }
   ],
   "source": [
    "assignment = fclusterdata(data,4,metric='euclidean',method='single',criterion='maxclust')\n",
    "plotclusters(data,assignment)"
   ]
  },
  {
   "cell_type": "markdown",
   "metadata": {},
   "source": [
    "**Complete Linkage:** Maximal intercluster dissimilarity. Compute all pairwise dissimilarities between the observations in cluster A and the observations in cluster B, and record the largest of these dissimilarities.\n",
    "\n",
    "- cluster distance is the largest distance between any point in cluster 1 and any point in cluster 2\n",
    "- less sensitive to outliers than single linkage\n"
   ]
  },
  {
   "cell_type": "markdown",
   "metadata": {},
   "source": [
    "**Average Linkage:** Mean intercluster dissimilarity. Compute all pairwise dissimilarities between the observations in cluster A and the observations in cluster B, and record the average of these dissimilarities.\n",
    "\n",
    "\n",
    "- cluster distance is the average distance of all pairs of points in clusters 1 and 2\n"
   ]
  },
  {
   "cell_type": "markdown",
   "metadata": {},
   "source": [
    "**Centroid Linkage:** The dissimilarity between the centroid for cluster A (a mean vector of length p) and the centroid for cluster B. Centroid linkage can result in undesirable inversions.\n",
    "\n",
    "- cluster distance is the distance of the centroids of both clusters\n"
   ]
  },
  {
   "cell_type": "code",
   "execution_count": 16,
   "metadata": {
    "scrolled": true
   },
   "outputs": [
    {
     "data": {
      "image/png": "[encoded data removed]",
      "text/plain": [
       "<Figure size 432x288 with 1 Axes>"
      ]
     },
     "metadata": {},
     "output_type": "display_data"
    }
   ],
   "source": [
    "lm = linkage(data,metric='euclidean',method='centroid')\n",
    "assignment = fcluster(lm,10,criterion='maxclust')\n",
    "plotclusters(data,assignment)"
   ]
  },
  {
   "cell_type": "markdown",
   "metadata": {},
   "source": [
    "### DBSCAN(Density Based Spatial Clustering of Apllications with Noise)\n",
    "\n",
    "It is an unsupervised machine learning algorithm.This algorithm defines clusters as continuous regions of high density.\n",
    "\n",
    "Some definitions first:\n",
    "\n",
    "**Epsilon:** This is also called eps. This is the distance till which we look for the neighbouring points.\n",
    "\n",
    "**Min_points:** The minimum number of points specified by the user.\n",
    "\n",
    "**Core Points:** If the number of points inside the _eps radius_ of a point is greater than or equal to the *min_points* then it’s called a core point.\n",
    "\n",
    "**Border Points:** If the number of points inside the _eps radius_ of a point is less than the *min_points* and it lies within the _eps radius_ region of a core point, it’s called a border point.\n",
    "\n",
    "**Noise:** A point which is neither a core nor a border point is a noise point.\n",
    "\n",
    "\n",
    "Let’s say if the eps=1 and min_points =4\n",
    "\n",
    "<img src=\"point_def.PNG\" width=\"400\">\n",
    "\n"
   ]
  },
  {
   "cell_type": "markdown",
   "metadata": {},
   "source": [
    "\n",
    "Algorithm Steps:\n",
    "\n",
    "1.\tThe algorithm starts with a random point in the dataset which has not been visited yet and its neighbouring points are identified based on the eps value.\n",
    "2.\tIf the point contains greater than or equal points than the min_pts, then the cluster formation starts and this point becomes a _core point_, else it’s considered as noise. The thing to note here is that a point initially classified as noise can later become a border point if it’s in the eps radius of a core point.\n",
    "3.\tIf the point is a core point, then all its neighbours become a part of the cluster. If the points in the neighbourhood turn out to be core points then their neighbours are also part of the cluster.\n",
    "4.\tRepeat the steps above until all points are  classified into different clusters or noises.\n",
    "\n",
    "\n",
    "\n",
    "This algorithm works well if all the clusters are dense enough, and they are well separated by low-density regions."
   ]
  },
  {
   "cell_type": "markdown",
   "metadata": {},
   "source": [
    "##### Python Example"
   ]
  },
  {
   "cell_type": "code",
   "execution_count": 24,
   "metadata": {},
   "outputs": [],
   "source": [
    "# Necessary Imports\n",
    "\n",
    "import numpy as np\n",
    "\n",
    "from sklearn.cluster import DBSCAN\n",
    "from sklearn import metrics\n",
    "from sklearn.datasets import make_blobs\n",
    "from sklearn.preprocessing import StandardScaler"
   ]
  },
  {
   "cell_type": "code",
   "execution_count": 25,
   "metadata": {
    "scrolled": false
   },
   "outputs": [],
   "source": [
    "# Data creation\n",
    "centers = [[1, 1], [-1, -1], [1, -1]]\n",
    "X, labels_true = make_blobs(n_samples=750, centers=centers, cluster_std=0.4,\n",
    "                            random_state=0)  # generate sample blobs"
   ]
  },
  {
   "cell_type": "code",
   "execution_count": 26,
   "metadata": {},
   "outputs": [
    {
     "data": {
      "text/plain": [
       "array([[ 0.49426097,  1.45106697],\n",
       "       [-1.42808099, -0.83706377],\n",
       "       [ 0.33855918,  1.03875871],\n",
       "       [ 0.11900101, -1.05397553],\n",
       "       [ 1.1224246 ,  1.77493654],\n",
       "       [-1.2615699 ,  0.27188135],\n",
       "       [-1.30154775, -0.76206203],\n",
       "       [ 0.58569865, -0.33910463],\n",
       "       [ 1.08247212,  0.8868554 ],\n",
       "       [ 1.01416668,  1.34114022]])"
      ]
     },
     "execution_count": 26,
     "metadata": {},
     "output_type": "execute_result"
    }
   ],
   "source": [
    "X = StandardScaler().fit_transform(X)\n",
    "X[:10]"
   ]
  },
  {
   "cell_type": "code",
   "execution_count": 36,
   "metadata": {},
   "outputs": [],
   "source": [
    "# DBSCAN\n",
    "db = DBSCAN(eps=0.2, min_samples=5).fit(X)\n",
    "\n",
    "# we are calculating these for showcasing in diagram\n",
    "\n",
    "core_samples_mask = np.zeros_like(db.labels_, dtype=bool)  # creating an array of true and false as the same size as db.labels\n",
    "\n",
    "core_samples_mask[db.core_sample_indices_] = True  # setting the indices of the core regions to True\n",
    "\n",
    "labels = db.labels_  # similar to the model.fit() method, it gives the labels of the clustered data"
   ]
  },
  {
   "cell_type": "code",
   "execution_count": 37,
   "metadata": {},
   "outputs": [],
   "source": [
    "# Number of clusters in labels, ignoring noise if present.\n",
    "\n",
    "n_clusters_ = len(set(labels)) - (1 if -1 in labels else 0) # the label -1 is considered as noise by the DBSCAN algorithm\n",
    "n_noise_ = list(labels).count(-1)  # calculating the number of clusters"
   ]
  },
  {
   "cell_type": "code",
   "execution_count": 38,
   "metadata": {
    "scrolled": true
   },
   "outputs": [
    {
     "name": "stdout",
     "output_type": "stream",
     "text": [
      "Estimated number of clusters: 3\n",
      "Estimated number of noise points: 40\n",
      "Homogeneity: 0.939\n"
     ]
    }
   ],
   "source": [
    "print('Estimated number of clusters: %d' % n_clusters_)\n",
    "print('Estimated number of noise points: %d' % n_noise_)\n",
    "\n",
    "\"\"\"Homogeneity metric of a cluster labeling given a ground truth.\n",
    "\n",
    "A clustering result satisfies homogeneity if all of its clusters\n",
    "contain only data points which are members of a single class.\"\"\"\n",
    "\n",
    "print(\"Homogeneity: %0.3f\" % metrics.homogeneity_score(labels_true, labels))"
   ]
  },
  {
   "cell_type": "markdown",
   "metadata": {},
   "source": [
    "# For demonstration purpose"
   ]
  },
  {
   "cell_type": "code",
   "execution_count": 39,
   "metadata": {},
   "outputs": [
    {
     "data": {
      "image/png": "[encoded data removed]",
      "text/plain": [
       "<Figure size 432x288 with 1 Axes>"
      ]
     },
     "metadata": {},
     "output_type": "display_data"
    }
   ],
   "source": [
    "# Plot result\n",
    "import matplotlib.pyplot as plt\n",
    "\n",
    "# Black  is used for noise.\n",
    "unique_labels = set(labels)  # identifying all the unique labels/clusters\n",
    "\n",
    "colors = [plt.cm.Spectral(each)\n",
    "          for each in np.linspace(0, 1, len(unique_labels))]  # creating the list of colours, generating the colourmap\n",
    "\n",
    "\n",
    "\n",
    "for k, col in zip(unique_labels, colors):\n",
    "    \n",
    "    \n",
    "    if k == -1:\n",
    "        # Black used for noise.\n",
    "        col = [0, 0, 0, 1]\n",
    "\n",
    "    class_member_mask = (labels == k)   # assigning class members for each class\n",
    "    \n",
    "\n",
    "    xy = X[class_member_mask & core_samples_mask] # creating the list of points for each class\n",
    "    \n",
    "    plt.plot(xy[:, 0], xy[:, 1], 'o', markerfacecolor=tuple(col),\n",
    "             markeredgecolor='k', markersize=14)\n",
    "    \n",
    "\n",
    "    xy = X[class_member_mask & ~core_samples_mask] # creating the list of noise points\n",
    "    \n",
    "    plt.plot(xy[:, 0], xy[:, 1], 'o', markerfacecolor=tuple(col),\n",
    "             markeredgecolor='b', markersize=14)\n",
    "    \n",
    "    \n",
    "\n",
    "plt.title('Estimated number of clusters: %d' % n_clusters_)\n",
    "plt.show()"
   ]
  },
  {
   "cell_type": "code",
   "execution_count": null,
   "metadata": {},
   "outputs": [],
   "source": []
  },
  {
   "cell_type": "markdown",
   "metadata": {},
   "source": [
    "### Finding counts in each cluster"
   ]
  },
  {
   "cell_type": "code",
   "execution_count": null,
   "metadata": {
    "scrolled": true
   },
   "outputs": [],
   "source": [
    "np.unique(labels, return_counts=True)"
   ]
  },
  {
   "cell_type": "markdown",
   "metadata": {},
   "source": [
    "#### Select only noises or outliers for further action."
   ]
  },
  {
   "cell_type": "code",
   "execution_count": null,
   "metadata": {},
   "outputs": [],
   "source": [
    "noises = X[labels == -1]\n",
    "\n",
    "noises"
   ]
  },
  {
   "cell_type": "markdown",
   "metadata": {},
   "source": [
    "In short, DBSCAN is a very simple yet powerful algorithm, capable of identifying any number of clusters, of any shape, it is robust to outliers, and it has just two hyper parameters(eps and min_samples). However, if the density varies significantly across the clusters, it can be impossible for it to capture all the clusters properly. Moreover, its computational complexity is roughly O(m log m), making it pretty close to linear with regards to the number of instances."
   ]
  },
  {
   "cell_type": "code",
   "execution_count": null,
   "metadata": {},
   "outputs": [],
   "source": []
  },
  {
   "cell_type": "code",
   "execution_count": null,
   "metadata": {},
   "outputs": [],
   "source": []
  },
  {
   "cell_type": "code",
   "execution_count": null,
   "metadata": {},
   "outputs": [],
   "source": []
  },
  {
   "cell_type": "code",
   "execution_count": null,
   "metadata": {},
   "outputs": [],
   "source": []
  },
  {
   "cell_type": "markdown",
   "metadata": {},
   "source": [
    "## Evaluation of Clustering"
   ]
  },
  {
   "cell_type": "markdown",
   "metadata": {},
   "source": [
    "**Cluster Validity**\n",
    "\n",
    "The validation of clusters created is a troublesome task. \n",
    "The problem here is: ”clusters are in the eyes of the beholder”\n",
    "\n",
    "_A good cluster will have:_\n",
    "* High inter-class similarity, and \n",
    "* Low intraclass similarity\n"
   ]
  },
  {
   "cell_type": "markdown",
   "metadata": {},
   "source": [
    "##### Aspects of cluster validation\n",
    "\n",
    "* **External:** Compare your cluster to the ground truth.\n",
    "* **Internal:** Evaluating the cluster without reference to external data.\n",
    "* **Reliability:** The clusters are not formed by chance(randomly)- some statistical framework can be used.\n"
   ]
  },
  {
   "cell_type": "markdown",
   "metadata": {},
   "source": [
    "##### External Measures:\n",
    "\n",
    "N: Number of objects in the data\n",
    "P: ${P_1,P_2,…,P_m}$ the set of ground truth clusters\n",
    "C: ${C_1,C_2,…C_n}$ the set of clusters formed by the algorithm\n",
    "\n",
    "The Incidence Matrix:\n",
    "N* N matrix\n",
    "\n",
    "$P_ij =1$ if the two points $O_i$ and $O_j$ belong to the same cluster in the ground truth else $P_ij=0$ \n",
    "\n",
    "$C_ij =1$ if the two points $O_i$ and $O_j$ belong to the same cluster in the ground truth else $C_ij=0$ \n",
    "\n",
    "Now there can be the following scenarios:\n",
    "1.\t$C_ij=P_ij=1$ --> both the points belong to the same cluster for both our algorithm and ground truth(Agree)--- **SS**\n",
    "2.\t$C_ij=P_ij=0$ --> both the points don’t belong to the same cluster for both our algorithm and ground truth(Agree)--- **DD**\n",
    "3.\t$_Cij=1 but P_ij=0$ --> The points belong in the same cluster for our algorithm but in different clusters for the ground truth (Disagree)---- **SD**\n",
    "4.\t$C_ij=0 but P_ij=1$ --> The points don’t belong in the same cluster for our algorithm but in same clusters for the ground truth (Disagree)----**DS**\n",
    "\n",
    "**Rand Index**= $\\frac{Total Agree}{Total Disagree}=\\frac{(SS+DD)}{(SS+DD+DS+SD)}$\n",
    "\n",
    "The disadvantage of this is that it could be dominated by DD.\n",
    "\n",
    "**Jaccard Coeeficient**=$\\frac{ SS}{(SS+SD+DS)}$\n"
   ]
  },
  {
   "cell_type": "code",
   "execution_count": null,
   "metadata": {},
   "outputs": [],
   "source": [
    "print(\"Rand Index: %0.3f\"\n",
    "      % metrics.adjusted_rand_score(labels_true, labels))"
   ]
  },
  {
   "cell_type": "code",
   "execution_count": null,
   "metadata": {},
   "outputs": [],
   "source": []
  }
 ],
 "metadata": {
  "hide_input": false,
  "kernelspec": {
   "display_name": "Python 3",
   "language": "python",
   "name": "python3"
  },
  "language_info": {
   "codemirror_mode": {
    "name": "ipython",
    "version": 3
   },
   "file_extension": ".py",
   "mimetype": "text/x-python",
   "name": "python",
   "nbconvert_exporter": "python",
   "pygments_lexer": "ipython3",
   "version": "3.6.5"
  }
 },
 "nbformat": 4,
 "nbformat_minor": 2
}
