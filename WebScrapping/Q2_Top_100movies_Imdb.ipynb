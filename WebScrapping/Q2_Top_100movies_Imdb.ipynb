{
 "cells": [
  {
   "cell_type": "code",
   "execution_count": 1,
   "id": "f21bc7ce",
   "metadata": {},
   "outputs": [],
   "source": [
    "from bs4 import BeautifulSoup\n",
    "import requests\n",
    "import pandas as pd"
   ]
  },
  {
   "cell_type": "markdown",
   "id": "94f76234",
   "metadata": {},
   "source": [
    "# Python program to display IMDB’s Top rated 100 movies’ data (i.e. name, rating, year of release) and make data frame"
   ]
  },
  {
   "cell_type": "code",
   "execution_count": 2,
   "id": "ef35285e",
   "metadata": {},
   "outputs": [
    {
     "data": {
      "text/plain": [
       "<Response [200]>"
      ]
     },
     "execution_count": 2,
     "metadata": {},
     "output_type": "execute_result"
    }
   ],
   "source": [
    "#Check if we are getting the Response\n",
    "imdb_response= requests.get(\"https://www.imdb.com/chart/top/\")\n",
    "imdb_response"
   ]
  },
  {
   "cell_type": "code",
   "execution_count": 7,
   "id": "e85ad321",
   "metadata": {},
   "outputs": [],
   "source": [
    "def top100Movies(link):\n",
    "    url=link\n",
    "    request_object = requests.get(url)\n",
    "    html_content = request_object.text\n",
    "    #print(request_object.status_code, \"->\", url)\n",
    "    soup = BeautifulSoup(request_object.content) \n",
    "    \n",
    "    # Get the name of movies\n",
    "    movies = soup.select('td.titleColumn')\n",
    "    \n",
    "    # Get the ratings, Once clicked on Photo-Inspect-span name=\"ir\" gives us the ratings\n",
    "    # data-value is the attribute where data is stored\n",
    "    ratings = [r.attrs.get('data-value') for r in soup.select('td.posterColumn span[name=ir]')]\n",
    "    ratings\n",
    "    list = []\n",
    " \n",
    "    # Iterating over movies to extract\n",
    "    # each movie's details\n",
    "    for index in range(0, len(movies)):\n",
    "        movie_string = movies[index].get_text()\n",
    "        movie = (' '.join(movie_string.split()).replace('.', ''))\n",
    "        movie_name = movie[len(str(index))+1:-7]\n",
    "        year = movie[len(str(0))-6:-1]\n",
    "        data = {\"Name\": movie_name,\n",
    "                \"Rating\": ratings[index],\n",
    "                \"Year of Release\": year           \n",
    "                }\n",
    "        list.append(data)\n",
    "    # Get first 100 movies\n",
    "    df_movies=pd.DataFrame(list)\n",
    "    return(df_movies.head(100))"
   ]
  },
  {
   "cell_type": "code",
   "execution_count": 8,
   "id": "adf0fee8",
   "metadata": {},
   "outputs": [
    {
     "data": {
      "text/html": [
       "<div>\n",
       "<style scoped>\n",
       "    .dataframe tbody tr th:only-of-type {\n",
       "        vertical-align: middle;\n",
       "    }\n",
       "\n",
       "    .dataframe tbody tr th {\n",
       "        vertical-align: top;\n",
       "    }\n",
       "\n",
       "    .dataframe thead th {\n",
       "        text-align: right;\n",
       "    }\n",
       "</style>\n",
       "<table border=\"1\" class=\"dataframe\">\n",
       "  <thead>\n",
       "    <tr style=\"text-align: right;\">\n",
       "      <th></th>\n",
       "      <th>Name</th>\n",
       "      <th>Rating</th>\n",
       "      <th>Year of Release</th>\n",
       "    </tr>\n",
       "  </thead>\n",
       "  <tbody>\n",
       "    <tr>\n",
       "      <th>0</th>\n",
       "      <td>The Shawshank Redemption</td>\n",
       "      <td>9.221274738779421</td>\n",
       "      <td>1994</td>\n",
       "    </tr>\n",
       "    <tr>\n",
       "      <th>1</th>\n",
       "      <td>The Godfather</td>\n",
       "      <td>9.146955141082294</td>\n",
       "      <td>1972</td>\n",
       "    </tr>\n",
       "    <tr>\n",
       "      <th>2</th>\n",
       "      <td>The Godfather: Part II</td>\n",
       "      <td>8.981009585676812</td>\n",
       "      <td>1974</td>\n",
       "    </tr>\n",
       "    <tr>\n",
       "      <th>3</th>\n",
       "      <td>The Dark Knight</td>\n",
       "      <td>8.976756791605128</td>\n",
       "      <td>2008</td>\n",
       "    </tr>\n",
       "    <tr>\n",
       "      <th>4</th>\n",
       "      <td>12 Angry Men</td>\n",
       "      <td>8.942392701175843</td>\n",
       "      <td>1957</td>\n",
       "    </tr>\n",
       "    <tr>\n",
       "      <th>...</th>\n",
       "      <td>...</td>\n",
       "      <td>...</td>\n",
       "      <td>...</td>\n",
       "    </tr>\n",
       "    <tr>\n",
       "      <th>95</th>\n",
       "      <td>Citizen Kane</td>\n",
       "      <td>8.265621932251584</td>\n",
       "      <td>1941</td>\n",
       "    </tr>\n",
       "    <tr>\n",
       "      <th>96</th>\n",
       "      <td>Requiem for a Dream</td>\n",
       "      <td>8.260468448346993</td>\n",
       "      <td>2000</td>\n",
       "    </tr>\n",
       "    <tr>\n",
       "      <th>97</th>\n",
       "      <td>Singin' in the Rain</td>\n",
       "      <td>8.259540336748433</td>\n",
       "      <td>1952</td>\n",
       "    </tr>\n",
       "    <tr>\n",
       "      <th>98</th>\n",
       "      <td>North by Northwest</td>\n",
       "      <td>8.256569490361828</td>\n",
       "      <td>1959</td>\n",
       "    </tr>\n",
       "    <tr>\n",
       "      <th>99</th>\n",
       "      <td>Ikiru</td>\n",
       "      <td>8.25514117192559</td>\n",
       "      <td>1952</td>\n",
       "    </tr>\n",
       "  </tbody>\n",
       "</table>\n",
       "<p>100 rows × 3 columns</p>\n",
       "</div>"
      ],
      "text/plain": [
       "                        Name             Rating Year of Release\n",
       "0   The Shawshank Redemption  9.221274738779421            1994\n",
       "1              The Godfather  9.146955141082294            1972\n",
       "2     The Godfather: Part II  8.981009585676812            1974\n",
       "3            The Dark Knight  8.976756791605128            2008\n",
       "4               12 Angry Men  8.942392701175843            1957\n",
       "..                       ...                ...             ...\n",
       "95              Citizen Kane  8.265621932251584            1941\n",
       "96       Requiem for a Dream  8.260468448346993            2000\n",
       "97       Singin' in the Rain  8.259540336748433            1952\n",
       "98        North by Northwest  8.256569490361828            1959\n",
       "99                     Ikiru   8.25514117192559            1952\n",
       "\n",
       "[100 rows x 3 columns]"
      ]
     },
     "execution_count": 8,
     "metadata": {},
     "output_type": "execute_result"
    }
   ],
   "source": [
    "top100Movies(\"https://www.imdb.com/chart/top/\")"
   ]
  },
  {
   "cell_type": "code",
   "execution_count": null,
   "id": "67ee7338",
   "metadata": {},
   "outputs": [],
   "source": []
  }
 ],
 "metadata": {
  "kernelspec": {
   "display_name": "Python 3",
   "language": "python",
   "name": "python3"
  },
  "language_info": {
   "codemirror_mode": {
    "name": "ipython",
    "version": 3
   },
   "file_extension": ".py",
   "mimetype": "text/x-python",
   "name": "python",
   "nbconvert_exporter": "python",
   "pygments_lexer": "ipython3",
   "version": "3.8.8"
  }
 },
 "nbformat": 4,
 "nbformat_minor": 5
}
