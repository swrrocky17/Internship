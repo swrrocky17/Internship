{
 "cells": [
  {
   "cell_type": "code",
   "execution_count": 1,
   "id": "b75a212d",
   "metadata": {},
   "outputs": [],
   "source": [
    "import pandas as pd\n",
    "import numpy as np\n",
    "import seaborn as sns\n",
    "import matplotlib.pyplot as plt\n",
    "import warnings\n",
    "warnings.filterwarnings('ignore')"
   ]
  },
  {
   "cell_type": "code",
   "execution_count": 2,
   "id": "29f3a4fe",
   "metadata": {},
   "outputs": [
    {
     "data": {
      "text/html": [
       "<div>\n",
       "<style scoped>\n",
       "    .dataframe tbody tr th:only-of-type {\n",
       "        vertical-align: middle;\n",
       "    }\n",
       "\n",
       "    .dataframe tbody tr th {\n",
       "        vertical-align: top;\n",
       "    }\n",
       "\n",
       "    .dataframe thead th {\n",
       "        text-align: right;\n",
       "    }\n",
       "</style>\n",
       "<table border=\"1\" class=\"dataframe\">\n",
       "  <thead>\n",
       "    <tr style=\"text-align: right;\">\n",
       "      <th></th>\n",
       "      <th>Unnamed: 0</th>\n",
       "      <th>index</th>\n",
       "      <th>car_Brand</th>\n",
       "      <th>car_owner</th>\n",
       "      <th>car_kilometers</th>\n",
       "      <th>car_fuel_type</th>\n",
       "      <th>car_transmission</th>\n",
       "      <th>car_model</th>\n",
       "      <th>car_price</th>\n",
       "      <th>location</th>\n",
       "    </tr>\n",
       "  </thead>\n",
       "  <tbody>\n",
       "    <tr>\n",
       "      <th>0</th>\n",
       "      <td>0</td>\n",
       "      <td>0</td>\n",
       "      <td>2014 Honda Amaze</td>\n",
       "      <td>1st Owner</td>\n",
       "      <td>53,242 km</td>\n",
       "      <td>Petrol</td>\n",
       "      <td>Manual</td>\n",
       "      <td>1.2 SMT I VTEC Manual</td>\n",
       "      <td>₹4,13,999</td>\n",
       "      <td>Mumbai</td>\n",
       "    </tr>\n",
       "    <tr>\n",
       "      <th>1</th>\n",
       "      <td>1</td>\n",
       "      <td>1</td>\n",
       "      <td>2019 Maruti Dzire</td>\n",
       "      <td>1st Owner</td>\n",
       "      <td>31,248 km</td>\n",
       "      <td>Petrol</td>\n",
       "      <td>Automatic</td>\n",
       "      <td>VXI AMT Automatic</td>\n",
       "      <td>₹7,14,299</td>\n",
       "      <td>Mumbai</td>\n",
       "    </tr>\n",
       "    <tr>\n",
       "      <th>2</th>\n",
       "      <td>2</td>\n",
       "      <td>2</td>\n",
       "      <td>2017 Ford Ecosport</td>\n",
       "      <td>1st Owner</td>\n",
       "      <td>471 km</td>\n",
       "      <td>Petrol</td>\n",
       "      <td>Automatic</td>\n",
       "      <td>1.5 TITANIUM TI VCT AT Automatic</td>\n",
       "      <td>₹8,44,999</td>\n",
       "      <td>Mumbai</td>\n",
       "    </tr>\n",
       "    <tr>\n",
       "      <th>3</th>\n",
       "      <td>3</td>\n",
       "      <td>3</td>\n",
       "      <td>2019 KIA SELTOS</td>\n",
       "      <td>1st Owner</td>\n",
       "      <td>12,407 km</td>\n",
       "      <td>Petrol</td>\n",
       "      <td>Manual</td>\n",
       "      <td>GTX+ 1.4 MT Manual</td>\n",
       "      <td>₹16,13,699</td>\n",
       "      <td>Mumbai</td>\n",
       "    </tr>\n",
       "    <tr>\n",
       "      <th>4</th>\n",
       "      <td>4</td>\n",
       "      <td>4</td>\n",
       "      <td>2017 Hyundai Elite i20</td>\n",
       "      <td>1st Owner</td>\n",
       "      <td>35,164 km</td>\n",
       "      <td>Petrol</td>\n",
       "      <td>Manual</td>\n",
       "      <td>ASTA 1.2 Manual</td>\n",
       "      <td>₹6,53,299</td>\n",
       "      <td>Mumbai</td>\n",
       "    </tr>\n",
       "  </tbody>\n",
       "</table>\n",
       "</div>"
      ],
      "text/plain": [
       "   Unnamed: 0  index               car_Brand  car_owner car_kilometers  \\\n",
       "0           0      0        2014 Honda Amaze  1st Owner      53,242 km   \n",
       "1           1      1       2019 Maruti Dzire  1st Owner      31,248 km   \n",
       "2           2      2      2017 Ford Ecosport  1st Owner         471 km   \n",
       "3           3      3         2019 KIA SELTOS  1st Owner      12,407 km   \n",
       "4           4      4  2017 Hyundai Elite i20  1st Owner      35,164 km   \n",
       "\n",
       "  car_fuel_type car_transmission                         car_model  \\\n",
       "0        Petrol           Manual             1.2 SMT I VTEC Manual   \n",
       "1        Petrol        Automatic                 VXI AMT Automatic   \n",
       "2        Petrol        Automatic  1.5 TITANIUM TI VCT AT Automatic   \n",
       "3        Petrol           Manual                GTX+ 1.4 MT Manual   \n",
       "4        Petrol           Manual                   ASTA 1.2 Manual   \n",
       "\n",
       "    car_price location  \n",
       "0   ₹4,13,999   Mumbai  \n",
       "1   ₹7,14,299   Mumbai  \n",
       "2   ₹8,44,999   Mumbai  \n",
       "3  ₹16,13,699   Mumbai  \n",
       "4   ₹6,53,299   Mumbai  "
      ]
     },
     "execution_count": 2,
     "metadata": {},
     "output_type": "execute_result"
    }
   ],
   "source": [
    "df=pd.read_csv(r\"https://raw.githubusercontent.com/swrrocky17/Internship/main/Car24/Car24_data.csv\")\n",
    "df.head()"
   ]
  },
  {
   "cell_type": "code",
   "execution_count": 3,
   "id": "52145dfc",
   "metadata": {},
   "outputs": [
    {
     "data": {
      "text/plain": [
       "(5342, 10)"
      ]
     },
     "execution_count": 3,
     "metadata": {},
     "output_type": "execute_result"
    }
   ],
   "source": [
    "df.shape"
   ]
  },
  {
   "cell_type": "markdown",
   "id": "21291eaa",
   "metadata": {},
   "source": [
    "The dataset has 10 columns and 5324 rows"
   ]
  },
  {
   "cell_type": "code",
   "execution_count": 4,
   "id": "3649edd7",
   "metadata": {},
   "outputs": [
    {
     "name": "stdout",
     "output_type": "stream",
     "text": [
      "<class 'pandas.core.frame.DataFrame'>\n",
      "RangeIndex: 5342 entries, 0 to 5341\n",
      "Data columns (total 10 columns):\n",
      " #   Column            Non-Null Count  Dtype \n",
      "---  ------            --------------  ----- \n",
      " 0   Unnamed: 0        5342 non-null   int64 \n",
      " 1   index             5342 non-null   int64 \n",
      " 2   car_Brand         5342 non-null   object\n",
      " 3   car_owner         5342 non-null   object\n",
      " 4   car_kilometers    5342 non-null   object\n",
      " 5   car_fuel_type     5342 non-null   object\n",
      " 6   car_transmission  5289 non-null   object\n",
      " 7   car_model         5342 non-null   object\n",
      " 8   car_price         5342 non-null   object\n",
      " 9   location          5342 non-null   object\n",
      "dtypes: int64(2), object(8)\n",
      "memory usage: 417.5+ KB\n"
     ]
    }
   ],
   "source": [
    "df.info()"
   ]
  },
  {
   "cell_type": "markdown",
   "id": "866b6a8a",
   "metadata": {},
   "source": [
    "# Check missing data"
   ]
  },
  {
   "cell_type": "code",
   "execution_count": 5,
   "id": "03b66e90",
   "metadata": {},
   "outputs": [
    {
     "data": {
      "text/plain": [
       "Unnamed: 0           0\n",
       "index                0\n",
       "car_Brand            0\n",
       "car_owner            0\n",
       "car_kilometers       0\n",
       "car_fuel_type        0\n",
       "car_transmission    53\n",
       "car_model            0\n",
       "car_price            0\n",
       "location             0\n",
       "dtype: int64"
      ]
     },
     "execution_count": 5,
     "metadata": {},
     "output_type": "execute_result"
    }
   ],
   "source": [
    "df.isnull().sum()"
   ]
  },
  {
   "cell_type": "code",
   "execution_count": 6,
   "id": "291f4d30",
   "metadata": {},
   "outputs": [
    {
     "data": {
      "text/html": [
       "<div>\n",
       "<style scoped>\n",
       "    .dataframe tbody tr th:only-of-type {\n",
       "        vertical-align: middle;\n",
       "    }\n",
       "\n",
       "    .dataframe tbody tr th {\n",
       "        vertical-align: top;\n",
       "    }\n",
       "\n",
       "    .dataframe thead th {\n",
       "        text-align: right;\n",
       "    }\n",
       "</style>\n",
       "<table border=\"1\" class=\"dataframe\">\n",
       "  <thead>\n",
       "    <tr style=\"text-align: right;\">\n",
       "      <th></th>\n",
       "      <th>Total Count</th>\n",
       "      <th>% of Missing Data</th>\n",
       "    </tr>\n",
       "  </thead>\n",
       "  <tbody>\n",
       "    <tr>\n",
       "      <th>car_transmission</th>\n",
       "      <td>53</td>\n",
       "      <td>1.0</td>\n",
       "    </tr>\n",
       "    <tr>\n",
       "      <th>Unnamed: 0</th>\n",
       "      <td>0</td>\n",
       "      <td>0.0</td>\n",
       "    </tr>\n",
       "    <tr>\n",
       "      <th>index</th>\n",
       "      <td>0</td>\n",
       "      <td>0.0</td>\n",
       "    </tr>\n",
       "    <tr>\n",
       "      <th>car_Brand</th>\n",
       "      <td>0</td>\n",
       "      <td>0.0</td>\n",
       "    </tr>\n",
       "    <tr>\n",
       "      <th>car_owner</th>\n",
       "      <td>0</td>\n",
       "      <td>0.0</td>\n",
       "    </tr>\n",
       "  </tbody>\n",
       "</table>\n",
       "</div>"
      ],
      "text/plain": [
       "                  Total Count  % of Missing Data\n",
       "car_transmission           53                1.0\n",
       "Unnamed: 0                  0                0.0\n",
       "index                       0                0.0\n",
       "car_Brand                   0                0.0\n",
       "car_owner                   0                0.0"
      ]
     },
     "execution_count": 6,
     "metadata": {},
     "output_type": "execute_result"
    }
   ],
   "source": [
    "total = df.isnull().sum().sort_values(ascending=False)\n",
    "percent_1 = df.isnull().sum()/df.isnull().count()*100\n",
    "percent_2 = (round(percent_1, 1)).sort_values(ascending=False)\n",
    "missing_data = pd.concat([total, percent_2], axis=1, keys=['Total Count', '% of Missing Data'])\n",
    "missing_data.head(5)"
   ]
  },
  {
   "cell_type": "markdown",
   "id": "b99646ba",
   "metadata": {},
   "source": [
    "- We know that imputing missing data with <b>mean</b> values can only be done with numerical data.\n",
    "\n",
    "\n",
    "- Another technique is median imputation in which the missing values are replaced with the median value of the entire feature column. When the data is skewed, it is good to consider using the median value for replacing the missing values.We must note that imputing missing data with <b>median</b> value can only be done with numerical data.\n",
    "\n",
    "\n",
    "- Yet another technique is mode imputation in which the missing values are replaced with the mode value or most frequent value of the entire feature column. When the data is skewed, it is good to consider using <b>mode</b> values for replacing the missing values.We must note that imputing missing data with mode values can be done with numerical and categorical data."
   ]
  },
  {
   "cell_type": "code",
   "execution_count": 7,
   "id": "f7d28476",
   "metadata": {},
   "outputs": [],
   "source": [
    "df['car_transmission']=df['car_transmission'].fillna(df['car_transmission'].mode()[0])"
   ]
  },
  {
   "cell_type": "markdown",
   "id": "45383aae",
   "metadata": {},
   "source": [
    "We see that Unnamed: 0 and index are of no use, so lets drop these columns straight away"
   ]
  },
  {
   "cell_type": "code",
   "execution_count": 8,
   "id": "11d14b67",
   "metadata": {},
   "outputs": [],
   "source": [
    "df.drop(['Unnamed: 0','index'],axis=1,inplace=True)"
   ]
  },
  {
   "cell_type": "code",
   "execution_count": 9,
   "id": "29c72c86",
   "metadata": {},
   "outputs": [
    {
     "data": {
      "text/plain": [
       "car_Brand           0\n",
       "car_owner           0\n",
       "car_kilometers      0\n",
       "car_fuel_type       0\n",
       "car_transmission    0\n",
       "car_model           0\n",
       "car_price           0\n",
       "location            0\n",
       "dtype: int64"
      ]
     },
     "execution_count": 9,
     "metadata": {},
     "output_type": "execute_result"
    }
   ],
   "source": [
    "df.isnull().sum()"
   ]
  },
  {
   "cell_type": "markdown",
   "id": "46e73faa",
   "metadata": {},
   "source": [
    "There is no missing data now"
   ]
  },
  {
   "cell_type": "code",
   "execution_count": 10,
   "id": "97e3c8df",
   "metadata": {},
   "outputs": [
    {
     "data": {
      "text/plain": [
       "<AxesSubplot:>"
      ]
     },
     "execution_count": 10,
     "metadata": {},
     "output_type": "execute_result"
    },
    {
     "data": {
      "image/png": "[encoded data removed]",
      "text/plain": [
       "<Figure size 432x288 with 2 Axes>"
      ]
     },
     "metadata": {
      "needs_background": "light"
     },
     "output_type": "display_data"
    }
   ],
   "source": [
    "sns.heatmap(df.isnull())"
   ]
  },
  {
   "cell_type": "code",
   "execution_count": 11,
   "id": "4eb30eed",
   "metadata": {},
   "outputs": [
    {
     "data": {
      "text/html": [
       "<div>\n",
       "<style scoped>\n",
       "    .dataframe tbody tr th:only-of-type {\n",
       "        vertical-align: middle;\n",
       "    }\n",
       "\n",
       "    .dataframe tbody tr th {\n",
       "        vertical-align: top;\n",
       "    }\n",
       "\n",
       "    .dataframe thead th {\n",
       "        text-align: right;\n",
       "    }\n",
       "</style>\n",
       "<table border=\"1\" class=\"dataframe\">\n",
       "  <thead>\n",
       "    <tr style=\"text-align: right;\">\n",
       "      <th></th>\n",
       "      <th>car_Brand</th>\n",
       "      <th>car_owner</th>\n",
       "      <th>car_kilometers</th>\n",
       "      <th>car_fuel_type</th>\n",
       "      <th>car_transmission</th>\n",
       "      <th>car_model</th>\n",
       "      <th>car_price</th>\n",
       "      <th>location</th>\n",
       "    </tr>\n",
       "  </thead>\n",
       "  <tbody>\n",
       "    <tr>\n",
       "      <th>0</th>\n",
       "      <td>2014 Honda Amaze</td>\n",
       "      <td>1st Owner</td>\n",
       "      <td>53,242 km</td>\n",
       "      <td>Petrol</td>\n",
       "      <td>Manual</td>\n",
       "      <td>1.2 SMT I VTEC Manual</td>\n",
       "      <td>₹4,13,999</td>\n",
       "      <td>Mumbai</td>\n",
       "    </tr>\n",
       "    <tr>\n",
       "      <th>1</th>\n",
       "      <td>2019 Maruti Dzire</td>\n",
       "      <td>1st Owner</td>\n",
       "      <td>31,248 km</td>\n",
       "      <td>Petrol</td>\n",
       "      <td>Automatic</td>\n",
       "      <td>VXI AMT Automatic</td>\n",
       "      <td>₹7,14,299</td>\n",
       "      <td>Mumbai</td>\n",
       "    </tr>\n",
       "    <tr>\n",
       "      <th>2</th>\n",
       "      <td>2017 Ford Ecosport</td>\n",
       "      <td>1st Owner</td>\n",
       "      <td>471 km</td>\n",
       "      <td>Petrol</td>\n",
       "      <td>Automatic</td>\n",
       "      <td>1.5 TITANIUM TI VCT AT Automatic</td>\n",
       "      <td>₹8,44,999</td>\n",
       "      <td>Mumbai</td>\n",
       "    </tr>\n",
       "    <tr>\n",
       "      <th>3</th>\n",
       "      <td>2019 KIA SELTOS</td>\n",
       "      <td>1st Owner</td>\n",
       "      <td>12,407 km</td>\n",
       "      <td>Petrol</td>\n",
       "      <td>Manual</td>\n",
       "      <td>GTX+ 1.4 MT Manual</td>\n",
       "      <td>₹16,13,699</td>\n",
       "      <td>Mumbai</td>\n",
       "    </tr>\n",
       "    <tr>\n",
       "      <th>4</th>\n",
       "      <td>2017 Hyundai Elite i20</td>\n",
       "      <td>1st Owner</td>\n",
       "      <td>35,164 km</td>\n",
       "      <td>Petrol</td>\n",
       "      <td>Manual</td>\n",
       "      <td>ASTA 1.2 Manual</td>\n",
       "      <td>₹6,53,299</td>\n",
       "      <td>Mumbai</td>\n",
       "    </tr>\n",
       "  </tbody>\n",
       "</table>\n",
       "</div>"
      ],
      "text/plain": [
       "                car_Brand  car_owner car_kilometers car_fuel_type  \\\n",
       "0        2014 Honda Amaze  1st Owner      53,242 km        Petrol   \n",
       "1       2019 Maruti Dzire  1st Owner      31,248 km        Petrol   \n",
       "2      2017 Ford Ecosport  1st Owner         471 km        Petrol   \n",
       "3         2019 KIA SELTOS  1st Owner      12,407 km        Petrol   \n",
       "4  2017 Hyundai Elite i20  1st Owner      35,164 km        Petrol   \n",
       "\n",
       "  car_transmission                         car_model   car_price location  \n",
       "0           Manual             1.2 SMT I VTEC Manual   ₹4,13,999   Mumbai  \n",
       "1        Automatic                 VXI AMT Automatic   ₹7,14,299   Mumbai  \n",
       "2        Automatic  1.5 TITANIUM TI VCT AT Automatic   ₹8,44,999   Mumbai  \n",
       "3           Manual                GTX+ 1.4 MT Manual  ₹16,13,699   Mumbai  \n",
       "4           Manual                   ASTA 1.2 Manual   ₹6,53,299   Mumbai  "
      ]
     },
     "execution_count": 11,
     "metadata": {},
     "output_type": "execute_result"
    }
   ],
   "source": [
    "df.head()"
   ]
  },
  {
   "cell_type": "code",
   "execution_count": 12,
   "id": "236d88d6",
   "metadata": {},
   "outputs": [
    {
     "data": {
      "text/html": [
       "<div>\n",
       "<style scoped>\n",
       "    .dataframe tbody tr th:only-of-type {\n",
       "        vertical-align: middle;\n",
       "    }\n",
       "\n",
       "    .dataframe tbody tr th {\n",
       "        vertical-align: top;\n",
       "    }\n",
       "\n",
       "    .dataframe thead th {\n",
       "        text-align: right;\n",
       "    }\n",
       "</style>\n",
       "<table border=\"1\" class=\"dataframe\">\n",
       "  <thead>\n",
       "    <tr style=\"text-align: right;\">\n",
       "      <th></th>\n",
       "      <th>car_Brand</th>\n",
       "      <th>car_owner</th>\n",
       "      <th>car_kilometers</th>\n",
       "      <th>car_fuel_type</th>\n",
       "      <th>car_transmission</th>\n",
       "      <th>car_model</th>\n",
       "      <th>car_price</th>\n",
       "      <th>location</th>\n",
       "      <th>car_Year</th>\n",
       "      <th>Brand</th>\n",
       "    </tr>\n",
       "  </thead>\n",
       "  <tbody>\n",
       "    <tr>\n",
       "      <th>0</th>\n",
       "      <td>2014 Honda Amaze</td>\n",
       "      <td>1st Owner</td>\n",
       "      <td>53,242 km</td>\n",
       "      <td>Petrol</td>\n",
       "      <td>Manual</td>\n",
       "      <td>1.2 SMT I VTEC Manual</td>\n",
       "      <td>₹4,13,999</td>\n",
       "      <td>Mumbai</td>\n",
       "      <td>2014</td>\n",
       "      <td>Honda Amaze</td>\n",
       "    </tr>\n",
       "    <tr>\n",
       "      <th>1</th>\n",
       "      <td>2019 Maruti Dzire</td>\n",
       "      <td>1st Owner</td>\n",
       "      <td>31,248 km</td>\n",
       "      <td>Petrol</td>\n",
       "      <td>Automatic</td>\n",
       "      <td>VXI AMT Automatic</td>\n",
       "      <td>₹7,14,299</td>\n",
       "      <td>Mumbai</td>\n",
       "      <td>2019</td>\n",
       "      <td>Maruti Dzire</td>\n",
       "    </tr>\n",
       "  </tbody>\n",
       "</table>\n",
       "</div>"
      ],
      "text/plain": [
       "           car_Brand  car_owner car_kilometers car_fuel_type car_transmission  \\\n",
       "0   2014 Honda Amaze  1st Owner      53,242 km        Petrol           Manual   \n",
       "1  2019 Maruti Dzire  1st Owner      31,248 km        Petrol        Automatic   \n",
       "\n",
       "               car_model  car_price location car_Year         Brand  \n",
       "0  1.2 SMT I VTEC Manual  ₹4,13,999   Mumbai     2014   Honda Amaze  \n",
       "1      VXI AMT Automatic  ₹7,14,299   Mumbai     2019  Maruti Dzire  "
      ]
     },
     "execution_count": 12,
     "metadata": {},
     "output_type": "execute_result"
    }
   ],
   "source": [
    "df['car_Year'],df['Brand'] = df['car_Brand'].str.split(' ',1).str\n",
    "df.head(2)"
   ]
  },
  {
   "cell_type": "code",
   "execution_count": 13,
   "id": "4216a246",
   "metadata": {},
   "outputs": [
    {
     "data": {
      "text/html": [
       "<div>\n",
       "<style scoped>\n",
       "    .dataframe tbody tr th:only-of-type {\n",
       "        vertical-align: middle;\n",
       "    }\n",
       "\n",
       "    .dataframe tbody tr th {\n",
       "        vertical-align: top;\n",
       "    }\n",
       "\n",
       "    .dataframe thead th {\n",
       "        text-align: right;\n",
       "    }\n",
       "</style>\n",
       "<table border=\"1\" class=\"dataframe\">\n",
       "  <thead>\n",
       "    <tr style=\"text-align: right;\">\n",
       "      <th></th>\n",
       "      <th>car_Brand</th>\n",
       "      <th>car_owner</th>\n",
       "      <th>car_kilometers</th>\n",
       "      <th>car_fuel_type</th>\n",
       "      <th>car_transmission</th>\n",
       "      <th>car_model</th>\n",
       "      <th>car_price</th>\n",
       "      <th>location</th>\n",
       "      <th>car_Year</th>\n",
       "      <th>Brand</th>\n",
       "      <th>Total_KM_Ran</th>\n",
       "      <th>km</th>\n",
       "    </tr>\n",
       "  </thead>\n",
       "  <tbody>\n",
       "    <tr>\n",
       "      <th>0</th>\n",
       "      <td>2014 Honda Amaze</td>\n",
       "      <td>1st Owner</td>\n",
       "      <td>53,242 km</td>\n",
       "      <td>Petrol</td>\n",
       "      <td>Manual</td>\n",
       "      <td>1.2 SMT I VTEC Manual</td>\n",
       "      <td>₹4,13,999</td>\n",
       "      <td>Mumbai</td>\n",
       "      <td>2014</td>\n",
       "      <td>Honda Amaze</td>\n",
       "      <td>53,242</td>\n",
       "      <td>km</td>\n",
       "    </tr>\n",
       "    <tr>\n",
       "      <th>1</th>\n",
       "      <td>2019 Maruti Dzire</td>\n",
       "      <td>1st Owner</td>\n",
       "      <td>31,248 km</td>\n",
       "      <td>Petrol</td>\n",
       "      <td>Automatic</td>\n",
       "      <td>VXI AMT Automatic</td>\n",
       "      <td>₹7,14,299</td>\n",
       "      <td>Mumbai</td>\n",
       "      <td>2019</td>\n",
       "      <td>Maruti Dzire</td>\n",
       "      <td>31,248</td>\n",
       "      <td>km</td>\n",
       "    </tr>\n",
       "  </tbody>\n",
       "</table>\n",
       "</div>"
      ],
      "text/plain": [
       "           car_Brand  car_owner car_kilometers car_fuel_type car_transmission  \\\n",
       "0   2014 Honda Amaze  1st Owner      53,242 km        Petrol           Manual   \n",
       "1  2019 Maruti Dzire  1st Owner      31,248 km        Petrol        Automatic   \n",
       "\n",
       "               car_model  car_price location car_Year         Brand  \\\n",
       "0  1.2 SMT I VTEC Manual  ₹4,13,999   Mumbai     2014   Honda Amaze   \n",
       "1      VXI AMT Automatic  ₹7,14,299   Mumbai     2019  Maruti Dzire   \n",
       "\n",
       "  Total_KM_Ran  km  \n",
       "0       53,242  km  \n",
       "1       31,248  km  "
      ]
     },
     "execution_count": 13,
     "metadata": {},
     "output_type": "execute_result"
    }
   ],
   "source": [
    "#Lets split car_kilometers also to get the total km ran\n",
    "df['Total_KM_Ran'],df['km'] = df['car_kilometers'].str.split(' ',1).str\n",
    "df.head(2)"
   ]
  },
  {
   "cell_type": "code",
   "execution_count": 14,
   "id": "c5bea583",
   "metadata": {},
   "outputs": [
    {
     "data": {
      "text/html": [
       "<div>\n",
       "<style scoped>\n",
       "    .dataframe tbody tr th:only-of-type {\n",
       "        vertical-align: middle;\n",
       "    }\n",
       "\n",
       "    .dataframe tbody tr th {\n",
       "        vertical-align: top;\n",
       "    }\n",
       "\n",
       "    .dataframe thead th {\n",
       "        text-align: right;\n",
       "    }\n",
       "</style>\n",
       "<table border=\"1\" class=\"dataframe\">\n",
       "  <thead>\n",
       "    <tr style=\"text-align: right;\">\n",
       "      <th></th>\n",
       "      <th>car_Brand</th>\n",
       "      <th>car_owner</th>\n",
       "      <th>car_kilometers</th>\n",
       "      <th>car_fuel_type</th>\n",
       "      <th>car_transmission</th>\n",
       "      <th>car_model</th>\n",
       "      <th>car_price</th>\n",
       "      <th>location</th>\n",
       "      <th>car_Year</th>\n",
       "      <th>Brand</th>\n",
       "      <th>Total_KM_Ran</th>\n",
       "      <th>km</th>\n",
       "    </tr>\n",
       "  </thead>\n",
       "  <tbody>\n",
       "    <tr>\n",
       "      <th>0</th>\n",
       "      <td>2014 Honda Amaze</td>\n",
       "      <td>1st Owner</td>\n",
       "      <td>53,242 km</td>\n",
       "      <td>Petrol</td>\n",
       "      <td>Manual</td>\n",
       "      <td>1.2 SMT I VTEC Manual</td>\n",
       "      <td>4,13,999</td>\n",
       "      <td>Mumbai</td>\n",
       "      <td>2014</td>\n",
       "      <td>Honda Amaze</td>\n",
       "      <td>53,242</td>\n",
       "      <td>km</td>\n",
       "    </tr>\n",
       "    <tr>\n",
       "      <th>1</th>\n",
       "      <td>2019 Maruti Dzire</td>\n",
       "      <td>1st Owner</td>\n",
       "      <td>31,248 km</td>\n",
       "      <td>Petrol</td>\n",
       "      <td>Automatic</td>\n",
       "      <td>VXI AMT Automatic</td>\n",
       "      <td>7,14,299</td>\n",
       "      <td>Mumbai</td>\n",
       "      <td>2019</td>\n",
       "      <td>Maruti Dzire</td>\n",
       "      <td>31,248</td>\n",
       "      <td>km</td>\n",
       "    </tr>\n",
       "  </tbody>\n",
       "</table>\n",
       "</div>"
      ],
      "text/plain": [
       "           car_Brand  car_owner car_kilometers car_fuel_type car_transmission  \\\n",
       "0   2014 Honda Amaze  1st Owner      53,242 km        Petrol           Manual   \n",
       "1  2019 Maruti Dzire  1st Owner      31,248 km        Petrol        Automatic   \n",
       "\n",
       "               car_model car_price location car_Year         Brand  \\\n",
       "0  1.2 SMT I VTEC Manual  4,13,999   Mumbai     2014   Honda Amaze   \n",
       "1      VXI AMT Automatic  7,14,299   Mumbai     2019  Maruti Dzire   \n",
       "\n",
       "  Total_KM_Ran  km  \n",
       "0       53,242  km  \n",
       "1       31,248  km  "
      ]
     },
     "execution_count": 14,
     "metadata": {},
     "output_type": "execute_result"
    }
   ],
   "source": [
    "df['car_price'] = df['car_price'].str.replace('₹','')\n",
    "df.head(2)"
   ]
  },
  {
   "cell_type": "code",
   "execution_count": 15,
   "id": "c0d7871a",
   "metadata": {},
   "outputs": [
    {
     "data": {
      "text/html": [
       "<div>\n",
       "<style scoped>\n",
       "    .dataframe tbody tr th:only-of-type {\n",
       "        vertical-align: middle;\n",
       "    }\n",
       "\n",
       "    .dataframe tbody tr th {\n",
       "        vertical-align: top;\n",
       "    }\n",
       "\n",
       "    .dataframe thead th {\n",
       "        text-align: right;\n",
       "    }\n",
       "</style>\n",
       "<table border=\"1\" class=\"dataframe\">\n",
       "  <thead>\n",
       "    <tr style=\"text-align: right;\">\n",
       "      <th></th>\n",
       "      <th>car_owner</th>\n",
       "      <th>car_kilometers</th>\n",
       "      <th>car_fuel_type</th>\n",
       "      <th>car_transmission</th>\n",
       "      <th>car_model</th>\n",
       "      <th>car_price</th>\n",
       "      <th>location</th>\n",
       "      <th>car_Year</th>\n",
       "      <th>Brand</th>\n",
       "      <th>Total_KM_Ran</th>\n",
       "    </tr>\n",
       "  </thead>\n",
       "  <tbody>\n",
       "    <tr>\n",
       "      <th>0</th>\n",
       "      <td>1st Owner</td>\n",
       "      <td>53,242 km</td>\n",
       "      <td>Petrol</td>\n",
       "      <td>Manual</td>\n",
       "      <td>1.2 SMT I VTEC Manual</td>\n",
       "      <td>4,13,999</td>\n",
       "      <td>Mumbai</td>\n",
       "      <td>2014</td>\n",
       "      <td>Honda Amaze</td>\n",
       "      <td>53,242</td>\n",
       "    </tr>\n",
       "    <tr>\n",
       "      <th>1</th>\n",
       "      <td>1st Owner</td>\n",
       "      <td>31,248 km</td>\n",
       "      <td>Petrol</td>\n",
       "      <td>Automatic</td>\n",
       "      <td>VXI AMT Automatic</td>\n",
       "      <td>7,14,299</td>\n",
       "      <td>Mumbai</td>\n",
       "      <td>2019</td>\n",
       "      <td>Maruti Dzire</td>\n",
       "      <td>31,248</td>\n",
       "    </tr>\n",
       "    <tr>\n",
       "      <th>2</th>\n",
       "      <td>1st Owner</td>\n",
       "      <td>471 km</td>\n",
       "      <td>Petrol</td>\n",
       "      <td>Automatic</td>\n",
       "      <td>1.5 TITANIUM TI VCT AT Automatic</td>\n",
       "      <td>8,44,999</td>\n",
       "      <td>Mumbai</td>\n",
       "      <td>2017</td>\n",
       "      <td>Ford Ecosport</td>\n",
       "      <td>471</td>\n",
       "    </tr>\n",
       "    <tr>\n",
       "      <th>3</th>\n",
       "      <td>1st Owner</td>\n",
       "      <td>12,407 km</td>\n",
       "      <td>Petrol</td>\n",
       "      <td>Manual</td>\n",
       "      <td>GTX+ 1.4 MT Manual</td>\n",
       "      <td>16,13,699</td>\n",
       "      <td>Mumbai</td>\n",
       "      <td>2019</td>\n",
       "      <td>KIA SELTOS</td>\n",
       "      <td>12,407</td>\n",
       "    </tr>\n",
       "    <tr>\n",
       "      <th>4</th>\n",
       "      <td>1st Owner</td>\n",
       "      <td>35,164 km</td>\n",
       "      <td>Petrol</td>\n",
       "      <td>Manual</td>\n",
       "      <td>ASTA 1.2 Manual</td>\n",
       "      <td>6,53,299</td>\n",
       "      <td>Mumbai</td>\n",
       "      <td>2017</td>\n",
       "      <td>Hyundai Elite i20</td>\n",
       "      <td>35,164</td>\n",
       "    </tr>\n",
       "  </tbody>\n",
       "</table>\n",
       "</div>"
      ],
      "text/plain": [
       "   car_owner car_kilometers car_fuel_type car_transmission  \\\n",
       "0  1st Owner      53,242 km        Petrol           Manual   \n",
       "1  1st Owner      31,248 km        Petrol        Automatic   \n",
       "2  1st Owner         471 km        Petrol        Automatic   \n",
       "3  1st Owner      12,407 km        Petrol           Manual   \n",
       "4  1st Owner      35,164 km        Petrol           Manual   \n",
       "\n",
       "                          car_model  car_price location car_Year  \\\n",
       "0             1.2 SMT I VTEC Manual   4,13,999   Mumbai     2014   \n",
       "1                 VXI AMT Automatic   7,14,299   Mumbai     2019   \n",
       "2  1.5 TITANIUM TI VCT AT Automatic   8,44,999   Mumbai     2017   \n",
       "3                GTX+ 1.4 MT Manual  16,13,699   Mumbai     2019   \n",
       "4                   ASTA 1.2 Manual   6,53,299   Mumbai     2017   \n",
       "\n",
       "               Brand Total_KM_Ran  \n",
       "0        Honda Amaze       53,242  \n",
       "1       Maruti Dzire       31,248  \n",
       "2      Ford Ecosport          471  \n",
       "3         KIA SELTOS       12,407  \n",
       "4  Hyundai Elite i20       35,164  "
      ]
     },
     "execution_count": 15,
     "metadata": {},
     "output_type": "execute_result"
    }
   ],
   "source": [
    "#Now car_Brand column and km is of no use, so lets drop them.\n",
    "df.drop(['car_Brand','km'],axis=1,inplace=True)\n",
    "df.head()"
   ]
  },
  {
   "cell_type": "code",
   "execution_count": 16,
   "id": "47313fa3",
   "metadata": {},
   "outputs": [
    {
     "name": "stdout",
     "output_type": "stream",
     "text": [
      "['Mumbai' 'Gurgaon' 'Pune' 'Banglore' 'Chennai' 'Ahmedabad' 'Noida'\n",
      " 'Kolkata' 'Hyderabad' 'Chandigarh' 'Bhopal' 'Delhi' 'Coimbatore' 'Surat'\n",
      " 'Kochi' 'Lucknow']\n",
      "['1st Owner' '2nd Owner' '4th Owner' '3rd Owner']\n"
     ]
    }
   ],
   "source": [
    "print(df['location'].unique())\n",
    "print(df['car_owner'].unique())"
   ]
  },
  {
   "cell_type": "code",
   "execution_count": 17,
   "id": "84345cb7",
   "metadata": {},
   "outputs": [
    {
     "name": "stdout",
     "output_type": "stream",
     "text": [
      "['Honda Amaze' 'Maruti Dzire' 'Ford Ecosport' 'KIA SELTOS'\n",
      " 'Hyundai Elite i20' 'MG HECTOR' 'Hyundai Tucson New' 'Hyundai i20 Active'\n",
      " 'Volkswagen Ameo' 'Tata NEXON' 'Hyundai Creta' 'Maruti Ertiga'\n",
      " 'Renault TRIBER' 'Hyundai i20' 'Mahindra TUV300' 'Tata Hexa'\n",
      " 'Tata ALTROZ' 'Maruti Vitara Brezza' 'Maruti New Wagon-R' 'KIA SONET'\n",
      " 'Tata Harrier' 'Mahindra Scorpio' 'Toyota Glanza' 'Maruti S Cross'\n",
      " 'Jeep Compass' 'Honda WR-V' 'Maruti Baleno' 'Hyundai VENUE'\n",
      " 'Hyundai Verna' 'Maruti Ciaz' 'Hyundai Grand i10' 'Maruti IGNIS'\n",
      " 'Honda Jazz' 'Skoda Rapid' 'Toyota Corolla Altis' 'Maruti Celerio'\n",
      " 'Honda Civic' 'Volkswagen Polo' 'Toyota Innova' 'Volkswagen Vento'\n",
      " 'Honda City' 'Skoda Superb' 'Renault Kwid' 'Mahindra XUV500'\n",
      " 'Maruti S PRESSO' 'Hyundai Eon' 'Maruti Alto' 'Datsun Redi Go'\n",
      " 'Maruti Swift' 'Maruti Swift Dzire' 'Honda Brio' 'Maruti Wagon R 1.0'\n",
      " 'Toyota Etios Liva' 'Maruti Alto 800' 'Maruti Alto K10' 'Tata TIGOR'\n",
      " 'Toyota Innova Crysta' 'Maruti XL6' 'Mercedes Benz CLA Class'\n",
      " 'Hyundai Xcent' 'BMW 3 Series' 'Honda CRV' 'Renault Duster'\n",
      " 'MG HECTOR PLUS' 'Ford Figo Aspire' 'Hyundai NEW SANTRO' 'BMW 5 Series'\n",
      " 'Hyundai i10' 'Mahindra MARAZZO' 'Mercedes Benz E Class'\n",
      " 'Hyundai New Elantra' 'Tata Tiago' 'Maruti Ritz' 'Toyota YARIS'\n",
      " 'Toyota Fortuner' 'Audi Q3' 'Mahindra Thar' 'Toyota Etios' 'Honda BR-V'\n",
      " 'Skoda Octavia' 'Hyundai Santa Fe' 'Hyundai GRAND I10 NIOS'\n",
      " 'Nissan Micra' 'Volkswagen Jetta' 'Toyota URBAN CRUISER'\n",
      " 'Mercedes Benz B Class' 'Ssangyong Rexton' 'Mercedes Benz GLC CLASS'\n",
      " 'Jaguar XF' 'Tata Nano' 'Toyota Camry' 'Skoda Laura' 'Ford FREESTYLE'\n",
      " 'Ford Figo' 'Maruti Eeco' 'Mahindra Kuv100' 'Mahindra XUV 3OO'\n",
      " 'Ford New Figo' 'Maruti A Star' 'Datsun Go' 'Hyundai NEW I20'\n",
      " 'Maruti Wagon R' 'Nissan Micra Active' 'Nissan Terrano' 'Mahindra Bolero'\n",
      " 'Fiat Grand Punto' 'Mahindra Xylo' 'Maruti OMNI E' 'Mahindra KUV 100 NXT'\n",
      " 'Audi A3' 'Maruti Celerio X' 'BMW X1' 'BMW X3' 'Audi Q5' 'Audi A6'\n",
      " 'Maruti Zen Estilo' 'Ford Endeavour' 'Renault Captur' 'Datsun Go Plus'\n",
      " 'Maruti Wagon R Stingray' 'Maruti Wagon R Duo' 'Honda Accord'\n",
      " 'Nissan Sunny' 'Hyundai AURA' 'Mercedes Benz C Class' 'Audi A4'\n",
      " 'Nissan Kicks' 'HYUNDAI NEW I20' 'Mercedes Benz GLA Class'\n",
      " 'Hyundai Santro Xing' 'Tata Zest']\n"
     ]
    }
   ],
   "source": [
    "print(df['Brand'].unique())"
   ]
  },
  {
   "cell_type": "code",
   "execution_count": 18,
   "id": "7b28b96d",
   "metadata": {},
   "outputs": [
    {
     "name": "stdout",
     "output_type": "stream",
     "text": [
      "['Manual' 'Automatic']\n"
     ]
    }
   ],
   "source": [
    "print(df['car_transmission'].unique())"
   ]
  },
  {
   "cell_type": "code",
   "execution_count": 19,
   "id": "a6959947",
   "metadata": {},
   "outputs": [
    {
     "name": "stdout",
     "output_type": "stream",
     "text": [
      "['Petrol' 'Diesel' 'Petrol + CNG' 'Petrol + LPG']\n"
     ]
    }
   ],
   "source": [
    "print(df['car_fuel_type'].unique())"
   ]
  },
  {
   "cell_type": "code",
   "execution_count": 20,
   "id": "4ba4f3f8",
   "metadata": {},
   "outputs": [
    {
     "name": "stdout",
     "output_type": "stream",
     "text": [
      "['1.2 SMT I VTEC Manual' 'VXI AMT Automatic'\n",
      " '1.5 TITANIUM TI VCT AT Automatic' 'GTX+ 1.4 MT Manual' 'ASTA 1.2 Manual'\n",
      " 'SHARP 2.0 DIESEL Manual' '2WD AT GLS DIESEL Automatic' '1.2 S Manual'\n",
      " 'HIGHLINE 1.2 Manual' 'XZ+ 1.5 Manual' '1.4 SX Manual'\n",
      " '1.6 E + VTVT Manual' '1.6 SX PLUS PETROL Manual' 'VXI Manual'\n",
      " '1.6 S Manual' '1.0 RXT Manual' 'SPORTZ 1.2 Manual' 'T8 Manual'\n",
      " 'Varicor 400 XT Manual' 'XZ 1.2 Manual' 'ZDI Manual' 'ZXI 1.2 Manual'\n",
      " 'GTX PLUS 1.5 DCT AT' 'VDI Manual' 'ZDI PLUS Manual'\n",
      " 'XZ 2.0L Kryotec Manual' 'S5 Manual' 'V CVT Automatic' 'MAGNA 1.2 Manual'\n",
      " 'ALPHA 1.3 Manual' '2.0 LONGITUDE Manual' 'LIMITED (O) 2.0 4*4 Manual'\n",
      " 'G CVT Automatic' '1.5 i-DTEC VX MT Manual' '1.2 i-VTEC VX MT Manual'\n",
      " '1.2 SX Manual' 'ZETA 1.2 K12 Manual' '1.0L Turbo GDI SX MT Manual'\n",
      " '1.2 EMT I VTEC Manual' 'FLUIDIC 1.6 SX VTVT Manual'\n",
      " 'DELTA 1.2 K12 Manual' 'SIGMA 1.3 Manual' 'VDI AMT Automatic'\n",
      " 'ZETA 1.4 VVT Manual' 'SPORTS 1.2 VTVT Manual'\n",
      " 'DELTA 1.2 K12 AMT Automatic' 'ZETA 1.2 K12 AMT Automatic'\n",
      " 'ZDI Plus Manual' 'ALPHA 1.2 K12 AMT Automatic'\n",
      " '1.0 TURBO GDI SX+ AT Automatic' 'HTK PLUS 1.5 PETROL Manual'\n",
      " 'VX 1.2 Manual' 'AMBITION 1.6 MPFI MT Manual' '2.0 LIMITED Manual'\n",
      " 'LIMITED 1.4 AT Automatic' 'J S Manual' 'ZX CVT PETROL Automatic'\n",
      " '1.2 SV MT Manual' 'GT TSI 1.2 PETROL AT Automatic'\n",
      " '2.5 GX 8 STR BS IV Manual' '1.4 GTX+ TURBO GDI PETROL AT Automatic'\n",
      " 'HIGHLINE TDI AT Automatic' 'HIGHLINE PLUS 1.2L PETROL Manual'\n",
      " 'Magna Executive 1.2 Manual' 'V MT PETROL Manual' 'VXI OPT Manual'\n",
      " 'SX PETROL MT Manual' '1.8 TSI STYLE AT Automatic'\n",
      " 'RXT 1.0 EASY-R AT OPTION Automatic' 'W8 FWD Manual' 'VL AT Automatic'\n",
      " 'STYLE 1.0 AT Automatic' '1.6 SX VTVT AT (O) Automatic' 'ZDI SHVS Manual'\n",
      " 'VXI PLUS AGS Automatic' '1.2 V CVT I VTEC Automatic'\n",
      " '1.6 SX AT CRDI Automatic' 'ALPHA 1.2 K12 Manual' 'SHARP 2.0 DIESEL'\n",
      " 'ZETA SHVS Manual' 'MAGNA PLUS Manual' '1.5 TITANIUM TI VCT Manual'\n",
      " '1.5TITANIUM TDCI Manual' '1.5 TREND TI VCT Manual' 'T (O) Manual'\n",
      " '1.5 TITANIUM PLUS TI VCT AT Automatic' '1.2 SPORTS PLUS VTVT Manual'\n",
      " 'RS 1.0 PETROL Manual' '1.0 S AT Automatic'\n",
      " '1.5 TDCI TITANIUM PLUS Manual' 'ZX CVT Automatic' 'VXI 1.2 BS IV Manual'\n",
      " 'SPORTZ Manual' 'ASTA 1.2 O Manual' 'SPORTZ 1.2 VTVT Manual'\n",
      " '1.2 S MT I VTEC Manual' 'VXI PLUS Manual' 'ZDI + Manual'\n",
      " 'D-4D VXD Manual' 'VDI BS IV Manual' 'MAGNA O 1.2 Manual'\n",
      " 'LXI CNG Manual' 'ZXI OPT AMT Automatic' '1.2 V AT Automatic'\n",
      " 'ASTA 1.2 (O) VTVT Manual' '1.4 LIMITED PLUS AT Automatic'\n",
      " 'SPORTZ 1.2 KAPPA VTVT Manual' 'LXI Manual' 'ZXI OPT Manual' 'ZXI Manual'\n",
      " 'XZ PLUS 1.2 REVOTRON Manual' 'ZETA 1.2 K12 CVT Automatic'\n",
      " 'ZXI AMT Automatic' '2.8 ZX AT 7 STR Automatic'\n",
      " '1.6 SX (O) CRDI MT Manual' '1.4 E PLUS CRDI Manual'\n",
      " 'VX MT PETROL Manual' 'ASTA 1.2 AT VTVT Automatic'\n",
      " 'ZXI+ AT SHVS Automatic' '2.7 GX 7 STR MT Manual'\n",
      " 'ZETA AT SHVS Automatic' 'VDI OPT Manual' '1.0 VXI (O) Manual'\n",
      " 'DELTA 1.3 Manual' 'SPORTZ 1.2 O Manual' 'CLA 200 CDI SPORT Automatic'\n",
      " 'T 10 MT Dual Tone Manual' '1.5 GTX+ AT Automatic' 'E PLUS Manual'\n",
      " '1.0 ECOBOOST TITANIUM Manual' 'COMFORTLINE 1.2L PETROL Manual'\n",
      " 'SHARP DCT PETROL Automatic' '1.2 V MT I-VTEC Manual'\n",
      " 'SV MT PETROL Manual' 'ZETA 1.5 SHVS VVT MT Manual' 'S MT PETROL Manual'\n",
      " 'VX CVT PETROL Automatic' 'Magna 1.2 AT VTVT Automatic'\n",
      " 'magna 1.2 crdi Manual' 'ZDI AMT Automatic' 'ZXI + Manual' 'W9 Manual'\n",
      " '1.2 VX AT I VTEC Automatic' 'SPORTZ O 1.2 Manual' '320D Automatic'\n",
      " '1.6 SX PLUS DIESEL Manual' 'VXI CNG Manual' 'ERA 1.2 Manual'\n",
      " '2.4 AT 4WD AVN Automatic' 'S10 Intelli Hybrid 2WD Manual' 'RXZ Manual'\n",
      " 'XM 1.2 Manual' '1.2 Manual' '1.4 S Manual' 'ZETA 1.3 Manual'\n",
      " '1.5 TITANIUMTDCI OPT Manual' 'SX 1.2 OPT Manual' 'RXT Manual'\n",
      " 'S 1.2 OPT Manual' 'Varicor 400 XTA Automatic' 'ASTA 1.2 (O) Manual'\n",
      " '2.0 LONGITUDE (O) Manual' 'ASTA 1.2 KAPPA VTVT Manual'\n",
      " 'ALPHA DDIS 190 Manual' '1.0 SX TURBO GDI DUAL TONE Manual'\n",
      " '1.4 CRDI S MT Manual' 'ZDI PLUS SHVS Manual' 'DELTA 1.3 DDIS Manual'\n",
      " 'S5 2WD Manual' '1.2 S MT Manual' 'G Manual' 'SHARP DCT'\n",
      " '1.2 TITANIUM PETROL Manual' 'LIMITED O 1.4 AT Automatic'\n",
      " 'ALPHA 1.4 VVT Manual' '1.5 TREND DIESEL Manual' '1.2 VXMT I VTEC Manual'\n",
      " 'HIGHLINE 1.2 TSI AT Automatic' '1.5 TITANIUM DIESEL Manual'\n",
      " 'SX 1.0 GDI IMT Manual' 'SMART DIESEL Manual' '2.4 VX 7 STR Manual'\n",
      " '2.4 ZX 7 STR Manual' 'ZXI SMART HYBRID AT Automatic'\n",
      " '1.5AMBIENTE TI VCT Manual' '1.2 VX CVT I VTEC Automatic'\n",
      " '1.1 SPORTS AMT Automatic' 'HIGHLINE1.2L PETROL Manual'\n",
      " 'TREND + 1.5 TI VCT AT' '1.6 SX PLUS AUTO Automatic'\n",
      " 'ZDI SHVS HYBIRD Manual' '1.6 CRDI SX PLUS AUTO Automatic'\n",
      " 'ALPHA 1.3 DDIS SHVS Manual' '1.2 ASTA (O) CVT Automatic'\n",
      " '520D 2.0 Automatic' '1.2 BASE I VTEC Manual'\n",
      " 'ASTA AT 1.2 KAPPA VTVT Automatic' 'MAGNA 1.2 KAPPA VTVT Manual'\n",
      " 'SPORTZ 1.2 KAPPA2 Manual' '1.2 VX AT Automatic' 'VXI (O) Manual'\n",
      " 'CLIMBER 1.0 AT Automatic' 'SPORTZ 1.1 IRDE2 Manual'\n",
      " 'GTX 1.4 GDI AT PETROL Automatic' 'MAGNA 1.1 IRDE2 Manual'\n",
      " '1.0 RXZ Manual' '1.6 SX (O) CRDI Manual' 'XZ+ 1.2 Manual'\n",
      " '1.5 TREND TDCI Manual' '1.6 SX CRDI Manual' 'S 1.2 Manual' 'M8 7 STR'\n",
      " '1.0 RXT Opt Manual' 'E 250 CDI ELEGANCE Automatic' 'G MT PETROL Manual'\n",
      " 'XZ+ DARK EDITION Manual' '1.4 VTVT EX Manual' 'ASTA 1.2 VTVT Manual'\n",
      " 'SX(O) CRDi Manual' 'VX CVT i-VTEC' '1.0L Turbo GDI SX(O) MT Manual'\n",
      " 'D LITE PLUS(O) Manual' 'XZA + 1.2 PETROL A/T Automatic'\n",
      " 'MAGNA 1.2 VTVT Manual' 'HTX AT PETROL Automatic'\n",
      " '2.0 SX (O) AT Automatic' 'VDI (O) SHVS HYBIRD Manual'\n",
      " '2.0 TDI CR LK AT Automatic' 'RXL Manual' '1.2 V CVT I VTEC'\n",
      " '1.6 CRDI SX + AT Automatic' 'STYLE 1.0TSI MT Manual'\n",
      " '1.6 VTVT SX AUTO Automatic' '1.5 AMBIENTE TDCI Manual' 'ERA PLUS Manual'\n",
      " 'XZ 1.2 REVOTRON Manual' '1.6 SX (O) AT CRDI Automatic'\n",
      " '1.6 SX (O) VTVT Manual' 'W11 AT Automatic' '1.2 ASTA (O) AT Automatic'\n",
      " 'W11 (O) Manual' '1.2 KAPPA SPORTZ (O) Manual'\n",
      " 'SPORTZ (O) 1.2 AT VTVT Automatic' 'LXI OPT Manual'\n",
      " 'VXI Elate Limited Edition Manual' '1.5 TDI MT AMBITION Manual'\n",
      " 'XZA 1.2 REVOTRON Automatic' 'G MT Manual' '3.0 AT 4X2 Automatic'\n",
      " 'S MT 1.2 KAPPA Manual' 'SHARP CVT Automatic' 'VDI ABS Manual'\n",
      " '2.0 TDI MT S EDITION Manual' 'CRDE 4X4 BS IV Manual'\n",
      " '2.5 GX 7 STR BS IV Manual' 'LDI BS IV Manual' 'SPORTZ 1.4 CRDI Manual'\n",
      " '2.5 VX 7 STR BS IV Manual' '1.5 SMT I DTEC Manual' 'VDI+ SHVS Manual'\n",
      " '3.0 MT 4X2 Manual' 'LDI O Manual' 'SPORTZ 1.1 CRDI Manual'\n",
      " '1.2 V MT Manual' 'LDI OPT Manual' 'G SP Manual' '1.5 i- DTEC V Manual'\n",
      " 'T8 AT Automatic' '1.5 i-VTEC V CVT Automatic' 'RXZ DIESEL 110 Manual'\n",
      " '1.6 SX PLUS VTVT Manual' '1.6 SX PLUS AUTO PETROL Automatic'\n",
      " 'ELEGANCE 2.0 TDI CR AT Automatic' 'XZA+ 1.5 Automatic'\n",
      " '4WD AT Automatic' '1.6 SX VTVT Manual' 'MAGNA 1.4 CRDI Manual'\n",
      " 'ZXI AT Automatic' 'SPORTZ PETROL Manual' 'VXI 1.2L Manual'\n",
      " '1.5 TDI MT STYLE Manual' 'DELTA 1.2 K12 AT Automatic'\n",
      " 'ZDI PLUS DUAL TONE Manual' 'DELTA DDIS 190 Manual'\n",
      " 'ZETA DDIS 190 Manual' 'ZETA 1.3 DDIS SHVS Manual'\n",
      " 'LIMITED (O) 2.0 Manual' 'SPORTZ 1.2 AT KAPPA2 Automatic'\n",
      " '85 PS RXL Manual' '1.2 Trend+ Petrol Manual'\n",
      " '1.0 AMBITION TSI MT Manual' 'V AT Automatic' 'VDI SHVS Manual'\n",
      " 'S CRDI Manual' 'CROSS 1.5 V Manual' 'XL CVT (PETROL) Automatic'\n",
      " 'SIGMA 1.2 K12 Manual' '1.5 TDI AT STYLE PLUS Automatic'\n",
      " 'J CVT Automatic' '1.4 SX(O) TURBO GDI DCT Automatic'\n",
      " 'HIGHLINE PETROL Manual' 'ALPHA SHVS Manual' 'CROSS 1.4 GD Manual'\n",
      " 'ZETA 1.3 SHVS Manual' 'V MT DIESEL Manual'\n",
      " 'ZDI+ DUAL TONE AMT Automatic' '1.2 SX MT I VTEC Manual'\n",
      " 'XZ+ 1.2 Revotron Manual' 'ZDI + AMT Automatic' 'VXI (O) AMT Automatic'\n",
      " 'SX 1.2 Manual' 'LXI CNG (O) Manual' 'SPORTZ 1.1 Manual' 'PREMIUM MT'\n",
      " 'ZXI 1.2L AGS Automatic' '1.6 SX VTVT (O) Manual'\n",
      " '1.4 SPORT PETROL Manual' 'HIGHLINE PLUS DSG 1.5 Automatic'\n",
      " 'XM 2.0L Kryotec Manual' 'B200 CDI SPORT Automatic'\n",
      " '320D LUXURYLINE Automatic' '2.4 VX 8 STR Manual'\n",
      " '1.2 MAGNA PLUS VTVT Manual' 'XT 1.05 REVOTORQ Manual'\n",
      " 'W11 (O) AT Automatic' 'RXT 1.0 EASY-R AT Automatic'\n",
      " 'MAGNA O 1.4 CRDI Manual' 'RX5 Manual' '1.6 SX AT Automatic'\n",
      " '1.2 i-VTEC S MT Manual' 'COMFORTLINE PETROL Manual'\n",
      " '2.8 GX AT 8 STR Automatic' '4WD AT GLS DIESEL Automatic'\n",
      " '220 D SPORT 4MATIC Automatic' 'VX CVT Automatic'\n",
      " '2.2 DIESEL LUXURY Automatic' '2.2 DIESEL Automatic' 'Asta Petrol Manual'\n",
      " 'M8 7 STR Manual' 'ALPHA SHVS MT Manual' '1.6 SX AT O Automatic'\n",
      " '1.5 E MT PETROL Manual' '1.2 TSI HIGHLINE PLUS AT Automatic'\n",
      " 'XT 1.2 REVOTRON Manual' 'SIGMA SHVS Manual' 'DELTA SHVS Manual'\n",
      " 'HIGHLINE1.5L DIESEL Manual' 'ASTA 1.2 AT Automatic'\n",
      " '1.8 TSI LK AT Automatic' 'ZETA 1.3 SHVS' 'XT TWIST Manual'\n",
      " '1.4 SPORTS PLUS CRDI Manual' 'ZXI 1.2 BS IV Manual'\n",
      " '1.0 ECOBOOST TITANIUM SPORTS(SUNROOF) Manual' 'VXI BS IV Manual'\n",
      " '2.4 AWD AT AVN Automatic' 'SV CVT PETROL Automatic' 'HYBRID Automatic'\n",
      " 'ZXI SMART HYBRID Manual' 'TITANIUM 1.2 TI-VCT MT Manual'\n",
      " '1.2 TITANIUM DURATEC Manual' 'HIGH LINE PLUS 1.0 Manual'\n",
      " '2.5 VX 8 STR BS IV Manual' 'VXI 1.0 Manual' 'V MT Manual'\n",
      " '2.7 ZX AT 7 STR Automatic' '1.2 EXMT I VTEC Manual'\n",
      " 'ZXI Plus AMT Automatic' 'AMBITION 1.6 MPI MT PLUS Manual'\n",
      " 'RXZ 85 PS DIESEL Manual' '1.4 CRDI ASTA (O) Manual'\n",
      " 'TITANIUM+ SPORT Manual' 'CLIMBER 1.0 AT' '5 STR WITH AC PLUSHTR Manual'\n",
      " 'W6 4X2 Manual' 'GTX PLUS DCT 1.0' '1.2 S AT Automatic' '1.0 S AT'\n",
      " '1.1 MAGNA MT Manual' 'K6 D 6 STR Manual' '7 STR Manual'\n",
      " 'W8 (O) DIESEL AT Automatic' '1.2 TITANIUM Manual' 'XL PETROL Manual'\n",
      " 'HTK PLUS 1.5 DIESEL Manual' 'ASTA 1.1 CRDI OPT Manual'\n",
      " 'SMART HYBRID PETROL MT Manual' 'SPORTZ DUAL TONE 1.2 VTVT Manual'\n",
      " '1.0 RXL AT Automatic' 'TITANIUM 1.2 TI-VCT MT' '2.0 LIMITED PLUS Manual'\n",
      " '1.2 VX MT I VTEC Manual' 'ASTA 1.4 CRDI Manual' 'RXT Opt Manual'\n",
      " 'ALPHA 1.2 K12 DUAL TONE Manual' 'DELTA 1.4 VVT Manual'\n",
      " 'AMBIENTE 2.0 TDI CR AT Automatic'\n",
      " '1.5 TITANIUM SIGNATURE TI VCT (SUNROOF) Manual' 'SPORTZ EDITION Manual'\n",
      " 'SHARP' 'ASTA 1.2 KAPPA VTVT OPT Manual'\n",
      " 'HIGHLINE PLUS 1.0 TSI AT Automatic' '1.0 ECOBOOST TITANIUM +'\n",
      " '1.0 Turbo GDI DCT AT SX+ DT Automatic' 'ASTA 1.1 MT Manual'\n",
      " 'TWIST XTA Automatic' '1.4 CRDI MT SX Manual' '1.8 GL Manual' 'T Manual'\n",
      " '1.4 TITANIUM DURATORQ Manual' 'ZX MT PETROL Manual' 'V Manual'\n",
      " 'FLUIDIC 1.4 VTVT Manual' '1.4 EXI DURATORQ Manual'\n",
      " 'HIGHLINE 1.5L AT (D) Automatic' 'XV CVT Automatic'\n",
      " 'FLUIDIC 1.6 VTVT S (O) MT Manual' 'Trendline 1.0 L Petrol Manual'\n",
      " 'XZA + DUAL TONE Automatic' 'ALPHA AT SHVS Automatic' 'ZXI PLUS Manual'\n",
      " 'XM 1.2 REVOTRON Manual' 'VXI ABS Manual' 'RXZ 110 4WD Manual'\n",
      " 'FLUIDIC 1.6 EX VTVT Manual' 'ALPHA 1.5 MT VTVT SHVS Manual'\n",
      " '1.2 EXI DURATEC Manual' 'ASTA (O) 1.2 MT' 'Style 1.5 TDI AT Automatic'\n",
      " 'RXS 85 PS Manual' 'SHARP HYBRID PETROL Manual' 'ZXI +'\n",
      " 'W10 AT FWD Automatic' 'SPORTZ O 1.4 CRDI Manual' 'W7 FWD Manual'\n",
      " 'D LITE PLUS Manual' '1.2 V MT I VTEC Manual' 'XV Manual' 'HTK PLUS'\n",
      " 'DELTA 1.3 DDIS SHVS Manual' 'ACTIVE 1.0 TSI Manual'\n",
      " 'ZDI plus AMT Automatic' 'ZETA SHVS PETROL Manual' 'S Manual'\n",
      " 'SMART DCT PETROL Automatic' 'VXI AGS Automatic' 'ERA 1.1 Manual'\n",
      " 'SPORTZ 1.2 AT Automatic' 'HTK 1.5 PETROL Manual' '1.0 RXL PETROL Manual'\n",
      " '1.0 CLIMBER OPT Manual' 'XL PLUS 85 PS DEISEL Manual'\n",
      " 'DELTA 1.5 SHVS VVT MT Manual' 'XV S Manual' '1.2 Kappa Sports MT Manual'\n",
      " 'TRENDLINE 1.5L DIESEL Manual' 'ZDI Plus AMT Automatic'\n",
      " 'MAGNA 1.2 KAPPA2 Manual' 'SPORTZ (O) 1.2 AT VTVT' 'ERA PLUS (O) Manual'\n",
      " 'VXI (O)' 'VXI OPT. MT Manual' 'POWER+ SLE Manual'\n",
      " 'HIGHLINE PLUS 1.0 Manual' 'MAGNA 1.2 AT Automatic' '3.0 MT 4X4 Manual'\n",
      " 'VXI PLUS AMT Automatic' 'COMFORTLINE 1.2 Manual' 'S 1.1 CRDI Manual'\n",
      " 'DYNAMIC 1.3 Manual' 'XL(O) Manual' 'H8 ABS AIRBAG BS IV Manual'\n",
      " '1.0 RXZ' 'ZDI+ SHVS RS MT Manual' 'T10 MT Manual'\n",
      " 'S MT Turbo GDI 1.0L Manual' '1.6 SX CRDI' 'ASTA 1.2 DUAL TONE Manual'\n",
      " 'STD Manual' '1.1 ERA EXICUTIVE Manual' 'VXI' 'Sportz(O) 1.2 MT Manual'\n",
      " 'Sportz(O) 1.2 MT' 'MAGNA AT 1.2 KAPPA VTVT Automatic'\n",
      " 'VXI OPT AMT Automatic' '1.2 XZA+ RTN Automatic' 'CLIMBER 1.0 Manual'\n",
      " 'SUPER HYBRID PETROL MT Manual' 'LIMITED PLUS 2.0 4*4 Manual'\n",
      " 'S MT 1.2 KAPPA' '1.2 CRDI Sportz O Manual' 'S 1.0 Manual'\n",
      " 'K2 6 STR Manual' 'XMA 1.2 Automatic' 'COMFORTLINE 1.0 PETROL Manual'\n",
      " 'T (O) 1.0 LIMITED EDITION' '35TDI PREMIUM Automatic'\n",
      " 'ZXI Plus SHVS Manual' 'TITANIUM + 1.2 TI-VCT Manual' 'SX MT Manual'\n",
      " '2.0 LIMITED 4*2 Manual' 'ALPHA 1.4 VVT AMT Automatic'\n",
      " 'SPORTZ (O) 1.2 Manual' 'Zxi Manual' 'SX PETROL AT Automatic'\n",
      " 'VX CVT i-VTEC Automatic' '1.5 VX I DTEC Manual' 'ZETA AT 1.5 SHVS'\n",
      " 'GT TSI AT 1.0 Automatic' '1.6 CRDI sx(o) executive Manual'\n",
      " 'ZX MT PETROL' 'Neotech Petrol 1.0 Manual' '1.1 MAGNA CNG MT Manual'\n",
      " '1.4 S PLUS CRDI Manual' '1.6 CRDI SX Manual'\n",
      " '1.2 S (O) MT I VTEC Manual' 'MAGNA 1.2 MT' 'MAGNA 1.2 MT Manual'\n",
      " '85 PS RXL OPT Manual' 'FLUIDIC 1.6 SX CRDI Manual' 'LDI Manual'\n",
      " 'XL 85 PS DEISEL Manual' 'SDRIVE 20D Automatic' '1.5 SX CRDI MT Manual'\n",
      " 'E 250 CDI AVANTGARDE Automatic' 'LX BS IV Manual' 'VX D Manual'\n",
      " 'S4+Intelli Hybrid 2WD Manual' '2WD AT GL DIESEL Automatic'\n",
      " 'Power+ SLX Manual' 'S7 120 BHP 2WD Manual' 'XDRIVE 20D Automatic'\n",
      " 'COMFORTLINE MT PETROL Manual' 'S10 Manual' 'SPORTZ (O) 1.4 Manual'\n",
      " '30 TDI PREMIUM PLUS Automatic' 'ZETA 1.6 Manual' 'SPORTZ 1.4 Manual'\n",
      " 'ELEGANCE 1.6 MPFI AT Automatic' '35 TDI Technology Automatic'\n",
      " '1.4 S PLUS Manual' 'XZ1.5 Manual' 'FLUIDIC 1.6 CRDI SX OPT AT Automatic'\n",
      " 'E MT DIESEL Manual' '1.5 EMT I DTEC Manual' '1.5 VXMT I DTEC Manual'\n",
      " 'SHVS VDI Manual' '1.8 G Manual' 'MAGNA 1.1 CRDI Manual'\n",
      " '85 PS RXE Manual' '1.5 EX Petrol MT Manual' 'FLUIDIC 1.6 CRDI S Manual'\n",
      " 'D 4D J Manual' '85 PS RXE DIESEL ADVENTURE Manual' '1.5 V MT Manual'\n",
      " 'FLUIDIC 1.4 EX CRDI Manual' '35 TDI S LINE Automatic'\n",
      " '520D LUXURY LINE Automatic' 'ERA 1.1 IRDE Manual' 'SV MT DIESEL Manual'\n",
      " '1.5 TREND+ TDCI Manual' 'SUPER DIESEL Manual'\n",
      " 'Magna Executive Diesel Manual' 'RXL 110 PS ADVENTURE Manual' 'GD Manual'\n",
      " '35 TDI Quattro Automatic' 'ERA 1.4 CRDI Manual' 'SPORTIVO 4X2 MT Manual'\n",
      " 'D 4D G Manual' 'TITANIUM PLUS 1.5 TI VCT MT Manual'\n",
      " '2.0 TDI TECHNOLOGY Automatic' 'Sportz1.2 CRDI Manual' 'GL Manual'\n",
      " 'W9 AT Automatic' 'T6+ Manual' 'G 1.2 HTE' 'TRENDLINE 1.2L PETROL Manual'\n",
      " 'ZDI+ SHVS Manual' '1.2 SAT I VTEC Automatic' '2.4 GX 7 STR Manual'\n",
      " 'E Manual' '1.0 ECOBOOST TITANIUM OPT Manual' '2.8 4x2 AT Automatic'\n",
      " 'MID MT' 'SUPER PETROL MT Manual' '1.5 TITANIUM SPORTS(SUNROOF) Manual'\n",
      " 'ZXI AT SHVS Automatic' '1.4 S CRDI Manual' '1.2 E MT I VTEC Manual'\n",
      " 'VDI PLUS Manual' 'S7 140 BHP 2WD Manual' '2.2l 4X4 MT Trend Manual'\n",
      " 'RXE PETROL MT Manual' '3.0 S V6 Automatic' 'ZXI Plus Manual'\n",
      " 'COMFORTLINE 1.0 Manual' 'ALPHA 1.5 AT VTVT SHVS' 'W11 Manual'\n",
      " 'VXI ABS AT Automatic' '1.0 AMBITION TSI AT Automatic' 'W8(O) Manual'\n",
      " 'S PETROL MT Manual' 'LXI LPG Manual' 'Highline 1.0 AT Petrol Automatic'\n",
      " 'SIGMA 1.4 VVT Manual' 'MAGNA+ VTVT Manual' '1.0 TURBO GDI S IMT Manual'\n",
      " '1.2 ZX MT Manual' 'SHARP DCT PETROL' '1.5 SX (O) AT Automatic'\n",
      " 'RXL PETROL 104 Manual' '1.0 T(O) Manual' 'RXL AMT 110 PS Automatic'\n",
      " 'HTX+ MT 1.5 DIESEL Manual' 'XZA Automatic' 'J MT Manual'\n",
      " 'VXI AMT SHVS Automatic' '2.4 MT Manual' 'XE D Manual'\n",
      " 'K2 D 6 STR Manual' 'XT 1.2 Manual' '1.0 RXT Opt AT Automatic'\n",
      " 'HTX 1.5 PETROL MT Manual' '1.2 W6 MT' 'TREND 1.5 TDCI MT Manual'\n",
      " 'SX PETROL Manual' 'SPORTZ 1.2 MT' 'SPORTZ 1.0T GDI IMT Manual'\n",
      " 'ASTA (O) 1.5 CRDI MT' 'S11 Manual' 'ZXI+ Manual' 'D 4D GD Manual'\n",
      " 'XE Manual' 'B6 (O) Manual' '250 CDI CLASSIC Automatic'\n",
      " '35 TDI PREMIUM PLUS SUNROOF Automatic' '3.2l 4X4 AT Titanium Automatic'\n",
      " 'ASTA (O) 1.0 TURBO GDI AT' 'SX DIESEL MT Manual' '2.8 4x2 MT Manual'\n",
      " 'XM+ 1.2 RTN' '1.0 RXL Manual' '1.5 V I DTEC Manual' 'XV PETROL' 'S CRDI'\n",
      " 'S MT CNG' 'K4+ D 6 SEATER Manual' 'ZETA 1.4 AT'\n",
      " '30TFSI Premium Plus Automatic' 'XT+ Dark Edition' 'Trendline 1.0 Manual'\n",
      " 'FLUIDIC 1.6 SX VTVT OPT Manual' 'HIGHLINE DIESEL Manual'\n",
      " 'COMFORTLINE 1.5 Manual' 'RXT Diesel Dual Tone Manual'\n",
      " '200 CDI STYLE Automatic' 'TITANIUM 1.5 TDCI' 'V AT SUNROOF Automatic'\n",
      " 'GT TDI Manual' 'XE 1.2 REVOTRON Manual' 'LIMITED 2.0 4*4 Manual'\n",
      " 'XZA+ 1.5 Dual Tone Automatic' 'XZ 1.2 REVOTRON OPT Manual'\n",
      " 'HIGHLINE PLUS 1.5L DIESEL Manual' 'Asta 1.2 CVT Automatic'\n",
      " 'HIGHLINE 1.5 Manual' '1.2 TREND Manual' 'GLS Manual' 'GL PLUS Manual'\n",
      " 'SPORTZ 1.4 AT VTVT Automatic' 'LX Manual' '1.0 T(O) AT Automatic'\n",
      " 'W6 AT Automatic' 'V DUAL TONE Manual' 'ERA Manual' 'S AT Automatic'\n",
      " 'ASTA 1.1 MT' 'HTK+ 1.5 D AT' 'XT QUADRAJET 90PS Manual'\n",
      " '1.2 TITANIUM+ PETROL Manual' 'ZETA 1.2 K12 DUAL TONE Manual']\n"
     ]
    }
   ],
   "source": [
    "print(df['car_model'].unique())"
   ]
  },
  {
   "cell_type": "markdown",
   "id": "45dee520",
   "metadata": {},
   "source": [
    "There are lots of car name which is not effect on output so need to drop the columns."
   ]
  },
  {
   "cell_type": "code",
   "execution_count": 21,
   "id": "dd45f519",
   "metadata": {},
   "outputs": [
    {
     "data": {
      "text/html": [
       "<div>\n",
       "<style scoped>\n",
       "    .dataframe tbody tr th:only-of-type {\n",
       "        vertical-align: middle;\n",
       "    }\n",
       "\n",
       "    .dataframe tbody tr th {\n",
       "        vertical-align: top;\n",
       "    }\n",
       "\n",
       "    .dataframe thead th {\n",
       "        text-align: right;\n",
       "    }\n",
       "</style>\n",
       "<table border=\"1\" class=\"dataframe\">\n",
       "  <thead>\n",
       "    <tr style=\"text-align: right;\">\n",
       "      <th></th>\n",
       "      <th>car_owner</th>\n",
       "      <th>car_kilometers</th>\n",
       "      <th>car_fuel_type</th>\n",
       "      <th>car_transmission</th>\n",
       "      <th>car_model</th>\n",
       "      <th>car_price</th>\n",
       "      <th>location</th>\n",
       "      <th>car_Year</th>\n",
       "      <th>Brand</th>\n",
       "      <th>Total_KM_Ran</th>\n",
       "      <th>Current_Year</th>\n",
       "    </tr>\n",
       "  </thead>\n",
       "  <tbody>\n",
       "    <tr>\n",
       "      <th>0</th>\n",
       "      <td>1st Owner</td>\n",
       "      <td>53,242 km</td>\n",
       "      <td>Petrol</td>\n",
       "      <td>Manual</td>\n",
       "      <td>1.2 SMT I VTEC Manual</td>\n",
       "      <td>4,13,999</td>\n",
       "      <td>Mumbai</td>\n",
       "      <td>2014</td>\n",
       "      <td>Honda Amaze</td>\n",
       "      <td>53,242</td>\n",
       "      <td>2022</td>\n",
       "    </tr>\n",
       "    <tr>\n",
       "      <th>1</th>\n",
       "      <td>1st Owner</td>\n",
       "      <td>31,248 km</td>\n",
       "      <td>Petrol</td>\n",
       "      <td>Automatic</td>\n",
       "      <td>VXI AMT Automatic</td>\n",
       "      <td>7,14,299</td>\n",
       "      <td>Mumbai</td>\n",
       "      <td>2019</td>\n",
       "      <td>Maruti Dzire</td>\n",
       "      <td>31,248</td>\n",
       "      <td>2022</td>\n",
       "    </tr>\n",
       "    <tr>\n",
       "      <th>2</th>\n",
       "      <td>1st Owner</td>\n",
       "      <td>471 km</td>\n",
       "      <td>Petrol</td>\n",
       "      <td>Automatic</td>\n",
       "      <td>1.5 TITANIUM TI VCT AT Automatic</td>\n",
       "      <td>8,44,999</td>\n",
       "      <td>Mumbai</td>\n",
       "      <td>2017</td>\n",
       "      <td>Ford Ecosport</td>\n",
       "      <td>471</td>\n",
       "      <td>2022</td>\n",
       "    </tr>\n",
       "    <tr>\n",
       "      <th>3</th>\n",
       "      <td>1st Owner</td>\n",
       "      <td>12,407 km</td>\n",
       "      <td>Petrol</td>\n",
       "      <td>Manual</td>\n",
       "      <td>GTX+ 1.4 MT Manual</td>\n",
       "      <td>16,13,699</td>\n",
       "      <td>Mumbai</td>\n",
       "      <td>2019</td>\n",
       "      <td>KIA SELTOS</td>\n",
       "      <td>12,407</td>\n",
       "      <td>2022</td>\n",
       "    </tr>\n",
       "    <tr>\n",
       "      <th>4</th>\n",
       "      <td>1st Owner</td>\n",
       "      <td>35,164 km</td>\n",
       "      <td>Petrol</td>\n",
       "      <td>Manual</td>\n",
       "      <td>ASTA 1.2 Manual</td>\n",
       "      <td>6,53,299</td>\n",
       "      <td>Mumbai</td>\n",
       "      <td>2017</td>\n",
       "      <td>Hyundai Elite i20</td>\n",
       "      <td>35,164</td>\n",
       "      <td>2022</td>\n",
       "    </tr>\n",
       "    <tr>\n",
       "      <th>...</th>\n",
       "      <td>...</td>\n",
       "      <td>...</td>\n",
       "      <td>...</td>\n",
       "      <td>...</td>\n",
       "      <td>...</td>\n",
       "      <td>...</td>\n",
       "      <td>...</td>\n",
       "      <td>...</td>\n",
       "      <td>...</td>\n",
       "      <td>...</td>\n",
       "      <td>...</td>\n",
       "    </tr>\n",
       "    <tr>\n",
       "      <th>5337</th>\n",
       "      <td>1st Owner</td>\n",
       "      <td>27,734 km</td>\n",
       "      <td>Petrol</td>\n",
       "      <td>Manual</td>\n",
       "      <td>LXI Manual</td>\n",
       "      <td>2,40,499</td>\n",
       "      <td>Lucknow</td>\n",
       "      <td>2014</td>\n",
       "      <td>Maruti Alto 800</td>\n",
       "      <td>27,734</td>\n",
       "      <td>2022</td>\n",
       "    </tr>\n",
       "    <tr>\n",
       "      <th>5338</th>\n",
       "      <td>1st Owner</td>\n",
       "      <td>29,031 km</td>\n",
       "      <td>Diesel</td>\n",
       "      <td>Manual</td>\n",
       "      <td>LDI OPT Manual</td>\n",
       "      <td>7,15,599</td>\n",
       "      <td>Lucknow</td>\n",
       "      <td>2018</td>\n",
       "      <td>Maruti Vitara Brezza</td>\n",
       "      <td>29,031</td>\n",
       "      <td>2022</td>\n",
       "    </tr>\n",
       "    <tr>\n",
       "      <th>5339</th>\n",
       "      <td>2nd Owner</td>\n",
       "      <td>5,289 km</td>\n",
       "      <td>Petrol</td>\n",
       "      <td>Automatic</td>\n",
       "      <td>VXI PLUS AGS Automatic</td>\n",
       "      <td>4,90,599</td>\n",
       "      <td>Lucknow</td>\n",
       "      <td>2019</td>\n",
       "      <td>Maruti S PRESSO</td>\n",
       "      <td>5,289</td>\n",
       "      <td>2022</td>\n",
       "    </tr>\n",
       "    <tr>\n",
       "      <th>5340</th>\n",
       "      <td>1st Owner</td>\n",
       "      <td>23,928 km</td>\n",
       "      <td>Petrol</td>\n",
       "      <td>Manual</td>\n",
       "      <td>ZETA 1.2 K12 Manual</td>\n",
       "      <td>6,73,299</td>\n",
       "      <td>Lucknow</td>\n",
       "      <td>2020</td>\n",
       "      <td>Maruti Baleno</td>\n",
       "      <td>23,928</td>\n",
       "      <td>2022</td>\n",
       "    </tr>\n",
       "    <tr>\n",
       "      <th>5341</th>\n",
       "      <td>1st Owner</td>\n",
       "      <td>35,373 km</td>\n",
       "      <td>Petrol</td>\n",
       "      <td>Manual</td>\n",
       "      <td>SPORTZ 1.2 KAPPA VTVT Manual</td>\n",
       "      <td>5,80,599</td>\n",
       "      <td>Lucknow</td>\n",
       "      <td>2018</td>\n",
       "      <td>Hyundai Grand i10</td>\n",
       "      <td>35,373</td>\n",
       "      <td>2022</td>\n",
       "    </tr>\n",
       "  </tbody>\n",
       "</table>\n",
       "<p>5342 rows × 11 columns</p>\n",
       "</div>"
      ],
      "text/plain": [
       "      car_owner car_kilometers car_fuel_type car_transmission  \\\n",
       "0     1st Owner      53,242 km        Petrol           Manual   \n",
       "1     1st Owner      31,248 km        Petrol        Automatic   \n",
       "2     1st Owner         471 km        Petrol        Automatic   \n",
       "3     1st Owner      12,407 km        Petrol           Manual   \n",
       "4     1st Owner      35,164 km        Petrol           Manual   \n",
       "...         ...            ...           ...              ...   \n",
       "5337  1st Owner      27,734 km        Petrol           Manual   \n",
       "5338  1st Owner      29,031 km        Diesel           Manual   \n",
       "5339  2nd Owner       5,289 km        Petrol        Automatic   \n",
       "5340  1st Owner      23,928 km        Petrol           Manual   \n",
       "5341  1st Owner      35,373 km        Petrol           Manual   \n",
       "\n",
       "                             car_model  car_price location car_Year  \\\n",
       "0                1.2 SMT I VTEC Manual   4,13,999   Mumbai     2014   \n",
       "1                    VXI AMT Automatic   7,14,299   Mumbai     2019   \n",
       "2     1.5 TITANIUM TI VCT AT Automatic   8,44,999   Mumbai     2017   \n",
       "3                   GTX+ 1.4 MT Manual  16,13,699   Mumbai     2019   \n",
       "4                      ASTA 1.2 Manual   6,53,299   Mumbai     2017   \n",
       "...                                ...        ...      ...      ...   \n",
       "5337                        LXI Manual   2,40,499  Lucknow     2014   \n",
       "5338                    LDI OPT Manual   7,15,599  Lucknow     2018   \n",
       "5339            VXI PLUS AGS Automatic   4,90,599  Lucknow     2019   \n",
       "5340               ZETA 1.2 K12 Manual   6,73,299  Lucknow     2020   \n",
       "5341      SPORTZ 1.2 KAPPA VTVT Manual   5,80,599  Lucknow     2018   \n",
       "\n",
       "                     Brand Total_KM_Ran  Current_Year  \n",
       "0              Honda Amaze       53,242          2022  \n",
       "1             Maruti Dzire       31,248          2022  \n",
       "2            Ford Ecosport          471          2022  \n",
       "3               KIA SELTOS       12,407          2022  \n",
       "4        Hyundai Elite i20       35,164          2022  \n",
       "...                    ...          ...           ...  \n",
       "5337       Maruti Alto 800       27,734          2022  \n",
       "5338  Maruti Vitara Brezza       29,031          2022  \n",
       "5339       Maruti S PRESSO        5,289          2022  \n",
       "5340         Maruti Baleno       23,928          2022  \n",
       "5341     Hyundai Grand i10       35,373          2022  \n",
       "\n",
       "[5342 rows x 11 columns]"
      ]
     },
     "execution_count": 21,
     "metadata": {},
     "output_type": "execute_result"
    }
   ],
   "source": [
    "# Add a colume of current year\n",
    "df['Current_Year']=2022\n",
    "df"
   ]
  },
  {
   "cell_type": "code",
   "execution_count": 22,
   "id": "4ec7b372",
   "metadata": {},
   "outputs": [
    {
     "name": "stdout",
     "output_type": "stream",
     "text": [
      "<class 'pandas.core.frame.DataFrame'>\n",
      "RangeIndex: 5342 entries, 0 to 5341\n",
      "Data columns (total 11 columns):\n",
      " #   Column            Non-Null Count  Dtype \n",
      "---  ------            --------------  ----- \n",
      " 0   car_owner         5342 non-null   object\n",
      " 1   car_kilometers    5342 non-null   object\n",
      " 2   car_fuel_type     5342 non-null   object\n",
      " 3   car_transmission  5342 non-null   object\n",
      " 4   car_model         5342 non-null   object\n",
      " 5   car_price         5342 non-null   object\n",
      " 6   location          5342 non-null   object\n",
      " 7   car_Year          5342 non-null   object\n",
      " 8   Brand             5342 non-null   object\n",
      " 9   Total_KM_Ran      5342 non-null   object\n",
      " 10  Current_Year      5342 non-null   int64 \n",
      "dtypes: int64(1), object(10)\n",
      "memory usage: 459.2+ KB\n"
     ]
    }
   ],
   "source": [
    "df.info()"
   ]
  },
  {
   "cell_type": "markdown",
   "id": "18f89050",
   "metadata": {},
   "source": [
    "Since car_Year is of object data type, lets convert into int data type to calculate number of years"
   ]
  },
  {
   "cell_type": "code",
   "execution_count": 23,
   "id": "cebc059f",
   "metadata": {},
   "outputs": [],
   "source": [
    "df[\"car_Year\"] = df[\"car_Year\"].astype(str).astype(int)"
   ]
  },
  {
   "cell_type": "code",
   "execution_count": 24,
   "id": "2fa7597c",
   "metadata": {},
   "outputs": [
    {
     "data": {
      "text/html": [
       "<div>\n",
       "<style scoped>\n",
       "    .dataframe tbody tr th:only-of-type {\n",
       "        vertical-align: middle;\n",
       "    }\n",
       "\n",
       "    .dataframe tbody tr th {\n",
       "        vertical-align: top;\n",
       "    }\n",
       "\n",
       "    .dataframe thead th {\n",
       "        text-align: right;\n",
       "    }\n",
       "</style>\n",
       "<table border=\"1\" class=\"dataframe\">\n",
       "  <thead>\n",
       "    <tr style=\"text-align: right;\">\n",
       "      <th></th>\n",
       "      <th>car_owner</th>\n",
       "      <th>car_kilometers</th>\n",
       "      <th>car_fuel_type</th>\n",
       "      <th>car_transmission</th>\n",
       "      <th>car_model</th>\n",
       "      <th>car_price</th>\n",
       "      <th>location</th>\n",
       "      <th>car_Year</th>\n",
       "      <th>Brand</th>\n",
       "      <th>Total_KM_Ran</th>\n",
       "      <th>Current_Year</th>\n",
       "      <th>no_year</th>\n",
       "    </tr>\n",
       "  </thead>\n",
       "  <tbody>\n",
       "    <tr>\n",
       "      <th>0</th>\n",
       "      <td>1st Owner</td>\n",
       "      <td>53,242 km</td>\n",
       "      <td>Petrol</td>\n",
       "      <td>Manual</td>\n",
       "      <td>1.2 SMT I VTEC Manual</td>\n",
       "      <td>4,13,999</td>\n",
       "      <td>Mumbai</td>\n",
       "      <td>2014</td>\n",
       "      <td>Honda Amaze</td>\n",
       "      <td>53,242</td>\n",
       "      <td>2022</td>\n",
       "      <td>8</td>\n",
       "    </tr>\n",
       "    <tr>\n",
       "      <th>1</th>\n",
       "      <td>1st Owner</td>\n",
       "      <td>31,248 km</td>\n",
       "      <td>Petrol</td>\n",
       "      <td>Automatic</td>\n",
       "      <td>VXI AMT Automatic</td>\n",
       "      <td>7,14,299</td>\n",
       "      <td>Mumbai</td>\n",
       "      <td>2019</td>\n",
       "      <td>Maruti Dzire</td>\n",
       "      <td>31,248</td>\n",
       "      <td>2022</td>\n",
       "      <td>3</td>\n",
       "    </tr>\n",
       "    <tr>\n",
       "      <th>2</th>\n",
       "      <td>1st Owner</td>\n",
       "      <td>471 km</td>\n",
       "      <td>Petrol</td>\n",
       "      <td>Automatic</td>\n",
       "      <td>1.5 TITANIUM TI VCT AT Automatic</td>\n",
       "      <td>8,44,999</td>\n",
       "      <td>Mumbai</td>\n",
       "      <td>2017</td>\n",
       "      <td>Ford Ecosport</td>\n",
       "      <td>471</td>\n",
       "      <td>2022</td>\n",
       "      <td>5</td>\n",
       "    </tr>\n",
       "    <tr>\n",
       "      <th>3</th>\n",
       "      <td>1st Owner</td>\n",
       "      <td>12,407 km</td>\n",
       "      <td>Petrol</td>\n",
       "      <td>Manual</td>\n",
       "      <td>GTX+ 1.4 MT Manual</td>\n",
       "      <td>16,13,699</td>\n",
       "      <td>Mumbai</td>\n",
       "      <td>2019</td>\n",
       "      <td>KIA SELTOS</td>\n",
       "      <td>12,407</td>\n",
       "      <td>2022</td>\n",
       "      <td>3</td>\n",
       "    </tr>\n",
       "    <tr>\n",
       "      <th>4</th>\n",
       "      <td>1st Owner</td>\n",
       "      <td>35,164 km</td>\n",
       "      <td>Petrol</td>\n",
       "      <td>Manual</td>\n",
       "      <td>ASTA 1.2 Manual</td>\n",
       "      <td>6,53,299</td>\n",
       "      <td>Mumbai</td>\n",
       "      <td>2017</td>\n",
       "      <td>Hyundai Elite i20</td>\n",
       "      <td>35,164</td>\n",
       "      <td>2022</td>\n",
       "      <td>5</td>\n",
       "    </tr>\n",
       "    <tr>\n",
       "      <th>...</th>\n",
       "      <td>...</td>\n",
       "      <td>...</td>\n",
       "      <td>...</td>\n",
       "      <td>...</td>\n",
       "      <td>...</td>\n",
       "      <td>...</td>\n",
       "      <td>...</td>\n",
       "      <td>...</td>\n",
       "      <td>...</td>\n",
       "      <td>...</td>\n",
       "      <td>...</td>\n",
       "      <td>...</td>\n",
       "    </tr>\n",
       "    <tr>\n",
       "      <th>5337</th>\n",
       "      <td>1st Owner</td>\n",
       "      <td>27,734 km</td>\n",
       "      <td>Petrol</td>\n",
       "      <td>Manual</td>\n",
       "      <td>LXI Manual</td>\n",
       "      <td>2,40,499</td>\n",
       "      <td>Lucknow</td>\n",
       "      <td>2014</td>\n",
       "      <td>Maruti Alto 800</td>\n",
       "      <td>27,734</td>\n",
       "      <td>2022</td>\n",
       "      <td>8</td>\n",
       "    </tr>\n",
       "    <tr>\n",
       "      <th>5338</th>\n",
       "      <td>1st Owner</td>\n",
       "      <td>29,031 km</td>\n",
       "      <td>Diesel</td>\n",
       "      <td>Manual</td>\n",
       "      <td>LDI OPT Manual</td>\n",
       "      <td>7,15,599</td>\n",
       "      <td>Lucknow</td>\n",
       "      <td>2018</td>\n",
       "      <td>Maruti Vitara Brezza</td>\n",
       "      <td>29,031</td>\n",
       "      <td>2022</td>\n",
       "      <td>4</td>\n",
       "    </tr>\n",
       "    <tr>\n",
       "      <th>5339</th>\n",
       "      <td>2nd Owner</td>\n",
       "      <td>5,289 km</td>\n",
       "      <td>Petrol</td>\n",
       "      <td>Automatic</td>\n",
       "      <td>VXI PLUS AGS Automatic</td>\n",
       "      <td>4,90,599</td>\n",
       "      <td>Lucknow</td>\n",
       "      <td>2019</td>\n",
       "      <td>Maruti S PRESSO</td>\n",
       "      <td>5,289</td>\n",
       "      <td>2022</td>\n",
       "      <td>3</td>\n",
       "    </tr>\n",
       "    <tr>\n",
       "      <th>5340</th>\n",
       "      <td>1st Owner</td>\n",
       "      <td>23,928 km</td>\n",
       "      <td>Petrol</td>\n",
       "      <td>Manual</td>\n",
       "      <td>ZETA 1.2 K12 Manual</td>\n",
       "      <td>6,73,299</td>\n",
       "      <td>Lucknow</td>\n",
       "      <td>2020</td>\n",
       "      <td>Maruti Baleno</td>\n",
       "      <td>23,928</td>\n",
       "      <td>2022</td>\n",
       "      <td>2</td>\n",
       "    </tr>\n",
       "    <tr>\n",
       "      <th>5341</th>\n",
       "      <td>1st Owner</td>\n",
       "      <td>35,373 km</td>\n",
       "      <td>Petrol</td>\n",
       "      <td>Manual</td>\n",
       "      <td>SPORTZ 1.2 KAPPA VTVT Manual</td>\n",
       "      <td>5,80,599</td>\n",
       "      <td>Lucknow</td>\n",
       "      <td>2018</td>\n",
       "      <td>Hyundai Grand i10</td>\n",
       "      <td>35,373</td>\n",
       "      <td>2022</td>\n",
       "      <td>4</td>\n",
       "    </tr>\n",
       "  </tbody>\n",
       "</table>\n",
       "<p>5342 rows × 12 columns</p>\n",
       "</div>"
      ],
      "text/plain": [
       "      car_owner car_kilometers car_fuel_type car_transmission  \\\n",
       "0     1st Owner      53,242 km        Petrol           Manual   \n",
       "1     1st Owner      31,248 km        Petrol        Automatic   \n",
       "2     1st Owner         471 km        Petrol        Automatic   \n",
       "3     1st Owner      12,407 km        Petrol           Manual   \n",
       "4     1st Owner      35,164 km        Petrol           Manual   \n",
       "...         ...            ...           ...              ...   \n",
       "5337  1st Owner      27,734 km        Petrol           Manual   \n",
       "5338  1st Owner      29,031 km        Diesel           Manual   \n",
       "5339  2nd Owner       5,289 km        Petrol        Automatic   \n",
       "5340  1st Owner      23,928 km        Petrol           Manual   \n",
       "5341  1st Owner      35,373 km        Petrol           Manual   \n",
       "\n",
       "                             car_model  car_price location  car_Year  \\\n",
       "0                1.2 SMT I VTEC Manual   4,13,999   Mumbai      2014   \n",
       "1                    VXI AMT Automatic   7,14,299   Mumbai      2019   \n",
       "2     1.5 TITANIUM TI VCT AT Automatic   8,44,999   Mumbai      2017   \n",
       "3                   GTX+ 1.4 MT Manual  16,13,699   Mumbai      2019   \n",
       "4                      ASTA 1.2 Manual   6,53,299   Mumbai      2017   \n",
       "...                                ...        ...      ...       ...   \n",
       "5337                        LXI Manual   2,40,499  Lucknow      2014   \n",
       "5338                    LDI OPT Manual   7,15,599  Lucknow      2018   \n",
       "5339            VXI PLUS AGS Automatic   4,90,599  Lucknow      2019   \n",
       "5340               ZETA 1.2 K12 Manual   6,73,299  Lucknow      2020   \n",
       "5341      SPORTZ 1.2 KAPPA VTVT Manual   5,80,599  Lucknow      2018   \n",
       "\n",
       "                     Brand Total_KM_Ran  Current_Year  no_year  \n",
       "0              Honda Amaze       53,242          2022        8  \n",
       "1             Maruti Dzire       31,248          2022        3  \n",
       "2            Ford Ecosport          471          2022        5  \n",
       "3               KIA SELTOS       12,407          2022        3  \n",
       "4        Hyundai Elite i20       35,164          2022        5  \n",
       "...                    ...          ...           ...      ...  \n",
       "5337       Maruti Alto 800       27,734          2022        8  \n",
       "5338  Maruti Vitara Brezza       29,031          2022        4  \n",
       "5339       Maruti S PRESSO        5,289          2022        3  \n",
       "5340         Maruti Baleno       23,928          2022        2  \n",
       "5341     Hyundai Grand i10       35,373          2022        4  \n",
       "\n",
       "[5342 rows x 12 columns]"
      ]
     },
     "execution_count": 24,
     "metadata": {},
     "output_type": "execute_result"
    }
   ],
   "source": [
    "df['no_year'] = df['Current_Year'] - df['car_Year']\n",
    "df"
   ]
  },
  {
   "cell_type": "markdown",
   "id": "ec488af9",
   "metadata": {},
   "source": [
    "Now we will drop below columns:\n",
    "  - Drop car_Year and current year colume as we calculated no of year\n",
    "  - Drop car_kilometers as we have Total_KM_Ran column\n",
    "  -  Drop car_model and Brand as there are too many unique records"
   ]
  },
  {
   "cell_type": "code",
   "execution_count": 25,
   "id": "a3231078",
   "metadata": {},
   "outputs": [
    {
     "data": {
      "text/html": [
       "<div>\n",
       "<style scoped>\n",
       "    .dataframe tbody tr th:only-of-type {\n",
       "        vertical-align: middle;\n",
       "    }\n",
       "\n",
       "    .dataframe tbody tr th {\n",
       "        vertical-align: top;\n",
       "    }\n",
       "\n",
       "    .dataframe thead th {\n",
       "        text-align: right;\n",
       "    }\n",
       "</style>\n",
       "<table border=\"1\" class=\"dataframe\">\n",
       "  <thead>\n",
       "    <tr style=\"text-align: right;\">\n",
       "      <th></th>\n",
       "      <th>car_owner</th>\n",
       "      <th>car_fuel_type</th>\n",
       "      <th>car_transmission</th>\n",
       "      <th>car_price</th>\n",
       "      <th>location</th>\n",
       "      <th>Total_KM_Ran</th>\n",
       "      <th>no_year</th>\n",
       "    </tr>\n",
       "  </thead>\n",
       "  <tbody>\n",
       "    <tr>\n",
       "      <th>0</th>\n",
       "      <td>1st Owner</td>\n",
       "      <td>Petrol</td>\n",
       "      <td>Manual</td>\n",
       "      <td>4,13,999</td>\n",
       "      <td>Mumbai</td>\n",
       "      <td>53,242</td>\n",
       "      <td>8</td>\n",
       "    </tr>\n",
       "    <tr>\n",
       "      <th>1</th>\n",
       "      <td>1st Owner</td>\n",
       "      <td>Petrol</td>\n",
       "      <td>Automatic</td>\n",
       "      <td>7,14,299</td>\n",
       "      <td>Mumbai</td>\n",
       "      <td>31,248</td>\n",
       "      <td>3</td>\n",
       "    </tr>\n",
       "    <tr>\n",
       "      <th>2</th>\n",
       "      <td>1st Owner</td>\n",
       "      <td>Petrol</td>\n",
       "      <td>Automatic</td>\n",
       "      <td>8,44,999</td>\n",
       "      <td>Mumbai</td>\n",
       "      <td>471</td>\n",
       "      <td>5</td>\n",
       "    </tr>\n",
       "    <tr>\n",
       "      <th>3</th>\n",
       "      <td>1st Owner</td>\n",
       "      <td>Petrol</td>\n",
       "      <td>Manual</td>\n",
       "      <td>16,13,699</td>\n",
       "      <td>Mumbai</td>\n",
       "      <td>12,407</td>\n",
       "      <td>3</td>\n",
       "    </tr>\n",
       "    <tr>\n",
       "      <th>4</th>\n",
       "      <td>1st Owner</td>\n",
       "      <td>Petrol</td>\n",
       "      <td>Manual</td>\n",
       "      <td>6,53,299</td>\n",
       "      <td>Mumbai</td>\n",
       "      <td>35,164</td>\n",
       "      <td>5</td>\n",
       "    </tr>\n",
       "    <tr>\n",
       "      <th>...</th>\n",
       "      <td>...</td>\n",
       "      <td>...</td>\n",
       "      <td>...</td>\n",
       "      <td>...</td>\n",
       "      <td>...</td>\n",
       "      <td>...</td>\n",
       "      <td>...</td>\n",
       "    </tr>\n",
       "    <tr>\n",
       "      <th>5337</th>\n",
       "      <td>1st Owner</td>\n",
       "      <td>Petrol</td>\n",
       "      <td>Manual</td>\n",
       "      <td>2,40,499</td>\n",
       "      <td>Lucknow</td>\n",
       "      <td>27,734</td>\n",
       "      <td>8</td>\n",
       "    </tr>\n",
       "    <tr>\n",
       "      <th>5338</th>\n",
       "      <td>1st Owner</td>\n",
       "      <td>Diesel</td>\n",
       "      <td>Manual</td>\n",
       "      <td>7,15,599</td>\n",
       "      <td>Lucknow</td>\n",
       "      <td>29,031</td>\n",
       "      <td>4</td>\n",
       "    </tr>\n",
       "    <tr>\n",
       "      <th>5339</th>\n",
       "      <td>2nd Owner</td>\n",
       "      <td>Petrol</td>\n",
       "      <td>Automatic</td>\n",
       "      <td>4,90,599</td>\n",
       "      <td>Lucknow</td>\n",
       "      <td>5,289</td>\n",
       "      <td>3</td>\n",
       "    </tr>\n",
       "    <tr>\n",
       "      <th>5340</th>\n",
       "      <td>1st Owner</td>\n",
       "      <td>Petrol</td>\n",
       "      <td>Manual</td>\n",
       "      <td>6,73,299</td>\n",
       "      <td>Lucknow</td>\n",
       "      <td>23,928</td>\n",
       "      <td>2</td>\n",
       "    </tr>\n",
       "    <tr>\n",
       "      <th>5341</th>\n",
       "      <td>1st Owner</td>\n",
       "      <td>Petrol</td>\n",
       "      <td>Manual</td>\n",
       "      <td>5,80,599</td>\n",
       "      <td>Lucknow</td>\n",
       "      <td>35,373</td>\n",
       "      <td>4</td>\n",
       "    </tr>\n",
       "  </tbody>\n",
       "</table>\n",
       "<p>5342 rows × 7 columns</p>\n",
       "</div>"
      ],
      "text/plain": [
       "      car_owner car_fuel_type car_transmission  car_price location  \\\n",
       "0     1st Owner        Petrol           Manual   4,13,999   Mumbai   \n",
       "1     1st Owner        Petrol        Automatic   7,14,299   Mumbai   \n",
       "2     1st Owner        Petrol        Automatic   8,44,999   Mumbai   \n",
       "3     1st Owner        Petrol           Manual  16,13,699   Mumbai   \n",
       "4     1st Owner        Petrol           Manual   6,53,299   Mumbai   \n",
       "...         ...           ...              ...        ...      ...   \n",
       "5337  1st Owner        Petrol           Manual   2,40,499  Lucknow   \n",
       "5338  1st Owner        Diesel           Manual   7,15,599  Lucknow   \n",
       "5339  2nd Owner        Petrol        Automatic   4,90,599  Lucknow   \n",
       "5340  1st Owner        Petrol           Manual   6,73,299  Lucknow   \n",
       "5341  1st Owner        Petrol           Manual   5,80,599  Lucknow   \n",
       "\n",
       "     Total_KM_Ran  no_year  \n",
       "0          53,242        8  \n",
       "1          31,248        3  \n",
       "2             471        5  \n",
       "3          12,407        3  \n",
       "4          35,164        5  \n",
       "...           ...      ...  \n",
       "5337       27,734        8  \n",
       "5338       29,031        4  \n",
       "5339        5,289        3  \n",
       "5340       23,928        2  \n",
       "5341       35,373        4  \n",
       "\n",
       "[5342 rows x 7 columns]"
      ]
     },
     "execution_count": 25,
     "metadata": {},
     "output_type": "execute_result"
    }
   ],
   "source": [
    "df.drop(['car_Year','Current_Year','car_kilometers','car_model','Brand'],axis=1,inplace=True)\n",
    "df"
   ]
  },
  {
   "cell_type": "code",
   "execution_count": 26,
   "id": "bfa6937b",
   "metadata": {},
   "outputs": [
    {
     "data": {
      "text/html": [
       "<div>\n",
       "<style scoped>\n",
       "    .dataframe tbody tr th:only-of-type {\n",
       "        vertical-align: middle;\n",
       "    }\n",
       "\n",
       "    .dataframe tbody tr th {\n",
       "        vertical-align: top;\n",
       "    }\n",
       "\n",
       "    .dataframe thead th {\n",
       "        text-align: right;\n",
       "    }\n",
       "</style>\n",
       "<table border=\"1\" class=\"dataframe\">\n",
       "  <thead>\n",
       "    <tr style=\"text-align: right;\">\n",
       "      <th></th>\n",
       "      <th>car_owner</th>\n",
       "      <th>car_fuel_type</th>\n",
       "      <th>car_transmission</th>\n",
       "      <th>car_price</th>\n",
       "      <th>location</th>\n",
       "      <th>Total_KM_Ran</th>\n",
       "      <th>no_year</th>\n",
       "    </tr>\n",
       "  </thead>\n",
       "  <tbody>\n",
       "    <tr>\n",
       "      <th>0</th>\n",
       "      <td>1st Owner</td>\n",
       "      <td>Petrol</td>\n",
       "      <td>Manual</td>\n",
       "      <td>413999</td>\n",
       "      <td>Mumbai</td>\n",
       "      <td>53242</td>\n",
       "      <td>8</td>\n",
       "    </tr>\n",
       "    <tr>\n",
       "      <th>1</th>\n",
       "      <td>1st Owner</td>\n",
       "      <td>Petrol</td>\n",
       "      <td>Automatic</td>\n",
       "      <td>714299</td>\n",
       "      <td>Mumbai</td>\n",
       "      <td>31248</td>\n",
       "      <td>3</td>\n",
       "    </tr>\n",
       "  </tbody>\n",
       "</table>\n",
       "</div>"
      ],
      "text/plain": [
       "   car_owner car_fuel_type car_transmission car_price location Total_KM_Ran  \\\n",
       "0  1st Owner        Petrol           Manual    413999   Mumbai        53242   \n",
       "1  1st Owner        Petrol        Automatic    714299   Mumbai        31248   \n",
       "\n",
       "   no_year  \n",
       "0        8  \n",
       "1        3  "
      ]
     },
     "execution_count": 26,
     "metadata": {},
     "output_type": "execute_result"
    }
   ],
   "source": [
    "df['car_price'] = df['car_price'].str.replace(',','')\n",
    "df['Total_KM_Ran'] = df['Total_KM_Ran'].str.replace(',','')\n",
    "df.head(2)"
   ]
  },
  {
   "cell_type": "code",
   "execution_count": 27,
   "id": "6f664155",
   "metadata": {},
   "outputs": [],
   "source": [
    "df[\"car_price\"] = df[\"car_price\"].astype(str).astype(int)\n",
    "df[\"Total_KM_Ran\"] = df[\"Total_KM_Ran\"].astype(str).astype(int)"
   ]
  },
  {
   "cell_type": "code",
   "execution_count": 28,
   "id": "a20e7a59",
   "metadata": {},
   "outputs": [
    {
     "data": {
      "text/plain": [
       "Index(['car_owner', 'car_fuel_type', 'car_transmission', 'car_price',\n",
       "       'location', 'Total_KM_Ran', 'no_year'],\n",
       "      dtype='object')"
      ]
     },
     "execution_count": 28,
     "metadata": {},
     "output_type": "execute_result"
    }
   ],
   "source": [
    "df.columns"
   ]
  },
  {
   "cell_type": "code",
   "execution_count": 29,
   "id": "59a9168c",
   "metadata": {},
   "outputs": [
    {
     "data": {
      "text/html": [
       "<div>\n",
       "<style scoped>\n",
       "    .dataframe tbody tr th:only-of-type {\n",
       "        vertical-align: middle;\n",
       "    }\n",
       "\n",
       "    .dataframe tbody tr th {\n",
       "        vertical-align: top;\n",
       "    }\n",
       "\n",
       "    .dataframe thead th {\n",
       "        text-align: right;\n",
       "    }\n",
       "</style>\n",
       "<table border=\"1\" class=\"dataframe\">\n",
       "  <thead>\n",
       "    <tr style=\"text-align: right;\">\n",
       "      <th></th>\n",
       "      <th>car_owner</th>\n",
       "      <th>car_fuel_type</th>\n",
       "      <th>car_transmission</th>\n",
       "      <th>location</th>\n",
       "      <th>Total_KM_Ran</th>\n",
       "      <th>no_year</th>\n",
       "      <th>car_price</th>\n",
       "    </tr>\n",
       "  </thead>\n",
       "  <tbody>\n",
       "    <tr>\n",
       "      <th>0</th>\n",
       "      <td>1st Owner</td>\n",
       "      <td>Petrol</td>\n",
       "      <td>Manual</td>\n",
       "      <td>Mumbai</td>\n",
       "      <td>53242</td>\n",
       "      <td>8</td>\n",
       "      <td>413999</td>\n",
       "    </tr>\n",
       "    <tr>\n",
       "      <th>1</th>\n",
       "      <td>1st Owner</td>\n",
       "      <td>Petrol</td>\n",
       "      <td>Automatic</td>\n",
       "      <td>Mumbai</td>\n",
       "      <td>31248</td>\n",
       "      <td>3</td>\n",
       "      <td>714299</td>\n",
       "    </tr>\n",
       "    <tr>\n",
       "      <th>2</th>\n",
       "      <td>1st Owner</td>\n",
       "      <td>Petrol</td>\n",
       "      <td>Automatic</td>\n",
       "      <td>Mumbai</td>\n",
       "      <td>471</td>\n",
       "      <td>5</td>\n",
       "      <td>844999</td>\n",
       "    </tr>\n",
       "    <tr>\n",
       "      <th>3</th>\n",
       "      <td>1st Owner</td>\n",
       "      <td>Petrol</td>\n",
       "      <td>Manual</td>\n",
       "      <td>Mumbai</td>\n",
       "      <td>12407</td>\n",
       "      <td>3</td>\n",
       "      <td>1613699</td>\n",
       "    </tr>\n",
       "    <tr>\n",
       "      <th>4</th>\n",
       "      <td>1st Owner</td>\n",
       "      <td>Petrol</td>\n",
       "      <td>Manual</td>\n",
       "      <td>Mumbai</td>\n",
       "      <td>35164</td>\n",
       "      <td>5</td>\n",
       "      <td>653299</td>\n",
       "    </tr>\n",
       "  </tbody>\n",
       "</table>\n",
       "</div>"
      ],
      "text/plain": [
       "   car_owner car_fuel_type car_transmission location  Total_KM_Ran  no_year  \\\n",
       "0  1st Owner        Petrol           Manual   Mumbai         53242        8   \n",
       "1  1st Owner        Petrol        Automatic   Mumbai         31248        3   \n",
       "2  1st Owner        Petrol        Automatic   Mumbai           471        5   \n",
       "3  1st Owner        Petrol           Manual   Mumbai         12407        3   \n",
       "4  1st Owner        Petrol           Manual   Mumbai         35164        5   \n",
       "\n",
       "   car_price  \n",
       "0     413999  \n",
       "1     714299  \n",
       "2     844999  \n",
       "3    1613699  \n",
       "4     653299  "
      ]
     },
     "execution_count": 29,
     "metadata": {},
     "output_type": "execute_result"
    }
   ],
   "source": [
    "df = df[['car_owner', 'car_fuel_type', 'car_transmission',\n",
    "       'location', 'Total_KM_Ran', 'no_year','car_price']]\n",
    "df.head()"
   ]
  },
  {
   "cell_type": "code",
   "execution_count": 30,
   "id": "157a2162",
   "metadata": {},
   "outputs": [
    {
     "data": {
      "text/html": [
       "<div>\n",
       "<style scoped>\n",
       "    .dataframe tbody tr th:only-of-type {\n",
       "        vertical-align: middle;\n",
       "    }\n",
       "\n",
       "    .dataframe tbody tr th {\n",
       "        vertical-align: top;\n",
       "    }\n",
       "\n",
       "    .dataframe thead th {\n",
       "        text-align: right;\n",
       "    }\n",
       "</style>\n",
       "<table border=\"1\" class=\"dataframe\">\n",
       "  <thead>\n",
       "    <tr style=\"text-align: right;\">\n",
       "      <th></th>\n",
       "      <th>car_owner</th>\n",
       "      <th>car_fuel_type</th>\n",
       "      <th>car_transmission</th>\n",
       "      <th>location</th>\n",
       "      <th>Total_KM_Ran</th>\n",
       "      <th>no_year</th>\n",
       "      <th>car_price</th>\n",
       "    </tr>\n",
       "  </thead>\n",
       "  <tbody>\n",
       "    <tr>\n",
       "      <th>0</th>\n",
       "      <td>1st Owner</td>\n",
       "      <td>Petrol</td>\n",
       "      <td>Manual</td>\n",
       "      <td>Mumbai</td>\n",
       "      <td>53242</td>\n",
       "      <td>8</td>\n",
       "      <td>413999</td>\n",
       "    </tr>\n",
       "    <tr>\n",
       "      <th>1</th>\n",
       "      <td>1st Owner</td>\n",
       "      <td>Petrol</td>\n",
       "      <td>Automatic</td>\n",
       "      <td>Mumbai</td>\n",
       "      <td>31248</td>\n",
       "      <td>3</td>\n",
       "      <td>714299</td>\n",
       "    </tr>\n",
       "  </tbody>\n",
       "</table>\n",
       "</div>"
      ],
      "text/plain": [
       "   car_owner car_fuel_type car_transmission location  Total_KM_Ran  no_year  \\\n",
       "0  1st Owner        Petrol           Manual   Mumbai         53242        8   \n",
       "1  1st Owner        Petrol        Automatic   Mumbai         31248        3   \n",
       "\n",
       "   car_price  \n",
       "0     413999  \n",
       "1     714299  "
      ]
     },
     "execution_count": 30,
     "metadata": {},
     "output_type": "execute_result"
    }
   ],
   "source": [
    "df.head(2)"
   ]
  },
  {
   "cell_type": "code",
   "execution_count": 31,
   "id": "abd9f91d",
   "metadata": {},
   "outputs": [
    {
     "data": {
      "text/html": [
       "<div>\n",
       "<style scoped>\n",
       "    .dataframe tbody tr th:only-of-type {\n",
       "        vertical-align: middle;\n",
       "    }\n",
       "\n",
       "    .dataframe tbody tr th {\n",
       "        vertical-align: top;\n",
       "    }\n",
       "\n",
       "    .dataframe thead th {\n",
       "        text-align: right;\n",
       "    }\n",
       "</style>\n",
       "<table border=\"1\" class=\"dataframe\">\n",
       "  <thead>\n",
       "    <tr style=\"text-align: right;\">\n",
       "      <th></th>\n",
       "      <th>car_owner</th>\n",
       "      <th>car_fuel_type</th>\n",
       "      <th>car_transmission</th>\n",
       "      <th>location</th>\n",
       "      <th>Total_KM_Ran</th>\n",
       "      <th>no_year</th>\n",
       "      <th>car_price</th>\n",
       "    </tr>\n",
       "  </thead>\n",
       "  <tbody>\n",
       "    <tr>\n",
       "      <th>0</th>\n",
       "      <td>1st Owner</td>\n",
       "      <td>Petrol</td>\n",
       "      <td>Manual</td>\n",
       "      <td>Mumbai</td>\n",
       "      <td>53242</td>\n",
       "      <td>8</td>\n",
       "      <td>413999</td>\n",
       "    </tr>\n",
       "    <tr>\n",
       "      <th>1</th>\n",
       "      <td>1st Owner</td>\n",
       "      <td>Petrol</td>\n",
       "      <td>Automatic</td>\n",
       "      <td>Mumbai</td>\n",
       "      <td>31248</td>\n",
       "      <td>3</td>\n",
       "      <td>714299</td>\n",
       "    </tr>\n",
       "  </tbody>\n",
       "</table>\n",
       "</div>"
      ],
      "text/plain": [
       "   car_owner car_fuel_type car_transmission location  Total_KM_Ran  no_year  \\\n",
       "0  1st Owner        Petrol           Manual   Mumbai         53242        8   \n",
       "1  1st Owner        Petrol        Automatic   Mumbai         31248        3   \n",
       "\n",
       "   car_price  \n",
       "0     413999  \n",
       "1     714299  "
      ]
     },
     "execution_count": 31,
     "metadata": {},
     "output_type": "execute_result"
    }
   ],
   "source": [
    "df.head(2)"
   ]
  },
  {
   "cell_type": "code",
   "execution_count": null,
   "id": "3b38c5c6",
   "metadata": {},
   "outputs": [],
   "source": []
  },
  {
   "cell_type": "code",
   "execution_count": 371,
   "id": "f60a71ad",
   "metadata": {},
   "outputs": [
    {
     "data": {
      "text/plain": [
       "<AxesSubplot:xlabel='car_price', ylabel='location'>"
      ]
     },
     "execution_count": 371,
     "metadata": {},
     "output_type": "execute_result"
    },
    {
     "data": {
      "image/png": "[encoded data removed]",
      "text/plain": [
       "<Figure size 720x576 with 1 Axes>"
      ]
     },
     "metadata": {
      "needs_background": "light"
     },
     "output_type": "display_data"
    }
   ],
   "source": [
    "plt.figure(figsize=(10,8))\n",
    "sns.barplot(y=\"location\",x=\"car_price\",data=df)"
   ]
  },
  {
   "cell_type": "markdown",
   "id": "26326e00",
   "metadata": {},
   "source": [
    "Mumbai and Pune has the highest prices of used cars compared to other cities"
   ]
  },
  {
   "cell_type": "code",
   "execution_count": 372,
   "id": "ff3bb87b",
   "metadata": {},
   "outputs": [
    {
     "data": {
      "text/plain": [
       "<AxesSubplot:xlabel='car_price', ylabel='car_fuel_type'>"
      ]
     },
     "execution_count": 372,
     "metadata": {},
     "output_type": "execute_result"
    },
    {
     "data": {
      "image/png": "[encoded data removed]",
      "text/plain": [
       "<Figure size 720x576 with 1 Axes>"
      ]
     },
     "metadata": {
      "needs_background": "light"
     },
     "output_type": "display_data"
    }
   ],
   "source": [
    "plt.figure(figsize=(10,8))\n",
    "sns.barplot(y=\"car_fuel_type\",x=\"car_price\",data=df)"
   ]
  },
  {
   "cell_type": "markdown",
   "id": "fbe049ce",
   "metadata": {},
   "source": [
    "Diesel car have higher prices compared to others"
   ]
  },
  {
   "cell_type": "code",
   "execution_count": 373,
   "id": "64c2bbfe",
   "metadata": {},
   "outputs": [
    {
     "data": {
      "image/png": "[encoded data removed]",
      "text/plain": [
       "<Figure size 720x360 with 1 Axes>"
      ]
     },
     "metadata": {
      "needs_background": "light"
     },
     "output_type": "display_data"
    }
   ],
   "source": [
    "plt.figure(figsize=(10,5))\n",
    "sns.scatterplot(df['no_year'], df['car_price'])\n",
    "plt.title('Number of Years vs Car Price', size=18)\n",
    "plt.xticks(rotation=90)\n",
    "plt.show()"
   ]
  },
  {
   "cell_type": "markdown",
   "id": "eaa5ee39",
   "metadata": {},
   "source": [
    "If the car is old as number of years is more, the price decreases"
   ]
  },
  {
   "cell_type": "code",
   "execution_count": 374,
   "id": "1d97205d",
   "metadata": {},
   "outputs": [
    {
     "data": {
      "image/png": "[encoded data removed]",
      "text/plain": [
       "<Figure size 720x360 with 1 Axes>"
      ]
     },
     "metadata": {
      "needs_background": "light"
     },
     "output_type": "display_data"
    }
   ],
   "source": [
    "plt.figure(figsize=(10,5))\n",
    "sns.stripplot(df['car_owner'], df['car_price'])\n",
    "plt.title('Car Owner vs Car Price', size=18)\n",
    "plt.xticks(rotation=90)\n",
    "plt.show()"
   ]
  },
  {
   "cell_type": "markdown",
   "id": "9686ecdd",
   "metadata": {},
   "source": [
    "Used car when purchased with first owner has highest price as compared to others."
   ]
  },
  {
   "cell_type": "code",
   "execution_count": 375,
   "id": "1e1513a0",
   "metadata": {},
   "outputs": [
    {
     "data": {
      "image/png": "[encoded data removed]",
      "text/plain": [
       "<Figure size 720x360 with 1 Axes>"
      ]
     },
     "metadata": {
      "needs_background": "light"
     },
     "output_type": "display_data"
    }
   ],
   "source": [
    "plt.figure(figsize=(10,5))\n",
    "sns.stripplot(df['car_transmission'], df['car_price'])\n",
    "plt.title('Car Transmission vs Car Price', size=18)\n",
    "plt.xticks(rotation=90)\n",
    "plt.show()"
   ]
  },
  {
   "cell_type": "code",
   "execution_count": null,
   "id": "b53d16db",
   "metadata": {},
   "outputs": [],
   "source": [
    "\n",
    "\n",
    "for i in df.columns:\n",
    "    sns.histplot(df[i])\n",
    "    plt.show()"
   ]
  },
  {
   "cell_type": "code",
   "execution_count": 377,
   "id": "5370c625",
   "metadata": {},
   "outputs": [],
   "source": [
    "from sklearn.preprocessing import LabelEncoder\n",
    "le= LabelEncoder()\n",
    "for i in range(0,df.shape[1]):\n",
    "    if df.dtypes[i]=='object':\n",
    "        df[df.columns[i]] = le.fit_transform(df[df.columns[i]])"
   ]
  },
  {
   "cell_type": "code",
   "execution_count": 378,
   "id": "312844b0",
   "metadata": {},
   "outputs": [
    {
     "data": {
      "text/plain": [
       "<AxesSubplot:>"
      ]
     },
     "execution_count": 378,
     "metadata": {},
     "output_type": "execute_result"
    },
    {
     "data": {
      "image/png": "[encoded data removed]",
      "text/plain": [
       "<Figure size 720x720 with 2 Axes>"
      ]
     },
     "metadata": {
      "needs_background": "light"
     },
     "output_type": "display_data"
    }
   ],
   "source": [
    "plt.figure(figsize=(10,10))\n",
    "sns.heatmap(df[df.corr().index].corr(),annot=True)"
   ]
  },
  {
   "cell_type": "markdown",
   "id": "54e8cf0b",
   "metadata": {},
   "source": [
    "There seems to be some relation between number of years and Total Km ran, as the year is more, the car is used more and vice-versa"
   ]
  },
  {
   "cell_type": "code",
   "execution_count": 379,
   "id": "a9000360",
   "metadata": {},
   "outputs": [
    {
     "data": {
      "image/png": "[encoded data removed]",
      "text/plain": [
       "<Figure size 432x288 with 1 Axes>"
      ]
     },
     "metadata": {
      "needs_background": "light"
     },
     "output_type": "display_data"
    },
    {
     "data": {
      "image/png": "[encoded data removed]",
      "text/plain": [
       "<Figure size 432x288 with 1 Axes>"
      ]
     },
     "metadata": {
      "needs_background": "light"
     },
     "output_type": "display_data"
    },
    {
     "data": {
      "image/png": "[encoded data removed]",
      "text/plain": [
       "<Figure size 432x288 with 1 Axes>"
      ]
     },
     "metadata": {
      "needs_background": "light"
     },
     "output_type": "display_data"
    },
    {
     "data": {
      "image/png": "[encoded data removed]",
      "text/plain": [
       "<Figure size 432x288 with 1 Axes>"
      ]
     },
     "metadata": {
      "needs_background": "light"
     },
     "output_type": "display_data"
    },
    {
     "data": {
      "image/png": "[encoded data removed]",
      "text/plain": [
       "<Figure size 432x288 with 1 Axes>"
      ]
     },
     "metadata": {
      "needs_background": "light"
     },
     "output_type": "display_data"
    },
    {
     "data": {
      "image/png": "[encoded data removed]",
      "text/plain": [
       "<Figure size 432x288 with 1 Axes>"
      ]
     },
     "metadata": {
      "needs_background": "light"
     },
     "output_type": "display_data"
    },
    {
     "data": {
      "image/png": "[encoded data removed]",
      "text/plain": [
       "<Figure size 432x288 with 1 Axes>"
      ]
     },
     "metadata": {
      "needs_background": "light"
     },
     "output_type": "display_data"
    }
   ],
   "source": [
    "for i in df.columns:\n",
    "    sns.boxenplot(df[i])\n",
    "    plt.show()"
   ]
  },
  {
   "cell_type": "code",
   "execution_count": 380,
   "id": "0443d99d",
   "metadata": {},
   "outputs": [
    {
     "name": "stdout",
     "output_type": "stream",
     "text": [
      "(5342, 7)\n",
      "(4992, 7)\n"
     ]
    }
   ],
   "source": [
    "from scipy.stats import zscore\n",
    "z_score=abs(zscore(df))\n",
    "print(df.shape)\n",
    "df=df.loc[(z_score<3).all(axis=1)]\n",
    "print(df.shape)"
   ]
  },
  {
   "cell_type": "code",
   "execution_count": 390,
   "id": "73d874a7",
   "metadata": {},
   "outputs": [
    {
     "data": {
      "text/plain": [
       "6.551853238487458"
      ]
     },
     "execution_count": 390,
     "metadata": {},
     "output_type": "execute_result"
    }
   ],
   "source": [
    "((5342-4992)/5342)*100"
   ]
  },
  {
   "cell_type": "code",
   "execution_count": 381,
   "id": "9b2c6ed8",
   "metadata": {},
   "outputs": [],
   "source": [
    "df_x = df.iloc[:,1:]\n",
    "y = df.iloc[:,0]"
   ]
  },
  {
   "cell_type": "code",
   "execution_count": 382,
   "id": "8bd16d6b",
   "metadata": {},
   "outputs": [
    {
     "name": "stdout",
     "output_type": "stream",
     "text": [
      "car_fuel_type      -0.871095\n",
      "car_transmission   -2.097097\n",
      "location           -0.198047\n",
      "Total_KM_Ran        0.756841\n",
      "no_year             0.383629\n",
      "car_price           1.386582\n",
      "dtype: float64\n",
      "Total count of numeric features:  6\n",
      "count of features which are significantly skewed:  4\n"
     ]
    }
   ],
   "source": [
    "print(df_x.skew())\n",
    "print(\"Total count of numeric features: \",len(df_x.skew()))\n",
    "print(\"count of features which are significantly skewed: \",len(df_x.skew().loc[abs(df_x.skew())>0.5]))"
   ]
  },
  {
   "cell_type": "code",
   "execution_count": 383,
   "id": "5212794a",
   "metadata": {},
   "outputs": [
    {
     "name": "stdout",
     "output_type": "stream",
     "text": [
      "car_fuel_type      -0.970896\n",
      "car_transmission   -2.097097\n",
      "location           -0.198047\n",
      "Total_KM_Ran       -0.359125\n",
      "no_year             0.383629\n",
      "car_price           0.672972\n",
      "dtype: float64\n",
      "Total count of numeric features:  6\n",
      "count of features which are significantly skewed:  3\n"
     ]
    }
   ],
   "source": [
    "import numpy as np\n",
    "for index in df_x.skew().index:\n",
    "    if df_x.skew().loc[index]>0.5:\n",
    "        df_x[index]=np.cbrt(df_x[index])\n",
    "    if df_x.skew().loc[index]<-0.5:\n",
    "        df_x[index]=np.sqrt(df_x[index])\n",
    "print(df_x.skew())\n",
    "print(\"Total count of numeric features: \",len(df_x.skew()))\n",
    "print(\"count of features which are significantly skewed: \",len(df_x.skew().loc[abs(df_x.skew())>0.5]))"
   ]
  },
  {
   "cell_type": "code",
   "execution_count": 384,
   "id": "aee0abd9",
   "metadata": {},
   "outputs": [],
   "source": [
    "from sklearn.preprocessing import StandardScaler\n",
    "sc=StandardScaler()\n",
    "sc.fit(df_x)\n",
    "x=sc.transform(df_x)\n",
    "x=pd.DataFrame(x,columns=df_x.columns)"
   ]
  },
  {
   "cell_type": "code",
   "execution_count": 386,
   "id": "9945efea",
   "metadata": {},
   "outputs": [
    {
     "data": {
      "text/html": [
       "<div>\n",
       "<style scoped>\n",
       "    .dataframe tbody tr th:only-of-type {\n",
       "        vertical-align: middle;\n",
       "    }\n",
       "\n",
       "    .dataframe tbody tr th {\n",
       "        vertical-align: top;\n",
       "    }\n",
       "\n",
       "    .dataframe thead th {\n",
       "        text-align: right;\n",
       "    }\n",
       "</style>\n",
       "<table border=\"1\" class=\"dataframe\">\n",
       "  <thead>\n",
       "    <tr style=\"text-align: right;\">\n",
       "      <th></th>\n",
       "      <th>car_owner</th>\n",
       "      <th>car_fuel_type</th>\n",
       "      <th>car_transmission</th>\n",
       "      <th>location</th>\n",
       "      <th>Total_KM_Ran</th>\n",
       "      <th>no_year</th>\n",
       "      <th>car_price</th>\n",
       "    </tr>\n",
       "  </thead>\n",
       "  <tbody>\n",
       "    <tr>\n",
       "      <th>0</th>\n",
       "      <td>0</td>\n",
       "      <td>1</td>\n",
       "      <td>1</td>\n",
       "      <td>12</td>\n",
       "      <td>53242</td>\n",
       "      <td>8</td>\n",
       "      <td>413999</td>\n",
       "    </tr>\n",
       "    <tr>\n",
       "      <th>1</th>\n",
       "      <td>0</td>\n",
       "      <td>1</td>\n",
       "      <td>0</td>\n",
       "      <td>12</td>\n",
       "      <td>31248</td>\n",
       "      <td>3</td>\n",
       "      <td>714299</td>\n",
       "    </tr>\n",
       "  </tbody>\n",
       "</table>\n",
       "</div>"
      ],
      "text/plain": [
       "   car_owner  car_fuel_type  car_transmission  location  Total_KM_Ran  \\\n",
       "0          0              1                 1        12         53242   \n",
       "1          0              1                 0        12         31248   \n",
       "\n",
       "   no_year  car_price  \n",
       "0        8     413999  \n",
       "1        3     714299  "
      ]
     },
     "execution_count": 386,
     "metadata": {},
     "output_type": "execute_result"
    }
   ],
   "source": [
    "df.head(2)"
   ]
  },
  {
   "cell_type": "markdown",
   "id": "2097b857",
   "metadata": {},
   "source": [
    "# Feature Importance"
   ]
  },
  {
   "cell_type": "code",
   "execution_count": 387,
   "id": "f175d01b",
   "metadata": {},
   "outputs": [
    {
     "data": {
      "text/plain": [
       "(4992, 1)"
      ]
     },
     "execution_count": 387,
     "metadata": {},
     "output_type": "execute_result"
    }
   ],
   "source": [
    "target=df[[\"car_price\"]]\n",
    "target.shape"
   ]
  },
  {
   "cell_type": "code",
   "execution_count": 392,
   "id": "49214a27",
   "metadata": {},
   "outputs": [],
   "source": [
    "features=df.drop(columns=['car_price'])"
   ]
  },
  {
   "cell_type": "code",
   "execution_count": 393,
   "id": "87c419e6",
   "metadata": {},
   "outputs": [
    {
     "data": {
      "text/plain": [
       "((4992, 6), (4992, 1))"
      ]
     },
     "execution_count": 393,
     "metadata": {},
     "output_type": "execute_result"
    }
   ],
   "source": [
    "features.shape, target.shape"
   ]
  },
  {
   "cell_type": "code",
   "execution_count": 394,
   "id": "eafb28ad",
   "metadata": {},
   "outputs": [
    {
     "name": "stdout",
     "output_type": "stream",
     "text": [
      "[0.0215605  0.15164475 0.08007418 0.12100489 0.37614619 0.24956949]\n"
     ]
    }
   ],
   "source": [
    "from sklearn.ensemble import RandomForestRegressor\n",
    "import matplotlib.pyplot as plt\n",
    "feature_rf = RandomForestRegressor()\n",
    "feature_rf.fit(features,target)\n",
    "print(feature_rf.feature_importances_)"
   ]
  },
  {
   "cell_type": "code",
   "execution_count": 395,
   "id": "a9eb82cb",
   "metadata": {},
   "outputs": [
    {
     "data": {
      "image/png": "[encoded data removed]",
      "text/plain": [
       "<Figure size 432x288 with 1 Axes>"
      ]
     },
     "metadata": {
      "needs_background": "light"
     },
     "output_type": "display_data"
    }
   ],
   "source": [
    "#plot graph of feature importances for better visualization\n",
    "featureImportance = pd.Series(feature_rf.feature_importances_, index=features.columns)\n",
    "featureImportance.nlargest(6).plot(kind='barh',color=\"navy\") # Lets plot for 8 features \n",
    "plt.show()"
   ]
  },
  {
   "cell_type": "markdown",
   "id": "8abfe5de",
   "metadata": {},
   "source": [
    "# Model Building"
   ]
  },
  {
   "cell_type": "code",
   "execution_count": 396,
   "id": "489505cb",
   "metadata": {},
   "outputs": [],
   "source": [
    "from sklearn.model_selection import train_test_split\n",
    "from sklearn.linear_model import LinearRegression\n",
    "from sklearn.metrics import mean_absolute_error\n",
    "from sklearn.metrics import mean_squared_error\n",
    "from sklearn.metrics import r2_score"
   ]
  },
  {
   "cell_type": "code",
   "execution_count": 397,
   "id": "0ae7493e",
   "metadata": {},
   "outputs": [],
   "source": [
    "features=df.drop(['car_price'], axis=1)\n",
    "target=df[['car_price']]"
   ]
  },
  {
   "cell_type": "code",
   "execution_count": 398,
   "id": "42de85ac",
   "metadata": {},
   "outputs": [],
   "source": [
    "# Define function to get the r2 Score for different Regression models\n",
    "def get_r2_score(model,features,target):\n",
    "    max_r2_score=0\n",
    "    for i in range(40,100):\n",
    "        x_train, x_test, y_train, y_test = train_test_split(features, target,random_state = i,test_size=0.20)\n",
    "        model.fit(x_train,y_train)\n",
    "        y_pred = model.predict(x_test)\n",
    "        r2=r2_score(y_test,y_pred)\n",
    "        print(\"r2 score corresponding to \",i,\" is \",r2)\n",
    "        if r2>max_r2_score:\n",
    "            max_r2_score=r2\n",
    "            final_i=i\n",
    "    print(\"At \",final_i,\"r2 score is \",max_r2_score)\n",
    "    return final_i"
   ]
  },
  {
   "cell_type": "markdown",
   "id": "9b0b5591",
   "metadata": {},
   "source": [
    "# Linear Regression"
   ]
  },
  {
   "cell_type": "code",
   "execution_count": 399,
   "id": "97d100c8",
   "metadata": {},
   "outputs": [
    {
     "name": "stdout",
     "output_type": "stream",
     "text": [
      "r2 score corresponding to  40  is  0.3513836181983464\n",
      "r2 score corresponding to  41  is  0.37759661075119766\n",
      "r2 score corresponding to  42  is  0.3397520091637368\n",
      "r2 score corresponding to  43  is  0.3601599624624433\n",
      "r2 score corresponding to  44  is  0.3567247164621534\n",
      "r2 score corresponding to  45  is  0.36583898455282526\n",
      "r2 score corresponding to  46  is  0.3422511148675772\n",
      "r2 score corresponding to  47  is  0.35501107854961256\n",
      "r2 score corresponding to  48  is  0.36118371199333066\n",
      "r2 score corresponding to  49  is  0.3652719009330171\n",
      "r2 score corresponding to  50  is  0.3619180789573587\n",
      "r2 score corresponding to  51  is  0.3743484723556002\n",
      "r2 score corresponding to  52  is  0.3838387482121265\n",
      "r2 score corresponding to  53  is  0.38243865632468643\n",
      "r2 score corresponding to  54  is  0.3867933832947198\n",
      "r2 score corresponding to  55  is  0.3595317002989983\n",
      "r2 score corresponding to  56  is  0.3763572049289964\n",
      "r2 score corresponding to  57  is  0.4008517586546143\n",
      "r2 score corresponding to  58  is  0.3504652790486781\n",
      "r2 score corresponding to  59  is  0.35070702339284776\n",
      "r2 score corresponding to  60  is  0.35801724073647556\n",
      "r2 score corresponding to  61  is  0.37679962851963555\n",
      "r2 score corresponding to  62  is  0.337953167251124\n",
      "r2 score corresponding to  63  is  0.35784196221971964\n",
      "r2 score corresponding to  64  is  0.38057348812918246\n",
      "r2 score corresponding to  65  is  0.38607573067149037\n",
      "r2 score corresponding to  66  is  0.38208842389087816\n",
      "r2 score corresponding to  67  is  0.37099188651369\n",
      "r2 score corresponding to  68  is  0.371164937995781\n",
      "r2 score corresponding to  69  is  0.3721975772081053\n",
      "r2 score corresponding to  70  is  0.3992387076325238\n",
      "r2 score corresponding to  71  is  0.37501571225806785\n",
      "r2 score corresponding to  72  is  0.37864850276512796\n",
      "r2 score corresponding to  73  is  0.4022430065850717\n",
      "r2 score corresponding to  74  is  0.3832778689335875\n",
      "r2 score corresponding to  75  is  0.3883427611312741\n",
      "r2 score corresponding to  76  is  0.38347245459569357\n",
      "r2 score corresponding to  77  is  0.38430726054399267\n",
      "r2 score corresponding to  78  is  0.354794078474137\n",
      "r2 score corresponding to  79  is  0.3942016296327422\n",
      "r2 score corresponding to  80  is  0.3836348379854516\n",
      "r2 score corresponding to  81  is  0.39741235885101156\n",
      "r2 score corresponding to  82  is  0.3584967815692135\n",
      "r2 score corresponding to  83  is  0.35442451410790543\n",
      "r2 score corresponding to  84  is  0.35830496844205506\n",
      "r2 score corresponding to  85  is  0.38405749241015086\n",
      "r2 score corresponding to  86  is  0.4045309858700957\n",
      "r2 score corresponding to  87  is  0.3762701083687753\n",
      "r2 score corresponding to  88  is  0.40527193914828474\n",
      "r2 score corresponding to  89  is  0.3854991292146437\n",
      "r2 score corresponding to  90  is  0.4061499368495347\n",
      "r2 score corresponding to  91  is  0.38190348582905975\n",
      "r2 score corresponding to  92  is  0.37544866939216315\n",
      "r2 score corresponding to  93  is  0.3877819815172471\n",
      "r2 score corresponding to  94  is  0.3942568644284975\n",
      "r2 score corresponding to  95  is  0.38145686879428853\n",
      "r2 score corresponding to  96  is  0.3996898336671756\n",
      "r2 score corresponding to  97  is  0.37747211928530644\n",
      "r2 score corresponding to  98  is  0.37148789240051205\n",
      "r2 score corresponding to  99  is  0.33375724249136796\n",
      "At  90 r2 score is  0.4061499368495347\n"
     ]
    },
    {
     "data": {
      "text/plain": [
       "90"
      ]
     },
     "execution_count": 399,
     "metadata": {},
     "output_type": "execute_result"
    }
   ],
   "source": [
    "from sklearn.linear_model import LinearRegression\n",
    "lr=LinearRegression()\n",
    "get_r2_score(lr,features,target)"
   ]
  },
  {
   "cell_type": "code",
   "execution_count": 400,
   "id": "ed1b1aa9",
   "metadata": {},
   "outputs": [
    {
     "data": {
      "text/plain": [
       "0.4061499368495347"
      ]
     },
     "execution_count": 400,
     "metadata": {},
     "output_type": "execute_result"
    }
   ],
   "source": [
    "x_train, x_test, y_train, y_test = train_test_split(features,target,test_size=0.20,random_state = 90)\n",
    "lr.fit(x_train,y_train)\n",
    "pred_train=lr.predict(x_train)\n",
    "pred_test=lr.predict(x_test)\n",
    "r2_final_score=r2_score(y_test,pred_test)\n",
    "r2_final_score"
   ]
  },
  {
   "cell_type": "code",
   "execution_count": 401,
   "id": "831cf297",
   "metadata": {},
   "outputs": [
    {
     "name": "stdout",
     "output_type": "stream",
     "text": [
      "mean_absolute_error : 149552.3158411243\n",
      "mean_squared_error :  39862545691.11766\n",
      "root_mean_squared_error :  199656.0685056121\n"
     ]
    }
   ],
   "source": [
    "from sklearn import metrics\n",
    "# calculate MAE, MSE, RMSE on Train Data\n",
    "print (\"mean_absolute_error :\",metrics.mean_absolute_error(y_train, pred_train))\n",
    "print (\"mean_squared_error : \",metrics.mean_squared_error(y_train, pred_train))\n",
    "print (\"root_mean_squared_error : \",np.sqrt(metrics.mean_squared_error(y_train, pred_train)))"
   ]
  },
  {
   "cell_type": "code",
   "execution_count": 402,
   "id": "4d425dde",
   "metadata": {},
   "outputs": [
    {
     "name": "stdout",
     "output_type": "stream",
     "text": [
      "mean_absolute_error : 156404.0098641668\n",
      "mean_squared_error :  43156445780.26231\n",
      "root_mean_squared_error :  207741.29531766742\n"
     ]
    }
   ],
   "source": [
    "# calculate MAE, MSE, RMSE on Test Data\n",
    "print (\"mean_absolute_error :\",metrics.mean_absolute_error(y_test, pred_test))\n",
    "print (\"mean_squared_error : \",metrics.mean_squared_error(y_test, pred_test))\n",
    "print (\"root_mean_squared_error : \",np.sqrt(metrics.mean_squared_error(y_test, pred_test)))"
   ]
  },
  {
   "cell_type": "code",
   "execution_count": 403,
   "id": "b203ca7b",
   "metadata": {},
   "outputs": [
    {
     "name": "stdout",
     "output_type": "stream",
     "text": [
      "The CV score is : 0.30457921565014195\n"
     ]
    }
   ],
   "source": [
    "#So with above data,lets select CV as 5, as most of them as same CV\n",
    "from sklearn.model_selection import cross_val_score\n",
    "lsScore_selected=cross_val_score(lr,features,target,cv=5).mean()\n",
    "print(\"The CV score is :\",lsScore_selected)"
   ]
  },
  {
   "cell_type": "code",
   "execution_count": 404,
   "id": "0278ee62",
   "metadata": {},
   "outputs": [
    {
     "data": {
      "text/html": [
       "<div>\n",
       "<style scoped>\n",
       "    .dataframe tbody tr th:only-of-type {\n",
       "        vertical-align: middle;\n",
       "    }\n",
       "\n",
       "    .dataframe tbody tr th {\n",
       "        vertical-align: top;\n",
       "    }\n",
       "\n",
       "    .dataframe thead th {\n",
       "        text-align: right;\n",
       "    }\n",
       "</style>\n",
       "<table border=\"1\" class=\"dataframe\">\n",
       "  <thead>\n",
       "    <tr style=\"text-align: right;\">\n",
       "      <th></th>\n",
       "      <th>Model</th>\n",
       "      <th>MAE</th>\n",
       "      <th>MSE</th>\n",
       "      <th>RMSE</th>\n",
       "      <th>R2 Score</th>\n",
       "      <th>CV Score</th>\n",
       "    </tr>\n",
       "  </thead>\n",
       "  <tbody>\n",
       "    <tr>\n",
       "      <th>0</th>\n",
       "      <td>Linear Regression</td>\n",
       "      <td>156404.009864</td>\n",
       "      <td>4.315645e+10</td>\n",
       "      <td>207741.295318</td>\n",
       "      <td>0.40615</td>\n",
       "      <td>0.304579</td>\n",
       "    </tr>\n",
       "  </tbody>\n",
       "</table>\n",
       "</div>"
      ],
      "text/plain": [
       "               Model            MAE           MSE           RMSE  R2 Score  \\\n",
       "0  Linear Regression  156404.009864  4.315645e+10  207741.295318   0.40615   \n",
       "\n",
       "   CV Score  \n",
       "0  0.304579  "
      ]
     },
     "execution_count": 404,
     "metadata": {},
     "output_type": "execute_result"
    }
   ],
   "source": [
    "lr_data = {'Model': ['Linear Regression'], \n",
    "           'MAE': metrics.mean_absolute_error(y_test, pred_test),'MSE':metrics.mean_squared_error(y_test, pred_test),\n",
    "           'RMSE':np.sqrt(metrics.mean_squared_error(y_test, pred_test)),\n",
    "           'R2 Score': r2_final_score,\n",
    "           'CV Score': lsScore_selected\n",
    "          }\n",
    "\n",
    "df_LR = pd.DataFrame(lr_data)\n",
    "df_LR"
   ]
  },
  {
   "cell_type": "markdown",
   "id": "b185ec32",
   "metadata": {},
   "source": [
    "# Regularization Techniques\n",
    "Once we use linear regression on a data-set divided in to training and test set, calculating the scores on training and test set can give us a rough idea about whether the model is suffering from over-fitting or under-fitting.\n",
    "\n",
    "If we have very few features on a data-set and the score is poor for both training and test set then it’s a problem of under-fitting. On the other hand if we have large number of features and test score is relatively poor than the training score then it’s the problem of over-fitting.\n",
    "\n",
    "Regularization is a simple technique to reduce model complexity and prevent over-fitting which may result from simple linear regression."
   ]
  },
  {
   "cell_type": "markdown",
   "id": "0ec4857f",
   "metadata": {},
   "source": [
    "# Ridge"
   ]
  },
  {
   "cell_type": "code",
   "execution_count": 405,
   "id": "d044e94c",
   "metadata": {},
   "outputs": [],
   "source": [
    "from sklearn.linear_model import Ridge\n",
    "ridgeReg = Ridge(alpha=0.1,max_iter=20, normalize=True)"
   ]
  },
  {
   "cell_type": "code",
   "execution_count": 406,
   "id": "0daa2aa6",
   "metadata": {},
   "outputs": [
    {
     "name": "stdout",
     "output_type": "stream",
     "text": [
      "r2 score corresponding to  40  is  0.3483446870513245\n",
      "r2 score corresponding to  41  is  0.3720711034233847\n",
      "r2 score corresponding to  42  is  0.3398196447100231\n",
      "r2 score corresponding to  43  is  0.3576051010962784\n",
      "r2 score corresponding to  44  is  0.35692013211231643\n",
      "r2 score corresponding to  45  is  0.3650589143033116\n",
      "r2 score corresponding to  46  is  0.34447390845468495\n",
      "r2 score corresponding to  47  is  0.3514187722400598\n",
      "r2 score corresponding to  48  is  0.35507577783909583\n",
      "r2 score corresponding to  49  is  0.3662910088356043\n",
      "r2 score corresponding to  50  is  0.3613784009684976\n",
      "r2 score corresponding to  51  is  0.3726496413335556\n",
      "r2 score corresponding to  52  is  0.38056556433348876\n",
      "r2 score corresponding to  53  is  0.3798651387901575\n",
      "r2 score corresponding to  54  is  0.3786799337689394\n",
      "r2 score corresponding to  55  is  0.355257083217454\n",
      "r2 score corresponding to  56  is  0.37335443490132736\n",
      "r2 score corresponding to  57  is  0.39242237683609804\n",
      "r2 score corresponding to  58  is  0.3490646412299647\n",
      "r2 score corresponding to  59  is  0.3403254021977268\n",
      "r2 score corresponding to  60  is  0.3515725224098899\n",
      "r2 score corresponding to  61  is  0.3738468063273168\n",
      "r2 score corresponding to  62  is  0.3383089370534347\n",
      "r2 score corresponding to  63  is  0.3628411896030598\n",
      "r2 score corresponding to  64  is  0.37119834529532914\n",
      "r2 score corresponding to  65  is  0.37540715386699586\n",
      "r2 score corresponding to  66  is  0.37506820486417525\n",
      "r2 score corresponding to  67  is  0.36277663190188447\n",
      "r2 score corresponding to  68  is  0.36758279231351665\n",
      "r2 score corresponding to  69  is  0.37503275534501546\n",
      "r2 score corresponding to  70  is  0.39404999809163\n",
      "r2 score corresponding to  71  is  0.37396785218501705\n",
      "r2 score corresponding to  72  is  0.3728954413071218\n",
      "r2 score corresponding to  73  is  0.39445514695059725\n",
      "r2 score corresponding to  74  is  0.3786900365987248\n",
      "r2 score corresponding to  75  is  0.3883229143983792\n",
      "r2 score corresponding to  76  is  0.3856336420689459\n",
      "r2 score corresponding to  77  is  0.38022965238659756\n",
      "r2 score corresponding to  78  is  0.3542009269068723\n",
      "r2 score corresponding to  79  is  0.3850404667122522\n",
      "r2 score corresponding to  80  is  0.3802398338216987\n",
      "r2 score corresponding to  81  is  0.3921996233419417\n",
      "r2 score corresponding to  82  is  0.36192771683305336\n",
      "r2 score corresponding to  83  is  0.3512248954456427\n",
      "r2 score corresponding to  84  is  0.3552165744402218\n",
      "r2 score corresponding to  85  is  0.3768678032731737\n",
      "r2 score corresponding to  86  is  0.39597953303654776\n",
      "r2 score corresponding to  87  is  0.3738130184682733\n",
      "r2 score corresponding to  88  is  0.3976844022466597\n",
      "r2 score corresponding to  89  is  0.37890373952073486\n",
      "r2 score corresponding to  90  is  0.39476311554388044\n",
      "r2 score corresponding to  91  is  0.3717018501314989\n",
      "r2 score corresponding to  92  is  0.37486557756217365\n",
      "r2 score corresponding to  93  is  0.3813629935983457\n",
      "r2 score corresponding to  94  is  0.38431287681771586\n",
      "r2 score corresponding to  95  is  0.3748005938990614\n",
      "r2 score corresponding to  96  is  0.39354837770378537\n",
      "r2 score corresponding to  97  is  0.3698302953363968\n",
      "r2 score corresponding to  98  is  0.3651664340922067\n",
      "r2 score corresponding to  99  is  0.3381249849617596\n",
      "At  88 r2 score is  0.3976844022466597\n"
     ]
    },
    {
     "data": {
      "text/plain": [
       "88"
      ]
     },
     "execution_count": 406,
     "metadata": {},
     "output_type": "execute_result"
    }
   ],
   "source": [
    "get_r2_score(ridgeReg,features,target)"
   ]
  },
  {
   "cell_type": "code",
   "execution_count": 407,
   "id": "41556871",
   "metadata": {},
   "outputs": [
    {
     "data": {
      "text/plain": [
       "0.3976844022466597"
      ]
     },
     "execution_count": 407,
     "metadata": {},
     "output_type": "execute_result"
    }
   ],
   "source": [
    "x_train, x_test, y_train, y_test = train_test_split(features,target,test_size=0.20,random_state = 88)\n",
    "ridgeReg.fit(x_train,y_train)\n",
    "ridge_pred = ridgeReg.predict(x_test)\n",
    "ridge_pred_train = ridgeReg.predict(x_train)\n",
    "r2_final_score=r2_score(y_test,ridge_pred)\n",
    "r2_final_score"
   ]
  },
  {
   "cell_type": "code",
   "execution_count": 408,
   "id": "91f00c55",
   "metadata": {},
   "outputs": [
    {
     "name": "stdout",
     "output_type": "stream",
     "text": [
      "The CV score is : 0.30746128570474496\n"
     ]
    }
   ],
   "source": [
    "ridge_cvScore=cross_val_score(ridgeReg,features,target,cv=5).mean()\n",
    "print(\"The CV score is :\",ridge_cvScore)"
   ]
  },
  {
   "cell_type": "code",
   "execution_count": 409,
   "id": "5d6bfbb0",
   "metadata": {},
   "outputs": [
    {
     "name": "stdout",
     "output_type": "stream",
     "text": [
      "r2_score 0.3976844022466597\n",
      "mean_absolute_error : 144245.10275434307\n",
      "mean_squared_error :  38453710500.31957\n",
      "root_mean_squared_error :  196096.17665910668\n",
      "Cross Validation Score :  0.30746128570474496\n"
     ]
    }
   ],
   "source": [
    "#Test Data\n",
    "print(\"r2_score\",r2_final_score)\n",
    "print (\"mean_absolute_error :\",metrics.mean_absolute_error(y_test, ridge_pred))\n",
    "print (\"mean_squared_error : \",metrics.mean_squared_error(y_test, ridge_pred))\n",
    "print (\"root_mean_squared_error : \",np.sqrt(metrics.mean_squared_error(y_test, ridge_pred)))\n",
    "print(\"Cross Validation Score : \",ridge_cvScore)"
   ]
  },
  {
   "cell_type": "code",
   "execution_count": 410,
   "id": "0c52117e",
   "metadata": {},
   "outputs": [
    {
     "name": "stdout",
     "output_type": "stream",
     "text": [
      "r2_score 0.3976844022466597\n",
      "mean_absolute_error : 151419.32457287252\n",
      "mean_squared_error :  41418198014.61397\n",
      "root_mean_squared_error :  203514.61376179836\n",
      "Cross Validation Score :  0.30746128570474496\n"
     ]
    }
   ],
   "source": [
    "# Train Data\n",
    "print(\"r2_score\",r2_final_score)\n",
    "print (\"mean_absolute_error :\",metrics.mean_absolute_error(y_train, ridge_pred_train))\n",
    "print (\"mean_squared_error : \",metrics.mean_squared_error(y_train, ridge_pred_train))\n",
    "print (\"root_mean_squared_error : \",np.sqrt(metrics.mean_squared_error(y_train, ridge_pred_train)))\n",
    "print (\"Cross Validation Score : \", ridge_cvScore)"
   ]
  },
  {
   "cell_type": "code",
   "execution_count": 411,
   "id": "b9ed4080",
   "metadata": {},
   "outputs": [
    {
     "data": {
      "text/html": [
       "<div>\n",
       "<style scoped>\n",
       "    .dataframe tbody tr th:only-of-type {\n",
       "        vertical-align: middle;\n",
       "    }\n",
       "\n",
       "    .dataframe tbody tr th {\n",
       "        vertical-align: top;\n",
       "    }\n",
       "\n",
       "    .dataframe thead th {\n",
       "        text-align: right;\n",
       "    }\n",
       "</style>\n",
       "<table border=\"1\" class=\"dataframe\">\n",
       "  <thead>\n",
       "    <tr style=\"text-align: right;\">\n",
       "      <th></th>\n",
       "      <th>Model</th>\n",
       "      <th>MAE</th>\n",
       "      <th>MSE</th>\n",
       "      <th>RMSE</th>\n",
       "      <th>R2 Score</th>\n",
       "      <th>CV Score</th>\n",
       "    </tr>\n",
       "  </thead>\n",
       "  <tbody>\n",
       "    <tr>\n",
       "      <th>0</th>\n",
       "      <td>Ridge</td>\n",
       "      <td>144245.102754</td>\n",
       "      <td>3.845371e+10</td>\n",
       "      <td>196096.176659</td>\n",
       "      <td>0.397684</td>\n",
       "      <td>0.307461</td>\n",
       "    </tr>\n",
       "  </tbody>\n",
       "</table>\n",
       "</div>"
      ],
      "text/plain": [
       "   Model            MAE           MSE           RMSE  R2 Score  CV Score\n",
       "0  Ridge  144245.102754  3.845371e+10  196096.176659  0.397684  0.307461"
      ]
     },
     "execution_count": 411,
     "metadata": {},
     "output_type": "execute_result"
    }
   ],
   "source": [
    "ridge_data = {'Model': ['Ridge'], \n",
    "           'MAE': metrics.mean_absolute_error(y_test, ridge_pred),'MSE':metrics.mean_squared_error(y_test, ridge_pred),\n",
    "           'RMSE':np.sqrt(metrics.mean_squared_error(y_test, ridge_pred)),\n",
    "           'R2 Score': r2_final_score,\n",
    "           'CV Score': ridge_cvScore\n",
    "             }  \n",
    "\n",
    "df_Ridge = pd.DataFrame(ridge_data)  \n",
    "df_Ridge"
   ]
  },
  {
   "cell_type": "markdown",
   "id": "ead6177c",
   "metadata": {},
   "source": [
    "# Decision Tree Regressor"
   ]
  },
  {
   "cell_type": "code",
   "execution_count": 416,
   "id": "b2f61b91",
   "metadata": {},
   "outputs": [],
   "source": [
    "from sklearn.tree import DecisionTreeRegressor\n",
    "dr=DecisionTreeRegressor(criterion=\"mae\",max_features=\"auto\",splitter=\"best\",min_samples_split= 10)"
   ]
  },
  {
   "cell_type": "code",
   "execution_count": 417,
   "id": "70bac7a1",
   "metadata": {},
   "outputs": [
    {
     "name": "stdout",
     "output_type": "stream",
     "text": [
      "r2 score corresponding to  40  is  0.2227885597879672\n",
      "r2 score corresponding to  41  is  0.22740600674172828\n",
      "r2 score corresponding to  42  is  0.22400414553039905\n",
      "r2 score corresponding to  43  is  0.2947512980027738\n",
      "r2 score corresponding to  44  is  0.19400349876021983\n",
      "r2 score corresponding to  45  is  0.34388297447649496\n",
      "r2 score corresponding to  46  is  0.22703079739079735\n",
      "r2 score corresponding to  47  is  0.24739902435742345\n",
      "r2 score corresponding to  48  is  0.2545754063693225\n",
      "r2 score corresponding to  49  is  0.23725639092215356\n",
      "r2 score corresponding to  50  is  0.22226647166056424\n",
      "r2 score corresponding to  51  is  0.3541279843211034\n",
      "r2 score corresponding to  52  is  0.2699206900807988\n",
      "r2 score corresponding to  53  is  0.26700364128243137\n",
      "r2 score corresponding to  54  is  0.2609958258709898\n",
      "r2 score corresponding to  55  is  0.27217011438489314\n",
      "r2 score corresponding to  56  is  0.28583122579047004\n",
      "r2 score corresponding to  57  is  0.2789551902345849\n",
      "r2 score corresponding to  58  is  0.20846733128849937\n",
      "r2 score corresponding to  59  is  0.2995363400198604\n",
      "r2 score corresponding to  60  is  0.21617020426959543\n",
      "r2 score corresponding to  61  is  0.25895429774629963\n",
      "r2 score corresponding to  62  is  0.2257280451092435\n",
      "r2 score corresponding to  63  is  0.2032421243978838\n",
      "r2 score corresponding to  64  is  0.29373914388615074\n",
      "r2 score corresponding to  65  is  0.26490624462434254\n",
      "r2 score corresponding to  66  is  0.33027548190571987\n",
      "r2 score corresponding to  67  is  0.2873609212880407\n",
      "r2 score corresponding to  68  is  0.25179996689775697\n",
      "r2 score corresponding to  69  is  0.23884572898405776\n",
      "r2 score corresponding to  70  is  0.314940789428921\n",
      "r2 score corresponding to  71  is  0.23089443967238543\n",
      "r2 score corresponding to  72  is  0.315488541620882\n",
      "r2 score corresponding to  73  is  0.27206788607532295\n",
      "r2 score corresponding to  74  is  0.27914587326956286\n",
      "r2 score corresponding to  75  is  0.22559199036561284\n",
      "r2 score corresponding to  76  is  0.1979343949507445\n",
      "r2 score corresponding to  77  is  0.2734121317725332\n",
      "r2 score corresponding to  78  is  0.21000342282501672\n",
      "r2 score corresponding to  79  is  0.3362274006565862\n",
      "r2 score corresponding to  80  is  0.22346139036107882\n",
      "r2 score corresponding to  81  is  0.3006669726724881\n",
      "r2 score corresponding to  82  is  0.2129689827245762\n",
      "r2 score corresponding to  83  is  0.2505384291083782\n",
      "r2 score corresponding to  84  is  0.26226099020010274\n",
      "r2 score corresponding to  85  is  0.2804040196791966\n",
      "r2 score corresponding to  86  is  0.23778453146626788\n",
      "r2 score corresponding to  87  is  0.2631123494110944\n",
      "r2 score corresponding to  88  is  0.325240497755267\n",
      "r2 score corresponding to  89  is  0.2755718475261457\n",
      "r2 score corresponding to  90  is  0.3433598122679895\n",
      "r2 score corresponding to  91  is  0.34887761151878016\n",
      "r2 score corresponding to  92  is  0.23277190397467207\n",
      "r2 score corresponding to  93  is  0.2863713391710221\n",
      "r2 score corresponding to  94  is  0.312963394519687\n",
      "r2 score corresponding to  95  is  0.34216108536279766\n",
      "r2 score corresponding to  96  is  0.2770787233175579\n",
      "r2 score corresponding to  97  is  0.24535773151911966\n",
      "r2 score corresponding to  98  is  0.2604797094796595\n",
      "r2 score corresponding to  99  is  0.2788124663488165\n",
      "At  51 r2 score is  0.3541279843211034\n"
     ]
    },
    {
     "data": {
      "text/plain": [
       "51"
      ]
     },
     "execution_count": 417,
     "metadata": {},
     "output_type": "execute_result"
    }
   ],
   "source": [
    "get_r2_score(dr,features,target)"
   ]
  },
  {
   "cell_type": "code",
   "execution_count": 419,
   "id": "297ecbca",
   "metadata": {},
   "outputs": [
    {
     "data": {
      "text/plain": [
       "0.3553255093879988"
      ]
     },
     "execution_count": 419,
     "metadata": {},
     "output_type": "execute_result"
    }
   ],
   "source": [
    "x_train, x_test, y_train, y_test = train_test_split(features,target,test_size=0.20,random_state = 51)\n",
    "dr.fit(x_train,y_train)\n",
    "dr_pred = dr.predict(x_test)\n",
    "dr_pred_train = dr.predict(x_train)\n",
    "r2_final_score=r2_score(y_test,dr_pred)\n",
    "r2_final_score"
   ]
  },
  {
   "cell_type": "code",
   "execution_count": 420,
   "id": "45cf5f0e",
   "metadata": {},
   "outputs": [
    {
     "name": "stdout",
     "output_type": "stream",
     "text": [
      "The CV score is : 0.06806943253094104\n"
     ]
    }
   ],
   "source": [
    "dtr_cvScore=cross_val_score(dr,features,target,cv=5).mean()\n",
    "print(\"The CV score is :\",dtr_cvScore)"
   ]
  },
  {
   "cell_type": "code",
   "execution_count": 421,
   "id": "a73e72b5",
   "metadata": {},
   "outputs": [
    {
     "name": "stdout",
     "output_type": "stream",
     "text": [
      "r2_score 0.3553255093879988\n",
      "mean_absolute_error : 74563.51114450287\n",
      "mean_squared_error :  18565246888.30453\n",
      "root_mean_squared_error :  136254.3463097766\n",
      "Cross Validation Score :  0.06806943253094104\n"
     ]
    }
   ],
   "source": [
    "# Train Data\n",
    "print(\"r2_score\",r2_final_score)\n",
    "print (\"mean_absolute_error :\",metrics.mean_absolute_error(y_train, dr_pred_train))\n",
    "print (\"mean_squared_error : \",metrics.mean_squared_error(y_train, dr_pred_train))\n",
    "print (\"root_mean_squared_error : \",np.sqrt(metrics.mean_squared_error(y_train, dr_pred_train)))\n",
    "print (\"Cross Validation Score : \", dtr_cvScore)"
   ]
  },
  {
   "cell_type": "code",
   "execution_count": 422,
   "id": "8ba23f31",
   "metadata": {},
   "outputs": [
    {
     "name": "stdout",
     "output_type": "stream",
     "text": [
      "r2_score 0.3553255093879988\n",
      "mean_absolute_error : 137743.6936936937\n",
      "mean_squared_error :  40633907259.75976\n",
      "root_mean_squared_error :  201578.53868842227\n",
      "Cross Validation Score :  0.06806943253094104\n"
     ]
    }
   ],
   "source": [
    "#Test Data\n",
    "print(\"r2_score\",r2_final_score)\n",
    "print (\"mean_absolute_error :\",metrics.mean_absolute_error(y_test, dr_pred))\n",
    "print (\"mean_squared_error : \",metrics.mean_squared_error(y_test, dr_pred))\n",
    "print (\"root_mean_squared_error : \",np.sqrt(metrics.mean_squared_error(y_test, dr_pred)))\n",
    "print(\"Cross Validation Score : \",dtr_cvScore)"
   ]
  },
  {
   "cell_type": "code",
   "execution_count": 423,
   "id": "ea5e2797",
   "metadata": {},
   "outputs": [
    {
     "data": {
      "text/html": [
       "<div>\n",
       "<style scoped>\n",
       "    .dataframe tbody tr th:only-of-type {\n",
       "        vertical-align: middle;\n",
       "    }\n",
       "\n",
       "    .dataframe tbody tr th {\n",
       "        vertical-align: top;\n",
       "    }\n",
       "\n",
       "    .dataframe thead th {\n",
       "        text-align: right;\n",
       "    }\n",
       "</style>\n",
       "<table border=\"1\" class=\"dataframe\">\n",
       "  <thead>\n",
       "    <tr style=\"text-align: right;\">\n",
       "      <th></th>\n",
       "      <th>Model</th>\n",
       "      <th>MAE</th>\n",
       "      <th>MSE</th>\n",
       "      <th>RMSE</th>\n",
       "      <th>R2 Score</th>\n",
       "      <th>CV Score</th>\n",
       "    </tr>\n",
       "  </thead>\n",
       "  <tbody>\n",
       "    <tr>\n",
       "      <th>0</th>\n",
       "      <td>Decision Tree Regressor</td>\n",
       "      <td>137743.693694</td>\n",
       "      <td>4.063391e+10</td>\n",
       "      <td>201578.538688</td>\n",
       "      <td>0.355326</td>\n",
       "      <td>0.068069</td>\n",
       "    </tr>\n",
       "  </tbody>\n",
       "</table>\n",
       "</div>"
      ],
      "text/plain": [
       "                     Model            MAE           MSE           RMSE  \\\n",
       "0  Decision Tree Regressor  137743.693694  4.063391e+10  201578.538688   \n",
       "\n",
       "   R2 Score  CV Score  \n",
       "0  0.355326  0.068069  "
      ]
     },
     "execution_count": 423,
     "metadata": {},
     "output_type": "execute_result"
    }
   ],
   "source": [
    "decisionTree_data = {'Model': ['Decision Tree Regressor'], \n",
    "           'MAE': metrics.mean_absolute_error(y_test, dr_pred),'MSE':metrics.mean_squared_error(y_test, dr_pred),\n",
    "           'RMSE':np.sqrt(metrics.mean_squared_error(y_test, dr_pred)),\n",
    "           'R2 Score': r2_score(y_test,dr_pred),\n",
    "           'CV Score': dtr_cvScore\n",
    "            }  \n",
    "\n",
    "df_DT = pd.DataFrame(decisionTree_data)  \n",
    "df_DT"
   ]
  },
  {
   "cell_type": "markdown",
   "id": "27087c5b",
   "metadata": {},
   "source": [
    "# Random Forest Regressor"
   ]
  },
  {
   "cell_type": "code",
   "execution_count": 424,
   "id": "eaeb6c54",
   "metadata": {},
   "outputs": [],
   "source": [
    "from sklearn.ensemble import RandomForestRegressor\n",
    "rfr=RandomForestRegressor(criterion=\"mae\",max_features=\"auto\",n_estimators=10,min_samples_split=5,min_samples_leaf=2)"
   ]
  },
  {
   "cell_type": "code",
   "execution_count": 425,
   "id": "5441d690",
   "metadata": {},
   "outputs": [
    {
     "name": "stdout",
     "output_type": "stream",
     "text": [
      "r2 score corresponding to  40  is  0.4337322310163526\n",
      "r2 score corresponding to  41  is  0.4257335715835948\n",
      "r2 score corresponding to  42  is  0.40845968551984113\n",
      "r2 score corresponding to  43  is  0.4314179969753503\n",
      "r2 score corresponding to  44  is  0.415268995428124\n",
      "r2 score corresponding to  45  is  0.47316466850075833\n",
      "r2 score corresponding to  46  is  0.4279606939099516\n",
      "r2 score corresponding to  47  is  0.39273691305636316\n",
      "r2 score corresponding to  48  is  0.44191551045798727\n",
      "r2 score corresponding to  49  is  0.424856048541979\n",
      "r2 score corresponding to  50  is  0.4120760843622272\n",
      "r2 score corresponding to  51  is  0.4445457699844667\n",
      "r2 score corresponding to  52  is  0.4860413760637503\n",
      "r2 score corresponding to  53  is  0.45557405212069657\n",
      "r2 score corresponding to  54  is  0.4626736101180645\n",
      "r2 score corresponding to  55  is  0.45540530448559835\n",
      "r2 score corresponding to  56  is  0.48405076242669753\n",
      "r2 score corresponding to  57  is  0.45436304692421126\n",
      "r2 score corresponding to  58  is  0.4108003386154654\n",
      "r2 score corresponding to  59  is  0.3930352827634839\n",
      "r2 score corresponding to  60  is  0.45724260098456937\n",
      "r2 score corresponding to  61  is  0.4441732378168637\n",
      "r2 score corresponding to  62  is  0.40614316134415884\n",
      "r2 score corresponding to  63  is  0.41136820335075774\n",
      "r2 score corresponding to  64  is  0.44661171956251644\n",
      "r2 score corresponding to  65  is  0.46454087866192306\n",
      "r2 score corresponding to  66  is  0.45191644962499267\n",
      "r2 score corresponding to  67  is  0.4863322027080246\n",
      "r2 score corresponding to  68  is  0.4458238768387026\n",
      "r2 score corresponding to  69  is  0.43706051588092776\n",
      "r2 score corresponding to  70  is  0.4798517478856742\n",
      "r2 score corresponding to  71  is  0.4285740460791677\n",
      "r2 score corresponding to  72  is  0.4501497594225983\n",
      "r2 score corresponding to  73  is  0.4613839176685338\n",
      "r2 score corresponding to  74  is  0.452913883092242\n",
      "r2 score corresponding to  75  is  0.4442320518835974\n",
      "r2 score corresponding to  76  is  0.40277402587660605\n",
      "r2 score corresponding to  77  is  0.43382712617677865\n",
      "r2 score corresponding to  78  is  0.41183497983380035\n",
      "r2 score corresponding to  79  is  0.45864738842589126\n",
      "r2 score corresponding to  80  is  0.43892700605575075\n",
      "r2 score corresponding to  81  is  0.4619120763789418\n",
      "r2 score corresponding to  82  is  0.4065589303901499\n",
      "r2 score corresponding to  83  is  0.40605445555041164\n",
      "r2 score corresponding to  84  is  0.43502551667616984\n",
      "r2 score corresponding to  85  is  0.4542725803486355\n",
      "r2 score corresponding to  86  is  0.4506733524789026\n",
      "r2 score corresponding to  87  is  0.4438385600455145\n",
      "r2 score corresponding to  88  is  0.44392142667429235\n",
      "r2 score corresponding to  89  is  0.4661935755574055\n",
      "r2 score corresponding to  90  is  0.5098897670359461\n",
      "r2 score corresponding to  91  is  0.47832136462566555\n",
      "r2 score corresponding to  92  is  0.4266277909976559\n",
      "r2 score corresponding to  93  is  0.43538957499011044\n",
      "r2 score corresponding to  94  is  0.4883837534437696\n",
      "r2 score corresponding to  95  is  0.46743310289910545\n",
      "r2 score corresponding to  96  is  0.4810020052122935\n",
      "r2 score corresponding to  97  is  0.43410144820137864\n",
      "r2 score corresponding to  98  is  0.4574492585684532\n",
      "r2 score corresponding to  99  is  0.4174569394585784\n",
      "At  90 r2 score is  0.5098897670359461\n"
     ]
    },
    {
     "data": {
      "text/plain": [
       "90"
      ]
     },
     "execution_count": 425,
     "metadata": {},
     "output_type": "execute_result"
    }
   ],
   "source": [
    "get_r2_score(rfr,features,target)"
   ]
  },
  {
   "cell_type": "code",
   "execution_count": 426,
   "id": "5588d145",
   "metadata": {},
   "outputs": [
    {
     "data": {
      "text/plain": [
       "0.5021323029613018"
      ]
     },
     "execution_count": 426,
     "metadata": {},
     "output_type": "execute_result"
    }
   ],
   "source": [
    "x_train, x_test, y_train, y_test = train_test_split(features,target,test_size=0.20,random_state = 90)\n",
    "rfr=RandomForestRegressor(criterion=\"mae\",max_features=\"auto\",n_estimators=10,min_samples_split=5,min_samples_leaf=2)\n",
    "rfr.fit(x_train,y_train)\n",
    "rfr_pred = rfr.predict(x_test)\n",
    "rfr_pred_train = rfr.predict(x_train)\n",
    "r2_final_score=r2_score(y_test,rfr_pred)\n",
    "r2_final_score"
   ]
  },
  {
   "cell_type": "code",
   "execution_count": 443,
   "id": "1e7fab4e",
   "metadata": {},
   "outputs": [
    {
     "name": "stdout",
     "output_type": "stream",
     "text": [
      "The CV score is : 0.3038496154100588\n"
     ]
    }
   ],
   "source": [
    "rfr_cvScore=cross_val_score(rfr,features,target,cv=7,scoring='r2').mean()\n",
    "print(\"The CV score is :\",rfr_cvScore)"
   ]
  },
  {
   "cell_type": "code",
   "execution_count": 444,
   "id": "dcfcc7a9",
   "metadata": {},
   "outputs": [
    {
     "name": "stdout",
     "output_type": "stream",
     "text": [
      "r2_score 0.5021323029613018\n",
      "mean_absolute_error : 87751.98347107437\n",
      "mean_squared_error :  17035832595.992989\n",
      "root_mean_squared_error :  130521.38750409064\n",
      "Cross Validation Score :  0.3038496154100588\n"
     ]
    }
   ],
   "source": [
    "# Train Data\n",
    "print(\"r2_score\",r2_final_score)\n",
    "print (\"mean_absolute_error :\",metrics.mean_absolute_error(y_train, rfr_pred_train))\n",
    "print (\"mean_squared_error : \",metrics.mean_squared_error(y_train, rfr_pred_train))\n",
    "print (\"root_mean_squared_error : \",np.sqrt(metrics.mean_squared_error(y_train, rfr_pred_train)))\n",
    "print (\"Cross Validation Score : \", rfr_cvScore)"
   ]
  },
  {
   "cell_type": "code",
   "execution_count": 445,
   "id": "6850665d",
   "metadata": {},
   "outputs": [
    {
     "name": "stdout",
     "output_type": "stream",
     "text": [
      "r2_score 0.5021323029613018\n",
      "mean_absolute_error : 138501.3013013013\n",
      "mean_squared_error :  36181187148.4985\n",
      "root_mean_squared_error :  190213.53040332987\n",
      "Cross Validation Score :  0.3038496154100588\n"
     ]
    }
   ],
   "source": [
    "#Test Data\n",
    "print(\"r2_score\",r2_final_score)\n",
    "print (\"mean_absolute_error :\",metrics.mean_absolute_error(y_test, rfr_pred))\n",
    "print (\"mean_squared_error : \",metrics.mean_squared_error(y_test, rfr_pred))\n",
    "print (\"root_mean_squared_error : \",np.sqrt(metrics.mean_squared_error(y_test, rfr_pred)))\n",
    "print(\"Cross Validation Score : \",rfr_cvScore)"
   ]
  },
  {
   "cell_type": "code",
   "execution_count": 446,
   "id": "d6fa928a",
   "metadata": {},
   "outputs": [
    {
     "data": {
      "text/html": [
       "<div>\n",
       "<style scoped>\n",
       "    .dataframe tbody tr th:only-of-type {\n",
       "        vertical-align: middle;\n",
       "    }\n",
       "\n",
       "    .dataframe tbody tr th {\n",
       "        vertical-align: top;\n",
       "    }\n",
       "\n",
       "    .dataframe thead th {\n",
       "        text-align: right;\n",
       "    }\n",
       "</style>\n",
       "<table border=\"1\" class=\"dataframe\">\n",
       "  <thead>\n",
       "    <tr style=\"text-align: right;\">\n",
       "      <th></th>\n",
       "      <th>Model</th>\n",
       "      <th>MAE</th>\n",
       "      <th>MSE</th>\n",
       "      <th>RMSE</th>\n",
       "      <th>R2 Score</th>\n",
       "      <th>CV Score</th>\n",
       "    </tr>\n",
       "  </thead>\n",
       "  <tbody>\n",
       "    <tr>\n",
       "      <th>0</th>\n",
       "      <td>Random Forest</td>\n",
       "      <td>138501.301301</td>\n",
       "      <td>3.618119e+10</td>\n",
       "      <td>190213.530403</td>\n",
       "      <td>0.502132</td>\n",
       "      <td>0.30385</td>\n",
       "    </tr>\n",
       "  </tbody>\n",
       "</table>\n",
       "</div>"
      ],
      "text/plain": [
       "           Model            MAE           MSE           RMSE  R2 Score  \\\n",
       "0  Random Forest  138501.301301  3.618119e+10  190213.530403  0.502132   \n",
       "\n",
       "   CV Score  \n",
       "0   0.30385  "
      ]
     },
     "execution_count": 446,
     "metadata": {},
     "output_type": "execute_result"
    }
   ],
   "source": [
    "randomForest_data = {'Model': ['Random Forest'], \n",
    "           'MAE': metrics.mean_absolute_error(y_test, rfr_pred),'MSE':metrics.mean_squared_error(y_test, rfr_pred),\n",
    "           'RMSE':np.sqrt(metrics.mean_squared_error(y_test, rfr_pred)),\n",
    "           'R2 Score': r2_score(y_test,rfr_pred),\n",
    "           'CV Score': rfr_cvScore\n",
    "            }  \n",
    "\n",
    "df_RF = pd.DataFrame(randomForest_data)  \n",
    "df_RF"
   ]
  },
  {
   "cell_type": "code",
   "execution_count": 447,
   "id": "ad12d3eb",
   "metadata": {},
   "outputs": [
    {
     "data": {
      "text/html": [
       "<div>\n",
       "<style scoped>\n",
       "    .dataframe tbody tr th:only-of-type {\n",
       "        vertical-align: middle;\n",
       "    }\n",
       "\n",
       "    .dataframe tbody tr th {\n",
       "        vertical-align: top;\n",
       "    }\n",
       "\n",
       "    .dataframe thead th {\n",
       "        text-align: right;\n",
       "    }\n",
       "</style>\n",
       "<table border=\"1\" class=\"dataframe\">\n",
       "  <thead>\n",
       "    <tr style=\"text-align: right;\">\n",
       "      <th></th>\n",
       "      <th>Model</th>\n",
       "      <th>MAE</th>\n",
       "      <th>MSE</th>\n",
       "      <th>RMSE</th>\n",
       "      <th>R2 Score</th>\n",
       "      <th>CV Score</th>\n",
       "    </tr>\n",
       "  </thead>\n",
       "  <tbody>\n",
       "    <tr>\n",
       "      <th>0</th>\n",
       "      <td>Linear Regression</td>\n",
       "      <td>156404.009864</td>\n",
       "      <td>4.315645e+10</td>\n",
       "      <td>207741.295318</td>\n",
       "      <td>0.406150</td>\n",
       "      <td>0.304579</td>\n",
       "    </tr>\n",
       "    <tr>\n",
       "      <th>1</th>\n",
       "      <td>Ridge</td>\n",
       "      <td>144245.102754</td>\n",
       "      <td>3.845371e+10</td>\n",
       "      <td>196096.176659</td>\n",
       "      <td>0.397684</td>\n",
       "      <td>0.307461</td>\n",
       "    </tr>\n",
       "    <tr>\n",
       "      <th>2</th>\n",
       "      <td>Decision Tree Regressor</td>\n",
       "      <td>137743.693694</td>\n",
       "      <td>4.063391e+10</td>\n",
       "      <td>201578.538688</td>\n",
       "      <td>0.355326</td>\n",
       "      <td>0.068069</td>\n",
       "    </tr>\n",
       "    <tr>\n",
       "      <th>3</th>\n",
       "      <td>Random Forest</td>\n",
       "      <td>138501.301301</td>\n",
       "      <td>3.618119e+10</td>\n",
       "      <td>190213.530403</td>\n",
       "      <td>0.502132</td>\n",
       "      <td>0.303850</td>\n",
       "    </tr>\n",
       "  </tbody>\n",
       "</table>\n",
       "</div>"
      ],
      "text/plain": [
       "                     Model            MAE           MSE           RMSE  \\\n",
       "0        Linear Regression  156404.009864  4.315645e+10  207741.295318   \n",
       "1                    Ridge  144245.102754  3.845371e+10  196096.176659   \n",
       "2  Decision Tree Regressor  137743.693694  4.063391e+10  201578.538688   \n",
       "3            Random Forest  138501.301301  3.618119e+10  190213.530403   \n",
       "\n",
       "   R2 Score  CV Score  \n",
       "0  0.406150  0.304579  \n",
       "1  0.397684  0.307461  \n",
       "2  0.355326  0.068069  \n",
       "3  0.502132  0.303850  "
      ]
     },
     "execution_count": 447,
     "metadata": {},
     "output_type": "execute_result"
    }
   ],
   "source": [
    "modelDF=pd.concat([df_LR,df_Ridge,df_DT,df_RF]).reset_index()\n",
    "modelDF.drop(columns=['index'],axis=1,inplace=True)\n",
    "modelDF"
   ]
  },
  {
   "cell_type": "code",
   "execution_count": 448,
   "id": "2f33d24d",
   "metadata": {},
   "outputs": [
    {
     "data": {
      "text/plain": [
       "<AxesSubplot:ylabel='Density'>"
      ]
     },
     "execution_count": 448,
     "metadata": {},
     "output_type": "execute_result"
    },
    {
     "data": {
      "image/png": "[encoded data removed]",
      "text/plain": [
       "<Figure size 432x288 with 1 Axes>"
      ]
     },
     "metadata": {
      "needs_background": "light"
     },
     "output_type": "display_data"
    }
   ],
   "source": [
    "predictions=rfr.predict(x_test)\n",
    "sns.distplot(np.array(y_test)-predictions)"
   ]
  },
  {
   "cell_type": "markdown",
   "id": "a274e594",
   "metadata": {},
   "source": [
    "The curve seems to be normal,hence the the selection of the Random Forest Regression model is correct.Also r2 score for Random Forest regression is better than other models"
   ]
  },
  {
   "cell_type": "markdown",
   "id": "eafc6a2a",
   "metadata": {},
   "source": [
    "# Save the Model"
   ]
  },
  {
   "cell_type": "code",
   "execution_count": 449,
   "id": "82a27600",
   "metadata": {},
   "outputs": [],
   "source": [
    "from joblib import dump , load\n",
    "dump(rfr,'CarPricePrediction.joblib')\n",
    "rfr_load=load('CarPricePrediction.joblib')"
   ]
  },
  {
   "cell_type": "code",
   "execution_count": 450,
   "id": "4ac2afa5",
   "metadata": {},
   "outputs": [],
   "source": [
    "from tempfile import mkdtemp\n",
    "savedir = mkdtemp()\n",
    "import os\n",
    "filename = os.path.join(savedir, 'CarPricePrediction.joblib')"
   ]
  },
  {
   "cell_type": "code",
   "execution_count": 451,
   "id": "1adeab0f",
   "metadata": {},
   "outputs": [
    {
     "data": {
      "text/plain": [
       "['C:\\\\Users\\\\mum1user\\\\AppData\\\\Local\\\\Temp\\\\tmpqfa1zrzz\\\\CarPricePrediction.joblib']"
      ]
     },
     "execution_count": 451,
     "metadata": {},
     "output_type": "execute_result"
    }
   ],
   "source": [
    "import joblib\n",
    "joblib.dump(rfr, filename) \n",
    "#['...CarPricePrediction.joblib']"
   ]
  },
  {
   "cell_type": "code",
   "execution_count": 452,
   "id": "e82ceed5",
   "metadata": {},
   "outputs": [
    {
     "data": {
      "text/plain": [
       "RandomForestRegressor(criterion='mae', min_samples_leaf=2, min_samples_split=5,\n",
       "                      n_estimators=10)"
      ]
     },
     "execution_count": 452,
     "metadata": {},
     "output_type": "execute_result"
    }
   ],
   "source": [
    "joblib.load(filename)"
   ]
  },
  {
   "cell_type": "code",
   "execution_count": null,
   "id": "c2cb40c9",
   "metadata": {},
   "outputs": [],
   "source": []
  }
 ],
 "metadata": {
  "kernelspec": {
   "display_name": "Python 3 (ipykernel)",
   "language": "python",
   "name": "python3"
  },
  "language_info": {
   "codemirror_mode": {
    "name": "ipython",
    "version": 3
   },
   "file_extension": ".py",
   "mimetype": "text/x-python",
   "name": "python",
   "nbconvert_exporter": "python",
   "pygments_lexer": "ipython3",
   "version": "3.9.7"
  }
 },
 "nbformat": 4,
 "nbformat_minor": 5
}
